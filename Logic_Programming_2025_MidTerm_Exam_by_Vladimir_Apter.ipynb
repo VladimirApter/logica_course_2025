{
  "nbformat": 4,
  "nbformat_minor": 0,
  "metadata": {
    "colab": {
      "provenance": [],
      "include_colab_link": true
    },
    "kernelspec": {
      "name": "python3",
      "display_name": "Python 3"
    },
    "language_info": {
      "name": "python"
    }
  },
  "cells": [
    {
      "cell_type": "markdown",
      "metadata": {
        "id": "view-in-github",
        "colab_type": "text"
      },
      "source": [
        "<a href=\"https://colab.research.google.com/github/VladimirApter/logica_course_2025/blob/main/Logic_Programming_2025_MidTerm_Exam_by_Vladimir_Apter.ipynb\" target=\"_parent\"><img src=\"https://colab.research.google.com/assets/colab-badge.svg\" alt=\"Open In Colab\"/></a>"
      ]
    },
    {
      "cell_type": "markdown",
      "metadata": {
        "id": "dU2HiBgSTZWm"
      },
      "source": [
        "# Logic Programming for Data Analysis 2025: MidTerm Exam\n",
        "\n",
        "_Владимир Аптер_\n",
        "\n",
        "_vova.apter@yandex.ru_\n",
        "\n",
        "Original data source: https://www.kaggle.com/rounakbanik/the-movies-dataset\n",
        "\n",
        "\n",
        "## [Submission form](https://docs.google.com/forms/d/e/1FAIpQLScvGA5u31bOv-q_GzRUZngz4jH-GxmkCKQcMUWM7Q09f2s7cw/viewform?usp=publish-editor) 🫲 Сдавать контрольную тут\n",
        "\n",
        "## Movies database\n",
        "Movie database consists of three tables:\n",
        "\n",
        "1. `movies.metadata(movie_id: <id of the movie>, original_title: <name of the movie>)`\n",
        "\n",
        "2.\n",
        "```\n",
        "movies.credits(movie_id: <id of the movie>,\n",
        "                  cast: <actors of the movie>,\n",
        "                  crew: <crew of the movie>)\n",
        "```\n",
        "`crew` and `cast` are lists of records.\n",
        "In records of `crew` we are interested in fields: `name` -- name of the person, `department` -- department of their work and `job` -- their specific job.\n",
        "In records of cast we are interested in fields: `name` -- name of the person, `character` -- which character they played.\n",
        "\n",
        "3. `movies.ratings(user_id: <id of user>, movie_id: <id of the movie>, rating: <rating that user gave>)`\n",
        "\n",
        "\n",
        "## Movie database problems\n",
        "\n",
        "\n",
        "1. (4 points) Write predicate `CameronActor(person)` which is true for people who acted in movies which were directed by _James Cameron_.\n",
        "2. (4 points) Write predicate `JackieMovie(movie:, character:)`, which holds for movies and characters such that _Jackie Chan_ played the character in the movie.\n",
        "3. (4 points) Write predicate `ArnoldDirector(person)`, which holds people who directed movies, where _Arnold Schwarzenegger_ acted. Person directs a movie if they are part of the crew with the job equal to _Director_.\n",
        "4. (10 points) Write predicate `RoboCopWifeRoles(movie:, character:)`. It should contain movies and characters which were played by an acress who played character _Murphy's wife_ in the movie _RoboCop_. Assume that you don’t know the name of the acress (even if you do) and write the predicate using string literals _Murphy's wife_ and _RoboCop_, but not the acress's name.\n",
        "5. (10 points) Write predicate `Contributed(person, movie)`, which holds if the person acted in the movie, or was in the crew. Make this predicate be written to the database when used in other predicates. Use this predicate for the following.\n",
        "  * a) Write predicate `TerminatorOneButNotTwo(person)` which is true for people who contributed to _The Terminator_, but did not contribute to _Terminator 2: Judgment Day_.\n",
        "  * b) Write predicate `WithArnoldAndBruce(person:, arnold_movie:, bruce_movie:)`, which is true for any person who contributed to `arnold_movie` together with _Arnold Schwarzenegger_ and to `bruce_movie` together with _Bruce Lee_. It’s expected that some people will occur in multiple rows.\n",
        "6. (5 points) Write predicate `ArnoldCharacterActors(character:, actors:)`, which tells us for each character that _Arnold Schwarzenegger_ played, who else played the character. Actors should be a list of actor names that played the character, for each list, each actor must be mentioned at most once.\n",
        "Note: Character is to be treated formally, e.g. it is expected that for character “Himself” all male actors who played themselves to be listed.\n",
        "7. (10 points)  Usage of distinct denoted predicates is not allowed for this problem. Solve the following problem with aggregating expressions, using original data as input.\n",
        "Write predicate `DirectorInfo(movie:, directors:, directors_played_characters:)`, which would have a row for each movie (you can assume that every movie has metadata and credits). Field `directors` is a list of people who directed the movie and field `directors_played_characters` is a list of characters (potentially empty) that were played by the directors of the movie.  Recall that a Person directs a movie if they are a member of the crew with the job equal to “Director”.\n",
        "8. (15 points) Usage of `distinct` denoted predicates is not allowed for this problem. Recall that predicate with aggregation in the value is considered distinct denoted too. Solve the following problem with aggregating expressions, using original data as input.\n",
        "Write predicate\n",
        "`MovieInfo(movie:, contributors:, contributions_num:, contributors_count:)`, which has a row for each movie in the original database. Field contributors is a list of records `{name:, contribution:}` for each person who is an actor or a member of the crew. If person is a member of the crew then contribution should be equal to department of their crew list record. If person is an actor then contribution should be equal to “actor”.\n",
        "Make this predicate be written into the database, when used by other predicates.\n",
        "9. (3 points) Define a predicate `MovieWorkflow()`, execution of which initiates pipeline, which writes predicates `Contributed` and `MovieInfo` into the database.\n",
        "\n",
        "## Mathematics and Dynamic Programming\n",
        "\n",
        "\n",
        "10. (10 points) Write concrete predicate `PrimeDividerCount(number) = divider_count`, where number is each integer number from 1 to 100 and `divider_count` is the number of distinct prime divisors of the number, e.g. 12 has 2 dividers (which are 2 and 3), and 7 has 1 divider (which is 7). Every number from 2 to 100 inclusive must be present in the predicate. _Recursion is not needed here._\n",
        "\n",
        "\n",
        "See sample data for this problem in the end of colab. Use recursion to solve these problems.\n",
        "\n",
        "11. (15 points) Write predicate `BestCut(slices:, income:)` with the optimal solution of rod cutting problem.\n",
        "In this problem we are given length of a rod in predicate `RodLength`\n",
        "and market prices of rod pieces in predicate `RodPrice`. We need to find cut of the rod\n",
        "that maximizes our revenue, i.e. total price of all slices. List of slices is to be\n",
        "stored in `slices` argument and total income in the `income` argument.\n",
        "\n",
        "12. (10 points) Find how a `Target` can be broken into smallest number of `Word`s. Write predicate `Slicing() = pieces` where `pieces` would be a list of words into which target is broken."
      ]
    },
    {
      "cell_type": "code",
      "metadata": {
        "colab": {
          "base_uri": "https://localhost:8080/"
        },
        "id": "fov-oe0qTP-h",
        "outputId": "ad600b27-46a4-4e2b-8c41-622830b4226e"
      },
      "source": [
        "!gdown https://drive.google.com/uc?id=1kB2OlRH9nAb4UB9IWfR3RbvmOfwlsnVu"
      ],
      "execution_count": 1,
      "outputs": [
        {
          "output_type": "stream",
          "name": "stdout",
          "text": [
            "Downloading...\n",
            "From: https://drive.google.com/uc?id=1kB2OlRH9nAb4UB9IWfR3RbvmOfwlsnVu\n",
            "To: /content/midterm_data.tar.gz\n",
            "100% 23.4M/23.4M [00:00<00:00, 91.8MB/s]\n"
          ]
        }
      ]
    },
    {
      "cell_type": "code",
      "metadata": {
        "colab": {
          "base_uri": "https://localhost:8080/"
        },
        "id": "Nk0sOmN1Uvqk",
        "outputId": "e06d3837-580f-4b00-88a1-3d6947dc4eef"
      },
      "source": [
        "!tar -xzvf midterm_data.tar.gz"
      ],
      "execution_count": 2,
      "outputs": [
        {
          "output_type": "stream",
          "name": "stdout",
          "text": [
            "midterm_data.sql\n"
          ]
        }
      ]
    },
    {
      "cell_type": "code",
      "metadata": {
        "colab": {
          "base_uri": "https://localhost:8080/"
        },
        "id": "3NauKECEVI_8",
        "outputId": "f1a84382-1314-4351-c166-89581c5501ea"
      },
      "source": [
        "!git clone -b ti2023 https://github.com/evgskv/logica\n",
        "from logica import colab_logica\n",
        "colab_logica.PostgresJumpStart()"
      ],
      "execution_count": 3,
      "outputs": [
        {
          "output_type": "stream",
          "name": "stdout",
          "text": [
            "Cloning into 'logica'...\n",
            "remote: Enumerating objects: 5453, done.\u001b[K\n",
            "remote: Counting objects: 100% (1181/1181), done.\u001b[K\n",
            "remote: Compressing objects: 100% (160/160), done.\u001b[K\n",
            "remote: Total 5453 (delta 1062), reused 1033 (delta 1019), pack-reused 4272 (from 2)\u001b[K\n",
            "Receiving objects: 100% (5453/5453), 6.73 MiB | 21.08 MiB/s, done.\n",
            "Resolving deltas: 100% (3606/3606), done.\n",
            "Installing and configuring an empty PostgreSQL database.\n",
            "Installation succeeded. Connecting...\n",
            "Connected.\n"
          ]
        }
      ]
    },
    {
      "cell_type": "code",
      "source": [
        "import pandas\n",
        "pandas.set_option('display.max_colwidth', 1000)"
      ],
      "metadata": {
        "id": "sRYiqbTznBRs"
      },
      "execution_count": 4,
      "outputs": []
    },
    {
      "cell_type": "code",
      "source": [
        "!PGPASSWORD=logica psql -U logica -d logica -h localhost -f midterm_data.sql -v ON_ERROR_STOP=1"
      ],
      "metadata": {
        "colab": {
          "base_uri": "https://localhost:8080/"
        },
        "id": "uVPtXIJKi-9A",
        "outputId": "77d8ef1f-ade0-4737-d350-fafdd6050271"
      },
      "execution_count": 5,
      "outputs": [
        {
          "output_type": "stream",
          "name": "stdout",
          "text": [
            "SET\n",
            "SET\n",
            "SET\n",
            "SET\n",
            "SET\n",
            " set_config \n",
            "------------\n",
            " \n",
            "(1 row)\n",
            "\n",
            "SET\n",
            "SET\n",
            "SET\n",
            "SET\n",
            "CREATE SCHEMA\n",
            "ALTER SCHEMA\n",
            "CREATE TYPE\n",
            "ALTER TYPE\n",
            "CREATE TYPE\n",
            "ALTER TYPE\n",
            "CREATE TYPE\n",
            "ALTER TYPE\n",
            "CREATE TYPE\n",
            "ALTER TYPE\n",
            "CREATE TYPE\n",
            "ALTER TYPE\n",
            "CREATE TYPE\n",
            "ALTER TYPE\n",
            "CREATE TYPE\n",
            "ALTER TYPE\n",
            "CREATE TYPE\n",
            "ALTER TYPE\n",
            "SET\n",
            "SET\n",
            "CREATE TABLE\n",
            "ALTER TABLE\n",
            "CREATE TABLE\n",
            "ALTER TABLE\n",
            "CREATE TABLE\n",
            "ALTER TABLE\n",
            "COPY 43018\n",
            "COPY 45463\n",
            "COPY 2650582\n"
          ]
        }
      ]
    },
    {
      "cell_type": "code",
      "metadata": {
        "colab": {
          "resources": {
            "http://localhost:8080/nbextensions/google.colab/tabbar.css": {
              "data": "Lmdvb2ctdGFie3Bvc2l0aW9uOnJlbGF0aXZlO3BhZGRpbmc6NHB4IDhweDtjb2xvcjojMDBjO3RleHQtZGVjb3JhdGlvbjp1bmRlcmxpbmU7Y3Vyc29yOmRlZmF1bHR9Lmdvb2ctdGFiLWJhci10b3AgLmdvb2ctdGFie21hcmdpbjoxcHggNHB4IDAgMDtib3JkZXItYm90dG9tOjA7ZmxvYXQ6bGVmdH0uZ29vZy10YWItYmFyLXRvcDphZnRlciwuZ29vZy10YWItYmFyLWJvdHRvbTphZnRlcntjb250ZW50OiIgIjtkaXNwbGF5OmJsb2NrO2hlaWdodDowO2NsZWFyOmJvdGg7dmlzaWJpbGl0eTpoaWRkZW59Lmdvb2ctdGFiLWJhci1ib3R0b20gLmdvb2ctdGFie21hcmdpbjowIDRweCAxcHggMDtib3JkZXItdG9wOjA7ZmxvYXQ6bGVmdH0uZ29vZy10YWItYmFyLXN0YXJ0IC5nb29nLXRhYnttYXJnaW46MCAwIDRweCAxcHg7Ym9yZGVyLXJpZ2h0OjB9Lmdvb2ctdGFiLWJhci1lbmQgLmdvb2ctdGFie21hcmdpbjowIDFweCA0cHggMDtib3JkZXItbGVmdDowfS5nb29nLXRhYi1ob3ZlcntiYWNrZ3JvdW5kOiNlZWV9Lmdvb2ctdGFiLWRpc2FibGVke2NvbG9yOiM2NjZ9Lmdvb2ctdGFiLXNlbGVjdGVke2NvbG9yOiMwMDA7YmFja2dyb3VuZDojZmZmO3RleHQtZGVjb3JhdGlvbjpub25lO2ZvbnQtd2VpZ2h0OmJvbGQ7Ym9yZGVyOjFweCBzb2xpZCAjNmI5MGRhfS5nb29nLXRhYi1iYXItdG9we3BhZGRpbmctdG9wOjVweCFpbXBvcnRhbnQ7cGFkZGluZy1sZWZ0OjVweCFpbXBvcnRhbnQ7Ym9yZGVyLWJvdHRvbToxcHggc29saWQgIzZiOTBkYSFpbXBvcnRhbnR9Lmdvb2ctdGFiLWJhci10b3AgLmdvb2ctdGFiLXNlbGVjdGVke3RvcDoxcHg7bWFyZ2luLXRvcDowO3BhZGRpbmctYm90dG9tOjVweH0uZ29vZy10YWItYmFyLWJvdHRvbSAuZ29vZy10YWItc2VsZWN0ZWR7dG9wOi0xcHg7bWFyZ2luLWJvdHRvbTowO3BhZGRpbmctdG9wOjVweH0uZ29vZy10YWItYmFyLXN0YXJ0IC5nb29nLXRhYi1zZWxlY3RlZHtsZWZ0OjFweDttYXJnaW4tbGVmdDowO3BhZGRpbmctcmlnaHQ6OXB4fS5nb29nLXRhYi1iYXItZW5kIC5nb29nLXRhYi1zZWxlY3RlZHtsZWZ0Oi0xcHg7bWFyZ2luLXJpZ2h0OjA7cGFkZGluZy1sZWZ0OjlweH0uZ29vZy10YWItYmFye21hcmdpbjowO2JvcmRlcjowO3BhZGRpbmc6MDtsaXN0LXN0eWxlOm5vbmU7Y3Vyc29yOmRlZmF1bHQ7b3V0bGluZTpub25lO2JhY2tncm91bmQ6I2ViZWZmOX0uZ29vZy10YWItYmFyLWNsZWFye2NsZWFyOmJvdGg7aGVpZ2h0OjA7b3ZlcmZsb3c6aGlkZGVufS5nb29nLXRhYi1iYXItc3RhcnR7ZmxvYXQ6bGVmdH0uZ29vZy10YWItYmFyLWVuZHtmbG9hdDpyaWdodH0qIGh0bWwgLmdvb2ctdGFiLWJhci1zdGFydHttYXJnaW4tcmlnaHQ6LTNweH0qIGh0bWwgLmdvb2ctdGFiLWJhci1lbmR7bWFyZ2luLWxlZnQ6LTNweH1zZW50aW5lbHt9",
              "ok": true,
              "headers": [
                [
                  "content-length",
                  "1404"
                ],
                [
                  "content-type",
                  "text/css"
                ]
              ],
              "status": 200,
              "status_text": ""
            },
            "http://localhost:8080/nbextensions/google.colab/tabbar_main.min.js": {
              "data": "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",
              "ok": true,
              "headers": [
                [
                  "content-length",
                  "41785"
                ],
                [
                  "content-type",
                  "application/javascript"
                ]
              ],
              "status": 200,
              "status_text": ""
            }
          },
          "base_uri": "https://localhost:8080/",
          "height": 231
        },
        "id": "3PZSZuNsVLrR",
        "outputId": "5f11c345-19cb-4d70-bcbf-5e682633d88b"
      },
      "source": [
        "%%logica Stats, SomeRatings, SomeCredits, SomeMovies, CameronActor, JackieMovie, ArnoldDirector, RoboCopWifeRoles, Contributed, ArnoldCharacterActors, DirectorInfo\n",
        "\n",
        "@Limit(SomeRatings, 100);\n",
        "SomeRatings(..r) :- logica_home.ratings(..r);\n",
        "\n",
        "@Limit(SomeCredits, 100);\n",
        "SomeCredits(..r) :-\n",
        "  logica_home.credits(..r),\n",
        "  r ~ {movie_id: Num,\n",
        "       cast: [{name: Str, character: Str}],\n",
        "       crew: [{name: Str, job: Str, department: Str}]};\n",
        "\n",
        "@Limit(SomeMovies, 100);\n",
        "SomeMovies(..r) :- logica_home.metadata(..r);\n",
        "\n",
        "Stats(movies_count:,\n",
        "      credits_count:,\n",
        "      ratings_count:) :-\n",
        "  movies_count += (1 :- logica_home.metadata()),\n",
        "  credits_count += (1 :- logica_home.credits()),\n",
        "  ratings_count += (1 :- logica_home.ratings());\n",
        "\n",
        "\n",
        "# --- 1 ---\n",
        "\n",
        "CameronActorCount(person:, roles_count? += 0) distinct :-\n",
        "    logica_home.credits(movie_id:, cast:, crew:),\n",
        "    actor in cast,\n",
        "    actor.name == person;\n",
        "CameronActorCount(person:, roles_count? += 1) distinct :-\n",
        "    logica_home.credits(movie_id:, cast:, crew:),\n",
        "    crew_member in crew,\n",
        "    crew_member.department == 'Directing',\n",
        "    crew_member.job == 'Director',\n",
        "    crew_member.name == 'James Cameron',\n",
        "    actor in cast,\n",
        "    actor.name == person;\n",
        "\n",
        "CameronActor(person:) = is_cameron_actor :-\n",
        "    CameronActorCount(person:, roles_count:),\n",
        "    is_cameron_actor == roles_count >= 1;\n",
        "\n",
        "\n",
        "# --- 2 ---\n",
        "\n",
        "JackieMovie(movie:, character:) :-\n",
        "    logica_home.credits(movie_id:, cast:, crew:),\n",
        "    actor in cast,\n",
        "    actor.name == 'Jackie Chan',\n",
        "    actor.character == character,\n",
        "    logica_home.metadata(movie_id:, original_title:),\n",
        "    movie == original_title;\n",
        "\n",
        "\n",
        "# --- 3 ---\n",
        "\n",
        "ArnoldDirector(person:) distinct :-\n",
        "    logica_home.credits(movie_id:, cast:, crew:),\n",
        "    crew_member in crew,\n",
        "    crew_member.job == 'Director',\n",
        "    person == crew_member.name,\n",
        "    actor in cast,\n",
        "    actor.name == 'Arnold Schwarzenegger';\n",
        "\n",
        "\n",
        "# --- 4 ---\n",
        "\n",
        "RoboCopWife(person:) :-\n",
        "    logica_home.credits(movie_id:, cast:, crew:),\n",
        "    actor in cast,\n",
        "    actor.character == \"Murphy's wife\",\n",
        "    actor.name == person;\n",
        "\n",
        "RoboCopWifeRoles(movie:, character:) :-\n",
        "    logica_home.credits(movie_id:, cast:, crew:),\n",
        "    actor in cast,\n",
        "    person == actor.name,\n",
        "    RoboCopWife(person:),\n",
        "    actor.character == character,\n",
        "    logica_home.metadata(movie_id:, original_title:),\n",
        "    movie == original_title;\n",
        "\n",
        "\n",
        "# --- 5 ---\n",
        "\n",
        "Contributed(person, movie) :-\n",
        "    (logica_home.credits(movie_id:, cast:, crew:),\n",
        "    actor in cast,\n",
        "    person == actor.name,\n",
        "    logica_home.metadata(movie_id:, original_title:),\n",
        "    movie == original_title) |\n",
        "    (logica_home.credits(movie_id:, cast:, crew:),\n",
        "    crew_member in crew,\n",
        "    person == crew_member.name,\n",
        "    logica_home.metadata(movie_id:, original_title:),\n",
        "    movie == original_title);\n",
        "\n",
        "\n",
        "# --- 6 ---\n",
        "\n",
        "ArnoldCharacters(character:) distinct :-\n",
        "    logica_home.credits(movie_id:, cast:, crew:),\n",
        "    actor in cast,\n",
        "    actor.name == 'Arnold Schwarzenegger',\n",
        "    actor.character = character;\n",
        "\n",
        "ArnoldCharacterActors(character:, actors? List= actor_name) distinct :-\n",
        "    logica_home.credits(movie_id:, cast:, crew:),\n",
        "    actor in cast,\n",
        "    actor.name != 'Arnold Schwarzenegger',\n",
        "    character == actor.character,\n",
        "    ArnoldCharacters(character:),\n",
        "    actor_name == actor.name;\n",
        "\n",
        "\n",
        "# --- 7 ---\n",
        "\n",
        "DirectorInfo(movie:, directors:, directors_played_characters:) :-\n",
        "    logica_home.credits(movie_id:, cast:, crew:),\n",
        "    directors List= (crew_member.name :- crew_member in crew, crew_member.job == 'Director'),\n",
        "    directors_played_characters List= (actor.character :- actor in cast, person == actor.name, person in directors == true),\n",
        "    logica_home.metadata(movie_id:, original_title:),\n",
        "    movie == original_title;\n",
        "\n",
        "\n"
      ],
      "execution_count": 47,
      "outputs": [
        {
          "output_type": "display_data",
          "data": {
            "text/plain": [
              "<IPython.core.display.HTML object>"
            ],
            "text/html": [
              "<link rel=stylesheet type=text/css href='/nbextensions/google.colab/tabbar.css'></link>"
            ]
          },
          "metadata": {}
        },
        {
          "output_type": "display_data",
          "data": {
            "text/plain": [
              "<IPython.core.display.HTML object>"
            ],
            "text/html": [
              "<script src='/nbextensions/google.colab/tabbar_main.min.js'></script>"
            ]
          },
          "metadata": {}
        },
        {
          "output_type": "display_data",
          "data": {
            "text/plain": [
              "<IPython.core.display.HTML object>"
            ],
            "text/html": [
              "<div id=\"id253\"></div>"
            ]
          },
          "metadata": {}
        },
        {
          "output_type": "display_data",
          "data": {
            "text/plain": [
              "<IPython.core.display.Javascript object>"
            ],
            "application/javascript": [
              "window[\"0c1e4070-b4ec-11f0-8183-0242ac1c000c\"] = colab_lib.createTabBar({\"location\": \"top\", \"elementId\": \"id253\", \"tabNames\": [\"Stats\", \"SomeRatings\", \"SomeCredits\", \"SomeMovies\", \"CameronActor\", \"JackieMovie\", \"ArnoldDirector\", \"RoboCopWifeRoles\", \"Contributed\", \"ArnoldCharacterActors\", \"DirectorInfo\", \"(Log)\"], \"initialSelection\": 0, \"contentBorder\": [\"0px\"], \"contentHeight\": [\"initial\"], \"borderColor\": [\"#a7a7a7\"]});\n",
              "//# sourceURL=js_b77605d683"
            ]
          },
          "metadata": {}
        },
        {
          "output_type": "display_data",
          "data": {
            "text/plain": [
              "<IPython.core.display.Javascript object>"
            ],
            "application/javascript": [
              "window[\"0c1e8e68-b4ec-11f0-8183-0242ac1c000c\"] = window[\"id253\"].setSelectedTabIndex(0);\n",
              "//# sourceURL=js_d10444ff08"
            ]
          },
          "metadata": {}
        },
        {
          "output_type": "display_data",
          "data": {
            "text/plain": [
              "<IPython.core.display.Javascript object>"
            ],
            "application/javascript": [
              "window[\"0c20093c-b4ec-11f0-8183-0242ac1c000c\"] = google.colab.output.getActiveOutputArea();\n",
              "//# sourceURL=js_6e7eb2dddb"
            ]
          },
          "metadata": {}
        },
        {
          "output_type": "display_data",
          "data": {
            "text/plain": [
              "<IPython.core.display.Javascript object>"
            ],
            "application/javascript": [
              "window[\"0c205018-b4ec-11f0-8183-0242ac1c000c\"] = document.querySelector(\"#id253_content_11\");\n",
              "//# sourceURL=js_c154acf13e"
            ]
          },
          "metadata": {}
        },
        {
          "output_type": "display_data",
          "data": {
            "text/plain": [
              "<IPython.core.display.Javascript object>"
            ],
            "application/javascript": [
              "window[\"0c209aa0-b4ec-11f0-8183-0242ac1c000c\"] = google.colab.output.setActiveOutputArea(window[\"0c205018-b4ec-11f0-8183-0242ac1c000c\"]);\n",
              "//# sourceURL=js_4b0c602caf"
            ]
          },
          "metadata": {}
        },
        {
          "output_type": "display_data",
          "data": {
            "text/plain": [
              "<IPython.core.display.Javascript object>"
            ],
            "application/javascript": [
              "window[\"0c20fc84-b4ec-11f0-8183-0242ac1c000c\"] = window[\"id253\"].setSelectedTabIndex(11);\n",
              "//# sourceURL=js_8c07bdf558"
            ]
          },
          "metadata": {}
        },
        {
          "output_type": "display_data",
          "data": {
            "text/plain": [
              "<IPython.core.display.Javascript object>"
            ],
            "application/javascript": [
              "window[\"0c236da2-b4ec-11f0-8183-0242ac1c000c\"] = google.colab.output.setActiveOutputArea(window[\"0c20093c-b4ec-11f0-8183-0242ac1c000c\"]);\n",
              "//# sourceURL=js_b4b2602d59"
            ]
          },
          "metadata": {}
        },
        {
          "output_type": "display_data",
          "data": {
            "text/plain": [
              "<IPython.core.display.Javascript object>"
            ],
            "application/javascript": [
              "window[\"0c257232-b4ec-11f0-8183-0242ac1c000c\"] = google.colab.output.getActiveOutputArea();\n",
              "//# sourceURL=js_68eb20ba88"
            ]
          },
          "metadata": {}
        },
        {
          "output_type": "display_data",
          "data": {
            "text/plain": [
              "<IPython.core.display.Javascript object>"
            ],
            "application/javascript": [
              "window[\"0c25ca0c-b4ec-11f0-8183-0242ac1c000c\"] = document.querySelector(\"#id253_content_0\");\n",
              "//# sourceURL=js_084a36c116"
            ]
          },
          "metadata": {}
        },
        {
          "output_type": "display_data",
          "data": {
            "text/plain": [
              "<IPython.core.display.Javascript object>"
            ],
            "application/javascript": [
              "window[\"0c2605c6-b4ec-11f0-8183-0242ac1c000c\"] = google.colab.output.setActiveOutputArea(window[\"0c25ca0c-b4ec-11f0-8183-0242ac1c000c\"]);\n",
              "//# sourceURL=js_ea2dbb7c23"
            ]
          },
          "metadata": {}
        },
        {
          "output_type": "display_data",
          "data": {
            "text/plain": [
              "<IPython.core.display.Javascript object>"
            ],
            "application/javascript": [
              "window[\"0c2651de-b4ec-11f0-8183-0242ac1c000c\"] = window[\"id253\"].setSelectedTabIndex(0);\n",
              "//# sourceURL=js_977b3cf77d"
            ]
          },
          "metadata": {}
        },
        {
          "output_type": "display_data",
          "data": {
            "text/plain": [
              "<IPython.core.display.HTML object>"
            ],
            "text/html": [
              "<link rel=stylesheet type=text/css href='/nbextensions/google.colab/tabbar.css'></link>"
            ]
          },
          "metadata": {}
        },
        {
          "output_type": "display_data",
          "data": {
            "text/plain": [
              "<IPython.core.display.HTML object>"
            ],
            "text/html": [
              "<script src='/nbextensions/google.colab/tabbar_main.min.js'></script>"
            ]
          },
          "metadata": {}
        },
        {
          "output_type": "display_data",
          "data": {
            "text/plain": [
              "<IPython.core.display.HTML object>"
            ],
            "text/html": [
              "<div id=\"id254\"></div>"
            ]
          },
          "metadata": {}
        },
        {
          "output_type": "display_data",
          "data": {
            "text/plain": [
              "<IPython.core.display.Javascript object>"
            ],
            "application/javascript": [
              "window[\"0c2790c6-b4ec-11f0-8183-0242ac1c000c\"] = colab_lib.createTabBar({\"location\": \"top\", \"elementId\": \"id254\", \"tabNames\": [\"SQL\", \"Result\"], \"initialSelection\": 0, \"contentBorder\": [\"0px\"], \"contentHeight\": [\"initial\"], \"borderColor\": [\"#a7a7a7\"]});\n",
              "//# sourceURL=js_535f761932"
            ]
          },
          "metadata": {}
        },
        {
          "output_type": "display_data",
          "data": {
            "text/plain": [
              "<IPython.core.display.Javascript object>"
            ],
            "application/javascript": [
              "window[\"0c27c65e-b4ec-11f0-8183-0242ac1c000c\"] = window[\"id254\"].setSelectedTabIndex(0);\n",
              "//# sourceURL=js_6eef920824"
            ]
          },
          "metadata": {}
        },
        {
          "output_type": "display_data",
          "data": {
            "text/plain": [
              "<IPython.core.display.Javascript object>"
            ],
            "application/javascript": [
              "window[\"0c2887c4-b4ec-11f0-8183-0242ac1c000c\"] = google.colab.output.getActiveOutputArea();\n",
              "//# sourceURL=js_971dfcee71"
            ]
          },
          "metadata": {}
        },
        {
          "output_type": "display_data",
          "data": {
            "text/plain": [
              "<IPython.core.display.Javascript object>"
            ],
            "application/javascript": [
              "window[\"0c28c1f8-b4ec-11f0-8183-0242ac1c000c\"] = document.querySelector(\"#id254_content_0\");\n",
              "//# sourceURL=js_7771f5535a"
            ]
          },
          "metadata": {}
        },
        {
          "output_type": "display_data",
          "data": {
            "text/plain": [
              "<IPython.core.display.Javascript object>"
            ],
            "application/javascript": [
              "window[\"0c28ed72-b4ec-11f0-8183-0242ac1c000c\"] = google.colab.output.setActiveOutputArea(window[\"0c28c1f8-b4ec-11f0-8183-0242ac1c000c\"]);\n",
              "//# sourceURL=js_e92760b50b"
            ]
          },
          "metadata": {}
        },
        {
          "output_type": "display_data",
          "data": {
            "text/plain": [
              "<IPython.core.display.Javascript object>"
            ],
            "application/javascript": [
              "window[\"0c291fcc-b4ec-11f0-8183-0242ac1c000c\"] = window[\"id254\"].setSelectedTabIndex(0);\n",
              "//# sourceURL=js_608968f629"
            ]
          },
          "metadata": {}
        },
        {
          "output_type": "stream",
          "name": "stdout",
          "text": [
            "The following query is stored at \u001b[1mStats_sql\u001b[0m variable.\n",
            "-- Initializing PostgreSQL environment.\n",
            "set client_min_messages to warning;\n",
            "create schema if not exists logica_home;\n",
            "-- Empty logica type: logicarecord893574736;\n",
            "DO $$ BEGIN if not exists (select 'I(am) :- I(think)' from pg_type where typname = 'logicarecord893574736') then create type logicarecord893574736 as (nirvana numeric); end if; END $$;\n",
            "\n",
            "\n",
            "DO $$\n",
            "BEGIN\n",
            "-- Logica type: logicarecord481217614\n",
            "if not exists (select 'I(am) :- I(think)' from pg_type where typname = 'logicarecord481217614') then create type logicarecord481217614 as (r logicarecord893574736); end if;\n",
            "-- Logica type: logicarecord86796764\n",
            "if not exists (select 'I(am) :- I(think)' from pg_type where typname = 'logicarecord86796764') then create type logicarecord86796764 as (s text); end if;\n",
            "-- Logica type: logicarecord110664987\n",
            "if not exists (select 'I(am) :- I(think)' from pg_type where typname = 'logicarecord110664987') then create type logicarecord110664987 as (name text); end if;\n",
            "-- Logica type: logicarecord275391720\n",
            "if not exists (select 'I(am) :- I(think)' from pg_type where typname = 'logicarecord275391720') then create type logicarecord275391720 as (character text, name text); end if;\n",
            "-- Logica type: logicarecord573040768\n",
            "if not exists (select 'I(am) :- I(think)' from pg_type where typname = 'logicarecord573040768') then create type logicarecord573040768 as (department text, job text, name text); end if;\n",
            "-- Logica type: logicarecord500250946\n",
            "if not exists (select 'I(am) :- I(think)' from pg_type where typname = 'logicarecord500250946') then create type logicarecord500250946 as (\"cast\" logicarecord275391720[], crew logicarecord573040768[], movie_id numeric); end if;\n",
            "END $$;\n",
            "SELECT\n",
            "  CAST((SELECT\n",
            "  SUM((CASE WHEN x_4 = 0 THEN 1 ELSE NULL END)) AS logica_value\n",
            "FROM\n",
            "  logica_home.metadata AS logica_home_metadata, UNNEST(ARRAY[0]::numeric[]) as x_4) AS numeric) AS movies_count,\n",
            "  CAST((SELECT\n",
            "  SUM((CASE WHEN x_6 = 0 THEN 1 ELSE NULL END)) AS logica_value\n",
            "FROM\n",
            "  logica_home.credits AS logica_home_credits, UNNEST(ARRAY[0]::numeric[]) as x_6) AS numeric) AS credits_count,\n",
            "  CAST((SELECT\n",
            "  SUM((CASE WHEN x_8 = 0 THEN 1 ELSE NULL END)) AS logica_value\n",
            "FROM\n",
            "  logica_home.ratings AS logica_home_ratings, UNNEST(ARRAY[0]::numeric[]) as x_8) AS numeric) AS ratings_count;\n"
          ]
        },
        {
          "output_type": "display_data",
          "data": {
            "text/plain": [
              "<IPython.core.display.Javascript object>"
            ],
            "application/javascript": [
              "window[\"0c29b7b6-b4ec-11f0-8183-0242ac1c000c\"] = google.colab.output.setActiveOutputArea(window[\"0c2887c4-b4ec-11f0-8183-0242ac1c000c\"]);\n",
              "//# sourceURL=js_e2ac5ee757"
            ]
          },
          "metadata": {}
        },
        {
          "output_type": "display_data",
          "data": {
            "text/plain": [
              "<IPython.core.display.Javascript object>"
            ],
            "application/javascript": [
              "window[\"0c2abd3c-b4ec-11f0-8183-0242ac1c000c\"] = google.colab.output.getActiveOutputArea();\n",
              "//# sourceURL=js_7483e4bc85"
            ]
          },
          "metadata": {}
        },
        {
          "output_type": "display_data",
          "data": {
            "text/plain": [
              "<IPython.core.display.Javascript object>"
            ],
            "application/javascript": [
              "window[\"0c2af7c0-b4ec-11f0-8183-0242ac1c000c\"] = document.querySelector(\"#id254_content_1\");\n",
              "//# sourceURL=js_0c6a75787f"
            ]
          },
          "metadata": {}
        },
        {
          "output_type": "display_data",
          "data": {
            "text/plain": [
              "<IPython.core.display.Javascript object>"
            ],
            "application/javascript": [
              "window[\"0c2b58f0-b4ec-11f0-8183-0242ac1c000c\"] = google.colab.output.setActiveOutputArea(window[\"0c2af7c0-b4ec-11f0-8183-0242ac1c000c\"]);\n",
              "//# sourceURL=js_7bef71af46"
            ]
          },
          "metadata": {}
        },
        {
          "output_type": "display_data",
          "data": {
            "text/plain": [
              "<IPython.core.display.Javascript object>"
            ],
            "application/javascript": [
              "window[\"0c2b9202-b4ec-11f0-8183-0242ac1c000c\"] = window[\"id254\"].setSelectedTabIndex(1);\n",
              "//# sourceURL=js_11d6d0e1e9"
            ]
          },
          "metadata": {}
        },
        {
          "output_type": "stream",
          "name": "stdout",
          "text": [
            "The following table is stored at \u001b[1mStats\u001b[0m variable.\n"
          ]
        },
        {
          "output_type": "display_data",
          "data": {
            "text/plain": [
              "<IPython.core.display.HTML object>"
            ],
            "text/html": [
              "<i>table to be rendered</i>"
            ]
          },
          "metadata": {}
        },
        {
          "output_type": "display_data",
          "data": {
            "text/plain": [
              "<IPython.core.display.Javascript object>"
            ],
            "application/javascript": [
              "window[\"0c2c63f8-b4ec-11f0-8183-0242ac1c000c\"] = google.colab.output.setActiveOutputArea(window[\"0c2abd3c-b4ec-11f0-8183-0242ac1c000c\"]);\n",
              "//# sourceURL=js_4650e7e398"
            ]
          },
          "metadata": {}
        },
        {
          "output_type": "display_data",
          "data": {
            "text/plain": [
              "<IPython.core.display.Javascript object>"
            ],
            "application/javascript": [
              "window[\"0c2d29b4-b4ec-11f0-8183-0242ac1c000c\"] = google.colab.output.setActiveOutputArea(window[\"0c257232-b4ec-11f0-8183-0242ac1c000c\"]);\n",
              "//# sourceURL=js_a6e17d4237"
            ]
          },
          "metadata": {}
        },
        {
          "output_type": "display_data",
          "data": {
            "text/plain": [
              "<IPython.core.display.Javascript object>"
            ],
            "application/javascript": [
              "window[\"0c2e15fe-b4ec-11f0-8183-0242ac1c000c\"] = google.colab.output.getActiveOutputArea();\n",
              "//# sourceURL=js_3935a6ec68"
            ]
          },
          "metadata": {}
        },
        {
          "output_type": "display_data",
          "data": {
            "text/plain": [
              "<IPython.core.display.Javascript object>"
            ],
            "application/javascript": [
              "window[\"0c2e5136-b4ec-11f0-8183-0242ac1c000c\"] = document.querySelector(\"#id253_content_11\");\n",
              "//# sourceURL=js_bdcdf0c740"
            ]
          },
          "metadata": {}
        },
        {
          "output_type": "display_data",
          "data": {
            "text/plain": [
              "<IPython.core.display.Javascript object>"
            ],
            "application/javascript": [
              "window[\"0c2e7d8c-b4ec-11f0-8183-0242ac1c000c\"] = google.colab.output.setActiveOutputArea(window[\"0c2e5136-b4ec-11f0-8183-0242ac1c000c\"]);\n",
              "//# sourceURL=js_953b85f4fb"
            ]
          },
          "metadata": {}
        },
        {
          "output_type": "display_data",
          "data": {
            "text/plain": [
              "<IPython.core.display.Javascript object>"
            ],
            "application/javascript": [
              "window[\"0c2eb14e-b4ec-11f0-8183-0242ac1c000c\"] = window[\"id253\"].setSelectedTabIndex(11);\n",
              "//# sourceURL=js_5436c41fa2"
            ]
          },
          "metadata": {}
        },
        {
          "output_type": "display_data",
          "data": {
            "text/plain": [
              "<IPython.core.display.Javascript object>"
            ],
            "application/javascript": [
              "window[\"0c2f852e-b4ec-11f0-8183-0242ac1c000c\"] = google.colab.output.setActiveOutputArea(window[\"0c2e15fe-b4ec-11f0-8183-0242ac1c000c\"]);\n",
              "//# sourceURL=js_1ba914a64b"
            ]
          },
          "metadata": {}
        },
        {
          "output_type": "display_data",
          "data": {
            "text/plain": [
              "<IPython.core.display.Javascript object>"
            ],
            "application/javascript": [
              "window[\"0c309c8e-b4ec-11f0-8183-0242ac1c000c\"] = google.colab.output.getActiveOutputArea();\n",
              "//# sourceURL=js_64b9ec048e"
            ]
          },
          "metadata": {}
        },
        {
          "output_type": "display_data",
          "data": {
            "text/plain": [
              "<IPython.core.display.Javascript object>"
            ],
            "application/javascript": [
              "window[\"0c30db4a-b4ec-11f0-8183-0242ac1c000c\"] = document.querySelector(\"#id253_content_1\");\n",
              "//# sourceURL=js_5ab0a0b460"
            ]
          },
          "metadata": {}
        },
        {
          "output_type": "display_data",
          "data": {
            "text/plain": [
              "<IPython.core.display.Javascript object>"
            ],
            "application/javascript": [
              "window[\"0c3143be-b4ec-11f0-8183-0242ac1c000c\"] = google.colab.output.setActiveOutputArea(window[\"0c30db4a-b4ec-11f0-8183-0242ac1c000c\"]);\n",
              "//# sourceURL=js_e2cc53a89a"
            ]
          },
          "metadata": {}
        },
        {
          "output_type": "display_data",
          "data": {
            "text/plain": [
              "<IPython.core.display.Javascript object>"
            ],
            "application/javascript": [
              "window[\"0c317fa0-b4ec-11f0-8183-0242ac1c000c\"] = window[\"id253\"].setSelectedTabIndex(1);\n",
              "//# sourceURL=js_29e4df540c"
            ]
          },
          "metadata": {}
        },
        {
          "output_type": "display_data",
          "data": {
            "text/plain": [
              "<IPython.core.display.HTML object>"
            ],
            "text/html": [
              "<link rel=stylesheet type=text/css href='/nbextensions/google.colab/tabbar.css'></link>"
            ]
          },
          "metadata": {}
        },
        {
          "output_type": "display_data",
          "data": {
            "text/plain": [
              "<IPython.core.display.HTML object>"
            ],
            "text/html": [
              "<script src='/nbextensions/google.colab/tabbar_main.min.js'></script>"
            ]
          },
          "metadata": {}
        },
        {
          "output_type": "display_data",
          "data": {
            "text/plain": [
              "<IPython.core.display.HTML object>"
            ],
            "text/html": [
              "<div id=\"id255\"></div>"
            ]
          },
          "metadata": {}
        },
        {
          "output_type": "display_data",
          "data": {
            "text/plain": [
              "<IPython.core.display.Javascript object>"
            ],
            "application/javascript": [
              "window[\"0c32e14c-b4ec-11f0-8183-0242ac1c000c\"] = colab_lib.createTabBar({\"location\": \"top\", \"elementId\": \"id255\", \"tabNames\": [\"SQL\", \"Result\"], \"initialSelection\": 0, \"contentBorder\": [\"0px\"], \"contentHeight\": [\"initial\"], \"borderColor\": [\"#a7a7a7\"]});\n",
              "//# sourceURL=js_5853238a17"
            ]
          },
          "metadata": {}
        },
        {
          "output_type": "display_data",
          "data": {
            "text/plain": [
              "<IPython.core.display.Javascript object>"
            ],
            "application/javascript": [
              "window[\"0c331734-b4ec-11f0-8183-0242ac1c000c\"] = window[\"id255\"].setSelectedTabIndex(0);\n",
              "//# sourceURL=js_0ec427db57"
            ]
          },
          "metadata": {}
        },
        {
          "output_type": "display_data",
          "data": {
            "text/plain": [
              "<IPython.core.display.Javascript object>"
            ],
            "application/javascript": [
              "window[\"0c341f6c-b4ec-11f0-8183-0242ac1c000c\"] = google.colab.output.getActiveOutputArea();\n",
              "//# sourceURL=js_e3687057bb"
            ]
          },
          "metadata": {}
        },
        {
          "output_type": "display_data",
          "data": {
            "text/plain": [
              "<IPython.core.display.Javascript object>"
            ],
            "application/javascript": [
              "window[\"0c345888-b4ec-11f0-8183-0242ac1c000c\"] = document.querySelector(\"#id255_content_0\");\n",
              "//# sourceURL=js_d5987f44a9"
            ]
          },
          "metadata": {}
        },
        {
          "output_type": "display_data",
          "data": {
            "text/plain": [
              "<IPython.core.display.Javascript object>"
            ],
            "application/javascript": [
              "window[\"0c3492a8-b4ec-11f0-8183-0242ac1c000c\"] = google.colab.output.setActiveOutputArea(window[\"0c345888-b4ec-11f0-8183-0242ac1c000c\"]);\n",
              "//# sourceURL=js_e967f16e1e"
            ]
          },
          "metadata": {}
        },
        {
          "output_type": "display_data",
          "data": {
            "text/plain": [
              "<IPython.core.display.Javascript object>"
            ],
            "application/javascript": [
              "window[\"0c350ee0-b4ec-11f0-8183-0242ac1c000c\"] = window[\"id255\"].setSelectedTabIndex(0);\n",
              "//# sourceURL=js_57b432ac1a"
            ]
          },
          "metadata": {}
        },
        {
          "output_type": "stream",
          "name": "stdout",
          "text": [
            "The following query is stored at \u001b[1mSomeRatings_sql\u001b[0m variable.\n",
            "-- Initializing PostgreSQL environment.\n",
            "set client_min_messages to warning;\n",
            "create schema if not exists logica_home;\n",
            "-- Empty logica type: logicarecord893574736;\n",
            "DO $$ BEGIN if not exists (select 'I(am) :- I(think)' from pg_type where typname = 'logicarecord893574736') then create type logicarecord893574736 as (nirvana numeric); end if; END $$;\n",
            "\n",
            "\n",
            "DO $$\n",
            "BEGIN\n",
            "-- Logica type: logicarecord481217614\n",
            "if not exists (select 'I(am) :- I(think)' from pg_type where typname = 'logicarecord481217614') then create type logicarecord481217614 as (r logicarecord893574736); end if;\n",
            "-- Logica type: logicarecord86796764\n",
            "if not exists (select 'I(am) :- I(think)' from pg_type where typname = 'logicarecord86796764') then create type logicarecord86796764 as (s text); end if;\n",
            "-- Logica type: logicarecord110664987\n",
            "if not exists (select 'I(am) :- I(think)' from pg_type where typname = 'logicarecord110664987') then create type logicarecord110664987 as (name text); end if;\n",
            "-- Logica type: logicarecord275391720\n",
            "if not exists (select 'I(am) :- I(think)' from pg_type where typname = 'logicarecord275391720') then create type logicarecord275391720 as (character text, name text); end if;\n",
            "-- Logica type: logicarecord573040768\n",
            "if not exists (select 'I(am) :- I(think)' from pg_type where typname = 'logicarecord573040768') then create type logicarecord573040768 as (department text, job text, name text); end if;\n",
            "-- Logica type: logicarecord500250946\n",
            "if not exists (select 'I(am) :- I(think)' from pg_type where typname = 'logicarecord500250946') then create type logicarecord500250946 as (\"cast\" logicarecord275391720[], crew logicarecord573040768[], movie_id numeric); end if;\n",
            "END $$;\n",
            "SELECT\n",
            "  (logica_home_ratings).*\n",
            "FROM\n",
            "  logica_home.ratings AS logica_home_ratings LIMIT 100;\n"
          ]
        },
        {
          "output_type": "display_data",
          "data": {
            "text/plain": [
              "<IPython.core.display.Javascript object>"
            ],
            "application/javascript": [
              "window[\"0c35b868-b4ec-11f0-8183-0242ac1c000c\"] = google.colab.output.setActiveOutputArea(window[\"0c341f6c-b4ec-11f0-8183-0242ac1c000c\"]);\n",
              "//# sourceURL=js_97c9e535b8"
            ]
          },
          "metadata": {}
        },
        {
          "output_type": "display_data",
          "data": {
            "text/plain": [
              "<IPython.core.display.Javascript object>"
            ],
            "application/javascript": [
              "window[\"0c36b43e-b4ec-11f0-8183-0242ac1c000c\"] = google.colab.output.getActiveOutputArea();\n",
              "//# sourceURL=js_5ac30e1815"
            ]
          },
          "metadata": {}
        },
        {
          "output_type": "display_data",
          "data": {
            "text/plain": [
              "<IPython.core.display.Javascript object>"
            ],
            "application/javascript": [
              "window[\"0c3740fc-b4ec-11f0-8183-0242ac1c000c\"] = document.querySelector(\"#id255_content_1\");\n",
              "//# sourceURL=js_9c935cf7f2"
            ]
          },
          "metadata": {}
        },
        {
          "output_type": "display_data",
          "data": {
            "text/plain": [
              "<IPython.core.display.Javascript object>"
            ],
            "application/javascript": [
              "window[\"0c377bb2-b4ec-11f0-8183-0242ac1c000c\"] = google.colab.output.setActiveOutputArea(window[\"0c3740fc-b4ec-11f0-8183-0242ac1c000c\"]);\n",
              "//# sourceURL=js_e576d3ab11"
            ]
          },
          "metadata": {}
        },
        {
          "output_type": "display_data",
          "data": {
            "text/plain": [
              "<IPython.core.display.Javascript object>"
            ],
            "application/javascript": [
              "window[\"0c37a862-b4ec-11f0-8183-0242ac1c000c\"] = window[\"id255\"].setSelectedTabIndex(1);\n",
              "//# sourceURL=js_fe65754caa"
            ]
          },
          "metadata": {}
        },
        {
          "output_type": "stream",
          "name": "stdout",
          "text": [
            "The following table is stored at \u001b[1mSomeRatings\u001b[0m variable.\n"
          ]
        },
        {
          "output_type": "display_data",
          "data": {
            "text/plain": [
              "<IPython.core.display.HTML object>"
            ],
            "text/html": [
              "<i>table to be rendered</i>"
            ]
          },
          "metadata": {}
        },
        {
          "output_type": "display_data",
          "data": {
            "text/plain": [
              "<IPython.core.display.Javascript object>"
            ],
            "application/javascript": [
              "window[\"0c38963c-b4ec-11f0-8183-0242ac1c000c\"] = google.colab.output.setActiveOutputArea(window[\"0c36b43e-b4ec-11f0-8183-0242ac1c000c\"]);\n",
              "//# sourceURL=js_100d9a0983"
            ]
          },
          "metadata": {}
        },
        {
          "output_type": "display_data",
          "data": {
            "text/plain": [
              "<IPython.core.display.Javascript object>"
            ],
            "application/javascript": [
              "window[\"0c399fc8-b4ec-11f0-8183-0242ac1c000c\"] = google.colab.output.setActiveOutputArea(window[\"0c309c8e-b4ec-11f0-8183-0242ac1c000c\"]);\n",
              "//# sourceURL=js_ef93e0e25a"
            ]
          },
          "metadata": {}
        },
        {
          "output_type": "display_data",
          "data": {
            "text/plain": [
              "<IPython.core.display.Javascript object>"
            ],
            "application/javascript": [
              "window[\"0c3af62a-b4ec-11f0-8183-0242ac1c000c\"] = google.colab.output.getActiveOutputArea();\n",
              "//# sourceURL=js_799a9a26de"
            ]
          },
          "metadata": {}
        },
        {
          "output_type": "display_data",
          "data": {
            "text/plain": [
              "<IPython.core.display.Javascript object>"
            ],
            "application/javascript": [
              "window[\"0c3b4468-b4ec-11f0-8183-0242ac1c000c\"] = document.querySelector(\"#id253_content_11\");\n",
              "//# sourceURL=js_04256d4f64"
            ]
          },
          "metadata": {}
        },
        {
          "output_type": "display_data",
          "data": {
            "text/plain": [
              "<IPython.core.display.Javascript object>"
            ],
            "application/javascript": [
              "window[\"0c3b7244-b4ec-11f0-8183-0242ac1c000c\"] = google.colab.output.setActiveOutputArea(window[\"0c3b4468-b4ec-11f0-8183-0242ac1c000c\"]);\n",
              "//# sourceURL=js_c9f643824a"
            ]
          },
          "metadata": {}
        },
        {
          "output_type": "display_data",
          "data": {
            "text/plain": [
              "<IPython.core.display.Javascript object>"
            ],
            "application/javascript": [
              "window[\"0c3ba872-b4ec-11f0-8183-0242ac1c000c\"] = window[\"id253\"].setSelectedTabIndex(11);\n",
              "//# sourceURL=js_1c3d4d63a6"
            ]
          },
          "metadata": {}
        },
        {
          "output_type": "display_data",
          "data": {
            "text/plain": [
              "<IPython.core.display.Javascript object>"
            ],
            "application/javascript": [
              "window[\"0c3dd700-b4ec-11f0-8183-0242ac1c000c\"] = google.colab.output.setActiveOutputArea(window[\"0c3af62a-b4ec-11f0-8183-0242ac1c000c\"]);\n",
              "//# sourceURL=js_f422b20a24"
            ]
          },
          "metadata": {}
        },
        {
          "output_type": "display_data",
          "data": {
            "text/plain": [
              "<IPython.core.display.Javascript object>"
            ],
            "application/javascript": [
              "window[\"0c3f2b5a-b4ec-11f0-8183-0242ac1c000c\"] = google.colab.output.getActiveOutputArea();\n",
              "//# sourceURL=js_0cddcbd201"
            ]
          },
          "metadata": {}
        },
        {
          "output_type": "display_data",
          "data": {
            "text/plain": [
              "<IPython.core.display.Javascript object>"
            ],
            "application/javascript": [
              "window[\"0c3f6610-b4ec-11f0-8183-0242ac1c000c\"] = document.querySelector(\"#id253_content_2\");\n",
              "//# sourceURL=js_cc03921ccc"
            ]
          },
          "metadata": {}
        },
        {
          "output_type": "display_data",
          "data": {
            "text/plain": [
              "<IPython.core.display.Javascript object>"
            ],
            "application/javascript": [
              "window[\"0c3f93d8-b4ec-11f0-8183-0242ac1c000c\"] = google.colab.output.setActiveOutputArea(window[\"0c3f6610-b4ec-11f0-8183-0242ac1c000c\"]);\n",
              "//# sourceURL=js_f391a4aac9"
            ]
          },
          "metadata": {}
        },
        {
          "output_type": "display_data",
          "data": {
            "text/plain": [
              "<IPython.core.display.Javascript object>"
            ],
            "application/javascript": [
              "window[\"0c4017fe-b4ec-11f0-8183-0242ac1c000c\"] = window[\"id253\"].setSelectedTabIndex(2);\n",
              "//# sourceURL=js_2aaed041d4"
            ]
          },
          "metadata": {}
        },
        {
          "output_type": "display_data",
          "data": {
            "text/plain": [
              "<IPython.core.display.HTML object>"
            ],
            "text/html": [
              "<link rel=stylesheet type=text/css href='/nbextensions/google.colab/tabbar.css'></link>"
            ]
          },
          "metadata": {}
        },
        {
          "output_type": "display_data",
          "data": {
            "text/plain": [
              "<IPython.core.display.HTML object>"
            ],
            "text/html": [
              "<script src='/nbextensions/google.colab/tabbar_main.min.js'></script>"
            ]
          },
          "metadata": {}
        },
        {
          "output_type": "display_data",
          "data": {
            "text/plain": [
              "<IPython.core.display.HTML object>"
            ],
            "text/html": [
              "<div id=\"id256\"></div>"
            ]
          },
          "metadata": {}
        },
        {
          "output_type": "display_data",
          "data": {
            "text/plain": [
              "<IPython.core.display.Javascript object>"
            ],
            "application/javascript": [
              "window[\"0c414f8e-b4ec-11f0-8183-0242ac1c000c\"] = colab_lib.createTabBar({\"location\": \"top\", \"elementId\": \"id256\", \"tabNames\": [\"SQL\", \"Result\"], \"initialSelection\": 0, \"contentBorder\": [\"0px\"], \"contentHeight\": [\"initial\"], \"borderColor\": [\"#a7a7a7\"]});\n",
              "//# sourceURL=js_96f066e7da"
            ]
          },
          "metadata": {}
        },
        {
          "output_type": "display_data",
          "data": {
            "text/plain": [
              "<IPython.core.display.Javascript object>"
            ],
            "application/javascript": [
              "window[\"0c418652-b4ec-11f0-8183-0242ac1c000c\"] = window[\"id256\"].setSelectedTabIndex(0);\n",
              "//# sourceURL=js_f628e5f103"
            ]
          },
          "metadata": {}
        },
        {
          "output_type": "display_data",
          "data": {
            "text/plain": [
              "<IPython.core.display.Javascript object>"
            ],
            "application/javascript": [
              "window[\"0c424bc8-b4ec-11f0-8183-0242ac1c000c\"] = google.colab.output.getActiveOutputArea();\n",
              "//# sourceURL=js_60204cf89f"
            ]
          },
          "metadata": {}
        },
        {
          "output_type": "display_data",
          "data": {
            "text/plain": [
              "<IPython.core.display.Javascript object>"
            ],
            "application/javascript": [
              "window[\"0c428084-b4ec-11f0-8183-0242ac1c000c\"] = document.querySelector(\"#id256_content_0\");\n",
              "//# sourceURL=js_604fc75dbc"
            ]
          },
          "metadata": {}
        },
        {
          "output_type": "display_data",
          "data": {
            "text/plain": [
              "<IPython.core.display.Javascript object>"
            ],
            "application/javascript": [
              "window[\"0c42b090-b4ec-11f0-8183-0242ac1c000c\"] = google.colab.output.setActiveOutputArea(window[\"0c428084-b4ec-11f0-8183-0242ac1c000c\"]);\n",
              "//# sourceURL=js_21c4a16171"
            ]
          },
          "metadata": {}
        },
        {
          "output_type": "display_data",
          "data": {
            "text/plain": [
              "<IPython.core.display.Javascript object>"
            ],
            "application/javascript": [
              "window[\"0c42ebd2-b4ec-11f0-8183-0242ac1c000c\"] = window[\"id256\"].setSelectedTabIndex(0);\n",
              "//# sourceURL=js_204ac52eb4"
            ]
          },
          "metadata": {}
        },
        {
          "output_type": "stream",
          "name": "stdout",
          "text": [
            "The following query is stored at \u001b[1mSomeCredits_sql\u001b[0m variable.\n",
            "-- Initializing PostgreSQL environment.\n",
            "set client_min_messages to warning;\n",
            "create schema if not exists logica_home;\n",
            "-- Empty logica type: logicarecord893574736;\n",
            "DO $$ BEGIN if not exists (select 'I(am) :- I(think)' from pg_type where typname = 'logicarecord893574736') then create type logicarecord893574736 as (nirvana numeric); end if; END $$;\n",
            "\n",
            "\n",
            "DO $$\n",
            "BEGIN\n",
            "-- Logica type: logicarecord481217614\n",
            "if not exists (select 'I(am) :- I(think)' from pg_type where typname = 'logicarecord481217614') then create type logicarecord481217614 as (r logicarecord893574736); end if;\n",
            "-- Logica type: logicarecord86796764\n",
            "if not exists (select 'I(am) :- I(think)' from pg_type where typname = 'logicarecord86796764') then create type logicarecord86796764 as (s text); end if;\n",
            "-- Logica type: logicarecord110664987\n",
            "if not exists (select 'I(am) :- I(think)' from pg_type where typname = 'logicarecord110664987') then create type logicarecord110664987 as (name text); end if;\n",
            "-- Logica type: logicarecord275391720\n",
            "if not exists (select 'I(am) :- I(think)' from pg_type where typname = 'logicarecord275391720') then create type logicarecord275391720 as (character text, name text); end if;\n",
            "-- Logica type: logicarecord573040768\n",
            "if not exists (select 'I(am) :- I(think)' from pg_type where typname = 'logicarecord573040768') then create type logicarecord573040768 as (department text, job text, name text); end if;\n",
            "-- Logica type: logicarecord500250946\n",
            "if not exists (select 'I(am) :- I(think)' from pg_type where typname = 'logicarecord500250946') then create type logicarecord500250946 as (\"cast\" logicarecord275391720[], crew logicarecord573040768[], movie_id numeric); end if;\n",
            "END $$;\n",
            "SELECT\n",
            "  (logica_home_credits).*\n",
            "FROM\n",
            "  logica_home.credits AS logica_home_credits LIMIT 100;\n"
          ]
        },
        {
          "output_type": "display_data",
          "data": {
            "text/plain": [
              "<IPython.core.display.Javascript object>"
            ],
            "application/javascript": [
              "window[\"0c438ede-b4ec-11f0-8183-0242ac1c000c\"] = google.colab.output.setActiveOutputArea(window[\"0c424bc8-b4ec-11f0-8183-0242ac1c000c\"]);\n",
              "//# sourceURL=js_5ebf7f40e8"
            ]
          },
          "metadata": {}
        },
        {
          "output_type": "display_data",
          "data": {
            "text/plain": [
              "<IPython.core.display.Javascript object>"
            ],
            "application/javascript": [
              "window[\"0c447cc2-b4ec-11f0-8183-0242ac1c000c\"] = google.colab.output.getActiveOutputArea();\n",
              "//# sourceURL=js_6d5717f7bf"
            ]
          },
          "metadata": {}
        },
        {
          "output_type": "display_data",
          "data": {
            "text/plain": [
              "<IPython.core.display.Javascript object>"
            ],
            "application/javascript": [
              "window[\"0c44b6f6-b4ec-11f0-8183-0242ac1c000c\"] = document.querySelector(\"#id256_content_1\");\n",
              "//# sourceURL=js_4af2da168e"
            ]
          },
          "metadata": {}
        },
        {
          "output_type": "display_data",
          "data": {
            "text/plain": [
              "<IPython.core.display.Javascript object>"
            ],
            "application/javascript": [
              "window[\"0c44ee1e-b4ec-11f0-8183-0242ac1c000c\"] = google.colab.output.setActiveOutputArea(window[\"0c44b6f6-b4ec-11f0-8183-0242ac1c000c\"]);\n",
              "//# sourceURL=js_f44952c242"
            ]
          },
          "metadata": {}
        },
        {
          "output_type": "display_data",
          "data": {
            "text/plain": [
              "<IPython.core.display.Javascript object>"
            ],
            "application/javascript": [
              "window[\"0c451ac4-b4ec-11f0-8183-0242ac1c000c\"] = window[\"id256\"].setSelectedTabIndex(1);\n",
              "//# sourceURL=js_28144bc1e7"
            ]
          },
          "metadata": {}
        },
        {
          "output_type": "stream",
          "name": "stdout",
          "text": [
            "The following table is stored at \u001b[1mSomeCredits\u001b[0m variable.\n"
          ]
        },
        {
          "output_type": "display_data",
          "data": {
            "text/plain": [
              "<IPython.core.display.HTML object>"
            ],
            "text/html": [
              "<i>table to be rendered</i>"
            ]
          },
          "metadata": {}
        },
        {
          "output_type": "display_data",
          "data": {
            "text/plain": [
              "<IPython.core.display.Javascript object>"
            ],
            "application/javascript": [
              "window[\"0c45ecf6-b4ec-11f0-8183-0242ac1c000c\"] = google.colab.output.setActiveOutputArea(window[\"0c447cc2-b4ec-11f0-8183-0242ac1c000c\"]);\n",
              "//# sourceURL=js_f1001e333a"
            ]
          },
          "metadata": {}
        },
        {
          "output_type": "display_data",
          "data": {
            "text/plain": [
              "<IPython.core.display.Javascript object>"
            ],
            "application/javascript": [
              "window[\"0c46c05e-b4ec-11f0-8183-0242ac1c000c\"] = google.colab.output.setActiveOutputArea(window[\"0c3f2b5a-b4ec-11f0-8183-0242ac1c000c\"]);\n",
              "//# sourceURL=js_499e92adb8"
            ]
          },
          "metadata": {}
        },
        {
          "output_type": "display_data",
          "data": {
            "text/plain": [
              "<IPython.core.display.Javascript object>"
            ],
            "application/javascript": [
              "window[\"0c480162-b4ec-11f0-8183-0242ac1c000c\"] = google.colab.output.getActiveOutputArea();\n",
              "//# sourceURL=js_3b891456b3"
            ]
          },
          "metadata": {}
        },
        {
          "output_type": "display_data",
          "data": {
            "text/plain": [
              "<IPython.core.display.Javascript object>"
            ],
            "application/javascript": [
              "window[\"0c483f6a-b4ec-11f0-8183-0242ac1c000c\"] = document.querySelector(\"#id253_content_11\");\n",
              "//# sourceURL=js_1ec2e7d699"
            ]
          },
          "metadata": {}
        },
        {
          "output_type": "display_data",
          "data": {
            "text/plain": [
              "<IPython.core.display.Javascript object>"
            ],
            "application/javascript": [
              "window[\"0c486ba2-b4ec-11f0-8183-0242ac1c000c\"] = google.colab.output.setActiveOutputArea(window[\"0c483f6a-b4ec-11f0-8183-0242ac1c000c\"]);\n",
              "//# sourceURL=js_90b30420a1"
            ]
          },
          "metadata": {}
        },
        {
          "output_type": "display_data",
          "data": {
            "text/plain": [
              "<IPython.core.display.Javascript object>"
            ],
            "application/javascript": [
              "window[\"0c48a07c-b4ec-11f0-8183-0242ac1c000c\"] = window[\"id253\"].setSelectedTabIndex(11);\n",
              "//# sourceURL=js_7c2aaf12ad"
            ]
          },
          "metadata": {}
        },
        {
          "output_type": "display_data",
          "data": {
            "text/plain": [
              "<IPython.core.display.Javascript object>"
            ],
            "application/javascript": [
              "window[\"0c49808c-b4ec-11f0-8183-0242ac1c000c\"] = google.colab.output.setActiveOutputArea(window[\"0c480162-b4ec-11f0-8183-0242ac1c000c\"]);\n",
              "//# sourceURL=js_5fc326b867"
            ]
          },
          "metadata": {}
        },
        {
          "output_type": "display_data",
          "data": {
            "text/plain": [
              "<IPython.core.display.Javascript object>"
            ],
            "application/javascript": [
              "window[\"0c4a7424-b4ec-11f0-8183-0242ac1c000c\"] = google.colab.output.getActiveOutputArea();\n",
              "//# sourceURL=js_85adef3a81"
            ]
          },
          "metadata": {}
        },
        {
          "output_type": "display_data",
          "data": {
            "text/plain": [
              "<IPython.core.display.Javascript object>"
            ],
            "application/javascript": [
              "window[\"0c4ab376-b4ec-11f0-8183-0242ac1c000c\"] = document.querySelector(\"#id253_content_3\");\n",
              "//# sourceURL=js_db457667cd"
            ]
          },
          "metadata": {}
        },
        {
          "output_type": "display_data",
          "data": {
            "text/plain": [
              "<IPython.core.display.Javascript object>"
            ],
            "application/javascript": [
              "window[\"0c4addd8-b4ec-11f0-8183-0242ac1c000c\"] = google.colab.output.setActiveOutputArea(window[\"0c4ab376-b4ec-11f0-8183-0242ac1c000c\"]);\n",
              "//# sourceURL=js_f3676bba0f"
            ]
          },
          "metadata": {}
        },
        {
          "output_type": "display_data",
          "data": {
            "text/plain": [
              "<IPython.core.display.Javascript object>"
            ],
            "application/javascript": [
              "window[\"0c4b1320-b4ec-11f0-8183-0242ac1c000c\"] = window[\"id253\"].setSelectedTabIndex(3);\n",
              "//# sourceURL=js_6d93d9b5f3"
            ]
          },
          "metadata": {}
        },
        {
          "output_type": "display_data",
          "data": {
            "text/plain": [
              "<IPython.core.display.HTML object>"
            ],
            "text/html": [
              "<link rel=stylesheet type=text/css href='/nbextensions/google.colab/tabbar.css'></link>"
            ]
          },
          "metadata": {}
        },
        {
          "output_type": "display_data",
          "data": {
            "text/plain": [
              "<IPython.core.display.HTML object>"
            ],
            "text/html": [
              "<script src='/nbextensions/google.colab/tabbar_main.min.js'></script>"
            ]
          },
          "metadata": {}
        },
        {
          "output_type": "display_data",
          "data": {
            "text/plain": [
              "<IPython.core.display.HTML object>"
            ],
            "text/html": [
              "<div id=\"id257\"></div>"
            ]
          },
          "metadata": {}
        },
        {
          "output_type": "display_data",
          "data": {
            "text/plain": [
              "<IPython.core.display.Javascript object>"
            ],
            "application/javascript": [
              "window[\"0c4c10f4-b4ec-11f0-8183-0242ac1c000c\"] = colab_lib.createTabBar({\"location\": \"top\", \"elementId\": \"id257\", \"tabNames\": [\"SQL\", \"Result\"], \"initialSelection\": 0, \"contentBorder\": [\"0px\"], \"contentHeight\": [\"initial\"], \"borderColor\": [\"#a7a7a7\"]});\n",
              "//# sourceURL=js_1d149e9c0c"
            ]
          },
          "metadata": {}
        },
        {
          "output_type": "display_data",
          "data": {
            "text/plain": [
              "<IPython.core.display.Javascript object>"
            ],
            "application/javascript": [
              "window[\"0c4c50a0-b4ec-11f0-8183-0242ac1c000c\"] = window[\"id257\"].setSelectedTabIndex(0);\n",
              "//# sourceURL=js_1952aedf0c"
            ]
          },
          "metadata": {}
        },
        {
          "output_type": "display_data",
          "data": {
            "text/plain": [
              "<IPython.core.display.Javascript object>"
            ],
            "application/javascript": [
              "window[\"0c4d0504-b4ec-11f0-8183-0242ac1c000c\"] = google.colab.output.getActiveOutputArea();\n",
              "//# sourceURL=js_e2487c3980"
            ]
          },
          "metadata": {}
        },
        {
          "output_type": "display_data",
          "data": {
            "text/plain": [
              "<IPython.core.display.Javascript object>"
            ],
            "application/javascript": [
              "window[\"0c4d444c-b4ec-11f0-8183-0242ac1c000c\"] = document.querySelector(\"#id257_content_0\");\n",
              "//# sourceURL=js_cbb4080987"
            ]
          },
          "metadata": {}
        },
        {
          "output_type": "display_data",
          "data": {
            "text/plain": [
              "<IPython.core.display.Javascript object>"
            ],
            "application/javascript": [
              "window[\"0c4d6eea-b4ec-11f0-8183-0242ac1c000c\"] = google.colab.output.setActiveOutputArea(window[\"0c4d444c-b4ec-11f0-8183-0242ac1c000c\"]);\n",
              "//# sourceURL=js_a4cab967a3"
            ]
          },
          "metadata": {}
        },
        {
          "output_type": "display_data",
          "data": {
            "text/plain": [
              "<IPython.core.display.Javascript object>"
            ],
            "application/javascript": [
              "window[\"0c4da0b8-b4ec-11f0-8183-0242ac1c000c\"] = window[\"id257\"].setSelectedTabIndex(0);\n",
              "//# sourceURL=js_5563776b88"
            ]
          },
          "metadata": {}
        },
        {
          "output_type": "stream",
          "name": "stdout",
          "text": [
            "The following query is stored at \u001b[1mSomeMovies_sql\u001b[0m variable.\n",
            "-- Initializing PostgreSQL environment.\n",
            "set client_min_messages to warning;\n",
            "create schema if not exists logica_home;\n",
            "-- Empty logica type: logicarecord893574736;\n",
            "DO $$ BEGIN if not exists (select 'I(am) :- I(think)' from pg_type where typname = 'logicarecord893574736') then create type logicarecord893574736 as (nirvana numeric); end if; END $$;\n",
            "\n",
            "\n",
            "DO $$\n",
            "BEGIN\n",
            "-- Logica type: logicarecord481217614\n",
            "if not exists (select 'I(am) :- I(think)' from pg_type where typname = 'logicarecord481217614') then create type logicarecord481217614 as (r logicarecord893574736); end if;\n",
            "-- Logica type: logicarecord86796764\n",
            "if not exists (select 'I(am) :- I(think)' from pg_type where typname = 'logicarecord86796764') then create type logicarecord86796764 as (s text); end if;\n",
            "-- Logica type: logicarecord110664987\n",
            "if not exists (select 'I(am) :- I(think)' from pg_type where typname = 'logicarecord110664987') then create type logicarecord110664987 as (name text); end if;\n",
            "-- Logica type: logicarecord275391720\n",
            "if not exists (select 'I(am) :- I(think)' from pg_type where typname = 'logicarecord275391720') then create type logicarecord275391720 as (character text, name text); end if;\n",
            "-- Logica type: logicarecord573040768\n",
            "if not exists (select 'I(am) :- I(think)' from pg_type where typname = 'logicarecord573040768') then create type logicarecord573040768 as (department text, job text, name text); end if;\n",
            "-- Logica type: logicarecord500250946\n",
            "if not exists (select 'I(am) :- I(think)' from pg_type where typname = 'logicarecord500250946') then create type logicarecord500250946 as (\"cast\" logicarecord275391720[], crew logicarecord573040768[], movie_id numeric); end if;\n",
            "END $$;\n",
            "SELECT\n",
            "  (logica_home_metadata).*\n",
            "FROM\n",
            "  logica_home.metadata AS logica_home_metadata LIMIT 100;\n"
          ]
        },
        {
          "output_type": "display_data",
          "data": {
            "text/plain": [
              "<IPython.core.display.Javascript object>"
            ],
            "application/javascript": [
              "window[\"0c4e3f00-b4ec-11f0-8183-0242ac1c000c\"] = google.colab.output.setActiveOutputArea(window[\"0c4d0504-b4ec-11f0-8183-0242ac1c000c\"]);\n",
              "//# sourceURL=js_dcdb51a6bf"
            ]
          },
          "metadata": {}
        },
        {
          "output_type": "display_data",
          "data": {
            "text/plain": [
              "<IPython.core.display.Javascript object>"
            ],
            "application/javascript": [
              "window[\"0c4f3fc2-b4ec-11f0-8183-0242ac1c000c\"] = google.colab.output.getActiveOutputArea();\n",
              "//# sourceURL=js_7e51b11e06"
            ]
          },
          "metadata": {}
        },
        {
          "output_type": "display_data",
          "data": {
            "text/plain": [
              "<IPython.core.display.Javascript object>"
            ],
            "application/javascript": [
              "window[\"0c4f7d5c-b4ec-11f0-8183-0242ac1c000c\"] = document.querySelector(\"#id257_content_1\");\n",
              "//# sourceURL=js_52fca6f5cd"
            ]
          },
          "metadata": {}
        },
        {
          "output_type": "display_data",
          "data": {
            "text/plain": [
              "<IPython.core.display.Javascript object>"
            ],
            "application/javascript": [
              "window[\"0c4fb074-b4ec-11f0-8183-0242ac1c000c\"] = google.colab.output.setActiveOutputArea(window[\"0c4f7d5c-b4ec-11f0-8183-0242ac1c000c\"]);\n",
              "//# sourceURL=js_2f52b9fb03"
            ]
          },
          "metadata": {}
        },
        {
          "output_type": "display_data",
          "data": {
            "text/plain": [
              "<IPython.core.display.Javascript object>"
            ],
            "application/javascript": [
              "window[\"0c4fdcfc-b4ec-11f0-8183-0242ac1c000c\"] = window[\"id257\"].setSelectedTabIndex(1);\n",
              "//# sourceURL=js_42d9153e5c"
            ]
          },
          "metadata": {}
        },
        {
          "output_type": "stream",
          "name": "stdout",
          "text": [
            "The following table is stored at \u001b[1mSomeMovies\u001b[0m variable.\n"
          ]
        },
        {
          "output_type": "display_data",
          "data": {
            "text/plain": [
              "<IPython.core.display.HTML object>"
            ],
            "text/html": [
              "<i>table to be rendered</i>"
            ]
          },
          "metadata": {}
        },
        {
          "output_type": "display_data",
          "data": {
            "text/plain": [
              "<IPython.core.display.Javascript object>"
            ],
            "application/javascript": [
              "window[\"0c50b0aa-b4ec-11f0-8183-0242ac1c000c\"] = google.colab.output.setActiveOutputArea(window[\"0c4f3fc2-b4ec-11f0-8183-0242ac1c000c\"]);\n",
              "//# sourceURL=js_c01d14e572"
            ]
          },
          "metadata": {}
        },
        {
          "output_type": "display_data",
          "data": {
            "text/plain": [
              "<IPython.core.display.Javascript object>"
            ],
            "application/javascript": [
              "window[\"0c51808e-b4ec-11f0-8183-0242ac1c000c\"] = google.colab.output.setActiveOutputArea(window[\"0c4a7424-b4ec-11f0-8183-0242ac1c000c\"]);\n",
              "//# sourceURL=js_6fe6cc9dc0"
            ]
          },
          "metadata": {}
        },
        {
          "output_type": "display_data",
          "data": {
            "text/plain": [
              "<IPython.core.display.Javascript object>"
            ],
            "application/javascript": [
              "window[\"0c526cd8-b4ec-11f0-8183-0242ac1c000c\"] = google.colab.output.getActiveOutputArea();\n",
              "//# sourceURL=js_cc2577f104"
            ]
          },
          "metadata": {}
        },
        {
          "output_type": "display_data",
          "data": {
            "text/plain": [
              "<IPython.core.display.Javascript object>"
            ],
            "application/javascript": [
              "window[\"0c52ac2a-b4ec-11f0-8183-0242ac1c000c\"] = document.querySelector(\"#id253_content_11\");\n",
              "//# sourceURL=js_cfa5ed62d8"
            ]
          },
          "metadata": {}
        },
        {
          "output_type": "display_data",
          "data": {
            "text/plain": [
              "<IPython.core.display.Javascript object>"
            ],
            "application/javascript": [
              "window[\"0c52d844-b4ec-11f0-8183-0242ac1c000c\"] = google.colab.output.setActiveOutputArea(window[\"0c52ac2a-b4ec-11f0-8183-0242ac1c000c\"]);\n",
              "//# sourceURL=js_b6f126fef2"
            ]
          },
          "metadata": {}
        },
        {
          "output_type": "display_data",
          "data": {
            "text/plain": [
              "<IPython.core.display.Javascript object>"
            ],
            "application/javascript": [
              "window[\"0c530e04-b4ec-11f0-8183-0242ac1c000c\"] = window[\"id253\"].setSelectedTabIndex(11);\n",
              "//# sourceURL=js_2d261fd8ea"
            ]
          },
          "metadata": {}
        },
        {
          "output_type": "display_data",
          "data": {
            "text/plain": [
              "<IPython.core.display.Javascript object>"
            ],
            "application/javascript": [
              "window[\"0c56a906-b4ec-11f0-8183-0242ac1c000c\"] = google.colab.output.setActiveOutputArea(window[\"0c526cd8-b4ec-11f0-8183-0242ac1c000c\"]);\n",
              "//# sourceURL=js_65af95e1b0"
            ]
          },
          "metadata": {}
        },
        {
          "output_type": "display_data",
          "data": {
            "text/plain": [
              "<IPython.core.display.Javascript object>"
            ],
            "application/javascript": [
              "window[\"0c579b68-b4ec-11f0-8183-0242ac1c000c\"] = google.colab.output.getActiveOutputArea();\n",
              "//# sourceURL=js_d003341da6"
            ]
          },
          "metadata": {}
        },
        {
          "output_type": "display_data",
          "data": {
            "text/plain": [
              "<IPython.core.display.Javascript object>"
            ],
            "application/javascript": [
              "window[\"0c57d740-b4ec-11f0-8183-0242ac1c000c\"] = document.querySelector(\"#id253_content_4\");\n",
              "//# sourceURL=js_c008fb84be"
            ]
          },
          "metadata": {}
        },
        {
          "output_type": "display_data",
          "data": {
            "text/plain": [
              "<IPython.core.display.Javascript object>"
            ],
            "application/javascript": [
              "window[\"0c580378-b4ec-11f0-8183-0242ac1c000c\"] = google.colab.output.setActiveOutputArea(window[\"0c57d740-b4ec-11f0-8183-0242ac1c000c\"]);\n",
              "//# sourceURL=js_8660532486"
            ]
          },
          "metadata": {}
        },
        {
          "output_type": "display_data",
          "data": {
            "text/plain": [
              "<IPython.core.display.Javascript object>"
            ],
            "application/javascript": [
              "window[\"0c583c08-b4ec-11f0-8183-0242ac1c000c\"] = window[\"id253\"].setSelectedTabIndex(4);\n",
              "//# sourceURL=js_547022617f"
            ]
          },
          "metadata": {}
        },
        {
          "output_type": "display_data",
          "data": {
            "text/plain": [
              "<IPython.core.display.HTML object>"
            ],
            "text/html": [
              "<link rel=stylesheet type=text/css href='/nbextensions/google.colab/tabbar.css'></link>"
            ]
          },
          "metadata": {}
        },
        {
          "output_type": "display_data",
          "data": {
            "text/plain": [
              "<IPython.core.display.HTML object>"
            ],
            "text/html": [
              "<script src='/nbextensions/google.colab/tabbar_main.min.js'></script>"
            ]
          },
          "metadata": {}
        },
        {
          "output_type": "display_data",
          "data": {
            "text/plain": [
              "<IPython.core.display.HTML object>"
            ],
            "text/html": [
              "<div id=\"id258\"></div>"
            ]
          },
          "metadata": {}
        },
        {
          "output_type": "display_data",
          "data": {
            "text/plain": [
              "<IPython.core.display.Javascript object>"
            ],
            "application/javascript": [
              "window[\"0c594abc-b4ec-11f0-8183-0242ac1c000c\"] = colab_lib.createTabBar({\"location\": \"top\", \"elementId\": \"id258\", \"tabNames\": [\"SQL\", \"Result\"], \"initialSelection\": 0, \"contentBorder\": [\"0px\"], \"contentHeight\": [\"initial\"], \"borderColor\": [\"#a7a7a7\"]});\n",
              "//# sourceURL=js_3773fc26c0"
            ]
          },
          "metadata": {}
        },
        {
          "output_type": "display_data",
          "data": {
            "text/plain": [
              "<IPython.core.display.Javascript object>"
            ],
            "application/javascript": [
              "window[\"0c5970fa-b4ec-11f0-8183-0242ac1c000c\"] = window[\"id258\"].setSelectedTabIndex(0);\n",
              "//# sourceURL=js_155c951771"
            ]
          },
          "metadata": {}
        },
        {
          "output_type": "display_data",
          "data": {
            "text/plain": [
              "<IPython.core.display.Javascript object>"
            ],
            "application/javascript": [
              "window[\"0c5a3936-b4ec-11f0-8183-0242ac1c000c\"] = google.colab.output.getActiveOutputArea();\n",
              "//# sourceURL=js_4ae4ba7a70"
            ]
          },
          "metadata": {}
        },
        {
          "output_type": "display_data",
          "data": {
            "text/plain": [
              "<IPython.core.display.Javascript object>"
            ],
            "application/javascript": [
              "window[\"0c5a787e-b4ec-11f0-8183-0242ac1c000c\"] = document.querySelector(\"#id258_content_0\");\n",
              "//# sourceURL=js_ba9593612f"
            ]
          },
          "metadata": {}
        },
        {
          "output_type": "display_data",
          "data": {
            "text/plain": [
              "<IPython.core.display.Javascript object>"
            ],
            "application/javascript": [
              "window[\"0c5aa268-b4ec-11f0-8183-0242ac1c000c\"] = google.colab.output.setActiveOutputArea(window[\"0c5a787e-b4ec-11f0-8183-0242ac1c000c\"]);\n",
              "//# sourceURL=js_7016a9e59f"
            ]
          },
          "metadata": {}
        },
        {
          "output_type": "display_data",
          "data": {
            "text/plain": [
              "<IPython.core.display.Javascript object>"
            ],
            "application/javascript": [
              "window[\"0c5ad882-b4ec-11f0-8183-0242ac1c000c\"] = window[\"id258\"].setSelectedTabIndex(0);\n",
              "//# sourceURL=js_d5b77b4b5f"
            ]
          },
          "metadata": {}
        },
        {
          "output_type": "stream",
          "name": "stdout",
          "text": [
            "The following query is stored at \u001b[1mCameronActor_sql\u001b[0m variable.\n",
            "-- Initializing PostgreSQL environment.\n",
            "set client_min_messages to warning;\n",
            "create schema if not exists logica_home;\n",
            "-- Empty logica type: logicarecord893574736;\n",
            "DO $$ BEGIN if not exists (select 'I(am) :- I(think)' from pg_type where typname = 'logicarecord893574736') then create type logicarecord893574736 as (nirvana numeric); end if; END $$;\n",
            "\n",
            "\n",
            "DO $$\n",
            "BEGIN\n",
            "-- Logica type: logicarecord481217614\n",
            "if not exists (select 'I(am) :- I(think)' from pg_type where typname = 'logicarecord481217614') then create type logicarecord481217614 as (r logicarecord893574736); end if;\n",
            "-- Logica type: logicarecord86796764\n",
            "if not exists (select 'I(am) :- I(think)' from pg_type where typname = 'logicarecord86796764') then create type logicarecord86796764 as (s text); end if;\n",
            "-- Logica type: logicarecord110664987\n",
            "if not exists (select 'I(am) :- I(think)' from pg_type where typname = 'logicarecord110664987') then create type logicarecord110664987 as (name text); end if;\n",
            "-- Logica type: logicarecord275391720\n",
            "if not exists (select 'I(am) :- I(think)' from pg_type where typname = 'logicarecord275391720') then create type logicarecord275391720 as (character text, name text); end if;\n",
            "-- Logica type: logicarecord573040768\n",
            "if not exists (select 'I(am) :- I(think)' from pg_type where typname = 'logicarecord573040768') then create type logicarecord573040768 as (department text, job text, name text); end if;\n",
            "-- Logica type: logicarecord500250946\n",
            "if not exists (select 'I(am) :- I(think)' from pg_type where typname = 'logicarecord500250946') then create type logicarecord500250946 as (\"cast\" logicarecord275391720[], crew logicarecord573040768[], movie_id numeric); end if;\n",
            "END $$;\n",
            "WITH t_1_CameronActorCount_MultBodyAggAux AS (SELECT * FROM (\n",
            "  \n",
            "    SELECT\n",
            "      (x_11).name AS person,\n",
            "      0 AS roles_count\n",
            "    FROM\n",
            "      logica_home.credits AS logica_home_credits, UNNEST(logica_home_credits.cast) as x_11\n",
            "   UNION ALL\n",
            "  \n",
            "    SELECT\n",
            "      (x_17).name AS person,\n",
            "      1 AS roles_count\n",
            "    FROM\n",
            "      logica_home.credits AS t_2_logica_home_credits, UNNEST(t_2_logica_home_credits.crew) as x_16, UNNEST(t_2_logica_home_credits.cast) as x_17\n",
            "    WHERE\n",
            "      ((x_16).department = 'Directing') AND\n",
            "      ((x_16).job = 'Director') AND\n",
            "      ((x_16).name = 'James Cameron')\n",
            "  \n",
            ") AS UNUSED_TABLE_NAME  ),\n",
            "t_0_CameronActorCount AS (SELECT\n",
            "  CameronActorCount_MultBodyAggAux.person AS person,\n",
            "  SUM(CameronActorCount_MultBodyAggAux.roles_count) AS roles_count\n",
            "FROM\n",
            "  t_1_CameronActorCount_MultBodyAggAux AS CameronActorCount_MultBodyAggAux\n",
            "GROUP BY CameronActorCount_MultBodyAggAux.person)\n",
            "SELECT\n",
            "  CameronActorCount.person AS person,\n",
            "  (CameronActorCount.roles_count >= 1) AS logica_value\n",
            "FROM\n",
            "  t_0_CameronActorCount AS CameronActorCount;\n"
          ]
        },
        {
          "output_type": "display_data",
          "data": {
            "text/plain": [
              "<IPython.core.display.Javascript object>"
            ],
            "application/javascript": [
              "window[\"0c5b6e00-b4ec-11f0-8183-0242ac1c000c\"] = google.colab.output.setActiveOutputArea(window[\"0c5a3936-b4ec-11f0-8183-0242ac1c000c\"]);\n",
              "//# sourceURL=js_c2cfc02672"
            ]
          },
          "metadata": {}
        },
        {
          "output_type": "display_data",
          "data": {
            "text/plain": [
              "<IPython.core.display.Javascript object>"
            ],
            "application/javascript": [
              "window[\"0c5c6a26-b4ec-11f0-8183-0242ac1c000c\"] = google.colab.output.getActiveOutputArea();\n",
              "//# sourceURL=js_54d591efff"
            ]
          },
          "metadata": {}
        },
        {
          "output_type": "display_data",
          "data": {
            "text/plain": [
              "<IPython.core.display.Javascript object>"
            ],
            "application/javascript": [
              "window[\"0c5ca2b6-b4ec-11f0-8183-0242ac1c000c\"] = document.querySelector(\"#id258_content_1\");\n",
              "//# sourceURL=js_40f62bf661"
            ]
          },
          "metadata": {}
        },
        {
          "output_type": "display_data",
          "data": {
            "text/plain": [
              "<IPython.core.display.Javascript object>"
            ],
            "application/javascript": [
              "window[\"0c5cd8b2-b4ec-11f0-8183-0242ac1c000c\"] = google.colab.output.setActiveOutputArea(window[\"0c5ca2b6-b4ec-11f0-8183-0242ac1c000c\"]);\n",
              "//# sourceURL=js_398bb2bcca"
            ]
          },
          "metadata": {}
        },
        {
          "output_type": "display_data",
          "data": {
            "text/plain": [
              "<IPython.core.display.Javascript object>"
            ],
            "application/javascript": [
              "window[\"0c5d0058-b4ec-11f0-8183-0242ac1c000c\"] = window[\"id258\"].setSelectedTabIndex(1);\n",
              "//# sourceURL=js_2244dbdc42"
            ]
          },
          "metadata": {}
        },
        {
          "output_type": "stream",
          "name": "stdout",
          "text": [
            "The following table is stored at \u001b[1mCameronActor\u001b[0m variable.\n"
          ]
        },
        {
          "output_type": "display_data",
          "data": {
            "text/plain": [
              "<IPython.core.display.HTML object>"
            ],
            "text/html": [
              "<i>table to be rendered</i>"
            ]
          },
          "metadata": {}
        },
        {
          "output_type": "display_data",
          "data": {
            "text/plain": [
              "<IPython.core.display.Javascript object>"
            ],
            "application/javascript": [
              "window[\"0c5dd0fa-b4ec-11f0-8183-0242ac1c000c\"] = google.colab.output.setActiveOutputArea(window[\"0c5c6a26-b4ec-11f0-8183-0242ac1c000c\"]);\n",
              "//# sourceURL=js_e424bdc6c0"
            ]
          },
          "metadata": {}
        },
        {
          "output_type": "display_data",
          "data": {
            "text/plain": [
              "<IPython.core.display.Javascript object>"
            ],
            "application/javascript": [
              "window[\"0c5e9daa-b4ec-11f0-8183-0242ac1c000c\"] = google.colab.output.setActiveOutputArea(window[\"0c579b68-b4ec-11f0-8183-0242ac1c000c\"]);\n",
              "//# sourceURL=js_25837e4b7e"
            ]
          },
          "metadata": {}
        },
        {
          "output_type": "display_data",
          "data": {
            "text/plain": [
              "<IPython.core.display.Javascript object>"
            ],
            "application/javascript": [
              "window[\"0c5f8b16-b4ec-11f0-8183-0242ac1c000c\"] = google.colab.output.getActiveOutputArea();\n",
              "//# sourceURL=js_7d0264fbfc"
            ]
          },
          "metadata": {}
        },
        {
          "output_type": "display_data",
          "data": {
            "text/plain": [
              "<IPython.core.display.Javascript object>"
            ],
            "application/javascript": [
              "window[\"0c5fc9dc-b4ec-11f0-8183-0242ac1c000c\"] = document.querySelector(\"#id253_content_11\");\n",
              "//# sourceURL=js_fc0b8af89f"
            ]
          },
          "metadata": {}
        },
        {
          "output_type": "display_data",
          "data": {
            "text/plain": [
              "<IPython.core.display.Javascript object>"
            ],
            "application/javascript": [
              "window[\"0c5ff600-b4ec-11f0-8183-0242ac1c000c\"] = google.colab.output.setActiveOutputArea(window[\"0c5fc9dc-b4ec-11f0-8183-0242ac1c000c\"]);\n",
              "//# sourceURL=js_e675a5bbed"
            ]
          },
          "metadata": {}
        },
        {
          "output_type": "display_data",
          "data": {
            "text/plain": [
              "<IPython.core.display.Javascript object>"
            ],
            "application/javascript": [
              "window[\"0c602cba-b4ec-11f0-8183-0242ac1c000c\"] = window[\"id253\"].setSelectedTabIndex(11);\n",
              "//# sourceURL=js_bf3c6eabf6"
            ]
          },
          "metadata": {}
        },
        {
          "output_type": "display_data",
          "data": {
            "text/plain": [
              "<IPython.core.display.Javascript object>"
            ],
            "application/javascript": [
              "window[\"0c61e712-b4ec-11f0-8183-0242ac1c000c\"] = google.colab.output.setActiveOutputArea(window[\"0c5f8b16-b4ec-11f0-8183-0242ac1c000c\"]);\n",
              "//# sourceURL=js_50ae8d3bfa"
            ]
          },
          "metadata": {}
        },
        {
          "output_type": "display_data",
          "data": {
            "text/plain": [
              "<IPython.core.display.Javascript object>"
            ],
            "application/javascript": [
              "window[\"0c62e1ee-b4ec-11f0-8183-0242ac1c000c\"] = google.colab.output.getActiveOutputArea();\n",
              "//# sourceURL=js_61d3cc5fc3"
            ]
          },
          "metadata": {}
        },
        {
          "output_type": "display_data",
          "data": {
            "text/plain": [
              "<IPython.core.display.Javascript object>"
            ],
            "application/javascript": [
              "window[\"0c63229e-b4ec-11f0-8183-0242ac1c000c\"] = document.querySelector(\"#id253_content_5\");\n",
              "//# sourceURL=js_4fb27f28ba"
            ]
          },
          "metadata": {}
        },
        {
          "output_type": "display_data",
          "data": {
            "text/plain": [
              "<IPython.core.display.Javascript object>"
            ],
            "application/javascript": [
              "window[\"0c634e22-b4ec-11f0-8183-0242ac1c000c\"] = google.colab.output.setActiveOutputArea(window[\"0c63229e-b4ec-11f0-8183-0242ac1c000c\"]);\n",
              "//# sourceURL=js_588f5603e3"
            ]
          },
          "metadata": {}
        },
        {
          "output_type": "display_data",
          "data": {
            "text/plain": [
              "<IPython.core.display.Javascript object>"
            ],
            "application/javascript": [
              "window[\"0c638806-b4ec-11f0-8183-0242ac1c000c\"] = window[\"id253\"].setSelectedTabIndex(5);\n",
              "//# sourceURL=js_4be8b101ec"
            ]
          },
          "metadata": {}
        },
        {
          "output_type": "display_data",
          "data": {
            "text/plain": [
              "<IPython.core.display.HTML object>"
            ],
            "text/html": [
              "<link rel=stylesheet type=text/css href='/nbextensions/google.colab/tabbar.css'></link>"
            ]
          },
          "metadata": {}
        },
        {
          "output_type": "display_data",
          "data": {
            "text/plain": [
              "<IPython.core.display.HTML object>"
            ],
            "text/html": [
              "<script src='/nbextensions/google.colab/tabbar_main.min.js'></script>"
            ]
          },
          "metadata": {}
        },
        {
          "output_type": "display_data",
          "data": {
            "text/plain": [
              "<IPython.core.display.HTML object>"
            ],
            "text/html": [
              "<div id=\"id259\"></div>"
            ]
          },
          "metadata": {}
        },
        {
          "output_type": "display_data",
          "data": {
            "text/plain": [
              "<IPython.core.display.Javascript object>"
            ],
            "application/javascript": [
              "window[\"0c6495ac-b4ec-11f0-8183-0242ac1c000c\"] = colab_lib.createTabBar({\"location\": \"top\", \"elementId\": \"id259\", \"tabNames\": [\"SQL\", \"Result\"], \"initialSelection\": 0, \"contentBorder\": [\"0px\"], \"contentHeight\": [\"initial\"], \"borderColor\": [\"#a7a7a7\"]});\n",
              "//# sourceURL=js_68c652839c"
            ]
          },
          "metadata": {}
        },
        {
          "output_type": "display_data",
          "data": {
            "text/plain": [
              "<IPython.core.display.Javascript object>"
            ],
            "application/javascript": [
              "window[\"0c64cb8a-b4ec-11f0-8183-0242ac1c000c\"] = window[\"id259\"].setSelectedTabIndex(0);\n",
              "//# sourceURL=js_0ee2c06bec"
            ]
          },
          "metadata": {}
        },
        {
          "output_type": "display_data",
          "data": {
            "text/plain": [
              "<IPython.core.display.Javascript object>"
            ],
            "application/javascript": [
              "window[\"0c658994-b4ec-11f0-8183-0242ac1c000c\"] = google.colab.output.getActiveOutputArea();\n",
              "//# sourceURL=js_3e878a059d"
            ]
          },
          "metadata": {}
        },
        {
          "output_type": "display_data",
          "data": {
            "text/plain": [
              "<IPython.core.display.Javascript object>"
            ],
            "application/javascript": [
              "window[\"0c65c42c-b4ec-11f0-8183-0242ac1c000c\"] = document.querySelector(\"#id259_content_0\");\n",
              "//# sourceURL=js_7fdb3f7979"
            ]
          },
          "metadata": {}
        },
        {
          "output_type": "display_data",
          "data": {
            "text/plain": [
              "<IPython.core.display.Javascript object>"
            ],
            "application/javascript": [
              "window[\"0c65ed12-b4ec-11f0-8183-0242ac1c000c\"] = google.colab.output.setActiveOutputArea(window[\"0c65c42c-b4ec-11f0-8183-0242ac1c000c\"]);\n",
              "//# sourceURL=js_9eafc2350b"
            ]
          },
          "metadata": {}
        },
        {
          "output_type": "display_data",
          "data": {
            "text/plain": [
              "<IPython.core.display.Javascript object>"
            ],
            "application/javascript": [
              "window[\"0c6625a2-b4ec-11f0-8183-0242ac1c000c\"] = window[\"id259\"].setSelectedTabIndex(0);\n",
              "//# sourceURL=js_22090fcb39"
            ]
          },
          "metadata": {}
        },
        {
          "output_type": "stream",
          "name": "stdout",
          "text": [
            "The following query is stored at \u001b[1mJackieMovie_sql\u001b[0m variable.\n",
            "-- Initializing PostgreSQL environment.\n",
            "set client_min_messages to warning;\n",
            "create schema if not exists logica_home;\n",
            "-- Empty logica type: logicarecord893574736;\n",
            "DO $$ BEGIN if not exists (select 'I(am) :- I(think)' from pg_type where typname = 'logicarecord893574736') then create type logicarecord893574736 as (nirvana numeric); end if; END $$;\n",
            "\n",
            "\n",
            "DO $$\n",
            "BEGIN\n",
            "-- Logica type: logicarecord481217614\n",
            "if not exists (select 'I(am) :- I(think)' from pg_type where typname = 'logicarecord481217614') then create type logicarecord481217614 as (r logicarecord893574736); end if;\n",
            "-- Logica type: logicarecord86796764\n",
            "if not exists (select 'I(am) :- I(think)' from pg_type where typname = 'logicarecord86796764') then create type logicarecord86796764 as (s text); end if;\n",
            "-- Logica type: logicarecord110664987\n",
            "if not exists (select 'I(am) :- I(think)' from pg_type where typname = 'logicarecord110664987') then create type logicarecord110664987 as (name text); end if;\n",
            "-- Logica type: logicarecord275391720\n",
            "if not exists (select 'I(am) :- I(think)' from pg_type where typname = 'logicarecord275391720') then create type logicarecord275391720 as (character text, name text); end if;\n",
            "-- Logica type: logicarecord573040768\n",
            "if not exists (select 'I(am) :- I(think)' from pg_type where typname = 'logicarecord573040768') then create type logicarecord573040768 as (department text, job text, name text); end if;\n",
            "-- Logica type: logicarecord500250946\n",
            "if not exists (select 'I(am) :- I(think)' from pg_type where typname = 'logicarecord500250946') then create type logicarecord500250946 as (\"cast\" logicarecord275391720[], crew logicarecord573040768[], movie_id numeric); end if;\n",
            "END $$;\n",
            "SELECT\n",
            "  logica_home_metadata.original_title AS movie,\n",
            "  (x_5).character AS character\n",
            "FROM\n",
            "  logica_home.credits AS logica_home_credits, logica_home.metadata AS logica_home_metadata, UNNEST(logica_home_credits.cast) as x_5\n",
            "WHERE\n",
            "  ((x_5).name = 'Jackie Chan') AND\n",
            "  (logica_home_metadata.movie_id = logica_home_credits.movie_id);\n"
          ]
        },
        {
          "output_type": "display_data",
          "data": {
            "text/plain": [
              "<IPython.core.display.Javascript object>"
            ],
            "application/javascript": [
              "window[\"0c66bc1a-b4ec-11f0-8183-0242ac1c000c\"] = google.colab.output.setActiveOutputArea(window[\"0c658994-b4ec-11f0-8183-0242ac1c000c\"]);\n",
              "//# sourceURL=js_fd8835c929"
            ]
          },
          "metadata": {}
        },
        {
          "output_type": "display_data",
          "data": {
            "text/plain": [
              "<IPython.core.display.Javascript object>"
            ],
            "application/javascript": [
              "window[\"0c67b714-b4ec-11f0-8183-0242ac1c000c\"] = google.colab.output.getActiveOutputArea();\n",
              "//# sourceURL=js_fe13ef89db"
            ]
          },
          "metadata": {}
        },
        {
          "output_type": "display_data",
          "data": {
            "text/plain": [
              "<IPython.core.display.Javascript object>"
            ],
            "application/javascript": [
              "window[\"0c67f378-b4ec-11f0-8183-0242ac1c000c\"] = document.querySelector(\"#id259_content_1\");\n",
              "//# sourceURL=js_0b3206847b"
            ]
          },
          "metadata": {}
        },
        {
          "output_type": "display_data",
          "data": {
            "text/plain": [
              "<IPython.core.display.Javascript object>"
            ],
            "application/javascript": [
              "window[\"0c681d9e-b4ec-11f0-8183-0242ac1c000c\"] = google.colab.output.setActiveOutputArea(window[\"0c67f378-b4ec-11f0-8183-0242ac1c000c\"]);\n",
              "//# sourceURL=js_323fe361f1"
            ]
          },
          "metadata": {}
        },
        {
          "output_type": "display_data",
          "data": {
            "text/plain": [
              "<IPython.core.display.Javascript object>"
            ],
            "application/javascript": [
              "window[\"0c685336-b4ec-11f0-8183-0242ac1c000c\"] = window[\"id259\"].setSelectedTabIndex(1);\n",
              "//# sourceURL=js_8b8c69a996"
            ]
          },
          "metadata": {}
        },
        {
          "output_type": "stream",
          "name": "stdout",
          "text": [
            "The following table is stored at \u001b[1mJackieMovie\u001b[0m variable.\n"
          ]
        },
        {
          "output_type": "display_data",
          "data": {
            "text/plain": [
              "<IPython.core.display.HTML object>"
            ],
            "text/html": [
              "<i>table to be rendered</i>"
            ]
          },
          "metadata": {}
        },
        {
          "output_type": "display_data",
          "data": {
            "text/plain": [
              "<IPython.core.display.Javascript object>"
            ],
            "application/javascript": [
              "window[\"0c69112c-b4ec-11f0-8183-0242ac1c000c\"] = google.colab.output.setActiveOutputArea(window[\"0c67b714-b4ec-11f0-8183-0242ac1c000c\"]);\n",
              "//# sourceURL=js_3069177692"
            ]
          },
          "metadata": {}
        },
        {
          "output_type": "display_data",
          "data": {
            "text/plain": [
              "<IPython.core.display.Javascript object>"
            ],
            "application/javascript": [
              "window[\"0c69d274-b4ec-11f0-8183-0242ac1c000c\"] = google.colab.output.setActiveOutputArea(window[\"0c62e1ee-b4ec-11f0-8183-0242ac1c000c\"]);\n",
              "//# sourceURL=js_900b0823e0"
            ]
          },
          "metadata": {}
        },
        {
          "output_type": "display_data",
          "data": {
            "text/plain": [
              "<IPython.core.display.Javascript object>"
            ],
            "application/javascript": [
              "window[\"0c6ad354-b4ec-11f0-8183-0242ac1c000c\"] = google.colab.output.getActiveOutputArea();\n",
              "//# sourceURL=js_c79d170cbe"
            ]
          },
          "metadata": {}
        },
        {
          "output_type": "display_data",
          "data": {
            "text/plain": [
              "<IPython.core.display.Javascript object>"
            ],
            "application/javascript": [
              "window[\"0c6b0ec8-b4ec-11f0-8183-0242ac1c000c\"] = document.querySelector(\"#id253_content_11\");\n",
              "//# sourceURL=js_d184ae6399"
            ]
          },
          "metadata": {}
        },
        {
          "output_type": "display_data",
          "data": {
            "text/plain": [
              "<IPython.core.display.Javascript object>"
            ],
            "application/javascript": [
              "window[\"0c6b390c-b4ec-11f0-8183-0242ac1c000c\"] = google.colab.output.setActiveOutputArea(window[\"0c6b0ec8-b4ec-11f0-8183-0242ac1c000c\"]);\n",
              "//# sourceURL=js_45c9027eaa"
            ]
          },
          "metadata": {}
        },
        {
          "output_type": "display_data",
          "data": {
            "text/plain": [
              "<IPython.core.display.Javascript object>"
            ],
            "application/javascript": [
              "window[\"0c6b6fee-b4ec-11f0-8183-0242ac1c000c\"] = window[\"id253\"].setSelectedTabIndex(11);\n",
              "//# sourceURL=js_3e67be1786"
            ]
          },
          "metadata": {}
        },
        {
          "output_type": "display_data",
          "data": {
            "text/plain": [
              "<IPython.core.display.Javascript object>"
            ],
            "application/javascript": [
              "window[\"0c6d783e-b4ec-11f0-8183-0242ac1c000c\"] = google.colab.output.setActiveOutputArea(window[\"0c6ad354-b4ec-11f0-8183-0242ac1c000c\"]);\n",
              "//# sourceURL=js_95fc4cf81c"
            ]
          },
          "metadata": {}
        },
        {
          "output_type": "display_data",
          "data": {
            "text/plain": [
              "<IPython.core.display.Javascript object>"
            ],
            "application/javascript": [
              "window[\"0c6fd93a-b4ec-11f0-8183-0242ac1c000c\"] = google.colab.output.getActiveOutputArea();\n",
              "//# sourceURL=js_66bcd734d1"
            ]
          },
          "metadata": {}
        },
        {
          "output_type": "display_data",
          "data": {
            "text/plain": [
              "<IPython.core.display.Javascript object>"
            ],
            "application/javascript": [
              "window[\"0c7046fe-b4ec-11f0-8183-0242ac1c000c\"] = document.querySelector(\"#id253_content_6\");\n",
              "//# sourceURL=js_5dd85d7531"
            ]
          },
          "metadata": {}
        },
        {
          "output_type": "display_data",
          "data": {
            "text/plain": [
              "<IPython.core.display.Javascript object>"
            ],
            "application/javascript": [
              "window[\"0c70bb52-b4ec-11f0-8183-0242ac1c000c\"] = google.colab.output.setActiveOutputArea(window[\"0c7046fe-b4ec-11f0-8183-0242ac1c000c\"]);\n",
              "//# sourceURL=js_8e82880b8a"
            ]
          },
          "metadata": {}
        },
        {
          "output_type": "display_data",
          "data": {
            "text/plain": [
              "<IPython.core.display.Javascript object>"
            ],
            "application/javascript": [
              "window[\"0c713460-b4ec-11f0-8183-0242ac1c000c\"] = window[\"id253\"].setSelectedTabIndex(6);\n",
              "//# sourceURL=js_5ba2a7d09e"
            ]
          },
          "metadata": {}
        },
        {
          "output_type": "display_data",
          "data": {
            "text/plain": [
              "<IPython.core.display.HTML object>"
            ],
            "text/html": [
              "<link rel=stylesheet type=text/css href='/nbextensions/google.colab/tabbar.css'></link>"
            ]
          },
          "metadata": {}
        },
        {
          "output_type": "display_data",
          "data": {
            "text/plain": [
              "<IPython.core.display.HTML object>"
            ],
            "text/html": [
              "<script src='/nbextensions/google.colab/tabbar_main.min.js'></script>"
            ]
          },
          "metadata": {}
        },
        {
          "output_type": "display_data",
          "data": {
            "text/plain": [
              "<IPython.core.display.HTML object>"
            ],
            "text/html": [
              "<div id=\"id260\"></div>"
            ]
          },
          "metadata": {}
        },
        {
          "output_type": "display_data",
          "data": {
            "text/plain": [
              "<IPython.core.display.Javascript object>"
            ],
            "application/javascript": [
              "window[\"0c73d850-b4ec-11f0-8183-0242ac1c000c\"] = colab_lib.createTabBar({\"location\": \"top\", \"elementId\": \"id260\", \"tabNames\": [\"SQL\", \"Result\"], \"initialSelection\": 0, \"contentBorder\": [\"0px\"], \"contentHeight\": [\"initial\"], \"borderColor\": [\"#a7a7a7\"]});\n",
              "//# sourceURL=js_8e115473e8"
            ]
          },
          "metadata": {}
        },
        {
          "output_type": "display_data",
          "data": {
            "text/plain": [
              "<IPython.core.display.Javascript object>"
            ],
            "application/javascript": [
              "window[\"0c7426fc-b4ec-11f0-8183-0242ac1c000c\"] = window[\"id260\"].setSelectedTabIndex(0);\n",
              "//# sourceURL=js_b35f33102b"
            ]
          },
          "metadata": {}
        },
        {
          "output_type": "display_data",
          "data": {
            "text/plain": [
              "<IPython.core.display.Javascript object>"
            ],
            "application/javascript": [
              "window[\"0c767d6c-b4ec-11f0-8183-0242ac1c000c\"] = google.colab.output.getActiveOutputArea();\n",
              "//# sourceURL=js_40fea659bd"
            ]
          },
          "metadata": {}
        },
        {
          "output_type": "display_data",
          "data": {
            "text/plain": [
              "<IPython.core.display.Javascript object>"
            ],
            "application/javascript": [
              "window[\"0c76ee50-b4ec-11f0-8183-0242ac1c000c\"] = document.querySelector(\"#id260_content_0\");\n",
              "//# sourceURL=js_9622474d8a"
            ]
          },
          "metadata": {}
        },
        {
          "output_type": "display_data",
          "data": {
            "text/plain": [
              "<IPython.core.display.Javascript object>"
            ],
            "application/javascript": [
              "window[\"0c773554-b4ec-11f0-8183-0242ac1c000c\"] = google.colab.output.setActiveOutputArea(window[\"0c76ee50-b4ec-11f0-8183-0242ac1c000c\"]);\n",
              "//# sourceURL=js_a735e5507c"
            ]
          },
          "metadata": {}
        },
        {
          "output_type": "display_data",
          "data": {
            "text/plain": [
              "<IPython.core.display.Javascript object>"
            ],
            "application/javascript": [
              "window[\"0c777df2-b4ec-11f0-8183-0242ac1c000c\"] = window[\"id260\"].setSelectedTabIndex(0);\n",
              "//# sourceURL=js_8c5e629490"
            ]
          },
          "metadata": {}
        },
        {
          "output_type": "stream",
          "name": "stdout",
          "text": [
            "The following query is stored at \u001b[1mArnoldDirector_sql\u001b[0m variable.\n",
            "-- Initializing PostgreSQL environment.\n",
            "set client_min_messages to warning;\n",
            "create schema if not exists logica_home;\n",
            "-- Empty logica type: logicarecord893574736;\n",
            "DO $$ BEGIN if not exists (select 'I(am) :- I(think)' from pg_type where typname = 'logicarecord893574736') then create type logicarecord893574736 as (nirvana numeric); end if; END $$;\n",
            "\n",
            "\n",
            "DO $$\n",
            "BEGIN\n",
            "-- Logica type: logicarecord481217614\n",
            "if not exists (select 'I(am) :- I(think)' from pg_type where typname = 'logicarecord481217614') then create type logicarecord481217614 as (r logicarecord893574736); end if;\n",
            "-- Logica type: logicarecord86796764\n",
            "if not exists (select 'I(am) :- I(think)' from pg_type where typname = 'logicarecord86796764') then create type logicarecord86796764 as (s text); end if;\n",
            "-- Logica type: logicarecord110664987\n",
            "if not exists (select 'I(am) :- I(think)' from pg_type where typname = 'logicarecord110664987') then create type logicarecord110664987 as (name text); end if;\n",
            "-- Logica type: logicarecord275391720\n",
            "if not exists (select 'I(am) :- I(think)' from pg_type where typname = 'logicarecord275391720') then create type logicarecord275391720 as (character text, name text); end if;\n",
            "-- Logica type: logicarecord573040768\n",
            "if not exists (select 'I(am) :- I(think)' from pg_type where typname = 'logicarecord573040768') then create type logicarecord573040768 as (department text, job text, name text); end if;\n",
            "-- Logica type: logicarecord500250946\n",
            "if not exists (select 'I(am) :- I(think)' from pg_type where typname = 'logicarecord500250946') then create type logicarecord500250946 as (\"cast\" logicarecord275391720[], crew logicarecord573040768[], movie_id numeric); end if;\n",
            "END $$;\n",
            "SELECT\n",
            "  (x_4).name AS person\n",
            "FROM\n",
            "  logica_home.credits AS logica_home_credits, UNNEST(logica_home_credits.crew) as x_4, UNNEST(logica_home_credits.cast) as x_5\n",
            "WHERE\n",
            "  ((x_4).job = 'Director') AND\n",
            "  ((x_5).name = 'Arnold Schwarzenegger')\n",
            "GROUP BY (x_4).name;\n"
          ]
        },
        {
          "output_type": "display_data",
          "data": {
            "text/plain": [
              "<IPython.core.display.Javascript object>"
            ],
            "application/javascript": [
              "window[\"0c7927b0-b4ec-11f0-8183-0242ac1c000c\"] = google.colab.output.setActiveOutputArea(window[\"0c767d6c-b4ec-11f0-8183-0242ac1c000c\"]);\n",
              "//# sourceURL=js_d4f8300be0"
            ]
          },
          "metadata": {}
        },
        {
          "output_type": "display_data",
          "data": {
            "text/plain": [
              "<IPython.core.display.Javascript object>"
            ],
            "application/javascript": [
              "window[\"0c7bab2a-b4ec-11f0-8183-0242ac1c000c\"] = google.colab.output.getActiveOutputArea();\n",
              "//# sourceURL=js_665f2ecce9"
            ]
          },
          "metadata": {}
        },
        {
          "output_type": "display_data",
          "data": {
            "text/plain": [
              "<IPython.core.display.Javascript object>"
            ],
            "application/javascript": [
              "window[\"0c7c0f48-b4ec-11f0-8183-0242ac1c000c\"] = document.querySelector(\"#id260_content_1\");\n",
              "//# sourceURL=js_7858589190"
            ]
          },
          "metadata": {}
        },
        {
          "output_type": "display_data",
          "data": {
            "text/plain": [
              "<IPython.core.display.Javascript object>"
            ],
            "application/javascript": [
              "window[\"0c7c8216-b4ec-11f0-8183-0242ac1c000c\"] = google.colab.output.setActiveOutputArea(window[\"0c7c0f48-b4ec-11f0-8183-0242ac1c000c\"]);\n",
              "//# sourceURL=js_6b3fb6e52a"
            ]
          },
          "metadata": {}
        },
        {
          "output_type": "display_data",
          "data": {
            "text/plain": [
              "<IPython.core.display.Javascript object>"
            ],
            "application/javascript": [
              "window[\"0c7cd9fa-b4ec-11f0-8183-0242ac1c000c\"] = window[\"id260\"].setSelectedTabIndex(1);\n",
              "//# sourceURL=js_a402f7e98a"
            ]
          },
          "metadata": {}
        },
        {
          "output_type": "stream",
          "name": "stdout",
          "text": [
            "The following table is stored at \u001b[1mArnoldDirector\u001b[0m variable.\n"
          ]
        },
        {
          "output_type": "display_data",
          "data": {
            "text/plain": [
              "<IPython.core.display.HTML object>"
            ],
            "text/html": [
              "<i>table to be rendered</i>"
            ]
          },
          "metadata": {}
        },
        {
          "output_type": "display_data",
          "data": {
            "text/plain": [
              "<IPython.core.display.Javascript object>"
            ],
            "application/javascript": [
              "window[\"0c7e6914-b4ec-11f0-8183-0242ac1c000c\"] = google.colab.output.setActiveOutputArea(window[\"0c7bab2a-b4ec-11f0-8183-0242ac1c000c\"]);\n",
              "//# sourceURL=js_fc7c6872ce"
            ]
          },
          "metadata": {}
        },
        {
          "output_type": "display_data",
          "data": {
            "text/plain": [
              "<IPython.core.display.Javascript object>"
            ],
            "application/javascript": [
              "window[\"0c804b44-b4ec-11f0-8183-0242ac1c000c\"] = google.colab.output.setActiveOutputArea(window[\"0c6fd93a-b4ec-11f0-8183-0242ac1c000c\"]);\n",
              "//# sourceURL=js_fb36bb23cc"
            ]
          },
          "metadata": {}
        },
        {
          "output_type": "display_data",
          "data": {
            "text/plain": [
              "<IPython.core.display.Javascript object>"
            ],
            "application/javascript": [
              "window[\"0c82e62e-b4ec-11f0-8183-0242ac1c000c\"] = google.colab.output.getActiveOutputArea();\n",
              "//# sourceURL=js_853685c0d5"
            ]
          },
          "metadata": {}
        },
        {
          "output_type": "display_data",
          "data": {
            "text/plain": [
              "<IPython.core.display.Javascript object>"
            ],
            "application/javascript": [
              "window[\"0c8355f0-b4ec-11f0-8183-0242ac1c000c\"] = document.querySelector(\"#id253_content_11\");\n",
              "//# sourceURL=js_24d4b49a68"
            ]
          },
          "metadata": {}
        },
        {
          "output_type": "display_data",
          "data": {
            "text/plain": [
              "<IPython.core.display.Javascript object>"
            ],
            "application/javascript": [
              "window[\"0c83dfc0-b4ec-11f0-8183-0242ac1c000c\"] = google.colab.output.setActiveOutputArea(window[\"0c8355f0-b4ec-11f0-8183-0242ac1c000c\"]);\n",
              "//# sourceURL=js_4210cd9f82"
            ]
          },
          "metadata": {}
        },
        {
          "output_type": "display_data",
          "data": {
            "text/plain": [
              "<IPython.core.display.Javascript object>"
            ],
            "application/javascript": [
              "window[\"0c846c2e-b4ec-11f0-8183-0242ac1c000c\"] = window[\"id253\"].setSelectedTabIndex(11);\n",
              "//# sourceURL=js_2ae2b9222d"
            ]
          },
          "metadata": {}
        },
        {
          "output_type": "display_data",
          "data": {
            "text/plain": [
              "<IPython.core.display.Javascript object>"
            ],
            "application/javascript": [
              "window[\"0c8a927a-b4ec-11f0-8183-0242ac1c000c\"] = google.colab.output.setActiveOutputArea(window[\"0c82e62e-b4ec-11f0-8183-0242ac1c000c\"]);\n",
              "//# sourceURL=js_e5f4603426"
            ]
          },
          "metadata": {}
        },
        {
          "output_type": "display_data",
          "data": {
            "text/plain": [
              "<IPython.core.display.Javascript object>"
            ],
            "application/javascript": [
              "window[\"0c8cc162-b4ec-11f0-8183-0242ac1c000c\"] = google.colab.output.getActiveOutputArea();\n",
              "//# sourceURL=js_93203fdc24"
            ]
          },
          "metadata": {}
        },
        {
          "output_type": "display_data",
          "data": {
            "text/plain": [
              "<IPython.core.display.Javascript object>"
            ],
            "application/javascript": [
              "window[\"0c8d3386-b4ec-11f0-8183-0242ac1c000c\"] = document.querySelector(\"#id253_content_7\");\n",
              "//# sourceURL=js_922b83ccbf"
            ]
          },
          "metadata": {}
        },
        {
          "output_type": "display_data",
          "data": {
            "text/plain": [
              "<IPython.core.display.Javascript object>"
            ],
            "application/javascript": [
              "window[\"0c8d8598-b4ec-11f0-8183-0242ac1c000c\"] = google.colab.output.setActiveOutputArea(window[\"0c8d3386-b4ec-11f0-8183-0242ac1c000c\"]);\n",
              "//# sourceURL=js_e47e0ac5e2"
            ]
          },
          "metadata": {}
        },
        {
          "output_type": "display_data",
          "data": {
            "text/plain": [
              "<IPython.core.display.Javascript object>"
            ],
            "application/javascript": [
              "window[\"0c8df0d2-b4ec-11f0-8183-0242ac1c000c\"] = window[\"id253\"].setSelectedTabIndex(7);\n",
              "//# sourceURL=js_b7e5c8b800"
            ]
          },
          "metadata": {}
        },
        {
          "output_type": "display_data",
          "data": {
            "text/plain": [
              "<IPython.core.display.HTML object>"
            ],
            "text/html": [
              "<link rel=stylesheet type=text/css href='/nbextensions/google.colab/tabbar.css'></link>"
            ]
          },
          "metadata": {}
        },
        {
          "output_type": "display_data",
          "data": {
            "text/plain": [
              "<IPython.core.display.HTML object>"
            ],
            "text/html": [
              "<script src='/nbextensions/google.colab/tabbar_main.min.js'></script>"
            ]
          },
          "metadata": {}
        },
        {
          "output_type": "display_data",
          "data": {
            "text/plain": [
              "<IPython.core.display.HTML object>"
            ],
            "text/html": [
              "<div id=\"id261\"></div>"
            ]
          },
          "metadata": {}
        },
        {
          "output_type": "display_data",
          "data": {
            "text/plain": [
              "<IPython.core.display.Javascript object>"
            ],
            "application/javascript": [
              "window[\"0c906862-b4ec-11f0-8183-0242ac1c000c\"] = colab_lib.createTabBar({\"location\": \"top\", \"elementId\": \"id261\", \"tabNames\": [\"SQL\", \"Result\"], \"initialSelection\": 0, \"contentBorder\": [\"0px\"], \"contentHeight\": [\"initial\"], \"borderColor\": [\"#a7a7a7\"]});\n",
              "//# sourceURL=js_f21369c4b6"
            ]
          },
          "metadata": {}
        },
        {
          "output_type": "display_data",
          "data": {
            "text/plain": [
              "<IPython.core.display.Javascript object>"
            ],
            "application/javascript": [
              "window[\"0c90d7b6-b4ec-11f0-8183-0242ac1c000c\"] = window[\"id261\"].setSelectedTabIndex(0);\n",
              "//# sourceURL=js_11e5203318"
            ]
          },
          "metadata": {}
        },
        {
          "output_type": "display_data",
          "data": {
            "text/plain": [
              "<IPython.core.display.Javascript object>"
            ],
            "application/javascript": [
              "window[\"0c92d430-b4ec-11f0-8183-0242ac1c000c\"] = google.colab.output.getActiveOutputArea();\n",
              "//# sourceURL=js_a67cb9a4cc"
            ]
          },
          "metadata": {}
        },
        {
          "output_type": "display_data",
          "data": {
            "text/plain": [
              "<IPython.core.display.Javascript object>"
            ],
            "application/javascript": [
              "window[\"0c93480c-b4ec-11f0-8183-0242ac1c000c\"] = document.querySelector(\"#id261_content_0\");\n",
              "//# sourceURL=js_4efe2796af"
            ]
          },
          "metadata": {}
        },
        {
          "output_type": "display_data",
          "data": {
            "text/plain": [
              "<IPython.core.display.Javascript object>"
            ],
            "application/javascript": [
              "window[\"0c93f0c2-b4ec-11f0-8183-0242ac1c000c\"] = google.colab.output.setActiveOutputArea(window[\"0c93480c-b4ec-11f0-8183-0242ac1c000c\"]);\n",
              "//# sourceURL=js_7aad11b6c6"
            ]
          },
          "metadata": {}
        },
        {
          "output_type": "display_data",
          "data": {
            "text/plain": [
              "<IPython.core.display.Javascript object>"
            ],
            "application/javascript": [
              "window[\"0c9449aa-b4ec-11f0-8183-0242ac1c000c\"] = window[\"id261\"].setSelectedTabIndex(0);\n",
              "//# sourceURL=js_14f621f846"
            ]
          },
          "metadata": {}
        },
        {
          "output_type": "stream",
          "name": "stdout",
          "text": [
            "The following query is stored at \u001b[1mRoboCopWifeRoles_sql\u001b[0m variable.\n",
            "-- Initializing PostgreSQL environment.\n",
            "set client_min_messages to warning;\n",
            "create schema if not exists logica_home;\n",
            "-- Empty logica type: logicarecord893574736;\n",
            "DO $$ BEGIN if not exists (select 'I(am) :- I(think)' from pg_type where typname = 'logicarecord893574736') then create type logicarecord893574736 as (nirvana numeric); end if; END $$;\n",
            "\n",
            "\n",
            "DO $$\n",
            "BEGIN\n",
            "-- Logica type: logicarecord481217614\n",
            "if not exists (select 'I(am) :- I(think)' from pg_type where typname = 'logicarecord481217614') then create type logicarecord481217614 as (r logicarecord893574736); end if;\n",
            "-- Logica type: logicarecord86796764\n",
            "if not exists (select 'I(am) :- I(think)' from pg_type where typname = 'logicarecord86796764') then create type logicarecord86796764 as (s text); end if;\n",
            "-- Logica type: logicarecord110664987\n",
            "if not exists (select 'I(am) :- I(think)' from pg_type where typname = 'logicarecord110664987') then create type logicarecord110664987 as (name text); end if;\n",
            "-- Logica type: logicarecord275391720\n",
            "if not exists (select 'I(am) :- I(think)' from pg_type where typname = 'logicarecord275391720') then create type logicarecord275391720 as (character text, name text); end if;\n",
            "-- Logica type: logicarecord573040768\n",
            "if not exists (select 'I(am) :- I(think)' from pg_type where typname = 'logicarecord573040768') then create type logicarecord573040768 as (department text, job text, name text); end if;\n",
            "-- Logica type: logicarecord500250946\n",
            "if not exists (select 'I(am) :- I(think)' from pg_type where typname = 'logicarecord500250946') then create type logicarecord500250946 as (\"cast\" logicarecord275391720[], crew logicarecord573040768[], movie_id numeric); end if;\n",
            "END $$;\n",
            "SELECT\n",
            "  logica_home_metadata.original_title AS movie,\n",
            "  (x_5).character AS character\n",
            "FROM\n",
            "  logica_home.credits AS logica_home_credits, logica_home.credits AS t_0_logica_home_credits, logica_home.metadata AS logica_home_metadata, UNNEST(t_0_logica_home_credits.cast) as x_13, UNNEST(logica_home_credits.cast) as x_5\n",
            "WHERE\n",
            "  ((x_13).character = 'Murphy''s wife') AND\n",
            "  (logica_home_metadata.movie_id = logica_home_credits.movie_id) AND\n",
            "  ((x_5).name = (x_13).name);\n"
          ]
        },
        {
          "output_type": "display_data",
          "data": {
            "text/plain": [
              "<IPython.core.display.Javascript object>"
            ],
            "application/javascript": [
              "window[\"0c95c992-b4ec-11f0-8183-0242ac1c000c\"] = google.colab.output.setActiveOutputArea(window[\"0c92d430-b4ec-11f0-8183-0242ac1c000c\"]);\n",
              "//# sourceURL=js_d6f76e6980"
            ]
          },
          "metadata": {}
        },
        {
          "output_type": "display_data",
          "data": {
            "text/plain": [
              "<IPython.core.display.Javascript object>"
            ],
            "application/javascript": [
              "window[\"0c986972-b4ec-11f0-8183-0242ac1c000c\"] = google.colab.output.getActiveOutputArea();\n",
              "//# sourceURL=js_6ec5982c73"
            ]
          },
          "metadata": {}
        },
        {
          "output_type": "display_data",
          "data": {
            "text/plain": [
              "<IPython.core.display.Javascript object>"
            ],
            "application/javascript": [
              "window[\"0c98cf8e-b4ec-11f0-8183-0242ac1c000c\"] = document.querySelector(\"#id261_content_1\");\n",
              "//# sourceURL=js_9bff50de34"
            ]
          },
          "metadata": {}
        },
        {
          "output_type": "display_data",
          "data": {
            "text/plain": [
              "<IPython.core.display.Javascript object>"
            ],
            "application/javascript": [
              "window[\"0c993faa-b4ec-11f0-8183-0242ac1c000c\"] = google.colab.output.setActiveOutputArea(window[\"0c98cf8e-b4ec-11f0-8183-0242ac1c000c\"]);\n",
              "//# sourceURL=js_dcd7ddc4a9"
            ]
          },
          "metadata": {}
        },
        {
          "output_type": "display_data",
          "data": {
            "text/plain": [
              "<IPython.core.display.Javascript object>"
            ],
            "application/javascript": [
              "window[\"0c99abd4-b4ec-11f0-8183-0242ac1c000c\"] = window[\"id261\"].setSelectedTabIndex(1);\n",
              "//# sourceURL=js_7cfa33249e"
            ]
          },
          "metadata": {}
        },
        {
          "output_type": "stream",
          "name": "stdout",
          "text": [
            "The following table is stored at \u001b[1mRoboCopWifeRoles\u001b[0m variable.\n"
          ]
        },
        {
          "output_type": "display_data",
          "data": {
            "text/plain": [
              "<IPython.core.display.HTML object>"
            ],
            "text/html": [
              "<i>table to be rendered</i>"
            ]
          },
          "metadata": {}
        },
        {
          "output_type": "display_data",
          "data": {
            "text/plain": [
              "<IPython.core.display.Javascript object>"
            ],
            "application/javascript": [
              "window[\"0c9b8b02-b4ec-11f0-8183-0242ac1c000c\"] = google.colab.output.setActiveOutputArea(window[\"0c986972-b4ec-11f0-8183-0242ac1c000c\"]);\n",
              "//# sourceURL=js_0ef88ef682"
            ]
          },
          "metadata": {}
        },
        {
          "output_type": "display_data",
          "data": {
            "text/plain": [
              "<IPython.core.display.Javascript object>"
            ],
            "application/javascript": [
              "window[\"0c9d79e4-b4ec-11f0-8183-0242ac1c000c\"] = google.colab.output.setActiveOutputArea(window[\"0c8cc162-b4ec-11f0-8183-0242ac1c000c\"]);\n",
              "//# sourceURL=js_6fb1931383"
            ]
          },
          "metadata": {}
        },
        {
          "output_type": "display_data",
          "data": {
            "text/plain": [
              "<IPython.core.display.Javascript object>"
            ],
            "application/javascript": [
              "window[\"0c9fab2e-b4ec-11f0-8183-0242ac1c000c\"] = google.colab.output.getActiveOutputArea();\n",
              "//# sourceURL=js_c6b6c04784"
            ]
          },
          "metadata": {}
        },
        {
          "output_type": "display_data",
          "data": {
            "text/plain": [
              "<IPython.core.display.Javascript object>"
            ],
            "application/javascript": [
              "window[\"0ca02b76-b4ec-11f0-8183-0242ac1c000c\"] = document.querySelector(\"#id253_content_11\");\n",
              "//# sourceURL=js_1e69f49d02"
            ]
          },
          "metadata": {}
        },
        {
          "output_type": "display_data",
          "data": {
            "text/plain": [
              "<IPython.core.display.Javascript object>"
            ],
            "application/javascript": [
              "window[\"0ca0743c-b4ec-11f0-8183-0242ac1c000c\"] = google.colab.output.setActiveOutputArea(window[\"0ca02b76-b4ec-11f0-8183-0242ac1c000c\"]);\n",
              "//# sourceURL=js_79ee8351f1"
            ]
          },
          "metadata": {}
        },
        {
          "output_type": "display_data",
          "data": {
            "text/plain": [
              "<IPython.core.display.Javascript object>"
            ],
            "application/javascript": [
              "window[\"0ca0fd94-b4ec-11f0-8183-0242ac1c000c\"] = window[\"id253\"].setSelectedTabIndex(11);\n",
              "//# sourceURL=js_1277c13e9d"
            ]
          },
          "metadata": {}
        },
        {
          "output_type": "display_data",
          "data": {
            "text/plain": [
              "<IPython.core.display.Javascript object>"
            ],
            "application/javascript": [
              "window[\"0ca61784-b4ec-11f0-8183-0242ac1c000c\"] = google.colab.output.setActiveOutputArea(window[\"0c9fab2e-b4ec-11f0-8183-0242ac1c000c\"]);\n",
              "//# sourceURL=js_d246e81d21"
            ]
          },
          "metadata": {}
        },
        {
          "output_type": "display_data",
          "data": {
            "text/plain": [
              "<IPython.core.display.Javascript object>"
            ],
            "application/javascript": [
              "window[\"0ca8607a-b4ec-11f0-8183-0242ac1c000c\"] = google.colab.output.getActiveOutputArea();\n",
              "//# sourceURL=js_bcd75b8bc1"
            ]
          },
          "metadata": {}
        },
        {
          "output_type": "display_data",
          "data": {
            "text/plain": [
              "<IPython.core.display.Javascript object>"
            ],
            "application/javascript": [
              "window[\"0ca8f76a-b4ec-11f0-8183-0242ac1c000c\"] = document.querySelector(\"#id253_content_8\");\n",
              "//# sourceURL=js_c34b13710f"
            ]
          },
          "metadata": {}
        },
        {
          "output_type": "display_data",
          "data": {
            "text/plain": [
              "<IPython.core.display.Javascript object>"
            ],
            "application/javascript": [
              "window[\"0ca955ca-b4ec-11f0-8183-0242ac1c000c\"] = google.colab.output.setActiveOutputArea(window[\"0ca8f76a-b4ec-11f0-8183-0242ac1c000c\"]);\n",
              "//# sourceURL=js_c087c07979"
            ]
          },
          "metadata": {}
        },
        {
          "output_type": "display_data",
          "data": {
            "text/plain": [
              "<IPython.core.display.Javascript object>"
            ],
            "application/javascript": [
              "window[\"0ca9a796-b4ec-11f0-8183-0242ac1c000c\"] = window[\"id253\"].setSelectedTabIndex(8);\n",
              "//# sourceURL=js_3ca4e87d32"
            ]
          },
          "metadata": {}
        },
        {
          "output_type": "display_data",
          "data": {
            "text/plain": [
              "<IPython.core.display.HTML object>"
            ],
            "text/html": [
              "<link rel=stylesheet type=text/css href='/nbextensions/google.colab/tabbar.css'></link>"
            ]
          },
          "metadata": {}
        },
        {
          "output_type": "display_data",
          "data": {
            "text/plain": [
              "<IPython.core.display.HTML object>"
            ],
            "text/html": [
              "<script src='/nbextensions/google.colab/tabbar_main.min.js'></script>"
            ]
          },
          "metadata": {}
        },
        {
          "output_type": "display_data",
          "data": {
            "text/plain": [
              "<IPython.core.display.HTML object>"
            ],
            "text/html": [
              "<div id=\"id262\"></div>"
            ]
          },
          "metadata": {}
        },
        {
          "output_type": "display_data",
          "data": {
            "text/plain": [
              "<IPython.core.display.Javascript object>"
            ],
            "application/javascript": [
              "window[\"0cac2d86-b4ec-11f0-8183-0242ac1c000c\"] = colab_lib.createTabBar({\"location\": \"top\", \"elementId\": \"id262\", \"tabNames\": [\"SQL\", \"Result\"], \"initialSelection\": 0, \"contentBorder\": [\"0px\"], \"contentHeight\": [\"initial\"], \"borderColor\": [\"#a7a7a7\"]});\n",
              "//# sourceURL=js_fbc62db452"
            ]
          },
          "metadata": {}
        },
        {
          "output_type": "display_data",
          "data": {
            "text/plain": [
              "<IPython.core.display.Javascript object>"
            ],
            "application/javascript": [
              "window[\"0cac7b06-b4ec-11f0-8183-0242ac1c000c\"] = window[\"id262\"].setSelectedTabIndex(0);\n",
              "//# sourceURL=js_c7829a5a9f"
            ]
          },
          "metadata": {}
        },
        {
          "output_type": "display_data",
          "data": {
            "text/plain": [
              "<IPython.core.display.Javascript object>"
            ],
            "application/javascript": [
              "window[\"0cae7a82-b4ec-11f0-8183-0242ac1c000c\"] = google.colab.output.getActiveOutputArea();\n",
              "//# sourceURL=js_ce6750c6d5"
            ]
          },
          "metadata": {}
        },
        {
          "output_type": "display_data",
          "data": {
            "text/plain": [
              "<IPython.core.display.Javascript object>"
            ],
            "application/javascript": [
              "window[\"0caf2072-b4ec-11f0-8183-0242ac1c000c\"] = document.querySelector(\"#id262_content_0\");\n",
              "//# sourceURL=js_2673a4c56a"
            ]
          },
          "metadata": {}
        },
        {
          "output_type": "display_data",
          "data": {
            "text/plain": [
              "<IPython.core.display.Javascript object>"
            ],
            "application/javascript": [
              "window[\"0caf6456-b4ec-11f0-8183-0242ac1c000c\"] = google.colab.output.setActiveOutputArea(window[\"0caf2072-b4ec-11f0-8183-0242ac1c000c\"]);\n",
              "//# sourceURL=js_36acca8db5"
            ]
          },
          "metadata": {}
        },
        {
          "output_type": "display_data",
          "data": {
            "text/plain": [
              "<IPython.core.display.Javascript object>"
            ],
            "application/javascript": [
              "window[\"0cafbf5a-b4ec-11f0-8183-0242ac1c000c\"] = window[\"id262\"].setSelectedTabIndex(0);\n",
              "//# sourceURL=js_7a4dd1c5fb"
            ]
          },
          "metadata": {}
        },
        {
          "output_type": "stream",
          "name": "stdout",
          "text": [
            "The following query is stored at \u001b[1mContributed_sql\u001b[0m variable.\n",
            "-- Initializing PostgreSQL environment.\n",
            "set client_min_messages to warning;\n",
            "create schema if not exists logica_home;\n",
            "-- Empty logica type: logicarecord893574736;\n",
            "DO $$ BEGIN if not exists (select 'I(am) :- I(think)' from pg_type where typname = 'logicarecord893574736') then create type logicarecord893574736 as (nirvana numeric); end if; END $$;\n",
            "\n",
            "\n",
            "DO $$\n",
            "BEGIN\n",
            "-- Logica type: logicarecord481217614\n",
            "if not exists (select 'I(am) :- I(think)' from pg_type where typname = 'logicarecord481217614') then create type logicarecord481217614 as (r logicarecord893574736); end if;\n",
            "-- Logica type: logicarecord86796764\n",
            "if not exists (select 'I(am) :- I(think)' from pg_type where typname = 'logicarecord86796764') then create type logicarecord86796764 as (s text); end if;\n",
            "-- Logica type: logicarecord110664987\n",
            "if not exists (select 'I(am) :- I(think)' from pg_type where typname = 'logicarecord110664987') then create type logicarecord110664987 as (name text); end if;\n",
            "-- Logica type: logicarecord275391720\n",
            "if not exists (select 'I(am) :- I(think)' from pg_type where typname = 'logicarecord275391720') then create type logicarecord275391720 as (character text, name text); end if;\n",
            "-- Logica type: logicarecord573040768\n",
            "if not exists (select 'I(am) :- I(think)' from pg_type where typname = 'logicarecord573040768') then create type logicarecord573040768 as (department text, job text, name text); end if;\n",
            "-- Logica type: logicarecord500250946\n",
            "if not exists (select 'I(am) :- I(think)' from pg_type where typname = 'logicarecord500250946') then create type logicarecord500250946 as (\"cast\" logicarecord275391720[], crew logicarecord573040768[], movie_id numeric); end if;\n",
            "END $$;\n",
            "SELECT * FROM (\n",
            "  \n",
            "    SELECT\n",
            "      (x_5).name AS col0,\n",
            "      logica_home_metadata.original_title AS col1\n",
            "    FROM\n",
            "      logica_home.credits AS logica_home_credits, logica_home.metadata AS logica_home_metadata, UNNEST(logica_home_credits.cast) as x_5\n",
            "    WHERE\n",
            "      (logica_home_metadata.movie_id = logica_home_credits.movie_id)\n",
            "   UNION ALL\n",
            "  \n",
            "    SELECT\n",
            "      (x_5).name AS col0,\n",
            "      logica_home_metadata.original_title AS col1\n",
            "    FROM\n",
            "      logica_home.credits AS logica_home_credits, logica_home.metadata AS logica_home_metadata, UNNEST(logica_home_credits.crew) as x_5\n",
            "    WHERE\n",
            "      (logica_home_metadata.movie_id = logica_home_credits.movie_id)\n",
            "  \n",
            ") AS UNUSED_TABLE_NAME  ;\n"
          ]
        },
        {
          "output_type": "display_data",
          "data": {
            "text/plain": [
              "<IPython.core.display.Javascript object>"
            ],
            "application/javascript": [
              "window[\"0cb13cae-b4ec-11f0-8183-0242ac1c000c\"] = google.colab.output.setActiveOutputArea(window[\"0cae7a82-b4ec-11f0-8183-0242ac1c000c\"]);\n",
              "//# sourceURL=js_5eeb44cfe1"
            ]
          },
          "metadata": {}
        },
        {
          "output_type": "display_data",
          "data": {
            "text/plain": [
              "<IPython.core.display.Javascript object>"
            ],
            "application/javascript": [
              "window[\"0cb3ce74-b4ec-11f0-8183-0242ac1c000c\"] = google.colab.output.getActiveOutputArea();\n",
              "//# sourceURL=js_ab2d88e98b"
            ]
          },
          "metadata": {}
        },
        {
          "output_type": "display_data",
          "data": {
            "text/plain": [
              "<IPython.core.display.Javascript object>"
            ],
            "application/javascript": [
              "window[\"0cb473c4-b4ec-11f0-8183-0242ac1c000c\"] = document.querySelector(\"#id262_content_1\");\n",
              "//# sourceURL=js_1e98688af1"
            ]
          },
          "metadata": {}
        },
        {
          "output_type": "display_data",
          "data": {
            "text/plain": [
              "<IPython.core.display.Javascript object>"
            ],
            "application/javascript": [
              "window[\"0cb4d63e-b4ec-11f0-8183-0242ac1c000c\"] = google.colab.output.setActiveOutputArea(window[\"0cb473c4-b4ec-11f0-8183-0242ac1c000c\"]);\n",
              "//# sourceURL=js_bbfae991da"
            ]
          },
          "metadata": {}
        },
        {
          "output_type": "display_data",
          "data": {
            "text/plain": [
              "<IPython.core.display.Javascript object>"
            ],
            "application/javascript": [
              "window[\"0cb52706-b4ec-11f0-8183-0242ac1c000c\"] = window[\"id262\"].setSelectedTabIndex(1);\n",
              "//# sourceURL=js_5b82224cea"
            ]
          },
          "metadata": {}
        },
        {
          "output_type": "stream",
          "name": "stdout",
          "text": [
            "The following table is stored at \u001b[1mContributed\u001b[0m variable.\n"
          ]
        },
        {
          "output_type": "display_data",
          "data": {
            "text/plain": [
              "<IPython.core.display.HTML object>"
            ],
            "text/html": [
              "<i>table to be rendered</i>"
            ]
          },
          "metadata": {}
        },
        {
          "output_type": "display_data",
          "data": {
            "text/plain": [
              "<IPython.core.display.Javascript object>"
            ],
            "application/javascript": [
              "window[\"0cb7777c-b4ec-11f0-8183-0242ac1c000c\"] = google.colab.output.setActiveOutputArea(window[\"0cb3ce74-b4ec-11f0-8183-0242ac1c000c\"]);\n",
              "//# sourceURL=js_88333a3f94"
            ]
          },
          "metadata": {}
        },
        {
          "output_type": "display_data",
          "data": {
            "text/plain": [
              "<IPython.core.display.Javascript object>"
            ],
            "application/javascript": [
              "window[\"0cb9c2c0-b4ec-11f0-8183-0242ac1c000c\"] = google.colab.output.setActiveOutputArea(window[\"0ca8607a-b4ec-11f0-8183-0242ac1c000c\"]);\n",
              "//# sourceURL=js_5456213a8e"
            ]
          },
          "metadata": {}
        },
        {
          "output_type": "display_data",
          "data": {
            "text/plain": [
              "<IPython.core.display.Javascript object>"
            ],
            "application/javascript": [
              "window[\"0cbc34f6-b4ec-11f0-8183-0242ac1c000c\"] = google.colab.output.getActiveOutputArea();\n",
              "//# sourceURL=js_82a9167659"
            ]
          },
          "metadata": {}
        },
        {
          "output_type": "display_data",
          "data": {
            "text/plain": [
              "<IPython.core.display.Javascript object>"
            ],
            "application/javascript": [
              "window[\"0cbc8d2a-b4ec-11f0-8183-0242ac1c000c\"] = document.querySelector(\"#id253_content_11\");\n",
              "//# sourceURL=js_df898c119c"
            ]
          },
          "metadata": {}
        },
        {
          "output_type": "display_data",
          "data": {
            "text/plain": [
              "<IPython.core.display.Javascript object>"
            ],
            "application/javascript": [
              "window[\"0cbcf3b4-b4ec-11f0-8183-0242ac1c000c\"] = google.colab.output.setActiveOutputArea(window[\"0cbc8d2a-b4ec-11f0-8183-0242ac1c000c\"]);\n",
              "//# sourceURL=js_9346e7a9c2"
            ]
          },
          "metadata": {}
        },
        {
          "output_type": "display_data",
          "data": {
            "text/plain": [
              "<IPython.core.display.Javascript object>"
            ],
            "application/javascript": [
              "window[\"0cbd2eb0-b4ec-11f0-8183-0242ac1c000c\"] = window[\"id253\"].setSelectedTabIndex(11);\n",
              "//# sourceURL=js_a0f7542204"
            ]
          },
          "metadata": {}
        },
        {
          "output_type": "display_data",
          "data": {
            "text/plain": [
              "<IPython.core.display.Javascript object>"
            ],
            "application/javascript": [
              "window[\"0cc237fc-b4ec-11f0-8183-0242ac1c000c\"] = google.colab.output.setActiveOutputArea(window[\"0cbc34f6-b4ec-11f0-8183-0242ac1c000c\"]);\n",
              "//# sourceURL=js_b4bcc303c9"
            ]
          },
          "metadata": {}
        },
        {
          "output_type": "display_data",
          "data": {
            "text/plain": [
              "<IPython.core.display.Javascript object>"
            ],
            "application/javascript": [
              "window[\"0cc34c78-b4ec-11f0-8183-0242ac1c000c\"] = google.colab.output.getActiveOutputArea();\n",
              "//# sourceURL=js_77903d18e5"
            ]
          },
          "metadata": {}
        },
        {
          "output_type": "display_data",
          "data": {
            "text/plain": [
              "<IPython.core.display.Javascript object>"
            ],
            "application/javascript": [
              "window[\"0cc39480-b4ec-11f0-8183-0242ac1c000c\"] = document.querySelector(\"#id253_content_9\");\n",
              "//# sourceURL=js_9684f46dcb"
            ]
          },
          "metadata": {}
        },
        {
          "output_type": "display_data",
          "data": {
            "text/plain": [
              "<IPython.core.display.Javascript object>"
            ],
            "application/javascript": [
              "window[\"0cc3c806-b4ec-11f0-8183-0242ac1c000c\"] = google.colab.output.setActiveOutputArea(window[\"0cc39480-b4ec-11f0-8183-0242ac1c000c\"]);\n",
              "//# sourceURL=js_92a745b261"
            ]
          },
          "metadata": {}
        },
        {
          "output_type": "display_data",
          "data": {
            "text/plain": [
              "<IPython.core.display.Javascript object>"
            ],
            "application/javascript": [
              "window[\"0cc3ff38-b4ec-11f0-8183-0242ac1c000c\"] = window[\"id253\"].setSelectedTabIndex(9);\n",
              "//# sourceURL=js_2983c0c599"
            ]
          },
          "metadata": {}
        },
        {
          "output_type": "display_data",
          "data": {
            "text/plain": [
              "<IPython.core.display.HTML object>"
            ],
            "text/html": [
              "<link rel=stylesheet type=text/css href='/nbextensions/google.colab/tabbar.css'></link>"
            ]
          },
          "metadata": {}
        },
        {
          "output_type": "display_data",
          "data": {
            "text/plain": [
              "<IPython.core.display.HTML object>"
            ],
            "text/html": [
              "<script src='/nbextensions/google.colab/tabbar_main.min.js'></script>"
            ]
          },
          "metadata": {}
        },
        {
          "output_type": "display_data",
          "data": {
            "text/plain": [
              "<IPython.core.display.HTML object>"
            ],
            "text/html": [
              "<div id=\"id263\"></div>"
            ]
          },
          "metadata": {}
        },
        {
          "output_type": "display_data",
          "data": {
            "text/plain": [
              "<IPython.core.display.Javascript object>"
            ],
            "application/javascript": [
              "window[\"0cc52408-b4ec-11f0-8183-0242ac1c000c\"] = colab_lib.createTabBar({\"location\": \"top\", \"elementId\": \"id263\", \"tabNames\": [\"SQL\", \"Result\"], \"initialSelection\": 0, \"contentBorder\": [\"0px\"], \"contentHeight\": [\"initial\"], \"borderColor\": [\"#a7a7a7\"]});\n",
              "//# sourceURL=js_0f1ed1deb1"
            ]
          },
          "metadata": {}
        },
        {
          "output_type": "display_data",
          "data": {
            "text/plain": [
              "<IPython.core.display.Javascript object>"
            ],
            "application/javascript": [
              "window[\"0cc56080-b4ec-11f0-8183-0242ac1c000c\"] = window[\"id263\"].setSelectedTabIndex(0);\n",
              "//# sourceURL=js_1177de3092"
            ]
          },
          "metadata": {}
        },
        {
          "output_type": "display_data",
          "data": {
            "text/plain": [
              "<IPython.core.display.Javascript object>"
            ],
            "application/javascript": [
              "window[\"0cc6211e-b4ec-11f0-8183-0242ac1c000c\"] = google.colab.output.getActiveOutputArea();\n",
              "//# sourceURL=js_0ced156027"
            ]
          },
          "metadata": {}
        },
        {
          "output_type": "display_data",
          "data": {
            "text/plain": [
              "<IPython.core.display.Javascript object>"
            ],
            "application/javascript": [
              "window[\"0cc65b66-b4ec-11f0-8183-0242ac1c000c\"] = document.querySelector(\"#id263_content_0\");\n",
              "//# sourceURL=js_369281e951"
            ]
          },
          "metadata": {}
        },
        {
          "output_type": "display_data",
          "data": {
            "text/plain": [
              "<IPython.core.display.Javascript object>"
            ],
            "application/javascript": [
              "window[\"0cc68f6e-b4ec-11f0-8183-0242ac1c000c\"] = google.colab.output.setActiveOutputArea(window[\"0cc65b66-b4ec-11f0-8183-0242ac1c000c\"]);\n",
              "//# sourceURL=js_5a83b42a27"
            ]
          },
          "metadata": {}
        },
        {
          "output_type": "display_data",
          "data": {
            "text/plain": [
              "<IPython.core.display.Javascript object>"
            ],
            "application/javascript": [
              "window[\"0cc6b96c-b4ec-11f0-8183-0242ac1c000c\"] = window[\"id263\"].setSelectedTabIndex(0);\n",
              "//# sourceURL=js_84ec8419d8"
            ]
          },
          "metadata": {}
        },
        {
          "output_type": "stream",
          "name": "stdout",
          "text": [
            "The following query is stored at \u001b[1mArnoldCharacterActors_sql\u001b[0m variable.\n",
            "-- Initializing PostgreSQL environment.\n",
            "set client_min_messages to warning;\n",
            "create schema if not exists logica_home;\n",
            "-- Empty logica type: logicarecord893574736;\n",
            "DO $$ BEGIN if not exists (select 'I(am) :- I(think)' from pg_type where typname = 'logicarecord893574736') then create type logicarecord893574736 as (nirvana numeric); end if; END $$;\n",
            "\n",
            "\n",
            "DO $$\n",
            "BEGIN\n",
            "-- Logica type: logicarecord481217614\n",
            "if not exists (select 'I(am) :- I(think)' from pg_type where typname = 'logicarecord481217614') then create type logicarecord481217614 as (r logicarecord893574736); end if;\n",
            "-- Logica type: logicarecord86796764\n",
            "if not exists (select 'I(am) :- I(think)' from pg_type where typname = 'logicarecord86796764') then create type logicarecord86796764 as (s text); end if;\n",
            "-- Logica type: logicarecord110664987\n",
            "if not exists (select 'I(am) :- I(think)' from pg_type where typname = 'logicarecord110664987') then create type logicarecord110664987 as (name text); end if;\n",
            "-- Logica type: logicarecord275391720\n",
            "if not exists (select 'I(am) :- I(think)' from pg_type where typname = 'logicarecord275391720') then create type logicarecord275391720 as (character text, name text); end if;\n",
            "-- Logica type: logicarecord573040768\n",
            "if not exists (select 'I(am) :- I(think)' from pg_type where typname = 'logicarecord573040768') then create type logicarecord573040768 as (department text, job text, name text); end if;\n",
            "-- Logica type: logicarecord500250946\n",
            "if not exists (select 'I(am) :- I(think)' from pg_type where typname = 'logicarecord500250946') then create type logicarecord500250946 as (\"cast\" logicarecord275391720[], crew logicarecord573040768[], movie_id numeric); end if;\n",
            "END $$;\n",
            "WITH t_0_ArnoldCharacters AS (SELECT\n",
            "  (x_10).character AS character\n",
            "FROM\n",
            "  logica_home.credits AS t_1_logica_home_credits, UNNEST(t_1_logica_home_credits.cast) as x_10\n",
            "WHERE\n",
            "  ((x_10).name = 'Arnold Schwarzenegger')\n",
            "GROUP BY (x_10).character)\n",
            "SELECT\n",
            "  (x_4).character AS character,\n",
            "  ARRAY_AGG((x_4).name) AS actors\n",
            "FROM\n",
            "  logica_home.credits AS logica_home_credits, t_0_ArnoldCharacters AS ArnoldCharacters, UNNEST(logica_home_credits.cast) as x_4\n",
            "WHERE\n",
            "  ((x_4).name != 'Arnold Schwarzenegger') AND\n",
            "  (ArnoldCharacters.character = (x_4).character)\n",
            "GROUP BY (x_4).character;\n"
          ]
        },
        {
          "output_type": "display_data",
          "data": {
            "text/plain": [
              "<IPython.core.display.Javascript object>"
            ],
            "application/javascript": [
              "window[\"0cc777c6-b4ec-11f0-8183-0242ac1c000c\"] = google.colab.output.setActiveOutputArea(window[\"0cc6211e-b4ec-11f0-8183-0242ac1c000c\"]);\n",
              "//# sourceURL=js_114dde5fdf"
            ]
          },
          "metadata": {}
        },
        {
          "output_type": "display_data",
          "data": {
            "text/plain": [
              "<IPython.core.display.Javascript object>"
            ],
            "application/javascript": [
              "window[\"0cc85bbe-b4ec-11f0-8183-0242ac1c000c\"] = google.colab.output.getActiveOutputArea();\n",
              "//# sourceURL=js_84087e5263"
            ]
          },
          "metadata": {}
        },
        {
          "output_type": "display_data",
          "data": {
            "text/plain": [
              "<IPython.core.display.Javascript object>"
            ],
            "application/javascript": [
              "window[\"0cc8a4de-b4ec-11f0-8183-0242ac1c000c\"] = document.querySelector(\"#id263_content_1\");\n",
              "//# sourceURL=js_583c09bf82"
            ]
          },
          "metadata": {}
        },
        {
          "output_type": "display_data",
          "data": {
            "text/plain": [
              "<IPython.core.display.Javascript object>"
            ],
            "application/javascript": [
              "window[\"0cc8d81e-b4ec-11f0-8183-0242ac1c000c\"] = google.colab.output.setActiveOutputArea(window[\"0cc8a4de-b4ec-11f0-8183-0242ac1c000c\"]);\n",
              "//# sourceURL=js_5128c3e2d1"
            ]
          },
          "metadata": {}
        },
        {
          "output_type": "display_data",
          "data": {
            "text/plain": [
              "<IPython.core.display.Javascript object>"
            ],
            "application/javascript": [
              "window[\"0cc8fe48-b4ec-11f0-8183-0242ac1c000c\"] = window[\"id263\"].setSelectedTabIndex(1);\n",
              "//# sourceURL=js_7a758199c3"
            ]
          },
          "metadata": {}
        },
        {
          "output_type": "stream",
          "name": "stdout",
          "text": [
            "The following table is stored at \u001b[1mArnoldCharacterActors\u001b[0m variable.\n"
          ]
        },
        {
          "output_type": "display_data",
          "data": {
            "text/plain": [
              "<IPython.core.display.HTML object>"
            ],
            "text/html": [
              "<i>table to be rendered</i>"
            ]
          },
          "metadata": {}
        },
        {
          "output_type": "display_data",
          "data": {
            "text/plain": [
              "<IPython.core.display.Javascript object>"
            ],
            "application/javascript": [
              "window[\"0cc9d714-b4ec-11f0-8183-0242ac1c000c\"] = google.colab.output.setActiveOutputArea(window[\"0cc85bbe-b4ec-11f0-8183-0242ac1c000c\"]);\n",
              "//# sourceURL=js_7904480db2"
            ]
          },
          "metadata": {}
        },
        {
          "output_type": "display_data",
          "data": {
            "text/plain": [
              "<IPython.core.display.Javascript object>"
            ],
            "application/javascript": [
              "window[\"0ccaaf68-b4ec-11f0-8183-0242ac1c000c\"] = google.colab.output.setActiveOutputArea(window[\"0cc34c78-b4ec-11f0-8183-0242ac1c000c\"]);\n",
              "//# sourceURL=js_754fbab70c"
            ]
          },
          "metadata": {}
        },
        {
          "output_type": "display_data",
          "data": {
            "text/plain": [
              "<IPython.core.display.Javascript object>"
            ],
            "application/javascript": [
              "window[\"0ccbafe4-b4ec-11f0-8183-0242ac1c000c\"] = google.colab.output.getActiveOutputArea();\n",
              "//# sourceURL=js_ea08f79bf4"
            ]
          },
          "metadata": {}
        },
        {
          "output_type": "display_data",
          "data": {
            "text/plain": [
              "<IPython.core.display.Javascript object>"
            ],
            "application/javascript": [
              "window[\"0ccbefb8-b4ec-11f0-8183-0242ac1c000c\"] = document.querySelector(\"#id253_content_11\");\n",
              "//# sourceURL=js_4abe2f22d1"
            ]
          },
          "metadata": {}
        },
        {
          "output_type": "display_data",
          "data": {
            "text/plain": [
              "<IPython.core.display.Javascript object>"
            ],
            "application/javascript": [
              "window[\"0ccc309a-b4ec-11f0-8183-0242ac1c000c\"] = google.colab.output.setActiveOutputArea(window[\"0ccbefb8-b4ec-11f0-8183-0242ac1c000c\"]);\n",
              "//# sourceURL=js_b250a88e5c"
            ]
          },
          "metadata": {}
        },
        {
          "output_type": "display_data",
          "data": {
            "text/plain": [
              "<IPython.core.display.Javascript object>"
            ],
            "application/javascript": [
              "window[\"0ccc6d4e-b4ec-11f0-8183-0242ac1c000c\"] = window[\"id253\"].setSelectedTabIndex(11);\n",
              "//# sourceURL=js_9e317bc390"
            ]
          },
          "metadata": {}
        },
        {
          "output_type": "stream",
          "name": "stdout",
          "text": [
            "Encountered error when compiling DirectorInfo.\n"
          ]
        },
        {
          "output_type": "stream",
          "name": "stderr",
          "text": [
            "\u001b[4mCompiling\u001b[0m:\n",
            "DirectorInfo(movie:, directors:) :-\n",
            "    logica_home.credits(movie_id:, cast:, crew:),\n",
            "    directors List= (crew_member.name :- crew_member in crew, crew_member.job == 'Director'),\n",
            "    \n",
            "    logica_home.metadata(movie_id:, original_title:),\n",
            "    movie == original_title\n",
            "\n",
            "[ \u001b[91mError\u001b[0m ] Aggregating expression needs type in PostgreSQL: \u001b[1mdirectors List= (crew_member.name :- crew_member in crew, crew_member.job == 'Director')\u001b[0m was inferred only an incomplete type \u001b[1m[Singular]\u001b[0m.\n"
          ]
        },
        {
          "output_type": "display_data",
          "data": {
            "text/plain": [
              "<IPython.core.display.Javascript object>"
            ],
            "application/javascript": [
              "window[\"0ccf3e16-b4ec-11f0-8183-0242ac1c000c\"] = google.colab.output.setActiveOutputArea(window[\"0ccbafe4-b4ec-11f0-8183-0242ac1c000c\"]);\n",
              "//# sourceURL=js_8c63377996"
            ]
          },
          "metadata": {}
        }
      ]
    },
    {
      "cell_type": "code",
      "source": [
        "%%logica RodPrice\n",
        "\n",
        "# Write predicate `BestCut(slices:, income:)` with the optimal solution of rod cutting problem.\n",
        "# In this problem we are given length of a rod in predicate `RodLength`\n",
        "# and market prices of rod pieces in predicate `RodPrice`. We need to find cut of the rod\n",
        "# that maximizes our revenue, i.e. total price of all slices. List of slices is to be\n",
        "# stored in `slices` argument and total income in the `income` argument.\n",
        "\n",
        "RodPrice(length: 5, price: 20);\n",
        "RodPrice(length: 4, price: 15);\n",
        "RodPrice(length: 8, price: 40);\n",
        "RodPrice(length: 2, price: 7);\n",
        "\n",
        "RodLength(length: 22);"
      ],
      "metadata": {
        "colab": {
          "resources": {
            "http://localhost:8080/nbextensions/google.colab/tabbar.css": {
              "data": "Lmdvb2ctdGFie3Bvc2l0aW9uOnJlbGF0aXZlO3BhZGRpbmc6NHB4IDhweDtjb2xvcjojMDBjO3RleHQtZGVjb3JhdGlvbjp1bmRlcmxpbmU7Y3Vyc29yOmRlZmF1bHR9Lmdvb2ctdGFiLWJhci10b3AgLmdvb2ctdGFie21hcmdpbjoxcHggNHB4IDAgMDtib3JkZXItYm90dG9tOjA7ZmxvYXQ6bGVmdH0uZ29vZy10YWItYmFyLXRvcDphZnRlciwuZ29vZy10YWItYmFyLWJvdHRvbTphZnRlcntjb250ZW50OiIgIjtkaXNwbGF5OmJsb2NrO2hlaWdodDowO2NsZWFyOmJvdGg7dmlzaWJpbGl0eTpoaWRkZW59Lmdvb2ctdGFiLWJhci1ib3R0b20gLmdvb2ctdGFie21hcmdpbjowIDRweCAxcHggMDtib3JkZXItdG9wOjA7ZmxvYXQ6bGVmdH0uZ29vZy10YWItYmFyLXN0YXJ0IC5nb29nLXRhYnttYXJnaW46MCAwIDRweCAxcHg7Ym9yZGVyLXJpZ2h0OjB9Lmdvb2ctdGFiLWJhci1lbmQgLmdvb2ctdGFie21hcmdpbjowIDFweCA0cHggMDtib3JkZXItbGVmdDowfS5nb29nLXRhYi1ob3ZlcntiYWNrZ3JvdW5kOiNlZWV9Lmdvb2ctdGFiLWRpc2FibGVke2NvbG9yOiM2NjZ9Lmdvb2ctdGFiLXNlbGVjdGVke2NvbG9yOiMwMDA7YmFja2dyb3VuZDojZmZmO3RleHQtZGVjb3JhdGlvbjpub25lO2ZvbnQtd2VpZ2h0OmJvbGQ7Ym9yZGVyOjFweCBzb2xpZCAjNmI5MGRhfS5nb29nLXRhYi1iYXItdG9we3BhZGRpbmctdG9wOjVweCFpbXBvcnRhbnQ7cGFkZGluZy1sZWZ0OjVweCFpbXBvcnRhbnQ7Ym9yZGVyLWJvdHRvbToxcHggc29saWQgIzZiOTBkYSFpbXBvcnRhbnR9Lmdvb2ctdGFiLWJhci10b3AgLmdvb2ctdGFiLXNlbGVjdGVke3RvcDoxcHg7bWFyZ2luLXRvcDowO3BhZGRpbmctYm90dG9tOjVweH0uZ29vZy10YWItYmFyLWJvdHRvbSAuZ29vZy10YWItc2VsZWN0ZWR7dG9wOi0xcHg7bWFyZ2luLWJvdHRvbTowO3BhZGRpbmctdG9wOjVweH0uZ29vZy10YWItYmFyLXN0YXJ0IC5nb29nLXRhYi1zZWxlY3RlZHtsZWZ0OjFweDttYXJnaW4tbGVmdDowO3BhZGRpbmctcmlnaHQ6OXB4fS5nb29nLXRhYi1iYXItZW5kIC5nb29nLXRhYi1zZWxlY3RlZHtsZWZ0Oi0xcHg7bWFyZ2luLXJpZ2h0OjA7cGFkZGluZy1sZWZ0OjlweH0uZ29vZy10YWItYmFye21hcmdpbjowO2JvcmRlcjowO3BhZGRpbmc6MDtsaXN0LXN0eWxlOm5vbmU7Y3Vyc29yOmRlZmF1bHQ7b3V0bGluZTpub25lO2JhY2tncm91bmQ6I2ViZWZmOX0uZ29vZy10YWItYmFyLWNsZWFye2NsZWFyOmJvdGg7aGVpZ2h0OjA7b3ZlcmZsb3c6aGlkZGVufS5nb29nLXRhYi1iYXItc3RhcnR7ZmxvYXQ6bGVmdH0uZ29vZy10YWItYmFyLWVuZHtmbG9hdDpyaWdodH0qIGh0bWwgLmdvb2ctdGFiLWJhci1zdGFydHttYXJnaW4tcmlnaHQ6LTNweH0qIGh0bWwgLmdvb2ctdGFiLWJhci1lbmR7bWFyZ2luLWxlZnQ6LTNweH1zZW50aW5lbHt9",
              "ok": true,
              "headers": [
                [
                  "content-length",
                  "1404"
                ],
                [
                  "content-type",
                  "text/css"
                ]
              ],
              "status": 200,
              "status_text": ""
            },
            "http://localhost:8080/nbextensions/google.colab/tabbar_main.min.js": {
              "data": "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",
              "ok": true,
              "headers": [
                [
                  "content-length",
                  "41785"
                ],
                [
                  "content-type",
                  "application/javascript"
                ]
              ],
              "status": 200,
              "status_text": ""
            }
          },
          "base_uri": "https://localhost:8080/",
          "height": 290
        },
        "id": "zxCfaiM4T9dG",
        "outputId": "cde0b06c-1892-4d67-8054-7c88870464b5"
      },
      "execution_count": 7,
      "outputs": [
        {
          "output_type": "display_data",
          "data": {
            "text/plain": [
              "<IPython.core.display.HTML object>"
            ],
            "text/html": [
              "<link rel=stylesheet type=text/css href='/nbextensions/google.colab/tabbar.css'></link>"
            ]
          },
          "metadata": {}
        },
        {
          "output_type": "display_data",
          "data": {
            "text/plain": [
              "<IPython.core.display.HTML object>"
            ],
            "text/html": [
              "<script src='/nbextensions/google.colab/tabbar_main.min.js'></script>"
            ]
          },
          "metadata": {}
        },
        {
          "output_type": "display_data",
          "data": {
            "text/plain": [
              "<IPython.core.display.HTML object>"
            ],
            "text/html": [
              "<div id=\"id6\"></div>"
            ]
          },
          "metadata": {}
        },
        {
          "output_type": "display_data",
          "data": {
            "text/plain": [
              "<IPython.core.display.Javascript object>"
            ],
            "application/javascript": [
              "window[\"4e506624-b4da-11f0-8183-0242ac1c000c\"] = colab_lib.createTabBar({\"location\": \"top\", \"elementId\": \"id6\", \"tabNames\": [\"RodPrice\", \"(Log)\"], \"initialSelection\": 0, \"contentBorder\": [\"0px\"], \"contentHeight\": [\"initial\"], \"borderColor\": [\"#a7a7a7\"]});\n",
              "//# sourceURL=js_cc8a27356f"
            ]
          },
          "metadata": {}
        },
        {
          "output_type": "display_data",
          "data": {
            "text/plain": [
              "<IPython.core.display.Javascript object>"
            ],
            "application/javascript": [
              "window[\"4e50b49e-b4da-11f0-8183-0242ac1c000c\"] = window[\"id6\"].setSelectedTabIndex(0);\n",
              "//# sourceURL=js_d44fe64f97"
            ]
          },
          "metadata": {}
        },
        {
          "output_type": "display_data",
          "data": {
            "text/plain": [
              "<IPython.core.display.Javascript object>"
            ],
            "application/javascript": [
              "window[\"4e52c220-b4da-11f0-8183-0242ac1c000c\"] = google.colab.output.getActiveOutputArea();\n",
              "//# sourceURL=js_ba39e44616"
            ]
          },
          "metadata": {}
        },
        {
          "output_type": "display_data",
          "data": {
            "text/plain": [
              "<IPython.core.display.Javascript object>"
            ],
            "application/javascript": [
              "window[\"4e530e4c-b4da-11f0-8183-0242ac1c000c\"] = document.querySelector(\"#id6_content_1\");\n",
              "//# sourceURL=js_8925c7bc43"
            ]
          },
          "metadata": {}
        },
        {
          "output_type": "display_data",
          "data": {
            "text/plain": [
              "<IPython.core.display.Javascript object>"
            ],
            "application/javascript": [
              "window[\"4e538534-b4da-11f0-8183-0242ac1c000c\"] = google.colab.output.setActiveOutputArea(window[\"4e530e4c-b4da-11f0-8183-0242ac1c000c\"]);\n",
              "//# sourceURL=js_f9e870d83d"
            ]
          },
          "metadata": {}
        },
        {
          "output_type": "display_data",
          "data": {
            "text/plain": [
              "<IPython.core.display.Javascript object>"
            ],
            "application/javascript": [
              "window[\"4e53d21e-b4da-11f0-8183-0242ac1c000c\"] = window[\"id6\"].setSelectedTabIndex(1);\n",
              "//# sourceURL=js_f392d75654"
            ]
          },
          "metadata": {}
        },
        {
          "output_type": "display_data",
          "data": {
            "text/plain": [
              "<IPython.core.display.Javascript object>"
            ],
            "application/javascript": [
              "window[\"4e568d6a-b4da-11f0-8183-0242ac1c000c\"] = google.colab.output.setActiveOutputArea(window[\"4e52c220-b4da-11f0-8183-0242ac1c000c\"]);\n",
              "//# sourceURL=js_bf3ec069bb"
            ]
          },
          "metadata": {}
        },
        {
          "output_type": "display_data",
          "data": {
            "text/plain": [
              "<IPython.core.display.Javascript object>"
            ],
            "application/javascript": [
              "window[\"4e592cb4-b4da-11f0-8183-0242ac1c000c\"] = google.colab.output.getActiveOutputArea();\n",
              "//# sourceURL=js_450a312a34"
            ]
          },
          "metadata": {}
        },
        {
          "output_type": "display_data",
          "data": {
            "text/plain": [
              "<IPython.core.display.Javascript object>"
            ],
            "application/javascript": [
              "window[\"4e59dca4-b4da-11f0-8183-0242ac1c000c\"] = document.querySelector(\"#id6_content_0\");\n",
              "//# sourceURL=js_03675f09ec"
            ]
          },
          "metadata": {}
        },
        {
          "output_type": "display_data",
          "data": {
            "text/plain": [
              "<IPython.core.display.Javascript object>"
            ],
            "application/javascript": [
              "window[\"4e5a26a0-b4da-11f0-8183-0242ac1c000c\"] = google.colab.output.setActiveOutputArea(window[\"4e59dca4-b4da-11f0-8183-0242ac1c000c\"]);\n",
              "//# sourceURL=js_865ef2c0ae"
            ]
          },
          "metadata": {}
        },
        {
          "output_type": "display_data",
          "data": {
            "text/plain": [
              "<IPython.core.display.Javascript object>"
            ],
            "application/javascript": [
              "window[\"4e5a7e16-b4da-11f0-8183-0242ac1c000c\"] = window[\"id6\"].setSelectedTabIndex(0);\n",
              "//# sourceURL=js_e66e1b7a33"
            ]
          },
          "metadata": {}
        },
        {
          "output_type": "display_data",
          "data": {
            "text/plain": [
              "<IPython.core.display.HTML object>"
            ],
            "text/html": [
              "<link rel=stylesheet type=text/css href='/nbextensions/google.colab/tabbar.css'></link>"
            ]
          },
          "metadata": {}
        },
        {
          "output_type": "display_data",
          "data": {
            "text/plain": [
              "<IPython.core.display.HTML object>"
            ],
            "text/html": [
              "<script src='/nbextensions/google.colab/tabbar_main.min.js'></script>"
            ]
          },
          "metadata": {}
        },
        {
          "output_type": "display_data",
          "data": {
            "text/plain": [
              "<IPython.core.display.HTML object>"
            ],
            "text/html": [
              "<div id=\"id7\"></div>"
            ]
          },
          "metadata": {}
        },
        {
          "output_type": "display_data",
          "data": {
            "text/plain": [
              "<IPython.core.display.Javascript object>"
            ],
            "application/javascript": [
              "window[\"4e5cbb4a-b4da-11f0-8183-0242ac1c000c\"] = colab_lib.createTabBar({\"location\": \"top\", \"elementId\": \"id7\", \"tabNames\": [\"SQL\", \"Result\"], \"initialSelection\": 0, \"contentBorder\": [\"0px\"], \"contentHeight\": [\"initial\"], \"borderColor\": [\"#a7a7a7\"]});\n",
              "//# sourceURL=js_4ed59f4deb"
            ]
          },
          "metadata": {}
        },
        {
          "output_type": "display_data",
          "data": {
            "text/plain": [
              "<IPython.core.display.Javascript object>"
            ],
            "application/javascript": [
              "window[\"4e5d118a-b4da-11f0-8183-0242ac1c000c\"] = window[\"id7\"].setSelectedTabIndex(0);\n",
              "//# sourceURL=js_a2f66ea656"
            ]
          },
          "metadata": {}
        },
        {
          "output_type": "display_data",
          "data": {
            "text/plain": [
              "<IPython.core.display.Javascript object>"
            ],
            "application/javascript": [
              "window[\"4e5f18d6-b4da-11f0-8183-0242ac1c000c\"] = google.colab.output.getActiveOutputArea();\n",
              "//# sourceURL=js_04a4735c18"
            ]
          },
          "metadata": {}
        },
        {
          "output_type": "display_data",
          "data": {
            "text/plain": [
              "<IPython.core.display.Javascript object>"
            ],
            "application/javascript": [
              "window[\"4e5f784e-b4da-11f0-8183-0242ac1c000c\"] = document.querySelector(\"#id7_content_0\");\n",
              "//# sourceURL=js_eaa8eee3e9"
            ]
          },
          "metadata": {}
        },
        {
          "output_type": "display_data",
          "data": {
            "text/plain": [
              "<IPython.core.display.Javascript object>"
            ],
            "application/javascript": [
              "window[\"4e5ffc38-b4da-11f0-8183-0242ac1c000c\"] = google.colab.output.setActiveOutputArea(window[\"4e5f784e-b4da-11f0-8183-0242ac1c000c\"]);\n",
              "//# sourceURL=js_2f7536893c"
            ]
          },
          "metadata": {}
        },
        {
          "output_type": "display_data",
          "data": {
            "text/plain": [
              "<IPython.core.display.Javascript object>"
            ],
            "application/javascript": [
              "window[\"4e6034a0-b4da-11f0-8183-0242ac1c000c\"] = window[\"id7\"].setSelectedTabIndex(0);\n",
              "//# sourceURL=js_ffeff7eef0"
            ]
          },
          "metadata": {}
        },
        {
          "output_type": "stream",
          "name": "stdout",
          "text": [
            "The following query is stored at \u001b[1mRodPrice_sql\u001b[0m variable.\n",
            "-- Initializing PostgreSQL environment.\n",
            "set client_min_messages to warning;\n",
            "create schema if not exists logica_home;\n",
            "-- Empty logica type: logicarecord893574736;\n",
            "DO $$ BEGIN if not exists (select 'I(am) :- I(think)' from pg_type where typname = 'logicarecord893574736') then create type logicarecord893574736 as (nirvana numeric); end if; END $$;\n",
            "\n",
            "\n",
            "DO $$\n",
            "BEGIN\n",
            "-- Logica type: logicarecord481217614\n",
            "if not exists (select 'I(am) :- I(think)' from pg_type where typname = 'logicarecord481217614') then create type logicarecord481217614 as (r logicarecord893574736); end if;\n",
            "-- Logica type: logicarecord86796764\n",
            "if not exists (select 'I(am) :- I(think)' from pg_type where typname = 'logicarecord86796764') then create type logicarecord86796764 as (s text); end if;\n",
            "END $$;\n",
            "SELECT * FROM (\n",
            "  \n",
            "    SELECT\n",
            "      5 AS length,\n",
            "      20 AS price\n",
            "   UNION ALL\n",
            "  \n",
            "    SELECT\n",
            "      4 AS length,\n",
            "      15 AS price\n",
            "   UNION ALL\n",
            "  \n",
            "    SELECT\n",
            "      8 AS length,\n",
            "      40 AS price\n",
            "   UNION ALL\n",
            "  \n",
            "    SELECT\n",
            "      2 AS length,\n",
            "      7 AS price\n",
            "  \n",
            ") AS UNUSED_TABLE_NAME  ;\n"
          ]
        },
        {
          "output_type": "display_data",
          "data": {
            "text/plain": [
              "<IPython.core.display.Javascript object>"
            ],
            "application/javascript": [
              "window[\"4e619d90-b4da-11f0-8183-0242ac1c000c\"] = google.colab.output.setActiveOutputArea(window[\"4e5f18d6-b4da-11f0-8183-0242ac1c000c\"]);\n",
              "//# sourceURL=js_0378a56323"
            ]
          },
          "metadata": {}
        },
        {
          "output_type": "display_data",
          "data": {
            "text/plain": [
              "<IPython.core.display.Javascript object>"
            ],
            "application/javascript": [
              "window[\"4e63c9b2-b4da-11f0-8183-0242ac1c000c\"] = google.colab.output.getActiveOutputArea();\n",
              "//# sourceURL=js_e4c44d7a81"
            ]
          },
          "metadata": {}
        },
        {
          "output_type": "display_data",
          "data": {
            "text/plain": [
              "<IPython.core.display.Javascript object>"
            ],
            "application/javascript": [
              "window[\"4e644018-b4da-11f0-8183-0242ac1c000c\"] = document.querySelector(\"#id7_content_1\");\n",
              "//# sourceURL=js_127748f9aa"
            ]
          },
          "metadata": {}
        },
        {
          "output_type": "display_data",
          "data": {
            "text/plain": [
              "<IPython.core.display.Javascript object>"
            ],
            "application/javascript": [
              "window[\"4e64bde0-b4da-11f0-8183-0242ac1c000c\"] = google.colab.output.setActiveOutputArea(window[\"4e644018-b4da-11f0-8183-0242ac1c000c\"]);\n",
              "//# sourceURL=js_c07e4740fc"
            ]
          },
          "metadata": {}
        },
        {
          "output_type": "display_data",
          "data": {
            "text/plain": [
              "<IPython.core.display.Javascript object>"
            ],
            "application/javascript": [
              "window[\"4e65003e-b4da-11f0-8183-0242ac1c000c\"] = window[\"id7\"].setSelectedTabIndex(1);\n",
              "//# sourceURL=js_8d387e493e"
            ]
          },
          "metadata": {}
        },
        {
          "output_type": "stream",
          "name": "stdout",
          "text": [
            "The following table is stored at \u001b[1mRodPrice\u001b[0m variable.\n"
          ]
        },
        {
          "output_type": "display_data",
          "data": {
            "text/plain": [
              "<IPython.core.display.HTML object>"
            ],
            "text/html": [
              "<table border=\"1\" class=\"dataframe\">\n",
              "  <thead>\n",
              "    <tr style=\"text-align: right;\">\n",
              "      <th></th>\n",
              "      <th>length</th>\n",
              "      <th>price</th>\n",
              "    </tr>\n",
              "  </thead>\n",
              "  <tbody>\n",
              "    <tr>\n",
              "      <th>0</th>\n",
              "      <td>5</td>\n",
              "      <td>20</td>\n",
              "    </tr>\n",
              "    <tr>\n",
              "      <th>1</th>\n",
              "      <td>4</td>\n",
              "      <td>15</td>\n",
              "    </tr>\n",
              "    <tr>\n",
              "      <th>2</th>\n",
              "      <td>8</td>\n",
              "      <td>40</td>\n",
              "    </tr>\n",
              "    <tr>\n",
              "      <th>3</th>\n",
              "      <td>2</td>\n",
              "      <td>7</td>\n",
              "    </tr>\n",
              "  </tbody>\n",
              "</table>"
            ]
          },
          "metadata": {}
        },
        {
          "output_type": "display_data",
          "data": {
            "text/plain": [
              "<IPython.core.display.Javascript object>"
            ],
            "application/javascript": [
              "window[\"4e66f6be-b4da-11f0-8183-0242ac1c000c\"] = google.colab.output.setActiveOutputArea(window[\"4e63c9b2-b4da-11f0-8183-0242ac1c000c\"]);\n",
              "//# sourceURL=js_12585953b6"
            ]
          },
          "metadata": {}
        },
        {
          "output_type": "display_data",
          "data": {
            "text/plain": [
              "<IPython.core.display.Javascript object>"
            ],
            "application/javascript": [
              "window[\"4e68d29a-b4da-11f0-8183-0242ac1c000c\"] = google.colab.output.setActiveOutputArea(window[\"4e592cb4-b4da-11f0-8183-0242ac1c000c\"]);\n",
              "//# sourceURL=js_e2fd43fd26"
            ]
          },
          "metadata": {}
        },
        {
          "output_type": "display_data",
          "data": {
            "text/plain": [
              "<IPython.core.display.Javascript object>"
            ],
            "application/javascript": [
              "window[\"4e6b6870-b4da-11f0-8183-0242ac1c000c\"] = google.colab.output.getActiveOutputArea();\n",
              "//# sourceURL=js_c7c85522f0"
            ]
          },
          "metadata": {}
        },
        {
          "output_type": "display_data",
          "data": {
            "text/plain": [
              "<IPython.core.display.Javascript object>"
            ],
            "application/javascript": [
              "window[\"4e6bdbd4-b4da-11f0-8183-0242ac1c000c\"] = document.querySelector(\"#id6_content_1\");\n",
              "//# sourceURL=js_b883049e55"
            ]
          },
          "metadata": {}
        },
        {
          "output_type": "display_data",
          "data": {
            "text/plain": [
              "<IPython.core.display.Javascript object>"
            ],
            "application/javascript": [
              "window[\"4e6c5438-b4da-11f0-8183-0242ac1c000c\"] = google.colab.output.setActiveOutputArea(window[\"4e6bdbd4-b4da-11f0-8183-0242ac1c000c\"]);\n",
              "//# sourceURL=js_cf79ae922c"
            ]
          },
          "metadata": {}
        },
        {
          "output_type": "display_data",
          "data": {
            "text/plain": [
              "<IPython.core.display.Javascript object>"
            ],
            "application/javascript": [
              "window[\"4e6cb400-b4da-11f0-8183-0242ac1c000c\"] = window[\"id6\"].setSelectedTabIndex(1);\n",
              "//# sourceURL=js_ed1e9f224d"
            ]
          },
          "metadata": {}
        },
        {
          "output_type": "display_data",
          "data": {
            "image/svg+xml": "<?xml version=\"1.0\" encoding=\"UTF-8\" standalone=\"no\"?>\n<!DOCTYPE svg PUBLIC \"-//W3C//DTD SVG 1.1//EN\"\n \"http://www.w3.org/Graphics/SVG/1.1/DTD/svg11.dtd\">\n<!-- Generated by graphviz version 2.43.0 (0)\n -->\n<!-- Title: Concertina Pages: 1 -->\n<svg width=\"131pt\" height=\"44pt\"\n viewBox=\"0.00 0.00 131.17 44.00\" xmlns=\"http://www.w3.org/2000/svg\" xmlns:xlink=\"http://www.w3.org/1999/xlink\">\n<g id=\"graph0\" class=\"graph\" transform=\"scale(1 1) rotate(0) translate(4 40)\">\n<title>Concertina</title>\n<polygon fill=\"white\" stroke=\"transparent\" points=\"-4,4 -4,-40 127.17,-40 127.17,4 -4,4\"/>\n<!-- RodPrice -->\n<g id=\"node1\" class=\"node\">\n<title>RodPrice</title>\n<path fill=\"#caff70\" stroke=\"#575757\" d=\"M50.06,-32.64C50.06,-32.64 11.44,-21.36 11.44,-21.36 5.68,-19.68 5.68,-16.32 11.44,-14.64 11.44,-14.64 50.06,-3.36 50.06,-3.36 55.82,-1.68 67.34,-1.68 73.1,-3.36 73.1,-3.36 111.73,-14.64 111.73,-14.64 117.49,-16.32 117.49,-19.68 111.73,-21.36 111.73,-21.36 73.1,-32.64 73.1,-32.64 67.34,-34.32 55.82,-34.32 50.06,-32.64\"/>\n<text text-anchor=\"middle\" x=\"61.58\" y=\"-14.3\" font-family=\"Times,serif\" font-size=\"14.00\">RodPrice</text>\n</g>\n</g>\n</svg>\n",
            "text/plain": [
              "<graphviz.graphs.Digraph at 0x7ff67caec0e0>"
            ]
          },
          "metadata": {}
        },
        {
          "output_type": "stream",
          "name": "stdout",
          "text": [
            "Running predicate: RodPrice (2 ms)\n"
          ]
        },
        {
          "output_type": "stream",
          "name": "stderr",
          "text": [
            "/content/logica/colab_logica.py:189: FutureWarning: DataFrame.applymap has been deprecated. Use DataFrame.map instead.\n",
            "  df = df.applymap(psql_logica.DigestPsqlType)\n"
          ]
        },
        {
          "output_type": "display_data",
          "data": {
            "text/plain": [
              "<IPython.core.display.Javascript object>"
            ],
            "application/javascript": [
              "window[\"4e7e2d02-b4da-11f0-8183-0242ac1c000c\"] = google.colab.output.setActiveOutputArea(window[\"4e6b6870-b4da-11f0-8183-0242ac1c000c\"]);\n",
              "//# sourceURL=js_9a5efecd95"
            ]
          },
          "metadata": {}
        },
        {
          "output_type": "display_data",
          "data": {
            "text/plain": [
              "<IPython.core.display.Javascript object>"
            ],
            "application/javascript": [
              "window[\"4e7fd86e-b4da-11f0-8183-0242ac1c000c\"] = google.colab.output.getActiveOutputArea();\n",
              "//# sourceURL=js_c9f967752d"
            ]
          },
          "metadata": {}
        },
        {
          "output_type": "display_data",
          "data": {
            "text/plain": [
              "<IPython.core.display.Javascript object>"
            ],
            "application/javascript": [
              "window[\"4e802ba2-b4da-11f0-8183-0242ac1c000c\"] = document.querySelector(\"#id6_content_0\");\n",
              "//# sourceURL=js_f7c8637a46"
            ]
          },
          "metadata": {}
        },
        {
          "output_type": "display_data",
          "data": {
            "text/plain": [
              "<IPython.core.display.Javascript object>"
            ],
            "application/javascript": [
              "window[\"4e807512-b4da-11f0-8183-0242ac1c000c\"] = google.colab.output.setActiveOutputArea(window[\"4e802ba2-b4da-11f0-8183-0242ac1c000c\"]);\n",
              "//# sourceURL=js_a90832cd01"
            ]
          },
          "metadata": {}
        },
        {
          "output_type": "display_data",
          "data": {
            "text/plain": [
              "<IPython.core.display.Javascript object>"
            ],
            "application/javascript": [
              "window[\"4e80e790-b4da-11f0-8183-0242ac1c000c\"] = window[\"id6\"].setSelectedTabIndex(0);\n",
              "//# sourceURL=js_178e7b5a8a"
            ]
          },
          "metadata": {}
        },
        {
          "output_type": "display_data",
          "data": {
            "text/plain": [
              "<IPython.core.display.Javascript object>"
            ],
            "application/javascript": [
              "window[\"4e8208d2-b4da-11f0-8183-0242ac1c000c\"] = google.colab.output.getActiveOutputArea();\n",
              "//# sourceURL=js_130ffe25e3"
            ]
          },
          "metadata": {}
        },
        {
          "output_type": "display_data",
          "data": {
            "text/plain": [
              "<IPython.core.display.Javascript object>"
            ],
            "application/javascript": [
              "window[\"4e824fea-b4da-11f0-8183-0242ac1c000c\"] = document.querySelector(\"#id7_content_1\");\n",
              "//# sourceURL=js_240ab33955"
            ]
          },
          "metadata": {}
        },
        {
          "output_type": "display_data",
          "data": {
            "text/plain": [
              "<IPython.core.display.Javascript object>"
            ],
            "application/javascript": [
              "window[\"4e82b9ee-b4da-11f0-8183-0242ac1c000c\"] = google.colab.output.setActiveOutputArea(window[\"4e824fea-b4da-11f0-8183-0242ac1c000c\"]);\n",
              "//# sourceURL=js_5d29b03507"
            ]
          },
          "metadata": {}
        },
        {
          "output_type": "display_data",
          "data": {
            "text/plain": [
              "<IPython.core.display.Javascript object>"
            ],
            "application/javascript": [
              "window[\"4e835246-b4da-11f0-8183-0242ac1c000c\"] = window[\"id7\"].setSelectedTabIndex(1);\n",
              "//# sourceURL=js_d395783e86"
            ]
          },
          "metadata": {}
        },
        {
          "output_type": "display_data",
          "data": {
            "text/plain": [
              "<IPython.core.display.Javascript object>"
            ],
            "application/javascript": [
              "window[\"4e84e5c0-b4da-11f0-8183-0242ac1c000c\"] = google.colab.output.setActiveOutputArea(window[\"4e8208d2-b4da-11f0-8183-0242ac1c000c\"]);\n",
              "//# sourceURL=js_1f7c67eece"
            ]
          },
          "metadata": {}
        },
        {
          "output_type": "stream",
          "name": "stdout",
          "text": [
            " \n"
          ]
        },
        {
          "output_type": "display_data",
          "data": {
            "text/plain": [
              "<IPython.core.display.Javascript object>"
            ],
            "application/javascript": [
              "window[\"4e86645e-b4da-11f0-8183-0242ac1c000c\"] = google.colab.output.setActiveOutputArea(window[\"4e7fd86e-b4da-11f0-8183-0242ac1c000c\"]);\n",
              "//# sourceURL=js_f61dfdbf83"
            ]
          },
          "metadata": {}
        }
      ]
    },
    {
      "cell_type": "code",
      "source": [
        "%%logica Word, Target\n",
        "\n",
        "# Find how a `Target` can be broken into smallest number of `Word`s.\n",
        "# Write predicate `Slicing() = pieces` where `pieces` would be a list\n",
        "# of words into which target is broken.\n",
        "\n",
        "Word(\"applepie\");\n",
        "Word(\"apple\");\n",
        "Word(\"banana\");\n",
        "Word(\"organge\");\n",
        "Word(\"pineapple\");\n",
        "Word(\"pen\");\n",
        "Word(\"pencil\");\n",
        "Word(\"piecening\");\n",
        "Word(letter) :-\n",
        "  letter in letters,\n",
        "  letters = Set{x :- x in Split(\"applepieceningpenpineappleapplepen\", \"\")};\n",
        "\n",
        "Target(\"applepieceningpenpineappleapplepen\");"
      ],
      "metadata": {
        "colab": {
          "resources": {
            "http://localhost:8080/nbextensions/google.colab/tabbar_main.min.js": {
              "data": "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",
              "ok": true,
              "headers": [
                [
                  "content-length",
                  "41785"
                ],
                [
                  "content-type",
                  "application/javascript"
                ]
              ],
              "status": 200,
              "status_text": ""
            },
            "http://localhost:8080/nbextensions/google.colab/tabbar.css": {
              "data": "Lmdvb2ctdGFie3Bvc2l0aW9uOnJlbGF0aXZlO3BhZGRpbmc6NHB4IDhweDtjb2xvcjojMDBjO3RleHQtZGVjb3JhdGlvbjp1bmRlcmxpbmU7Y3Vyc29yOmRlZmF1bHR9Lmdvb2ctdGFiLWJhci10b3AgLmdvb2ctdGFie21hcmdpbjoxcHggNHB4IDAgMDtib3JkZXItYm90dG9tOjA7ZmxvYXQ6bGVmdH0uZ29vZy10YWItYmFyLXRvcDphZnRlciwuZ29vZy10YWItYmFyLWJvdHRvbTphZnRlcntjb250ZW50OiIgIjtkaXNwbGF5OmJsb2NrO2hlaWdodDowO2NsZWFyOmJvdGg7dmlzaWJpbGl0eTpoaWRkZW59Lmdvb2ctdGFiLWJhci1ib3R0b20gLmdvb2ctdGFie21hcmdpbjowIDRweCAxcHggMDtib3JkZXItdG9wOjA7ZmxvYXQ6bGVmdH0uZ29vZy10YWItYmFyLXN0YXJ0IC5nb29nLXRhYnttYXJnaW46MCAwIDRweCAxcHg7Ym9yZGVyLXJpZ2h0OjB9Lmdvb2ctdGFiLWJhci1lbmQgLmdvb2ctdGFie21hcmdpbjowIDFweCA0cHggMDtib3JkZXItbGVmdDowfS5nb29nLXRhYi1ob3ZlcntiYWNrZ3JvdW5kOiNlZWV9Lmdvb2ctdGFiLWRpc2FibGVke2NvbG9yOiM2NjZ9Lmdvb2ctdGFiLXNlbGVjdGVke2NvbG9yOiMwMDA7YmFja2dyb3VuZDojZmZmO3RleHQtZGVjb3JhdGlvbjpub25lO2ZvbnQtd2VpZ2h0OmJvbGQ7Ym9yZGVyOjFweCBzb2xpZCAjNmI5MGRhfS5nb29nLXRhYi1iYXItdG9we3BhZGRpbmctdG9wOjVweCFpbXBvcnRhbnQ7cGFkZGluZy1sZWZ0OjVweCFpbXBvcnRhbnQ7Ym9yZGVyLWJvdHRvbToxcHggc29saWQgIzZiOTBkYSFpbXBvcnRhbnR9Lmdvb2ctdGFiLWJhci10b3AgLmdvb2ctdGFiLXNlbGVjdGVke3RvcDoxcHg7bWFyZ2luLXRvcDowO3BhZGRpbmctYm90dG9tOjVweH0uZ29vZy10YWItYmFyLWJvdHRvbSAuZ29vZy10YWItc2VsZWN0ZWR7dG9wOi0xcHg7bWFyZ2luLWJvdHRvbTowO3BhZGRpbmctdG9wOjVweH0uZ29vZy10YWItYmFyLXN0YXJ0IC5nb29nLXRhYi1zZWxlY3RlZHtsZWZ0OjFweDttYXJnaW4tbGVmdDowO3BhZGRpbmctcmlnaHQ6OXB4fS5nb29nLXRhYi1iYXItZW5kIC5nb29nLXRhYi1zZWxlY3RlZHtsZWZ0Oi0xcHg7bWFyZ2luLXJpZ2h0OjA7cGFkZGluZy1sZWZ0OjlweH0uZ29vZy10YWItYmFye21hcmdpbjowO2JvcmRlcjowO3BhZGRpbmc6MDtsaXN0LXN0eWxlOm5vbmU7Y3Vyc29yOmRlZmF1bHQ7b3V0bGluZTpub25lO2JhY2tncm91bmQ6I2ViZWZmOX0uZ29vZy10YWItYmFyLWNsZWFye2NsZWFyOmJvdGg7aGVpZ2h0OjA7b3ZlcmZsb3c6aGlkZGVufS5nb29nLXRhYi1iYXItc3RhcnR7ZmxvYXQ6bGVmdH0uZ29vZy10YWItYmFyLWVuZHtmbG9hdDpyaWdodH0qIGh0bWwgLmdvb2ctdGFiLWJhci1zdGFydHttYXJnaW4tcmlnaHQ6LTNweH0qIGh0bWwgLmdvb2ctdGFiLWJhci1lbmR7bWFyZ2luLWxlZnQ6LTNweH1zZW50aW5lbHt9",
              "ok": true,
              "headers": [
                [
                  "content-length",
                  "1404"
                ],
                [
                  "content-type",
                  "text/css"
                ]
              ],
              "status": 200,
              "status_text": ""
            }
          },
          "base_uri": "https://localhost:8080/",
          "height": 196
        },
        "id": "uBPzCQKDst5C",
        "outputId": "e7e74ca9-c254-4a6a-949b-b52281d98e9f"
      },
      "execution_count": 8,
      "outputs": [
        {
          "output_type": "display_data",
          "data": {
            "text/plain": [
              "<IPython.core.display.HTML object>"
            ],
            "text/html": [
              "<link rel=stylesheet type=text/css href='/nbextensions/google.colab/tabbar.css'></link>"
            ]
          },
          "metadata": {}
        },
        {
          "output_type": "display_data",
          "data": {
            "text/plain": [
              "<IPython.core.display.HTML object>"
            ],
            "text/html": [
              "<script src='/nbextensions/google.colab/tabbar_main.min.js'></script>"
            ]
          },
          "metadata": {}
        },
        {
          "output_type": "display_data",
          "data": {
            "text/plain": [
              "<IPython.core.display.HTML object>"
            ],
            "text/html": [
              "<div id=\"id8\"></div>"
            ]
          },
          "metadata": {}
        },
        {
          "output_type": "display_data",
          "data": {
            "text/plain": [
              "<IPython.core.display.Javascript object>"
            ],
            "application/javascript": [
              "window[\"4ec02ec8-b4da-11f0-8183-0242ac1c000c\"] = colab_lib.createTabBar({\"location\": \"top\", \"elementId\": \"id8\", \"tabNames\": [\"Word\", \"Target\", \"(Log)\"], \"initialSelection\": 0, \"contentBorder\": [\"0px\"], \"contentHeight\": [\"initial\"], \"borderColor\": [\"#a7a7a7\"]});\n",
              "//# sourceURL=js_26cb9fb775"
            ]
          },
          "metadata": {}
        },
        {
          "output_type": "display_data",
          "data": {
            "text/plain": [
              "<IPython.core.display.Javascript object>"
            ],
            "application/javascript": [
              "window[\"4ec064c4-b4da-11f0-8183-0242ac1c000c\"] = window[\"id8\"].setSelectedTabIndex(0);\n",
              "//# sourceURL=js_45f2658cb1"
            ]
          },
          "metadata": {}
        },
        {
          "output_type": "display_data",
          "data": {
            "text/plain": [
              "<IPython.core.display.Javascript object>"
            ],
            "application/javascript": [
              "window[\"4ec152f8-b4da-11f0-8183-0242ac1c000c\"] = google.colab.output.getActiveOutputArea();\n",
              "//# sourceURL=js_fb533cbb3d"
            ]
          },
          "metadata": {}
        },
        {
          "output_type": "display_data",
          "data": {
            "text/plain": [
              "<IPython.core.display.Javascript object>"
            ],
            "application/javascript": [
              "window[\"4ec18fe8-b4da-11f0-8183-0242ac1c000c\"] = document.querySelector(\"#id8_content_2\");\n",
              "//# sourceURL=js_4af1ef5834"
            ]
          },
          "metadata": {}
        },
        {
          "output_type": "display_data",
          "data": {
            "text/plain": [
              "<IPython.core.display.Javascript object>"
            ],
            "application/javascript": [
              "window[\"4ec1e57e-b4da-11f0-8183-0242ac1c000c\"] = google.colab.output.setActiveOutputArea(window[\"4ec18fe8-b4da-11f0-8183-0242ac1c000c\"]);\n",
              "//# sourceURL=js_f0d9c6f290"
            ]
          },
          "metadata": {}
        },
        {
          "output_type": "display_data",
          "data": {
            "text/plain": [
              "<IPython.core.display.Javascript object>"
            ],
            "application/javascript": [
              "window[\"4ec21f08-b4da-11f0-8183-0242ac1c000c\"] = window[\"id8\"].setSelectedTabIndex(2);\n",
              "//# sourceURL=js_9595318c56"
            ]
          },
          "metadata": {}
        },
        {
          "output_type": "display_data",
          "data": {
            "text/plain": [
              "<IPython.core.display.Javascript object>"
            ],
            "application/javascript": [
              "window[\"4ec5c388-b4da-11f0-8183-0242ac1c000c\"] = google.colab.output.setActiveOutputArea(window[\"4ec152f8-b4da-11f0-8183-0242ac1c000c\"]);\n",
              "//# sourceURL=js_215fd91e55"
            ]
          },
          "metadata": {}
        },
        {
          "output_type": "display_data",
          "data": {
            "text/plain": [
              "<IPython.core.display.Javascript object>"
            ],
            "application/javascript": [
              "window[\"4ec6c2ce-b4da-11f0-8183-0242ac1c000c\"] = google.colab.output.getActiveOutputArea();\n",
              "//# sourceURL=js_b92ef212ee"
            ]
          },
          "metadata": {}
        },
        {
          "output_type": "display_data",
          "data": {
            "text/plain": [
              "<IPython.core.display.Javascript object>"
            ],
            "application/javascript": [
              "window[\"4ec7028e-b4da-11f0-8183-0242ac1c000c\"] = document.querySelector(\"#id8_content_0\");\n",
              "//# sourceURL=js_3021c5820e"
            ]
          },
          "metadata": {}
        },
        {
          "output_type": "display_data",
          "data": {
            "text/plain": [
              "<IPython.core.display.Javascript object>"
            ],
            "application/javascript": [
              "window[\"4ec72b92-b4da-11f0-8183-0242ac1c000c\"] = google.colab.output.setActiveOutputArea(window[\"4ec7028e-b4da-11f0-8183-0242ac1c000c\"]);\n",
              "//# sourceURL=js_dc080399e3"
            ]
          },
          "metadata": {}
        },
        {
          "output_type": "display_data",
          "data": {
            "text/plain": [
              "<IPython.core.display.Javascript object>"
            ],
            "application/javascript": [
              "window[\"4ec75d24-b4da-11f0-8183-0242ac1c000c\"] = window[\"id8\"].setSelectedTabIndex(0);\n",
              "//# sourceURL=js_98127f810a"
            ]
          },
          "metadata": {}
        },
        {
          "output_type": "display_data",
          "data": {
            "text/plain": [
              "<IPython.core.display.HTML object>"
            ],
            "text/html": [
              "<link rel=stylesheet type=text/css href='/nbextensions/google.colab/tabbar.css'></link>"
            ]
          },
          "metadata": {}
        },
        {
          "output_type": "display_data",
          "data": {
            "text/plain": [
              "<IPython.core.display.HTML object>"
            ],
            "text/html": [
              "<script src='/nbextensions/google.colab/tabbar_main.min.js'></script>"
            ]
          },
          "metadata": {}
        },
        {
          "output_type": "display_data",
          "data": {
            "text/plain": [
              "<IPython.core.display.HTML object>"
            ],
            "text/html": [
              "<div id=\"id9\"></div>"
            ]
          },
          "metadata": {}
        },
        {
          "output_type": "display_data",
          "data": {
            "text/plain": [
              "<IPython.core.display.Javascript object>"
            ],
            "application/javascript": [
              "window[\"4ec87a7e-b4da-11f0-8183-0242ac1c000c\"] = colab_lib.createTabBar({\"location\": \"top\", \"elementId\": \"id9\", \"tabNames\": [\"SQL\", \"Result\"], \"initialSelection\": 0, \"contentBorder\": [\"0px\"], \"contentHeight\": [\"initial\"], \"borderColor\": [\"#a7a7a7\"]});\n",
              "//# sourceURL=js_9cd2f00733"
            ]
          },
          "metadata": {}
        },
        {
          "output_type": "display_data",
          "data": {
            "text/plain": [
              "<IPython.core.display.Javascript object>"
            ],
            "application/javascript": [
              "window[\"4ec8a576-b4da-11f0-8183-0242ac1c000c\"] = window[\"id9\"].setSelectedTabIndex(0);\n",
              "//# sourceURL=js_01186e85af"
            ]
          },
          "metadata": {}
        },
        {
          "output_type": "display_data",
          "data": {
            "text/plain": [
              "<IPython.core.display.Javascript object>"
            ],
            "application/javascript": [
              "window[\"4ec970fa-b4da-11f0-8183-0242ac1c000c\"] = google.colab.output.getActiveOutputArea();\n",
              "//# sourceURL=js_16cb9536d4"
            ]
          },
          "metadata": {}
        },
        {
          "output_type": "display_data",
          "data": {
            "text/plain": [
              "<IPython.core.display.Javascript object>"
            ],
            "application/javascript": [
              "window[\"4ec9aade-b4da-11f0-8183-0242ac1c000c\"] = document.querySelector(\"#id9_content_0\");\n",
              "//# sourceURL=js_ffba5e7e58"
            ]
          },
          "metadata": {}
        },
        {
          "output_type": "display_data",
          "data": {
            "text/plain": [
              "<IPython.core.display.Javascript object>"
            ],
            "application/javascript": [
              "window[\"4ec9e2ce-b4da-11f0-8183-0242ac1c000c\"] = google.colab.output.setActiveOutputArea(window[\"4ec9aade-b4da-11f0-8183-0242ac1c000c\"]);\n",
              "//# sourceURL=js_b2acbfbec8"
            ]
          },
          "metadata": {}
        },
        {
          "output_type": "display_data",
          "data": {
            "text/plain": [
              "<IPython.core.display.Javascript object>"
            ],
            "application/javascript": [
              "window[\"4eca0c18-b4da-11f0-8183-0242ac1c000c\"] = window[\"id9\"].setSelectedTabIndex(0);\n",
              "//# sourceURL=js_83556f44ea"
            ]
          },
          "metadata": {}
        },
        {
          "output_type": "stream",
          "name": "stdout",
          "text": [
            "The following query is stored at \u001b[1mWord_sql\u001b[0m variable.\n",
            "-- Initializing PostgreSQL environment.\n",
            "set client_min_messages to warning;\n",
            "create schema if not exists logica_home;\n",
            "-- Empty logica type: logicarecord893574736;\n",
            "DO $$ BEGIN if not exists (select 'I(am) :- I(think)' from pg_type where typname = 'logicarecord893574736') then create type logicarecord893574736 as (nirvana numeric); end if; END $$;\n",
            "\n",
            "\n",
            "DO $$\n",
            "BEGIN\n",
            "-- Logica type: logicarecord481217614\n",
            "if not exists (select 'I(am) :- I(think)' from pg_type where typname = 'logicarecord481217614') then create type logicarecord481217614 as (r logicarecord893574736); end if;\n",
            "-- Logica type: logicarecord86796764\n",
            "if not exists (select 'I(am) :- I(think)' from pg_type where typname = 'logicarecord86796764') then create type logicarecord86796764 as (s text); end if;\n",
            "END $$;\n",
            "SELECT * FROM (\n",
            "  \n",
            "    SELECT\n",
            "      'applepie' AS col0\n",
            "   UNION ALL\n",
            "  \n",
            "    SELECT\n",
            "      'apple' AS col0\n",
            "   UNION ALL\n",
            "  \n",
            "    SELECT\n",
            "      'banana' AS col0\n",
            "   UNION ALL\n",
            "  \n",
            "    SELECT\n",
            "      'organge' AS col0\n",
            "   UNION ALL\n",
            "  \n",
            "    SELECT\n",
            "      'pineapple' AS col0\n",
            "   UNION ALL\n",
            "  \n",
            "    SELECT\n",
            "      'pen' AS col0\n",
            "   UNION ALL\n",
            "  \n",
            "    SELECT\n",
            "      'pencil' AS col0\n",
            "   UNION ALL\n",
            "  \n",
            "    SELECT\n",
            "      'piecening' AS col0\n",
            "   UNION ALL\n",
            "  \n",
            "    SELECT\n",
            "      x_2 AS col0\n",
            "    FROM\n",
            "      UNNEST(CAST((SELECT\n",
            "        ARRAY_AGG(DISTINCT (CASE WHEN x_10 = 0 THEN x_9 ELSE NULL END)) AS logica_value\n",
            "      FROM\n",
            "        UNNEST(ARRAY[0]::numeric[]) as x_10, UNNEST(STRING_TO_ARRAY('applepieceningpenpineappleapplepen', '')) as x_9) AS text[])) as x_2\n",
            "  \n",
            ") AS UNUSED_TABLE_NAME  ;\n"
          ]
        },
        {
          "output_type": "display_data",
          "data": {
            "text/plain": [
              "<IPython.core.display.Javascript object>"
            ],
            "application/javascript": [
              "window[\"4ecab32a-b4da-11f0-8183-0242ac1c000c\"] = google.colab.output.setActiveOutputArea(window[\"4ec970fa-b4da-11f0-8183-0242ac1c000c\"]);\n",
              "//# sourceURL=js_c6913d3346"
            ]
          },
          "metadata": {}
        },
        {
          "output_type": "display_data",
          "data": {
            "text/plain": [
              "<IPython.core.display.Javascript object>"
            ],
            "application/javascript": [
              "window[\"4ecbafc8-b4da-11f0-8183-0242ac1c000c\"] = google.colab.output.getActiveOutputArea();\n",
              "//# sourceURL=js_981b621f02"
            ]
          },
          "metadata": {}
        },
        {
          "output_type": "display_data",
          "data": {
            "text/plain": [
              "<IPython.core.display.Javascript object>"
            ],
            "application/javascript": [
              "window[\"4ecbf320-b4da-11f0-8183-0242ac1c000c\"] = document.querySelector(\"#id9_content_1\");\n",
              "//# sourceURL=js_dc419e8bb9"
            ]
          },
          "metadata": {}
        },
        {
          "output_type": "display_data",
          "data": {
            "text/plain": [
              "<IPython.core.display.Javascript object>"
            ],
            "application/javascript": [
              "window[\"4ecc1d50-b4da-11f0-8183-0242ac1c000c\"] = google.colab.output.setActiveOutputArea(window[\"4ecbf320-b4da-11f0-8183-0242ac1c000c\"]);\n",
              "//# sourceURL=js_3ca6656723"
            ]
          },
          "metadata": {}
        },
        {
          "output_type": "display_data",
          "data": {
            "text/plain": [
              "<IPython.core.display.Javascript object>"
            ],
            "application/javascript": [
              "window[\"4ecc5b76-b4da-11f0-8183-0242ac1c000c\"] = window[\"id9\"].setSelectedTabIndex(1);\n",
              "//# sourceURL=js_b16a54733a"
            ]
          },
          "metadata": {}
        },
        {
          "output_type": "stream",
          "name": "stdout",
          "text": [
            "The following table is stored at \u001b[1mWord\u001b[0m variable.\n"
          ]
        },
        {
          "output_type": "display_data",
          "data": {
            "text/plain": [
              "<IPython.core.display.HTML object>"
            ],
            "text/html": [
              "<table border=\"1\" class=\"dataframe\">\n",
              "  <thead>\n",
              "    <tr style=\"text-align: right;\">\n",
              "      <th></th>\n",
              "      <th>col0</th>\n",
              "    </tr>\n",
              "  </thead>\n",
              "  <tbody>\n",
              "    <tr>\n",
              "      <th>0</th>\n",
              "      <td>applepie</td>\n",
              "    </tr>\n",
              "    <tr>\n",
              "      <th>1</th>\n",
              "      <td>apple</td>\n",
              "    </tr>\n",
              "    <tr>\n",
              "      <th>2</th>\n",
              "      <td>banana</td>\n",
              "    </tr>\n",
              "    <tr>\n",
              "      <th>3</th>\n",
              "      <td>organge</td>\n",
              "    </tr>\n",
              "    <tr>\n",
              "      <th>4</th>\n",
              "      <td>pineapple</td>\n",
              "    </tr>\n",
              "    <tr>\n",
              "      <th>5</th>\n",
              "      <td>pen</td>\n",
              "    </tr>\n",
              "    <tr>\n",
              "      <th>6</th>\n",
              "      <td>pencil</td>\n",
              "    </tr>\n",
              "    <tr>\n",
              "      <th>7</th>\n",
              "      <td>piecening</td>\n",
              "    </tr>\n",
              "    <tr>\n",
              "      <th>8</th>\n",
              "      <td>applepieceningpenpineappleapplepen</td>\n",
              "    </tr>\n",
              "  </tbody>\n",
              "</table>"
            ]
          },
          "metadata": {}
        },
        {
          "output_type": "display_data",
          "data": {
            "text/plain": [
              "<IPython.core.display.Javascript object>"
            ],
            "application/javascript": [
              "window[\"4ecd2d1c-b4da-11f0-8183-0242ac1c000c\"] = google.colab.output.setActiveOutputArea(window[\"4ecbafc8-b4da-11f0-8183-0242ac1c000c\"]);\n",
              "//# sourceURL=js_c2305fca03"
            ]
          },
          "metadata": {}
        },
        {
          "output_type": "display_data",
          "data": {
            "text/plain": [
              "<IPython.core.display.Javascript object>"
            ],
            "application/javascript": [
              "window[\"4ece07e6-b4da-11f0-8183-0242ac1c000c\"] = google.colab.output.setActiveOutputArea(window[\"4ec6c2ce-b4da-11f0-8183-0242ac1c000c\"]);\n",
              "//# sourceURL=js_e2ea4b797a"
            ]
          },
          "metadata": {}
        },
        {
          "output_type": "display_data",
          "data": {
            "text/plain": [
              "<IPython.core.display.Javascript object>"
            ],
            "application/javascript": [
              "window[\"4ecef3cc-b4da-11f0-8183-0242ac1c000c\"] = google.colab.output.getActiveOutputArea();\n",
              "//# sourceURL=js_eaf97baf3c"
            ]
          },
          "metadata": {}
        },
        {
          "output_type": "display_data",
          "data": {
            "text/plain": [
              "<IPython.core.display.Javascript object>"
            ],
            "application/javascript": [
              "window[\"4ecf7e64-b4da-11f0-8183-0242ac1c000c\"] = document.querySelector(\"#id8_content_2\");\n",
              "//# sourceURL=js_e55629a1f6"
            ]
          },
          "metadata": {}
        },
        {
          "output_type": "display_data",
          "data": {
            "text/plain": [
              "<IPython.core.display.Javascript object>"
            ],
            "application/javascript": [
              "window[\"4ecfbc58-b4da-11f0-8183-0242ac1c000c\"] = google.colab.output.setActiveOutputArea(window[\"4ecf7e64-b4da-11f0-8183-0242ac1c000c\"]);\n",
              "//# sourceURL=js_3957a4dd3e"
            ]
          },
          "metadata": {}
        },
        {
          "output_type": "display_data",
          "data": {
            "text/plain": [
              "<IPython.core.display.Javascript object>"
            ],
            "application/javascript": [
              "window[\"4ecfeb4c-b4da-11f0-8183-0242ac1c000c\"] = window[\"id8\"].setSelectedTabIndex(2);\n",
              "//# sourceURL=js_541240158b"
            ]
          },
          "metadata": {}
        },
        {
          "output_type": "display_data",
          "data": {
            "text/plain": [
              "<IPython.core.display.Javascript object>"
            ],
            "application/javascript": [
              "window[\"4ed1036a-b4da-11f0-8183-0242ac1c000c\"] = google.colab.output.setActiveOutputArea(window[\"4ecef3cc-b4da-11f0-8183-0242ac1c000c\"]);\n",
              "//# sourceURL=js_dd2b008685"
            ]
          },
          "metadata": {}
        },
        {
          "output_type": "display_data",
          "data": {
            "text/plain": [
              "<IPython.core.display.Javascript object>"
            ],
            "application/javascript": [
              "window[\"4ed20436-b4da-11f0-8183-0242ac1c000c\"] = google.colab.output.getActiveOutputArea();\n",
              "//# sourceURL=js_b39b61d026"
            ]
          },
          "metadata": {}
        },
        {
          "output_type": "display_data",
          "data": {
            "text/plain": [
              "<IPython.core.display.Javascript object>"
            ],
            "application/javascript": [
              "window[\"4ed24518-b4da-11f0-8183-0242ac1c000c\"] = document.querySelector(\"#id8_content_1\");\n",
              "//# sourceURL=js_291075e7e5"
            ]
          },
          "metadata": {}
        },
        {
          "output_type": "display_data",
          "data": {
            "text/plain": [
              "<IPython.core.display.Javascript object>"
            ],
            "application/javascript": [
              "window[\"4ed2d21c-b4da-11f0-8183-0242ac1c000c\"] = google.colab.output.setActiveOutputArea(window[\"4ed24518-b4da-11f0-8183-0242ac1c000c\"]);\n",
              "//# sourceURL=js_e41923802e"
            ]
          },
          "metadata": {}
        },
        {
          "output_type": "display_data",
          "data": {
            "text/plain": [
              "<IPython.core.display.Javascript object>"
            ],
            "application/javascript": [
              "window[\"4ed30f20-b4da-11f0-8183-0242ac1c000c\"] = window[\"id8\"].setSelectedTabIndex(1);\n",
              "//# sourceURL=js_7502b30236"
            ]
          },
          "metadata": {}
        },
        {
          "output_type": "display_data",
          "data": {
            "text/plain": [
              "<IPython.core.display.HTML object>"
            ],
            "text/html": [
              "<link rel=stylesheet type=text/css href='/nbextensions/google.colab/tabbar.css'></link>"
            ]
          },
          "metadata": {}
        },
        {
          "output_type": "display_data",
          "data": {
            "text/plain": [
              "<IPython.core.display.HTML object>"
            ],
            "text/html": [
              "<script src='/nbextensions/google.colab/tabbar_main.min.js'></script>"
            ]
          },
          "metadata": {}
        },
        {
          "output_type": "display_data",
          "data": {
            "text/plain": [
              "<IPython.core.display.HTML object>"
            ],
            "text/html": [
              "<div id=\"id10\"></div>"
            ]
          },
          "metadata": {}
        },
        {
          "output_type": "display_data",
          "data": {
            "text/plain": [
              "<IPython.core.display.Javascript object>"
            ],
            "application/javascript": [
              "window[\"4ed46a3c-b4da-11f0-8183-0242ac1c000c\"] = colab_lib.createTabBar({\"location\": \"top\", \"elementId\": \"id10\", \"tabNames\": [\"SQL\", \"Result\"], \"initialSelection\": 0, \"contentBorder\": [\"0px\"], \"contentHeight\": [\"initial\"], \"borderColor\": [\"#a7a7a7\"]});\n",
              "//# sourceURL=js_9e6f1ce219"
            ]
          },
          "metadata": {}
        },
        {
          "output_type": "display_data",
          "data": {
            "text/plain": [
              "<IPython.core.display.Javascript object>"
            ],
            "application/javascript": [
              "window[\"4ed49444-b4da-11f0-8183-0242ac1c000c\"] = window[\"id10\"].setSelectedTabIndex(0);\n",
              "//# sourceURL=js_bd3f1b7c9d"
            ]
          },
          "metadata": {}
        },
        {
          "output_type": "display_data",
          "data": {
            "text/plain": [
              "<IPython.core.display.Javascript object>"
            ],
            "application/javascript": [
              "window[\"4ed5a7d0-b4da-11f0-8183-0242ac1c000c\"] = google.colab.output.getActiveOutputArea();\n",
              "//# sourceURL=js_be360976fd"
            ]
          },
          "metadata": {}
        },
        {
          "output_type": "display_data",
          "data": {
            "text/plain": [
              "<IPython.core.display.Javascript object>"
            ],
            "application/javascript": [
              "window[\"4ed5e11e-b4da-11f0-8183-0242ac1c000c\"] = document.querySelector(\"#id10_content_0\");\n",
              "//# sourceURL=js_88c3c48eb9"
            ]
          },
          "metadata": {}
        },
        {
          "output_type": "display_data",
          "data": {
            "text/plain": [
              "<IPython.core.display.Javascript object>"
            ],
            "application/javascript": [
              "window[\"4ed61aa8-b4da-11f0-8183-0242ac1c000c\"] = google.colab.output.setActiveOutputArea(window[\"4ed5e11e-b4da-11f0-8183-0242ac1c000c\"]);\n",
              "//# sourceURL=js_40e88fd4bd"
            ]
          },
          "metadata": {}
        },
        {
          "output_type": "display_data",
          "data": {
            "text/plain": [
              "<IPython.core.display.Javascript object>"
            ],
            "application/javascript": [
              "window[\"4ed65888-b4da-11f0-8183-0242ac1c000c\"] = window[\"id10\"].setSelectedTabIndex(0);\n",
              "//# sourceURL=js_6820a2db36"
            ]
          },
          "metadata": {}
        },
        {
          "output_type": "stream",
          "name": "stdout",
          "text": [
            "The following query is stored at \u001b[1mTarget_sql\u001b[0m variable.\n",
            "-- Initializing PostgreSQL environment.\n",
            "set client_min_messages to warning;\n",
            "create schema if not exists logica_home;\n",
            "-- Empty logica type: logicarecord893574736;\n",
            "DO $$ BEGIN if not exists (select 'I(am) :- I(think)' from pg_type where typname = 'logicarecord893574736') then create type logicarecord893574736 as (nirvana numeric); end if; END $$;\n",
            "\n",
            "\n",
            "DO $$\n",
            "BEGIN\n",
            "-- Logica type: logicarecord481217614\n",
            "if not exists (select 'I(am) :- I(think)' from pg_type where typname = 'logicarecord481217614') then create type logicarecord481217614 as (r logicarecord893574736); end if;\n",
            "-- Logica type: logicarecord86796764\n",
            "if not exists (select 'I(am) :- I(think)' from pg_type where typname = 'logicarecord86796764') then create type logicarecord86796764 as (s text); end if;\n",
            "END $$;\n",
            "SELECT\n",
            "  'applepieceningpenpineappleapplepen' AS col0;\n"
          ]
        },
        {
          "output_type": "display_data",
          "data": {
            "text/plain": [
              "<IPython.core.display.Javascript object>"
            ],
            "application/javascript": [
              "window[\"4ed73bf4-b4da-11f0-8183-0242ac1c000c\"] = google.colab.output.setActiveOutputArea(window[\"4ed5a7d0-b4da-11f0-8183-0242ac1c000c\"]);\n",
              "//# sourceURL=js_f772b387bc"
            ]
          },
          "metadata": {}
        },
        {
          "output_type": "display_data",
          "data": {
            "text/plain": [
              "<IPython.core.display.Javascript object>"
            ],
            "application/javascript": [
              "window[\"4ed8a764-b4da-11f0-8183-0242ac1c000c\"] = google.colab.output.getActiveOutputArea();\n",
              "//# sourceURL=js_49c493604b"
            ]
          },
          "metadata": {}
        },
        {
          "output_type": "display_data",
          "data": {
            "text/plain": [
              "<IPython.core.display.Javascript object>"
            ],
            "application/javascript": [
              "window[\"4ed90646-b4da-11f0-8183-0242ac1c000c\"] = document.querySelector(\"#id10_content_1\");\n",
              "//# sourceURL=js_30f27dce30"
            ]
          },
          "metadata": {}
        },
        {
          "output_type": "display_data",
          "data": {
            "text/plain": [
              "<IPython.core.display.Javascript object>"
            ],
            "application/javascript": [
              "window[\"4ed9554c-b4da-11f0-8183-0242ac1c000c\"] = google.colab.output.setActiveOutputArea(window[\"4ed90646-b4da-11f0-8183-0242ac1c000c\"]);\n",
              "//# sourceURL=js_18a864cdf7"
            ]
          },
          "metadata": {}
        },
        {
          "output_type": "display_data",
          "data": {
            "text/plain": [
              "<IPython.core.display.Javascript object>"
            ],
            "application/javascript": [
              "window[\"4ed983f0-b4da-11f0-8183-0242ac1c000c\"] = window[\"id10\"].setSelectedTabIndex(1);\n",
              "//# sourceURL=js_bf8d10437e"
            ]
          },
          "metadata": {}
        },
        {
          "output_type": "stream",
          "name": "stdout",
          "text": [
            "The following table is stored at \u001b[1mTarget\u001b[0m variable.\n"
          ]
        },
        {
          "output_type": "display_data",
          "data": {
            "text/plain": [
              "<IPython.core.display.HTML object>"
            ],
            "text/html": [
              "<table border=\"1\" class=\"dataframe\">\n",
              "  <thead>\n",
              "    <tr style=\"text-align: right;\">\n",
              "      <th></th>\n",
              "      <th>col0</th>\n",
              "    </tr>\n",
              "  </thead>\n",
              "  <tbody>\n",
              "    <tr>\n",
              "      <th>0</th>\n",
              "      <td>applepieceningpenpineappleapplepen</td>\n",
              "    </tr>\n",
              "  </tbody>\n",
              "</table>"
            ]
          },
          "metadata": {}
        },
        {
          "output_type": "display_data",
          "data": {
            "text/plain": [
              "<IPython.core.display.Javascript object>"
            ],
            "application/javascript": [
              "window[\"4edad1d8-b4da-11f0-8183-0242ac1c000c\"] = google.colab.output.setActiveOutputArea(window[\"4ed8a764-b4da-11f0-8183-0242ac1c000c\"]);\n",
              "//# sourceURL=js_8183c0fea2"
            ]
          },
          "metadata": {}
        },
        {
          "output_type": "display_data",
          "data": {
            "text/plain": [
              "<IPython.core.display.Javascript object>"
            ],
            "application/javascript": [
              "window[\"4edbd772-b4da-11f0-8183-0242ac1c000c\"] = google.colab.output.setActiveOutputArea(window[\"4ed20436-b4da-11f0-8183-0242ac1c000c\"]);\n",
              "//# sourceURL=js_9fa238e05b"
            ]
          },
          "metadata": {}
        },
        {
          "output_type": "display_data",
          "data": {
            "text/plain": [
              "<IPython.core.display.Javascript object>"
            ],
            "application/javascript": [
              "window[\"4edce662-b4da-11f0-8183-0242ac1c000c\"] = google.colab.output.getActiveOutputArea();\n",
              "//# sourceURL=js_08cafc4564"
            ]
          },
          "metadata": {}
        },
        {
          "output_type": "display_data",
          "data": {
            "text/plain": [
              "<IPython.core.display.Javascript object>"
            ],
            "application/javascript": [
              "window[\"4edd23de-b4da-11f0-8183-0242ac1c000c\"] = document.querySelector(\"#id8_content_2\");\n",
              "//# sourceURL=js_5049c95fce"
            ]
          },
          "metadata": {}
        },
        {
          "output_type": "display_data",
          "data": {
            "text/plain": [
              "<IPython.core.display.Javascript object>"
            ],
            "application/javascript": [
              "window[\"4edd63d0-b4da-11f0-8183-0242ac1c000c\"] = google.colab.output.setActiveOutputArea(window[\"4edd23de-b4da-11f0-8183-0242ac1c000c\"]);\n",
              "//# sourceURL=js_392d8d9f7d"
            ]
          },
          "metadata": {}
        },
        {
          "output_type": "display_data",
          "data": {
            "text/plain": [
              "<IPython.core.display.Javascript object>"
            ],
            "application/javascript": [
              "window[\"4edd9ba2-b4da-11f0-8183-0242ac1c000c\"] = window[\"id8\"].setSelectedTabIndex(2);\n",
              "//# sourceURL=js_4484443459"
            ]
          },
          "metadata": {}
        },
        {
          "output_type": "display_data",
          "data": {
            "image/svg+xml": "<?xml version=\"1.0\" encoding=\"UTF-8\" standalone=\"no\"?>\n<!DOCTYPE svg PUBLIC \"-//W3C//DTD SVG 1.1//EN\"\n \"http://www.w3.org/Graphics/SVG/1.1/DTD/svg11.dtd\">\n<!-- Generated by graphviz version 2.43.0 (0)\n -->\n<!-- Title: Concertina Pages: 1 -->\n<svg width=\"206pt\" height=\"44pt\"\n viewBox=\"0.00 0.00 206.08 44.00\" xmlns=\"http://www.w3.org/2000/svg\" xmlns:xlink=\"http://www.w3.org/1999/xlink\">\n<g id=\"graph0\" class=\"graph\" transform=\"scale(1 1) rotate(0) translate(4 40)\">\n<title>Concertina</title>\n<polygon fill=\"white\" stroke=\"transparent\" points=\"-4,4 -4,-40 202.08,-40 202.08,4 -4,4\"/>\n<!-- Word -->\n<g id=\"node1\" class=\"node\">\n<title>Word</title>\n<path fill=\"#caff70\" stroke=\"#575757\" d=\"M32.12,-31.4C32.12,-31.4 10.88,-22.6 10.88,-22.6 5.34,-20.3 5.34,-15.7 10.88,-13.4 10.88,-13.4 32.12,-4.6 32.12,-4.6 37.66,-2.3 48.74,-2.3 54.28,-4.6 54.28,-4.6 75.52,-13.4 75.52,-13.4 81.06,-15.7 81.06,-20.3 75.52,-22.6 75.52,-22.6 54.28,-31.4 54.28,-31.4 48.74,-33.7 37.66,-33.7 32.12,-31.4\"/>\n<text text-anchor=\"middle\" x=\"43.2\" y=\"-14.3\" font-family=\"Times,serif\" font-size=\"14.00\">Word</text>\n</g>\n<!-- Target -->\n<g id=\"node2\" class=\"node\">\n<title>Target</title>\n<path fill=\"#caff70\" stroke=\"#575757\" d=\"M140,-31.69C140,-31.69 115.64,-22.31 115.64,-22.31 110.05,-20.16 110.05,-15.84 115.64,-13.69 115.64,-13.69 140,-4.31 140,-4.31 145.6,-2.16 156.8,-2.16 162.4,-4.31 162.4,-4.31 186.76,-13.69 186.76,-13.69 192.36,-15.84 192.36,-20.16 186.76,-22.31 186.76,-22.31 162.4,-31.69 162.4,-31.69 156.8,-33.84 145.6,-33.84 140,-31.69\"/>\n<text text-anchor=\"middle\" x=\"151.2\" y=\"-14.3\" font-family=\"Times,serif\" font-size=\"14.00\">Target</text>\n</g>\n</g>\n</svg>\n",
            "text/plain": [
              "<graphviz.graphs.Digraph at 0x7ff6a4a93170>"
            ]
          },
          "metadata": {}
        },
        {
          "output_type": "stream",
          "name": "stdout",
          "text": [
            "Running predicate: Word (2 ms)\n"
          ]
        },
        {
          "output_type": "stream",
          "name": "stderr",
          "text": [
            "/content/logica/colab_logica.py:189: FutureWarning: DataFrame.applymap has been deprecated. Use DataFrame.map instead.\n",
            "  df = df.applymap(psql_logica.DigestPsqlType)\n"
          ]
        },
        {
          "output_type": "stream",
          "name": "stdout",
          "text": [
            "Running predicate: Target (2 ms)\n"
          ]
        },
        {
          "output_type": "stream",
          "name": "stderr",
          "text": [
            "/content/logica/colab_logica.py:189: FutureWarning: DataFrame.applymap has been deprecated. Use DataFrame.map instead.\n",
            "  df = df.applymap(psql_logica.DigestPsqlType)\n"
          ]
        },
        {
          "output_type": "display_data",
          "data": {
            "text/plain": [
              "<IPython.core.display.Javascript object>"
            ],
            "application/javascript": [
              "window[\"4eef9bf4-b4da-11f0-8183-0242ac1c000c\"] = google.colab.output.setActiveOutputArea(window[\"4edce662-b4da-11f0-8183-0242ac1c000c\"]);\n",
              "//# sourceURL=js_d453cd204b"
            ]
          },
          "metadata": {}
        },
        {
          "output_type": "display_data",
          "data": {
            "text/plain": [
              "<IPython.core.display.Javascript object>"
            ],
            "application/javascript": [
              "window[\"4ef09db0-b4da-11f0-8183-0242ac1c000c\"] = google.colab.output.getActiveOutputArea();\n",
              "//# sourceURL=js_c18e457a7a"
            ]
          },
          "metadata": {}
        },
        {
          "output_type": "display_data",
          "data": {
            "text/plain": [
              "<IPython.core.display.Javascript object>"
            ],
            "application/javascript": [
              "window[\"4ef0e180-b4da-11f0-8183-0242ac1c000c\"] = document.querySelector(\"#id8_content_0\");\n",
              "//# sourceURL=js_fee46d255a"
            ]
          },
          "metadata": {}
        },
        {
          "output_type": "display_data",
          "data": {
            "text/plain": [
              "<IPython.core.display.Javascript object>"
            ],
            "application/javascript": [
              "window[\"4ef10c00-b4da-11f0-8183-0242ac1c000c\"] = google.colab.output.setActiveOutputArea(window[\"4ef0e180-b4da-11f0-8183-0242ac1c000c\"]);\n",
              "//# sourceURL=js_a66adebac0"
            ]
          },
          "metadata": {}
        },
        {
          "output_type": "display_data",
          "data": {
            "text/plain": [
              "<IPython.core.display.Javascript object>"
            ],
            "application/javascript": [
              "window[\"4ef1480a-b4da-11f0-8183-0242ac1c000c\"] = window[\"id8\"].setSelectedTabIndex(0);\n",
              "//# sourceURL=js_d2740908ed"
            ]
          },
          "metadata": {}
        },
        {
          "output_type": "display_data",
          "data": {
            "text/plain": [
              "<IPython.core.display.Javascript object>"
            ],
            "application/javascript": [
              "window[\"4ef212da-b4da-11f0-8183-0242ac1c000c\"] = google.colab.output.getActiveOutputArea();\n",
              "//# sourceURL=js_553429944e"
            ]
          },
          "metadata": {}
        },
        {
          "output_type": "display_data",
          "data": {
            "text/plain": [
              "<IPython.core.display.Javascript object>"
            ],
            "application/javascript": [
              "window[\"4ef24b2e-b4da-11f0-8183-0242ac1c000c\"] = document.querySelector(\"#id9_content_1\");\n",
              "//# sourceURL=js_fa979e4e80"
            ]
          },
          "metadata": {}
        },
        {
          "output_type": "display_data",
          "data": {
            "text/plain": [
              "<IPython.core.display.Javascript object>"
            ],
            "application/javascript": [
              "window[\"4ef277e8-b4da-11f0-8183-0242ac1c000c\"] = google.colab.output.setActiveOutputArea(window[\"4ef24b2e-b4da-11f0-8183-0242ac1c000c\"]);\n",
              "//# sourceURL=js_7d2c5757ef"
            ]
          },
          "metadata": {}
        },
        {
          "output_type": "display_data",
          "data": {
            "text/plain": [
              "<IPython.core.display.Javascript object>"
            ],
            "application/javascript": [
              "window[\"4ef2a952-b4da-11f0-8183-0242ac1c000c\"] = window[\"id9\"].setSelectedTabIndex(1);\n",
              "//# sourceURL=js_631931980a"
            ]
          },
          "metadata": {}
        },
        {
          "output_type": "display_data",
          "data": {
            "text/plain": [
              "<IPython.core.display.Javascript object>"
            ],
            "application/javascript": [
              "window[\"4ef39d6c-b4da-11f0-8183-0242ac1c000c\"] = google.colab.output.setActiveOutputArea(window[\"4ef212da-b4da-11f0-8183-0242ac1c000c\"]);\n",
              "//# sourceURL=js_eecc496447"
            ]
          },
          "metadata": {}
        },
        {
          "output_type": "stream",
          "name": "stdout",
          "text": [
            " \n"
          ]
        },
        {
          "output_type": "display_data",
          "data": {
            "text/plain": [
              "<IPython.core.display.Javascript object>"
            ],
            "application/javascript": [
              "window[\"4ef49cda-b4da-11f0-8183-0242ac1c000c\"] = google.colab.output.setActiveOutputArea(window[\"4ef09db0-b4da-11f0-8183-0242ac1c000c\"]);\n",
              "//# sourceURL=js_b6207f0e76"
            ]
          },
          "metadata": {}
        },
        {
          "output_type": "display_data",
          "data": {
            "text/plain": [
              "<IPython.core.display.Javascript object>"
            ],
            "application/javascript": [
              "window[\"4ef5fb2a-b4da-11f0-8183-0242ac1c000c\"] = google.colab.output.getActiveOutputArea();\n",
              "//# sourceURL=js_fdcf520737"
            ]
          },
          "metadata": {}
        },
        {
          "output_type": "display_data",
          "data": {
            "text/plain": [
              "<IPython.core.display.Javascript object>"
            ],
            "application/javascript": [
              "window[\"4ef65e44-b4da-11f0-8183-0242ac1c000c\"] = document.querySelector(\"#id8_content_1\");\n",
              "//# sourceURL=js_1cddc58799"
            ]
          },
          "metadata": {}
        },
        {
          "output_type": "display_data",
          "data": {
            "text/plain": [
              "<IPython.core.display.Javascript object>"
            ],
            "application/javascript": [
              "window[\"4ef68c34-b4da-11f0-8183-0242ac1c000c\"] = google.colab.output.setActiveOutputArea(window[\"4ef65e44-b4da-11f0-8183-0242ac1c000c\"]);\n",
              "//# sourceURL=js_370ddda030"
            ]
          },
          "metadata": {}
        },
        {
          "output_type": "display_data",
          "data": {
            "text/plain": [
              "<IPython.core.display.Javascript object>"
            ],
            "application/javascript": [
              "window[\"4ef6f5e8-b4da-11f0-8183-0242ac1c000c\"] = window[\"id8\"].setSelectedTabIndex(1);\n",
              "//# sourceURL=js_da89386035"
            ]
          },
          "metadata": {}
        },
        {
          "output_type": "display_data",
          "data": {
            "text/plain": [
              "<IPython.core.display.Javascript object>"
            ],
            "application/javascript": [
              "window[\"4ef7d012-b4da-11f0-8183-0242ac1c000c\"] = google.colab.output.getActiveOutputArea();\n",
              "//# sourceURL=js_068d8c7277"
            ]
          },
          "metadata": {}
        },
        {
          "output_type": "display_data",
          "data": {
            "text/plain": [
              "<IPython.core.display.Javascript object>"
            ],
            "application/javascript": [
              "window[\"4ef85adc-b4da-11f0-8183-0242ac1c000c\"] = document.querySelector(\"#id10_content_1\");\n",
              "//# sourceURL=js_f2931cad77"
            ]
          },
          "metadata": {}
        },
        {
          "output_type": "display_data",
          "data": {
            "text/plain": [
              "<IPython.core.display.Javascript object>"
            ],
            "application/javascript": [
              "window[\"4ef8972c-b4da-11f0-8183-0242ac1c000c\"] = google.colab.output.setActiveOutputArea(window[\"4ef85adc-b4da-11f0-8183-0242ac1c000c\"]);\n",
              "//# sourceURL=js_007522711c"
            ]
          },
          "metadata": {}
        },
        {
          "output_type": "display_data",
          "data": {
            "text/plain": [
              "<IPython.core.display.Javascript object>"
            ],
            "application/javascript": [
              "window[\"4ef8c5a8-b4da-11f0-8183-0242ac1c000c\"] = window[\"id10\"].setSelectedTabIndex(1);\n",
              "//# sourceURL=js_e2494e2422"
            ]
          },
          "metadata": {}
        },
        {
          "output_type": "display_data",
          "data": {
            "text/plain": [
              "<IPython.core.display.Javascript object>"
            ],
            "application/javascript": [
              "window[\"4efa166a-b4da-11f0-8183-0242ac1c000c\"] = google.colab.output.setActiveOutputArea(window[\"4ef7d012-b4da-11f0-8183-0242ac1c000c\"]);\n",
              "//# sourceURL=js_8bfdeef671"
            ]
          },
          "metadata": {}
        },
        {
          "output_type": "stream",
          "name": "stdout",
          "text": [
            " \n"
          ]
        },
        {
          "output_type": "display_data",
          "data": {
            "text/plain": [
              "<IPython.core.display.Javascript object>"
            ],
            "application/javascript": [
              "window[\"4efb430a-b4da-11f0-8183-0242ac1c000c\"] = google.colab.output.setActiveOutputArea(window[\"4ef5fb2a-b4da-11f0-8183-0242ac1c000c\"]);\n",
              "//# sourceURL=js_bc8977663c"
            ]
          },
          "metadata": {}
        }
      ]
    }
  ]
}