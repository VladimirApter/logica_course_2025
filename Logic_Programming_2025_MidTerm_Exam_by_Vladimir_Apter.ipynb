{
  "nbformat": 4,
  "nbformat_minor": 0,
  "metadata": {
    "colab": {
      "provenance": [],
      "include_colab_link": true
    },
    "kernelspec": {
      "name": "python3",
      "display_name": "Python 3"
    },
    "language_info": {
      "name": "python"
    }
  },
  "cells": [
    {
      "cell_type": "markdown",
      "metadata": {
        "id": "view-in-github",
        "colab_type": "text"
      },
      "source": [
        "<a href=\"https://colab.research.google.com/github/VladimirApter/logica_course_2025/blob/main/Logic_Programming_2025_MidTerm_Exam_by_Vladimir_Apter.ipynb\" target=\"_parent\"><img src=\"https://colab.research.google.com/assets/colab-badge.svg\" alt=\"Open In Colab\"/></a>"
      ]
    },
    {
      "cell_type": "markdown",
      "metadata": {
        "id": "dU2HiBgSTZWm"
      },
      "source": [
        "# Logic Programming for Data Analysis 2025: MidTerm Exam\n",
        "\n",
        "`(write your name)`\n",
        "\n",
        "`(write your email)`\n",
        "\n",
        "Original data source: https://www.kaggle.com/rounakbanik/the-movies-dataset\n",
        "\n",
        "\n",
        "## [Submission form](https://docs.google.com/forms/d/e/1FAIpQLScvGA5u31bOv-q_GzRUZngz4jH-GxmkCKQcMUWM7Q09f2s7cw/viewform?usp=publish-editor) 🫲 Сдавать контрольную тут\n",
        "\n",
        "## Movies database\n",
        "Movie database consists of three tables:\n",
        "\n",
        "1. `movies.metadata(movie_id: <id of the movie>, original_title: <name of the movie>)`\n",
        "\n",
        "2.\n",
        "```\n",
        "movies.credits(movie_id: <id of the movie>,\n",
        "                  cast: <actors of the movie>,\n",
        "                  crew: <crew of the movie>)\n",
        "```\n",
        "`crew` and `cast` are lists of records.\n",
        "In records of `crew` we are interested in fields: `name` -- name of the person, `department` -- department of their work and `job` -- their specific job.\n",
        "In records of cast we are interested in fields: `name` -- name of the person, `character` -- which character they played.\n",
        "\n",
        "3. `movies.ratings(user_id: <id of user>, movie_id: <id of the movie>, rating: <rating that user gave>)`\n",
        "\n",
        "\n",
        "## Movie database problems\n",
        "\n",
        "\n",
        "1. (4 points) Write predicate `CameronActor(person)` which is true for people who acted in movies which were directed by _James Cameron_.\n",
        "2. (4 points) Write predicate `JackieMovie(movie:, character:)`, which holds for movies and characters such that _Jackie Chan_ played the character in the movie.\n",
        "3. (4 points) Write predicate `ArnoldDirector(person)`, which holds people who directed movies, where _Arnold Schwarzenegger_ acted. Person directs a movie if they are part of the crew with the job equal to _Director_.\n",
        "4. (10 points) Write predicate `RoboCopWifeRoles(movie:, character:)`. It should contain movies and characters which were played by an acress who played character _Murphy's wife_ in the movie _RoboCop_. Assume that you don’t know the name of the acress (even if you do) and write the predicate using string literals _Murphy's wife_ and _RoboCop_, but not the acress's name.\n",
        "5. (10 points) Write predicate `Contributed(person, movie)`, which holds if the person acted in the movie, or was in the crew. Make this predicate be written to the database when used in other predicates. Use this predicate for the following.\n",
        "  * a) Write predicate `TerminatorOneButNotTwo(person)` which is true for people who contributed to _The Terminator_, but did not contribute to _Terminator 2: Judgment Day_.\n",
        "  * b) Write predicate `WithArnoldAndBruce(person:, arnold_movie:, bruce_movie:)`, which is true for any person who contributed to `arnold_movie` together with _Arnold Schwarzenegger_ and to `bruce_movie` together with _Bruce Lee_. It’s expected that some people will occur in multiple rows.\n",
        "6. (5 points) Write predicate `ArnoldCharacterActors(character:, actors:)`, which tells us for each character that _Arnold Schwarzenegger_ played, who else played the character. Actors should be a list of actor names that played the character, for each list, each actor must be mentioned at most once.\n",
        "Note: Character is to be treated formally, e.g. it is expected that for character “Himself” all male actors who played themselves to be listed.\n",
        "7. (10 points)  Usage of distinct denoted predicates is not allowed for this problem. Solve the following problem with aggregating expressions, using original data as input.\n",
        "Write predicate `DirectorInfo(movie:, directors:, directors_played_characters:)`, which would have a row for each movie (you can assume that every movie has metadata and credits). Field `directors` is a list of people who directed the movie and field `directors_played_characters` is a list of characters (potentially empty) that were played by the directors of the movie.  Recall that a Person directs a movie if they are a member of the crew with the job equal to “Director”.\n",
        "8. (15 points) Usage of `distinct` denoted predicates is not allowed for this problem. Recall that predicate with aggregation in the value is considered distinct denoted too. Solve the following problem with aggregating expressions, using original data as input.\n",
        "Write predicate\n",
        "`MovieInfo(movie:, contributors:, contributions_num:, contributors_count:)`, which has a row for each movie in the original database. Field contributors is a list of records `{name:, contribution:}` for each person who is an actor or a member of the crew. If person is a member of the crew then contribution should be equal to department of their crew list record. If person is an actor then contribution should be equal to “actor”.\n",
        "Make this predicate be written into the database, when used by other predicates.\n",
        "9. (3 points) Define a predicate `MovieWorkflow()`, execution of which initiates pipeline, which writes predicates `Contributed` and `MovieInfo` into the database.\n",
        "\n",
        "## Mathematics and Dynamic Programming\n",
        "\n",
        "\n",
        "10. (10 points) Write concrete predicate `PrimeDividerCount(number) = divider_count`, where number is each integer number from 1 to 100 and `divider_count` is the number of distinct prime divisors of the number, e.g. 12 has 2 dividers (which are 2 and 3), and 7 has 1 divider (which is 7). Every number from 2 to 100 inclusive must be present in the predicate. _Recursion is not needed here._\n",
        "\n",
        "\n",
        "See sample data for this problem in the end of colab. Use recursion to solve these problems.\n",
        "\n",
        "11. (15 points) Write predicate `BestCut(slices:, income:)` with the optimal solution of rod cutting problem.\n",
        "In this problem we are given length of a rod in predicate `RodLength`\n",
        "and market prices of rod pieces in predicate `RodPrice`. We need to find cut of the rod\n",
        "that maximizes our revenue, i.e. total price of all slices. List of slices is to be\n",
        "stored in `slices` argument and total income in the `income` argument.\n",
        "\n",
        "12. (10 points) Find how a `Target` can be broken into smallest number of `Word`s. Write predicate `Slicing() = pieces` where `pieces` would be a list of words into which target is broken."
      ]
    },
    {
      "cell_type": "code",
      "metadata": {
        "colab": {
          "base_uri": "https://localhost:8080/"
        },
        "id": "fov-oe0qTP-h",
        "outputId": "b9356ad4-0846-419e-8796-314d37feb388"
      },
      "source": [
        "!gdown https://drive.google.com/uc?id=1kB2OlRH9nAb4UB9IWfR3RbvmOfwlsnVu"
      ],
      "execution_count": null,
      "outputs": [
        {
          "output_type": "stream",
          "name": "stdout",
          "text": [
            "Downloading...\n",
            "From: https://drive.google.com/uc?id=1kB2OlRH9nAb4UB9IWfR3RbvmOfwlsnVu\n",
            "To: /content/midterm_data.tar.gz\n",
            "\r  0% 0.00/23.4M [00:00<?, ?B/s]\r 29% 6.82M/23.4M [00:00<00:00, 62.2MB/s]\r100% 23.4M/23.4M [00:00<00:00, 140MB/s] \n"
          ]
        }
      ]
    },
    {
      "cell_type": "code",
      "metadata": {
        "colab": {
          "base_uri": "https://localhost:8080/"
        },
        "id": "Nk0sOmN1Uvqk",
        "outputId": "9f00bc23-9ca3-4aa2-e3e1-6a309d6d8f90"
      },
      "source": [
        "!tar -xzvf midterm_data.tar.gz"
      ],
      "execution_count": null,
      "outputs": [
        {
          "output_type": "stream",
          "name": "stdout",
          "text": [
            "midterm_data.sql\n"
          ]
        }
      ]
    },
    {
      "cell_type": "code",
      "metadata": {
        "colab": {
          "base_uri": "https://localhost:8080/"
        },
        "id": "3NauKECEVI_8",
        "outputId": "b702d16a-92a0-450e-b6c5-8291b7bc653c"
      },
      "source": [
        "!git clone -b ti2023 https://github.com/evgskv/logica\n",
        "from logica import colab_logica\n",
        "colab_logica.PostgresJumpStart()"
      ],
      "execution_count": null,
      "outputs": [
        {
          "output_type": "stream",
          "name": "stdout",
          "text": [
            "Cloning into 'logica'...\n",
            "remote: Enumerating objects: 5444, done.\u001b[K\n",
            "remote: Counting objects: 100% (1172/1172), done.\u001b[K\n",
            "remote: Compressing objects: 100% (153/153), done.\u001b[K\n",
            "remote: Total 5444 (delta 1058), reused 1029 (delta 1017), pack-reused 4272 (from 2)\u001b[K\n",
            "Receiving objects: 100% (5444/5444), 6.73 MiB | 15.76 MiB/s, done.\n",
            "Resolving deltas: 100% (3602/3602), done.\n",
            "Installing and configuring an empty PostgreSQL database.\n",
            "Installation succeeded. Connecting...\n",
            "Connected.\n"
          ]
        }
      ]
    },
    {
      "cell_type": "code",
      "source": [
        "import pandas\n",
        "pandas.set_option('display.max_colwidth', 1000)"
      ],
      "metadata": {
        "id": "sRYiqbTznBRs"
      },
      "execution_count": null,
      "outputs": []
    },
    {
      "cell_type": "code",
      "source": [
        "!PGPASSWORD=logica psql -U logica -d logica -h localhost -f midterm_data.sql -v ON_ERROR_STOP=1"
      ],
      "metadata": {
        "colab": {
          "base_uri": "https://localhost:8080/"
        },
        "id": "uVPtXIJKi-9A",
        "outputId": "c444a6b2-6978-4b6c-91b4-f3c5ef0a3926"
      },
      "execution_count": null,
      "outputs": [
        {
          "output_type": "stream",
          "name": "stdout",
          "text": [
            "SET\n",
            "SET\n",
            "SET\n",
            "SET\n",
            "SET\n",
            " set_config \n",
            "------------\n",
            " \n",
            "(1 row)\n",
            "\n",
            "SET\n",
            "SET\n",
            "SET\n",
            "SET\n",
            "CREATE SCHEMA\n",
            "ALTER SCHEMA\n",
            "CREATE TYPE\n",
            "ALTER TYPE\n",
            "CREATE TYPE\n",
            "ALTER TYPE\n",
            "CREATE TYPE\n",
            "ALTER TYPE\n",
            "CREATE TYPE\n",
            "ALTER TYPE\n",
            "CREATE TYPE\n",
            "ALTER TYPE\n",
            "CREATE TYPE\n",
            "ALTER TYPE\n",
            "CREATE TYPE\n",
            "ALTER TYPE\n",
            "CREATE TYPE\n",
            "ALTER TYPE\n",
            "SET\n",
            "SET\n",
            "CREATE TABLE\n",
            "ALTER TABLE\n",
            "CREATE TABLE\n",
            "ALTER TABLE\n",
            "CREATE TABLE\n",
            "ALTER TABLE\n",
            "COPY 43018\n",
            "COPY 45463\n",
            "COPY 2650582\n"
          ]
        }
      ]
    },
    {
      "cell_type": "code",
      "metadata": {
        "colab": {
          "resources": {
            "http://localhost:8080/nbextensions/google.colab/tabbar.css": {
              "data": "Lmdvb2ctdGFie3Bvc2l0aW9uOnJlbGF0aXZlO3BhZGRpbmc6NHB4IDhweDtjb2xvcjojMDBjO3RleHQtZGVjb3JhdGlvbjp1bmRlcmxpbmU7Y3Vyc29yOmRlZmF1bHR9Lmdvb2ctdGFiLWJhci10b3AgLmdvb2ctdGFie21hcmdpbjoxcHggNHB4IDAgMDtib3JkZXItYm90dG9tOjA7ZmxvYXQ6bGVmdH0uZ29vZy10YWItYmFyLXRvcDphZnRlciwuZ29vZy10YWItYmFyLWJvdHRvbTphZnRlcntjb250ZW50OiIgIjtkaXNwbGF5OmJsb2NrO2hlaWdodDowO2NsZWFyOmJvdGg7dmlzaWJpbGl0eTpoaWRkZW59Lmdvb2ctdGFiLWJhci1ib3R0b20gLmdvb2ctdGFie21hcmdpbjowIDRweCAxcHggMDtib3JkZXItdG9wOjA7ZmxvYXQ6bGVmdH0uZ29vZy10YWItYmFyLXN0YXJ0IC5nb29nLXRhYnttYXJnaW46MCAwIDRweCAxcHg7Ym9yZGVyLXJpZ2h0OjB9Lmdvb2ctdGFiLWJhci1lbmQgLmdvb2ctdGFie21hcmdpbjowIDFweCA0cHggMDtib3JkZXItbGVmdDowfS5nb29nLXRhYi1ob3ZlcntiYWNrZ3JvdW5kOiNlZWV9Lmdvb2ctdGFiLWRpc2FibGVke2NvbG9yOiM2NjZ9Lmdvb2ctdGFiLXNlbGVjdGVke2NvbG9yOiMwMDA7YmFja2dyb3VuZDojZmZmO3RleHQtZGVjb3JhdGlvbjpub25lO2ZvbnQtd2VpZ2h0OmJvbGQ7Ym9yZGVyOjFweCBzb2xpZCAjNmI5MGRhfS5nb29nLXRhYi1iYXItdG9we3BhZGRpbmctdG9wOjVweCFpbXBvcnRhbnQ7cGFkZGluZy1sZWZ0OjVweCFpbXBvcnRhbnQ7Ym9yZGVyLWJvdHRvbToxcHggc29saWQgIzZiOTBkYSFpbXBvcnRhbnR9Lmdvb2ctdGFiLWJhci10b3AgLmdvb2ctdGFiLXNlbGVjdGVke3RvcDoxcHg7bWFyZ2luLXRvcDowO3BhZGRpbmctYm90dG9tOjVweH0uZ29vZy10YWItYmFyLWJvdHRvbSAuZ29vZy10YWItc2VsZWN0ZWR7dG9wOi0xcHg7bWFyZ2luLWJvdHRvbTowO3BhZGRpbmctdG9wOjVweH0uZ29vZy10YWItYmFyLXN0YXJ0IC5nb29nLXRhYi1zZWxlY3RlZHtsZWZ0OjFweDttYXJnaW4tbGVmdDowO3BhZGRpbmctcmlnaHQ6OXB4fS5nb29nLXRhYi1iYXItZW5kIC5nb29nLXRhYi1zZWxlY3RlZHtsZWZ0Oi0xcHg7bWFyZ2luLXJpZ2h0OjA7cGFkZGluZy1sZWZ0OjlweH0uZ29vZy10YWItYmFye21hcmdpbjowO2JvcmRlcjowO3BhZGRpbmc6MDtsaXN0LXN0eWxlOm5vbmU7Y3Vyc29yOmRlZmF1bHQ7b3V0bGluZTpub25lO2JhY2tncm91bmQ6I2ViZWZmOX0uZ29vZy10YWItYmFyLWNsZWFye2NsZWFyOmJvdGg7aGVpZ2h0OjA7b3ZlcmZsb3c6aGlkZGVufS5nb29nLXRhYi1iYXItc3RhcnR7ZmxvYXQ6bGVmdH0uZ29vZy10YWItYmFyLWVuZHtmbG9hdDpyaWdodH0qIGh0bWwgLmdvb2ctdGFiLWJhci1zdGFydHttYXJnaW4tcmlnaHQ6LTNweH0qIGh0bWwgLmdvb2ctdGFiLWJhci1lbmR7bWFyZ2luLWxlZnQ6LTNweH1zZW50aW5lbHt9",
              "ok": true,
              "headers": [
                [
                  "content-length",
                  "1404"
                ],
                [
                  "content-type",
                  "text/css"
                ]
              ],
              "status": 200,
              "status_text": ""
            },
            "http://localhost:8080/nbextensions/google.colab/tabbar_main.min.js": {
              "data": "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",
              "ok": true,
              "headers": [
                [
                  "content-length",
                  "41785"
                ],
                [
                  "content-type",
                  "application/javascript"
                ]
              ],
              "status": 200,
              "status_text": ""
            }
          },
          "base_uri": "https://localhost:8080/",
          "height": 1000
        },
        "id": "3PZSZuNsVLrR",
        "outputId": "427e1b68-f8e7-4f7b-c32e-f5f54dd405fa"
      },
      "source": [
        "%%logica Stats, SomeRatings, SomeCredits, SomeMovies\n",
        "\n",
        "@Limit(SomeRatings, 100);\n",
        "SomeRatings(..r) :- logica_home.ratings(..r);\n",
        "\n",
        "@Limit(SomeCredits, 100);\n",
        "SomeCredits(..r) :-\n",
        "  logica_home.credits(..r),\n",
        "  r ~ {movie_id: Num,\n",
        "       cast: [{name: Str, character: Str}],\n",
        "       crew: [{name: Str, job: Str, department: Str}]};\n",
        "\n",
        "@Limit(SomeMovies, 100);\n",
        "SomeMovies(..r) :- logica_home.metadata(..r);\n",
        "\n",
        "Stats(movies_count:,\n",
        "      credits_count:,\n",
        "      ratings_count:) :-\n",
        "  movies_count += (1 :- logica_home.metadata()),\n",
        "  credits_count += (1 :- logica_home.credits()),\n",
        "  ratings_count += (1 :- logica_home.ratings());\n"
      ],
      "execution_count": null,
      "outputs": [
        {
          "output_type": "display_data",
          "data": {
            "text/plain": [
              "<IPython.core.display.HTML object>"
            ],
            "text/html": [
              "<link rel=stylesheet type=text/css href='/nbextensions/google.colab/tabbar.css'></link>"
            ]
          },
          "metadata": {}
        },
        {
          "output_type": "display_data",
          "data": {
            "text/plain": [
              "<IPython.core.display.HTML object>"
            ],
            "text/html": [
              "<script src='/nbextensions/google.colab/tabbar_main.min.js'></script>"
            ]
          },
          "metadata": {}
        },
        {
          "output_type": "display_data",
          "data": {
            "text/plain": [
              "<IPython.core.display.HTML object>"
            ],
            "text/html": [
              "<div id=\"id1\"></div>"
            ]
          },
          "metadata": {}
        },
        {
          "output_type": "display_data",
          "data": {
            "text/plain": [
              "<IPython.core.display.Javascript object>"
            ],
            "application/javascript": [
              "window[\"4a42a2c8-af89-11f0-88c9-0242ac1c000c\"] = colab_lib.createTabBar({\"location\": \"top\", \"elementId\": \"id1\", \"tabNames\": [\"Stats\", \"SomeRatings\", \"SomeCredits\", \"SomeMovies\", \"(Log)\"], \"initialSelection\": 0, \"contentBorder\": [\"0px\"], \"contentHeight\": [\"initial\"], \"borderColor\": [\"#a7a7a7\"]});\n",
              "//# sourceURL=js_60114707fd"
            ]
          },
          "metadata": {}
        },
        {
          "output_type": "display_data",
          "data": {
            "text/plain": [
              "<IPython.core.display.Javascript object>"
            ],
            "application/javascript": [
              "window[\"4a42ef3a-af89-11f0-88c9-0242ac1c000c\"] = window[\"id1\"].setSelectedTabIndex(0);\n",
              "//# sourceURL=js_9f1fe29eb4"
            ]
          },
          "metadata": {}
        },
        {
          "output_type": "display_data",
          "data": {
            "text/plain": [
              "<IPython.core.display.Javascript object>"
            ],
            "application/javascript": [
              "window[\"4a43ff1a-af89-11f0-88c9-0242ac1c000c\"] = google.colab.output.getActiveOutputArea();\n",
              "//# sourceURL=js_96965e8bb0"
            ]
          },
          "metadata": {}
        },
        {
          "output_type": "display_data",
          "data": {
            "text/plain": [
              "<IPython.core.display.Javascript object>"
            ],
            "application/javascript": [
              "window[\"4a4444e8-af89-11f0-88c9-0242ac1c000c\"] = document.querySelector(\"#id1_content_4\");\n",
              "//# sourceURL=js_95b7bd41f9"
            ]
          },
          "metadata": {}
        },
        {
          "output_type": "display_data",
          "data": {
            "text/plain": [
              "<IPython.core.display.Javascript object>"
            ],
            "application/javascript": [
              "window[\"4a448368-af89-11f0-88c9-0242ac1c000c\"] = google.colab.output.setActiveOutputArea(window[\"4a4444e8-af89-11f0-88c9-0242ac1c000c\"]);\n",
              "//# sourceURL=js_d7155e05ba"
            ]
          },
          "metadata": {}
        },
        {
          "output_type": "display_data",
          "data": {
            "text/plain": [
              "<IPython.core.display.Javascript object>"
            ],
            "application/javascript": [
              "window[\"4a44ba0e-af89-11f0-88c9-0242ac1c000c\"] = window[\"id1\"].setSelectedTabIndex(4);\n",
              "//# sourceURL=js_32d99e6442"
            ]
          },
          "metadata": {}
        },
        {
          "output_type": "display_data",
          "data": {
            "text/plain": [
              "<IPython.core.display.Javascript object>"
            ],
            "application/javascript": [
              "window[\"4a46f878-af89-11f0-88c9-0242ac1c000c\"] = google.colab.output.setActiveOutputArea(window[\"4a43ff1a-af89-11f0-88c9-0242ac1c000c\"]);\n",
              "//# sourceURL=js_5a89d7d9e3"
            ]
          },
          "metadata": {}
        },
        {
          "output_type": "display_data",
          "data": {
            "text/plain": [
              "<IPython.core.display.Javascript object>"
            ],
            "application/javascript": [
              "window[\"4a48525e-af89-11f0-88c9-0242ac1c000c\"] = google.colab.output.getActiveOutputArea();\n",
              "//# sourceURL=js_86b03b26db"
            ]
          },
          "metadata": {}
        },
        {
          "output_type": "display_data",
          "data": {
            "text/plain": [
              "<IPython.core.display.Javascript object>"
            ],
            "application/javascript": [
              "window[\"4a48aeb6-af89-11f0-88c9-0242ac1c000c\"] = document.querySelector(\"#id1_content_0\");\n",
              "//# sourceURL=js_c3209df8ac"
            ]
          },
          "metadata": {}
        },
        {
          "output_type": "display_data",
          "data": {
            "text/plain": [
              "<IPython.core.display.Javascript object>"
            ],
            "application/javascript": [
              "window[\"4a490f78-af89-11f0-88c9-0242ac1c000c\"] = google.colab.output.setActiveOutputArea(window[\"4a48aeb6-af89-11f0-88c9-0242ac1c000c\"]);\n",
              "//# sourceURL=js_5c9550b0df"
            ]
          },
          "metadata": {}
        },
        {
          "output_type": "display_data",
          "data": {
            "text/plain": [
              "<IPython.core.display.Javascript object>"
            ],
            "application/javascript": [
              "window[\"4a496072-af89-11f0-88c9-0242ac1c000c\"] = window[\"id1\"].setSelectedTabIndex(0);\n",
              "//# sourceURL=js_9828310a1b"
            ]
          },
          "metadata": {}
        },
        {
          "output_type": "display_data",
          "data": {
            "text/plain": [
              "<IPython.core.display.HTML object>"
            ],
            "text/html": [
              "<link rel=stylesheet type=text/css href='/nbextensions/google.colab/tabbar.css'></link>"
            ]
          },
          "metadata": {}
        },
        {
          "output_type": "display_data",
          "data": {
            "text/plain": [
              "<IPython.core.display.HTML object>"
            ],
            "text/html": [
              "<script src='/nbextensions/google.colab/tabbar_main.min.js'></script>"
            ]
          },
          "metadata": {}
        },
        {
          "output_type": "display_data",
          "data": {
            "text/plain": [
              "<IPython.core.display.HTML object>"
            ],
            "text/html": [
              "<div id=\"id2\"></div>"
            ]
          },
          "metadata": {}
        },
        {
          "output_type": "display_data",
          "data": {
            "text/plain": [
              "<IPython.core.display.Javascript object>"
            ],
            "application/javascript": [
              "window[\"4a4b0a4e-af89-11f0-88c9-0242ac1c000c\"] = colab_lib.createTabBar({\"location\": \"top\", \"elementId\": \"id2\", \"tabNames\": [\"SQL\", \"Result\"], \"initialSelection\": 0, \"contentBorder\": [\"0px\"], \"contentHeight\": [\"initial\"], \"borderColor\": [\"#a7a7a7\"]});\n",
              "//# sourceURL=js_f4fdaab7c4"
            ]
          },
          "metadata": {}
        },
        {
          "output_type": "display_data",
          "data": {
            "text/plain": [
              "<IPython.core.display.Javascript object>"
            ],
            "application/javascript": [
              "window[\"4a4b52b0-af89-11f0-88c9-0242ac1c000c\"] = window[\"id2\"].setSelectedTabIndex(0);\n",
              "//# sourceURL=js_eb5eaabfd3"
            ]
          },
          "metadata": {}
        },
        {
          "output_type": "display_data",
          "data": {
            "text/plain": [
              "<IPython.core.display.Javascript object>"
            ],
            "application/javascript": [
              "window[\"4a4c2f46-af89-11f0-88c9-0242ac1c000c\"] = google.colab.output.getActiveOutputArea();\n",
              "//# sourceURL=js_9daaf59941"
            ]
          },
          "metadata": {}
        },
        {
          "output_type": "display_data",
          "data": {
            "text/plain": [
              "<IPython.core.display.Javascript object>"
            ],
            "application/javascript": [
              "window[\"4a4c7000-af89-11f0-88c9-0242ac1c000c\"] = document.querySelector(\"#id2_content_0\");\n",
              "//# sourceURL=js_75f9ea7975"
            ]
          },
          "metadata": {}
        },
        {
          "output_type": "display_data",
          "data": {
            "text/plain": [
              "<IPython.core.display.Javascript object>"
            ],
            "application/javascript": [
              "window[\"4a4ca5fc-af89-11f0-88c9-0242ac1c000c\"] = google.colab.output.setActiveOutputArea(window[\"4a4c7000-af89-11f0-88c9-0242ac1c000c\"]);\n",
              "//# sourceURL=js_4686364a50"
            ]
          },
          "metadata": {}
        },
        {
          "output_type": "display_data",
          "data": {
            "text/plain": [
              "<IPython.core.display.Javascript object>"
            ],
            "application/javascript": [
              "window[\"4a4ce35a-af89-11f0-88c9-0242ac1c000c\"] = window[\"id2\"].setSelectedTabIndex(0);\n",
              "//# sourceURL=js_a39e5c8101"
            ]
          },
          "metadata": {}
        },
        {
          "output_type": "stream",
          "name": "stdout",
          "text": [
            "The following query is stored at \u001b[1mStats_sql\u001b[0m variable.\n",
            "-- Initializing PostgreSQL environment.\n",
            "set client_min_messages to warning;\n",
            "create schema if not exists logica_home;\n",
            "-- Empty logica type: logicarecord893574736;\n",
            "DO $$ BEGIN if not exists (select 'I(am) :- I(think)' from pg_type where typname = 'logicarecord893574736') then create type logicarecord893574736 as (nirvana numeric); end if; END $$;\n",
            "\n",
            "\n",
            "DO $$\n",
            "BEGIN\n",
            "-- Logica type: logicarecord481217614\n",
            "if not exists (select 'I(am) :- I(think)' from pg_type where typname = 'logicarecord481217614') then create type logicarecord481217614 as (r logicarecord893574736); end if;\n",
            "-- Logica type: logicarecord86796764\n",
            "if not exists (select 'I(am) :- I(think)' from pg_type where typname = 'logicarecord86796764') then create type logicarecord86796764 as (s text); end if;\n",
            "-- Logica type: logicarecord275391720\n",
            "if not exists (select 'I(am) :- I(think)' from pg_type where typname = 'logicarecord275391720') then create type logicarecord275391720 as (character text, name text); end if;\n",
            "-- Logica type: logicarecord573040768\n",
            "if not exists (select 'I(am) :- I(think)' from pg_type where typname = 'logicarecord573040768') then create type logicarecord573040768 as (department text, job text, name text); end if;\n",
            "-- Logica type: logicarecord500250946\n",
            "if not exists (select 'I(am) :- I(think)' from pg_type where typname = 'logicarecord500250946') then create type logicarecord500250946 as (\"cast\" logicarecord275391720[], crew logicarecord573040768[], movie_id numeric); end if;\n",
            "END $$;\n",
            "SELECT\n",
            "  CAST((SELECT\n",
            "  SUM((CASE WHEN x_4 = 0 THEN 1 ELSE NULL END)) AS logica_value\n",
            "FROM\n",
            "  logica_home.metadata AS logica_home_metadata, UNNEST(ARRAY[0]::numeric[]) as x_4) AS numeric) AS movies_count,\n",
            "  CAST((SELECT\n",
            "  SUM((CASE WHEN x_6 = 0 THEN 1 ELSE NULL END)) AS logica_value\n",
            "FROM\n",
            "  logica_home.credits AS logica_home_credits, UNNEST(ARRAY[0]::numeric[]) as x_6) AS numeric) AS credits_count,\n",
            "  CAST((SELECT\n",
            "  SUM((CASE WHEN x_8 = 0 THEN 1 ELSE NULL END)) AS logica_value\n",
            "FROM\n",
            "  logica_home.ratings AS logica_home_ratings, UNNEST(ARRAY[0]::numeric[]) as x_8) AS numeric) AS ratings_count;\n"
          ]
        },
        {
          "output_type": "display_data",
          "data": {
            "text/plain": [
              "<IPython.core.display.Javascript object>"
            ],
            "application/javascript": [
              "window[\"4a4da574-af89-11f0-88c9-0242ac1c000c\"] = google.colab.output.setActiveOutputArea(window[\"4a4c2f46-af89-11f0-88c9-0242ac1c000c\"]);\n",
              "//# sourceURL=js_df62397e02"
            ]
          },
          "metadata": {}
        },
        {
          "output_type": "display_data",
          "data": {
            "text/plain": [
              "<IPython.core.display.Javascript object>"
            ],
            "application/javascript": [
              "window[\"4a4ec92c-af89-11f0-88c9-0242ac1c000c\"] = google.colab.output.getActiveOutputArea();\n",
              "//# sourceURL=js_accbc5b23d"
            ]
          },
          "metadata": {}
        },
        {
          "output_type": "display_data",
          "data": {
            "text/plain": [
              "<IPython.core.display.Javascript object>"
            ],
            "application/javascript": [
              "window[\"4a4f0da6-af89-11f0-88c9-0242ac1c000c\"] = document.querySelector(\"#id2_content_1\");\n",
              "//# sourceURL=js_e4f8b5cbbf"
            ]
          },
          "metadata": {}
        },
        {
          "output_type": "display_data",
          "data": {
            "text/plain": [
              "<IPython.core.display.Javascript object>"
            ],
            "application/javascript": [
              "window[\"4a4f3dbc-af89-11f0-88c9-0242ac1c000c\"] = google.colab.output.setActiveOutputArea(window[\"4a4f0da6-af89-11f0-88c9-0242ac1c000c\"]);\n",
              "//# sourceURL=js_1b236794f5"
            ]
          },
          "metadata": {}
        },
        {
          "output_type": "display_data",
          "data": {
            "text/plain": [
              "<IPython.core.display.Javascript object>"
            ],
            "application/javascript": [
              "window[\"4a4f78cc-af89-11f0-88c9-0242ac1c000c\"] = window[\"id2\"].setSelectedTabIndex(1);\n",
              "//# sourceURL=js_ae1b5b1b50"
            ]
          },
          "metadata": {}
        },
        {
          "output_type": "stream",
          "name": "stdout",
          "text": [
            "The following table is stored at \u001b[1mStats\u001b[0m variable.\n"
          ]
        },
        {
          "output_type": "display_data",
          "data": {
            "text/plain": [
              "<IPython.core.display.HTML object>"
            ],
            "text/html": [
              "<table border=\"1\" class=\"dataframe\">\n",
              "  <thead>\n",
              "    <tr style=\"text-align: right;\">\n",
              "      <th></th>\n",
              "      <th>movies_count</th>\n",
              "      <th>credits_count</th>\n",
              "      <th>ratings_count</th>\n",
              "    </tr>\n",
              "  </thead>\n",
              "  <tbody>\n",
              "    <tr>\n",
              "      <th>0</th>\n",
              "      <td>45463</td>\n",
              "      <td>43018</td>\n",
              "      <td>2650582</td>\n",
              "    </tr>\n",
              "  </tbody>\n",
              "</table>"
            ]
          },
          "metadata": {}
        },
        {
          "output_type": "display_data",
          "data": {
            "text/plain": [
              "<IPython.core.display.Javascript object>"
            ],
            "application/javascript": [
              "window[\"4a508af0-af89-11f0-88c9-0242ac1c000c\"] = google.colab.output.setActiveOutputArea(window[\"4a4ec92c-af89-11f0-88c9-0242ac1c000c\"]);\n",
              "//# sourceURL=js_faf062191a"
            ]
          },
          "metadata": {}
        },
        {
          "output_type": "display_data",
          "data": {
            "text/plain": [
              "<IPython.core.display.Javascript object>"
            ],
            "application/javascript": [
              "window[\"4a517e74-af89-11f0-88c9-0242ac1c000c\"] = google.colab.output.setActiveOutputArea(window[\"4a48525e-af89-11f0-88c9-0242ac1c000c\"]);\n",
              "//# sourceURL=js_76b67a5bd1"
            ]
          },
          "metadata": {}
        },
        {
          "output_type": "display_data",
          "data": {
            "text/plain": [
              "<IPython.core.display.Javascript object>"
            ],
            "application/javascript": [
              "window[\"4a52ccfc-af89-11f0-88c9-0242ac1c000c\"] = google.colab.output.getActiveOutputArea();\n",
              "//# sourceURL=js_f23b72a8ee"
            ]
          },
          "metadata": {}
        },
        {
          "output_type": "display_data",
          "data": {
            "text/plain": [
              "<IPython.core.display.Javascript object>"
            ],
            "application/javascript": [
              "window[\"4a530ece-af89-11f0-88c9-0242ac1c000c\"] = document.querySelector(\"#id1_content_4\");\n",
              "//# sourceURL=js_c5bbbdc1ff"
            ]
          },
          "metadata": {}
        },
        {
          "output_type": "display_data",
          "data": {
            "text/plain": [
              "<IPython.core.display.Javascript object>"
            ],
            "application/javascript": [
              "window[\"4a534876-af89-11f0-88c9-0242ac1c000c\"] = google.colab.output.setActiveOutputArea(window[\"4a530ece-af89-11f0-88c9-0242ac1c000c\"]);\n",
              "//# sourceURL=js_4c0ee8d931"
            ]
          },
          "metadata": {}
        },
        {
          "output_type": "display_data",
          "data": {
            "text/plain": [
              "<IPython.core.display.Javascript object>"
            ],
            "application/javascript": [
              "window[\"4a5397cc-af89-11f0-88c9-0242ac1c000c\"] = window[\"id1\"].setSelectedTabIndex(4);\n",
              "//# sourceURL=js_6ef35a5ff7"
            ]
          },
          "metadata": {}
        },
        {
          "output_type": "display_data",
          "data": {
            "text/plain": [
              "<IPython.core.display.Javascript object>"
            ],
            "application/javascript": [
              "window[\"4a54b3e6-af89-11f0-88c9-0242ac1c000c\"] = google.colab.output.setActiveOutputArea(window[\"4a52ccfc-af89-11f0-88c9-0242ac1c000c\"]);\n",
              "//# sourceURL=js_328e8ec058"
            ]
          },
          "metadata": {}
        },
        {
          "output_type": "display_data",
          "data": {
            "text/plain": [
              "<IPython.core.display.Javascript object>"
            ],
            "application/javascript": [
              "window[\"4a55ff1c-af89-11f0-88c9-0242ac1c000c\"] = google.colab.output.getActiveOutputArea();\n",
              "//# sourceURL=js_b724c84a34"
            ]
          },
          "metadata": {}
        },
        {
          "output_type": "display_data",
          "data": {
            "text/plain": [
              "<IPython.core.display.Javascript object>"
            ],
            "application/javascript": [
              "window[\"4a5642ba-af89-11f0-88c9-0242ac1c000c\"] = document.querySelector(\"#id1_content_1\");\n",
              "//# sourceURL=js_cc93fef9fc"
            ]
          },
          "metadata": {}
        },
        {
          "output_type": "display_data",
          "data": {
            "text/plain": [
              "<IPython.core.display.Javascript object>"
            ],
            "application/javascript": [
              "window[\"4a568e1e-af89-11f0-88c9-0242ac1c000c\"] = google.colab.output.setActiveOutputArea(window[\"4a5642ba-af89-11f0-88c9-0242ac1c000c\"]);\n",
              "//# sourceURL=js_3c8a972b73"
            ]
          },
          "metadata": {}
        },
        {
          "output_type": "display_data",
          "data": {
            "text/plain": [
              "<IPython.core.display.Javascript object>"
            ],
            "application/javascript": [
              "window[\"4a56c262-af89-11f0-88c9-0242ac1c000c\"] = window[\"id1\"].setSelectedTabIndex(1);\n",
              "//# sourceURL=js_3f20f63a5c"
            ]
          },
          "metadata": {}
        },
        {
          "output_type": "display_data",
          "data": {
            "text/plain": [
              "<IPython.core.display.HTML object>"
            ],
            "text/html": [
              "<link rel=stylesheet type=text/css href='/nbextensions/google.colab/tabbar.css'></link>"
            ]
          },
          "metadata": {}
        },
        {
          "output_type": "display_data",
          "data": {
            "text/plain": [
              "<IPython.core.display.HTML object>"
            ],
            "text/html": [
              "<script src='/nbextensions/google.colab/tabbar_main.min.js'></script>"
            ]
          },
          "metadata": {}
        },
        {
          "output_type": "display_data",
          "data": {
            "text/plain": [
              "<IPython.core.display.HTML object>"
            ],
            "text/html": [
              "<div id=\"id3\"></div>"
            ]
          },
          "metadata": {}
        },
        {
          "output_type": "display_data",
          "data": {
            "text/plain": [
              "<IPython.core.display.Javascript object>"
            ],
            "application/javascript": [
              "window[\"4a58262a-af89-11f0-88c9-0242ac1c000c\"] = colab_lib.createTabBar({\"location\": \"top\", \"elementId\": \"id3\", \"tabNames\": [\"SQL\", \"Result\"], \"initialSelection\": 0, \"contentBorder\": [\"0px\"], \"contentHeight\": [\"initial\"], \"borderColor\": [\"#a7a7a7\"]});\n",
              "//# sourceURL=js_3a97cf4d7f"
            ]
          },
          "metadata": {}
        },
        {
          "output_type": "display_data",
          "data": {
            "text/plain": [
              "<IPython.core.display.Javascript object>"
            ],
            "application/javascript": [
              "window[\"4a585f50-af89-11f0-88c9-0242ac1c000c\"] = window[\"id3\"].setSelectedTabIndex(0);\n",
              "//# sourceURL=js_21a3266da7"
            ]
          },
          "metadata": {}
        },
        {
          "output_type": "display_data",
          "data": {
            "text/plain": [
              "<IPython.core.display.Javascript object>"
            ],
            "application/javascript": [
              "window[\"4a5953ce-af89-11f0-88c9-0242ac1c000c\"] = google.colab.output.getActiveOutputArea();\n",
              "//# sourceURL=js_4277fb1ffe"
            ]
          },
          "metadata": {}
        },
        {
          "output_type": "display_data",
          "data": {
            "text/plain": [
              "<IPython.core.display.Javascript object>"
            ],
            "application/javascript": [
              "window[\"4a598f24-af89-11f0-88c9-0242ac1c000c\"] = document.querySelector(\"#id3_content_0\");\n",
              "//# sourceURL=js_f53d8cbdda"
            ]
          },
          "metadata": {}
        },
        {
          "output_type": "display_data",
          "data": {
            "text/plain": [
              "<IPython.core.display.Javascript object>"
            ],
            "application/javascript": [
              "window[\"4a59bb70-af89-11f0-88c9-0242ac1c000c\"] = google.colab.output.setActiveOutputArea(window[\"4a598f24-af89-11f0-88c9-0242ac1c000c\"]);\n",
              "//# sourceURL=js_37f06b288f"
            ]
          },
          "metadata": {}
        },
        {
          "output_type": "display_data",
          "data": {
            "text/plain": [
              "<IPython.core.display.Javascript object>"
            ],
            "application/javascript": [
              "window[\"4a59f5b8-af89-11f0-88c9-0242ac1c000c\"] = window[\"id3\"].setSelectedTabIndex(0);\n",
              "//# sourceURL=js_8696ecae8c"
            ]
          },
          "metadata": {}
        },
        {
          "output_type": "stream",
          "name": "stdout",
          "text": [
            "The following query is stored at \u001b[1mSomeRatings_sql\u001b[0m variable.\n",
            "-- Initializing PostgreSQL environment.\n",
            "set client_min_messages to warning;\n",
            "create schema if not exists logica_home;\n",
            "-- Empty logica type: logicarecord893574736;\n",
            "DO $$ BEGIN if not exists (select 'I(am) :- I(think)' from pg_type where typname = 'logicarecord893574736') then create type logicarecord893574736 as (nirvana numeric); end if; END $$;\n",
            "\n",
            "\n",
            "DO $$\n",
            "BEGIN\n",
            "-- Logica type: logicarecord481217614\n",
            "if not exists (select 'I(am) :- I(think)' from pg_type where typname = 'logicarecord481217614') then create type logicarecord481217614 as (r logicarecord893574736); end if;\n",
            "-- Logica type: logicarecord86796764\n",
            "if not exists (select 'I(am) :- I(think)' from pg_type where typname = 'logicarecord86796764') then create type logicarecord86796764 as (s text); end if;\n",
            "-- Logica type: logicarecord275391720\n",
            "if not exists (select 'I(am) :- I(think)' from pg_type where typname = 'logicarecord275391720') then create type logicarecord275391720 as (character text, name text); end if;\n",
            "-- Logica type: logicarecord573040768\n",
            "if not exists (select 'I(am) :- I(think)' from pg_type where typname = 'logicarecord573040768') then create type logicarecord573040768 as (department text, job text, name text); end if;\n",
            "-- Logica type: logicarecord500250946\n",
            "if not exists (select 'I(am) :- I(think)' from pg_type where typname = 'logicarecord500250946') then create type logicarecord500250946 as (\"cast\" logicarecord275391720[], crew logicarecord573040768[], movie_id numeric); end if;\n",
            "END $$;\n",
            "SELECT\n",
            "  (logica_home_ratings).*\n",
            "FROM\n",
            "  logica_home.ratings AS logica_home_ratings LIMIT 100;\n"
          ]
        },
        {
          "output_type": "display_data",
          "data": {
            "text/plain": [
              "<IPython.core.display.Javascript object>"
            ],
            "application/javascript": [
              "window[\"4a5a9dec-af89-11f0-88c9-0242ac1c000c\"] = google.colab.output.setActiveOutputArea(window[\"4a5953ce-af89-11f0-88c9-0242ac1c000c\"]);\n",
              "//# sourceURL=js_d31c956f85"
            ]
          },
          "metadata": {}
        },
        {
          "output_type": "display_data",
          "data": {
            "text/plain": [
              "<IPython.core.display.Javascript object>"
            ],
            "application/javascript": [
              "window[\"4a5bb8f8-af89-11f0-88c9-0242ac1c000c\"] = google.colab.output.getActiveOutputArea();\n",
              "//# sourceURL=js_ff6d463efe"
            ]
          },
          "metadata": {}
        },
        {
          "output_type": "display_data",
          "data": {
            "text/plain": [
              "<IPython.core.display.Javascript object>"
            ],
            "application/javascript": [
              "window[\"4a5bf1b0-af89-11f0-88c9-0242ac1c000c\"] = document.querySelector(\"#id3_content_1\");\n",
              "//# sourceURL=js_40f328cee2"
            ]
          },
          "metadata": {}
        },
        {
          "output_type": "display_data",
          "data": {
            "text/plain": [
              "<IPython.core.display.Javascript object>"
            ],
            "application/javascript": [
              "window[\"4a5c3b02-af89-11f0-88c9-0242ac1c000c\"] = google.colab.output.setActiveOutputArea(window[\"4a5bf1b0-af89-11f0-88c9-0242ac1c000c\"]);\n",
              "//# sourceURL=js_fa49c7fda7"
            ]
          },
          "metadata": {}
        },
        {
          "output_type": "display_data",
          "data": {
            "text/plain": [
              "<IPython.core.display.Javascript object>"
            ],
            "application/javascript": [
              "window[\"4a5c6794-af89-11f0-88c9-0242ac1c000c\"] = window[\"id3\"].setSelectedTabIndex(1);\n",
              "//# sourceURL=js_f317533ba7"
            ]
          },
          "metadata": {}
        },
        {
          "output_type": "stream",
          "name": "stdout",
          "text": [
            "The following table is stored at \u001b[1mSomeRatings\u001b[0m variable.\n"
          ]
        },
        {
          "output_type": "display_data",
          "data": {
            "text/plain": [
              "<IPython.core.display.HTML object>"
            ],
            "text/html": [
              "<table border=\"1\" class=\"dataframe\">\n",
              "  <thead>\n",
              "    <tr style=\"text-align: right;\">\n",
              "      <th></th>\n",
              "      <th>user_id</th>\n",
              "      <th>movie_id</th>\n",
              "      <th>rating</th>\n",
              "    </tr>\n",
              "  </thead>\n",
              "  <tbody>\n",
              "    <tr>\n",
              "      <th>0</th>\n",
              "      <td>10</td>\n",
              "      <td>150</td>\n",
              "      <td>4.0</td>\n",
              "    </tr>\n",
              "    <tr>\n",
              "      <th>1</th>\n",
              "      <td>10</td>\n",
              "      <td>153</td>\n",
              "      <td>3.0</td>\n",
              "    </tr>\n",
              "    <tr>\n",
              "      <th>2</th>\n",
              "      <td>10</td>\n",
              "      <td>165</td>\n",
              "      <td>4.0</td>\n",
              "    </tr>\n",
              "    <tr>\n",
              "      <th>3</th>\n",
              "      <td>10</td>\n",
              "      <td>296</td>\n",
              "      <td>5.0</td>\n",
              "    </tr>\n",
              "    <tr>\n",
              "      <th>4</th>\n",
              "      <td>10</td>\n",
              "      <td>344</td>\n",
              "      <td>4.0</td>\n",
              "    </tr>\n",
              "    <tr>\n",
              "      <th>5</th>\n",
              "      <td>10</td>\n",
              "      <td>349</td>\n",
              "      <td>5.0</td>\n",
              "    </tr>\n",
              "    <tr>\n",
              "      <th>6</th>\n",
              "      <td>10</td>\n",
              "      <td>380</td>\n",
              "      <td>5.0</td>\n",
              "    </tr>\n",
              "    <tr>\n",
              "      <th>7</th>\n",
              "      <td>10</td>\n",
              "      <td>457</td>\n",
              "      <td>4.0</td>\n",
              "    </tr>\n",
              "    <tr>\n",
              "      <th>8</th>\n",
              "      <td>10</td>\n",
              "      <td>588</td>\n",
              "      <td>5.0</td>\n",
              "    </tr>\n",
              "    <tr>\n",
              "      <th>9</th>\n",
              "      <td>10</td>\n",
              "      <td>590</td>\n",
              "      <td>3.0</td>\n",
              "    </tr>\n",
              "    <tr>\n",
              "      <th>10</th>\n",
              "      <td>10</td>\n",
              "      <td>592</td>\n",
              "      <td>4.0</td>\n",
              "    </tr>\n",
              "    <tr>\n",
              "      <th>11</th>\n",
              "      <td>10</td>\n",
              "      <td>593</td>\n",
              "      <td>4.0</td>\n",
              "    </tr>\n",
              "    <tr>\n",
              "      <th>12</th>\n",
              "      <td>10</td>\n",
              "      <td>595</td>\n",
              "      <td>5.0</td>\n",
              "    </tr>\n",
              "    <tr>\n",
              "      <th>13</th>\n",
              "      <td>20</td>\n",
              "      <td>1</td>\n",
              "      <td>4.0</td>\n",
              "    </tr>\n",
              "    <tr>\n",
              "      <th>14</th>\n",
              "      <td>20</td>\n",
              "      <td>39</td>\n",
              "      <td>5.0</td>\n",
              "    </tr>\n",
              "    <tr>\n",
              "      <th>15</th>\n",
              "      <td>20</td>\n",
              "      <td>150</td>\n",
              "      <td>4.0</td>\n",
              "    </tr>\n",
              "    <tr>\n",
              "      <th>16</th>\n",
              "      <td>20</td>\n",
              "      <td>161</td>\n",
              "      <td>4.0</td>\n",
              "    </tr>\n",
              "    <tr>\n",
              "      <th>17</th>\n",
              "      <td>20</td>\n",
              "      <td>216</td>\n",
              "      <td>3.5</td>\n",
              "    </tr>\n",
              "    <tr>\n",
              "      <th>18</th>\n",
              "      <td>20</td>\n",
              "      <td>260</td>\n",
              "      <td>4.0</td>\n",
              "    </tr>\n",
              "    <tr>\n",
              "      <th>19</th>\n",
              "      <td>20</td>\n",
              "      <td>296</td>\n",
              "      <td>4.5</td>\n",
              "    </tr>\n",
              "    <tr>\n",
              "      <th>20</th>\n",
              "      <td>20</td>\n",
              "      <td>344</td>\n",
              "      <td>4.0</td>\n",
              "    </tr>\n",
              "    <tr>\n",
              "      <th>21</th>\n",
              "      <td>20</td>\n",
              "      <td>345</td>\n",
              "      <td>4.5</td>\n",
              "    </tr>\n",
              "    <tr>\n",
              "      <th>22</th>\n",
              "      <td>20</td>\n",
              "      <td>364</td>\n",
              "      <td>3.0</td>\n",
              "    </tr>\n",
              "    <tr>\n",
              "      <th>23</th>\n",
              "      <td>20</td>\n",
              "      <td>367</td>\n",
              "      <td>4.0</td>\n",
              "    </tr>\n",
              "    <tr>\n",
              "      <th>24</th>\n",
              "      <td>20</td>\n",
              "      <td>370</td>\n",
              "      <td>3.0</td>\n",
              "    </tr>\n",
              "    <tr>\n",
              "      <th>25</th>\n",
              "      <td>20</td>\n",
              "      <td>410</td>\n",
              "      <td>5.0</td>\n",
              "    </tr>\n",
              "    <tr>\n",
              "      <th>26</th>\n",
              "      <td>20</td>\n",
              "      <td>480</td>\n",
              "      <td>4.0</td>\n",
              "    </tr>\n",
              "    <tr>\n",
              "      <th>27</th>\n",
              "      <td>20</td>\n",
              "      <td>520</td>\n",
              "      <td>4.5</td>\n",
              "    </tr>\n",
              "    <tr>\n",
              "      <th>28</th>\n",
              "      <td>20</td>\n",
              "      <td>551</td>\n",
              "      <td>4.5</td>\n",
              "    </tr>\n",
              "    <tr>\n",
              "      <th>29</th>\n",
              "      <td>20</td>\n",
              "      <td>588</td>\n",
              "      <td>5.0</td>\n",
              "    </tr>\n",
              "    <tr>\n",
              "      <th>...</th>\n",
              "      <td>...</td>\n",
              "      <td>...</td>\n",
              "      <td>...</td>\n",
              "    </tr>\n",
              "    <tr>\n",
              "      <th>70</th>\n",
              "      <td>20</td>\n",
              "      <td>1704</td>\n",
              "      <td>4.0</td>\n",
              "    </tr>\n",
              "    <tr>\n",
              "      <th>71</th>\n",
              "      <td>20</td>\n",
              "      <td>1732</td>\n",
              "      <td>4.5</td>\n",
              "    </tr>\n",
              "    <tr>\n",
              "      <th>72</th>\n",
              "      <td>20</td>\n",
              "      <td>1907</td>\n",
              "      <td>4.0</td>\n",
              "    </tr>\n",
              "    <tr>\n",
              "      <th>73</th>\n",
              "      <td>20</td>\n",
              "      <td>2010</td>\n",
              "      <td>2.5</td>\n",
              "    </tr>\n",
              "    <tr>\n",
              "      <th>74</th>\n",
              "      <td>20</td>\n",
              "      <td>2078</td>\n",
              "      <td>4.0</td>\n",
              "    </tr>\n",
              "    <tr>\n",
              "      <th>75</th>\n",
              "      <td>20</td>\n",
              "      <td>2081</td>\n",
              "      <td>3.5</td>\n",
              "    </tr>\n",
              "    <tr>\n",
              "      <th>76</th>\n",
              "      <td>20</td>\n",
              "      <td>2087</td>\n",
              "      <td>3.0</td>\n",
              "    </tr>\n",
              "    <tr>\n",
              "      <th>77</th>\n",
              "      <td>20</td>\n",
              "      <td>2089</td>\n",
              "      <td>3.0</td>\n",
              "    </tr>\n",
              "    <tr>\n",
              "      <th>78</th>\n",
              "      <td>20</td>\n",
              "      <td>2124</td>\n",
              "      <td>5.0</td>\n",
              "    </tr>\n",
              "    <tr>\n",
              "      <th>79</th>\n",
              "      <td>20</td>\n",
              "      <td>2141</td>\n",
              "      <td>3.0</td>\n",
              "    </tr>\n",
              "    <tr>\n",
              "      <th>80</th>\n",
              "      <td>20</td>\n",
              "      <td>2174</td>\n",
              "      <td>4.0</td>\n",
              "    </tr>\n",
              "    <tr>\n",
              "      <th>81</th>\n",
              "      <td>20</td>\n",
              "      <td>2291</td>\n",
              "      <td>4.0</td>\n",
              "    </tr>\n",
              "    <tr>\n",
              "      <th>82</th>\n",
              "      <td>20</td>\n",
              "      <td>2294</td>\n",
              "      <td>4.5</td>\n",
              "    </tr>\n",
              "    <tr>\n",
              "      <th>83</th>\n",
              "      <td>20</td>\n",
              "      <td>2325</td>\n",
              "      <td>4.0</td>\n",
              "    </tr>\n",
              "    <tr>\n",
              "      <th>84</th>\n",
              "      <td>20</td>\n",
              "      <td>2355</td>\n",
              "      <td>4.0</td>\n",
              "    </tr>\n",
              "    <tr>\n",
              "      <th>85</th>\n",
              "      <td>20</td>\n",
              "      <td>2394</td>\n",
              "      <td>4.0</td>\n",
              "    </tr>\n",
              "    <tr>\n",
              "      <th>86</th>\n",
              "      <td>20</td>\n",
              "      <td>2571</td>\n",
              "      <td>4.5</td>\n",
              "    </tr>\n",
              "    <tr>\n",
              "      <th>87</th>\n",
              "      <td>20</td>\n",
              "      <td>2617</td>\n",
              "      <td>4.0</td>\n",
              "    </tr>\n",
              "    <tr>\n",
              "      <th>88</th>\n",
              "      <td>20</td>\n",
              "      <td>2628</td>\n",
              "      <td>3.0</td>\n",
              "    </tr>\n",
              "    <tr>\n",
              "      <th>89</th>\n",
              "      <td>20</td>\n",
              "      <td>2657</td>\n",
              "      <td>4.5</td>\n",
              "    </tr>\n",
              "    <tr>\n",
              "      <th>90</th>\n",
              "      <td>20</td>\n",
              "      <td>2687</td>\n",
              "      <td>3.0</td>\n",
              "    </tr>\n",
              "    <tr>\n",
              "      <th>91</th>\n",
              "      <td>20</td>\n",
              "      <td>2700</td>\n",
              "      <td>4.5</td>\n",
              "    </tr>\n",
              "    <tr>\n",
              "      <th>92</th>\n",
              "      <td>20</td>\n",
              "      <td>2701</td>\n",
              "      <td>3.0</td>\n",
              "    </tr>\n",
              "    <tr>\n",
              "      <th>93</th>\n",
              "      <td>20</td>\n",
              "      <td>2716</td>\n",
              "      <td>3.5</td>\n",
              "    </tr>\n",
              "    <tr>\n",
              "      <th>94</th>\n",
              "      <td>20</td>\n",
              "      <td>2746</td>\n",
              "      <td>3.5</td>\n",
              "    </tr>\n",
              "    <tr>\n",
              "      <th>95</th>\n",
              "      <td>20</td>\n",
              "      <td>2843</td>\n",
              "      <td>4.0</td>\n",
              "    </tr>\n",
              "    <tr>\n",
              "      <th>96</th>\n",
              "      <td>20</td>\n",
              "      <td>2959</td>\n",
              "      <td>4.0</td>\n",
              "    </tr>\n",
              "    <tr>\n",
              "      <th>97</th>\n",
              "      <td>20</td>\n",
              "      <td>2987</td>\n",
              "      <td>4.5</td>\n",
              "    </tr>\n",
              "    <tr>\n",
              "      <th>98</th>\n",
              "      <td>20</td>\n",
              "      <td>3000</td>\n",
              "      <td>4.0</td>\n",
              "    </tr>\n",
              "    <tr>\n",
              "      <th>99</th>\n",
              "      <td>20</td>\n",
              "      <td>3033</td>\n",
              "      <td>4.0</td>\n",
              "    </tr>\n",
              "  </tbody>\n",
              "</table>"
            ]
          },
          "metadata": {}
        },
        {
          "output_type": "display_data",
          "data": {
            "text/plain": [
              "<IPython.core.display.Javascript object>"
            ],
            "application/javascript": [
              "window[\"4a5d5208-af89-11f0-88c9-0242ac1c000c\"] = google.colab.output.setActiveOutputArea(window[\"4a5bb8f8-af89-11f0-88c9-0242ac1c000c\"]);\n",
              "//# sourceURL=js_a18d54ab28"
            ]
          },
          "metadata": {}
        },
        {
          "output_type": "display_data",
          "data": {
            "text/plain": [
              "<IPython.core.display.Javascript object>"
            ],
            "application/javascript": [
              "window[\"4a5e2eda-af89-11f0-88c9-0242ac1c000c\"] = google.colab.output.setActiveOutputArea(window[\"4a55ff1c-af89-11f0-88c9-0242ac1c000c\"]);\n",
              "//# sourceURL=js_e415952189"
            ]
          },
          "metadata": {}
        },
        {
          "output_type": "display_data",
          "data": {
            "text/plain": [
              "<IPython.core.display.Javascript object>"
            ],
            "application/javascript": [
              "window[\"4a5f3ca8-af89-11f0-88c9-0242ac1c000c\"] = google.colab.output.getActiveOutputArea();\n",
              "//# sourceURL=js_2a6d929cf6"
            ]
          },
          "metadata": {}
        },
        {
          "output_type": "display_data",
          "data": {
            "text/plain": [
              "<IPython.core.display.Javascript object>"
            ],
            "application/javascript": [
              "window[\"4a5f77ea-af89-11f0-88c9-0242ac1c000c\"] = document.querySelector(\"#id1_content_4\");\n",
              "//# sourceURL=js_deb9a5b7bb"
            ]
          },
          "metadata": {}
        },
        {
          "output_type": "display_data",
          "data": {
            "text/plain": [
              "<IPython.core.display.Javascript object>"
            ],
            "application/javascript": [
              "window[\"4a5fbf34-af89-11f0-88c9-0242ac1c000c\"] = google.colab.output.setActiveOutputArea(window[\"4a5f77ea-af89-11f0-88c9-0242ac1c000c\"]);\n",
              "//# sourceURL=js_a7cd49dd11"
            ]
          },
          "metadata": {}
        },
        {
          "output_type": "display_data",
          "data": {
            "text/plain": [
              "<IPython.core.display.Javascript object>"
            ],
            "application/javascript": [
              "window[\"4a5fecc0-af89-11f0-88c9-0242ac1c000c\"] = window[\"id1\"].setSelectedTabIndex(4);\n",
              "//# sourceURL=js_cec306080a"
            ]
          },
          "metadata": {}
        },
        {
          "output_type": "display_data",
          "data": {
            "text/plain": [
              "<IPython.core.display.Javascript object>"
            ],
            "application/javascript": [
              "window[\"4a61c90a-af89-11f0-88c9-0242ac1c000c\"] = google.colab.output.setActiveOutputArea(window[\"4a5f3ca8-af89-11f0-88c9-0242ac1c000c\"]);\n",
              "//# sourceURL=js_758ed58a03"
            ]
          },
          "metadata": {}
        },
        {
          "output_type": "display_data",
          "data": {
            "text/plain": [
              "<IPython.core.display.Javascript object>"
            ],
            "application/javascript": [
              "window[\"4a630dec-af89-11f0-88c9-0242ac1c000c\"] = google.colab.output.getActiveOutputArea();\n",
              "//# sourceURL=js_df3a537402"
            ]
          },
          "metadata": {}
        },
        {
          "output_type": "display_data",
          "data": {
            "text/plain": [
              "<IPython.core.display.Javascript object>"
            ],
            "application/javascript": [
              "window[\"4a636328-af89-11f0-88c9-0242ac1c000c\"] = document.querySelector(\"#id1_content_2\");\n",
              "//# sourceURL=js_f00416fecb"
            ]
          },
          "metadata": {}
        },
        {
          "output_type": "display_data",
          "data": {
            "text/plain": [
              "<IPython.core.display.Javascript object>"
            ],
            "application/javascript": [
              "window[\"4a63a680-af89-11f0-88c9-0242ac1c000c\"] = google.colab.output.setActiveOutputArea(window[\"4a636328-af89-11f0-88c9-0242ac1c000c\"]);\n",
              "//# sourceURL=js_27051f286b"
            ]
          },
          "metadata": {}
        },
        {
          "output_type": "display_data",
          "data": {
            "text/plain": [
              "<IPython.core.display.Javascript object>"
            ],
            "application/javascript": [
              "window[\"4a63f43c-af89-11f0-88c9-0242ac1c000c\"] = window[\"id1\"].setSelectedTabIndex(2);\n",
              "//# sourceURL=js_0ecc420bd3"
            ]
          },
          "metadata": {}
        },
        {
          "output_type": "display_data",
          "data": {
            "text/plain": [
              "<IPython.core.display.HTML object>"
            ],
            "text/html": [
              "<link rel=stylesheet type=text/css href='/nbextensions/google.colab/tabbar.css'></link>"
            ]
          },
          "metadata": {}
        },
        {
          "output_type": "display_data",
          "data": {
            "text/plain": [
              "<IPython.core.display.HTML object>"
            ],
            "text/html": [
              "<script src='/nbextensions/google.colab/tabbar_main.min.js'></script>"
            ]
          },
          "metadata": {}
        },
        {
          "output_type": "display_data",
          "data": {
            "text/plain": [
              "<IPython.core.display.HTML object>"
            ],
            "text/html": [
              "<div id=\"id4\"></div>"
            ]
          },
          "metadata": {}
        },
        {
          "output_type": "display_data",
          "data": {
            "text/plain": [
              "<IPython.core.display.Javascript object>"
            ],
            "application/javascript": [
              "window[\"4a65198e-af89-11f0-88c9-0242ac1c000c\"] = colab_lib.createTabBar({\"location\": \"top\", \"elementId\": \"id4\", \"tabNames\": [\"SQL\", \"Result\"], \"initialSelection\": 0, \"contentBorder\": [\"0px\"], \"contentHeight\": [\"initial\"], \"borderColor\": [\"#a7a7a7\"]});\n",
              "//# sourceURL=js_6002d3525e"
            ]
          },
          "metadata": {}
        },
        {
          "output_type": "display_data",
          "data": {
            "text/plain": [
              "<IPython.core.display.Javascript object>"
            ],
            "application/javascript": [
              "window[\"4a6544d6-af89-11f0-88c9-0242ac1c000c\"] = window[\"id4\"].setSelectedTabIndex(0);\n",
              "//# sourceURL=js_b8dc519d89"
            ]
          },
          "metadata": {}
        },
        {
          "output_type": "display_data",
          "data": {
            "text/plain": [
              "<IPython.core.display.Javascript object>"
            ],
            "application/javascript": [
              "window[\"4a662a4a-af89-11f0-88c9-0242ac1c000c\"] = google.colab.output.getActiveOutputArea();\n",
              "//# sourceURL=js_5f60c70bcb"
            ]
          },
          "metadata": {}
        },
        {
          "output_type": "display_data",
          "data": {
            "text/plain": [
              "<IPython.core.display.Javascript object>"
            ],
            "application/javascript": [
              "window[\"4a666e6a-af89-11f0-88c9-0242ac1c000c\"] = document.querySelector(\"#id4_content_0\");\n",
              "//# sourceURL=js_2133a1a7fb"
            ]
          },
          "metadata": {}
        },
        {
          "output_type": "display_data",
          "data": {
            "text/plain": [
              "<IPython.core.display.Javascript object>"
            ],
            "application/javascript": [
              "window[\"4a66a2fe-af89-11f0-88c9-0242ac1c000c\"] = google.colab.output.setActiveOutputArea(window[\"4a666e6a-af89-11f0-88c9-0242ac1c000c\"]);\n",
              "//# sourceURL=js_0244e168f1"
            ]
          },
          "metadata": {}
        },
        {
          "output_type": "display_data",
          "data": {
            "text/plain": [
              "<IPython.core.display.Javascript object>"
            ],
            "application/javascript": [
              "window[\"4a66e0fc-af89-11f0-88c9-0242ac1c000c\"] = window[\"id4\"].setSelectedTabIndex(0);\n",
              "//# sourceURL=js_662b747356"
            ]
          },
          "metadata": {}
        },
        {
          "output_type": "stream",
          "name": "stdout",
          "text": [
            "The following query is stored at \u001b[1mSomeCredits_sql\u001b[0m variable.\n",
            "-- Initializing PostgreSQL environment.\n",
            "set client_min_messages to warning;\n",
            "create schema if not exists logica_home;\n",
            "-- Empty logica type: logicarecord893574736;\n",
            "DO $$ BEGIN if not exists (select 'I(am) :- I(think)' from pg_type where typname = 'logicarecord893574736') then create type logicarecord893574736 as (nirvana numeric); end if; END $$;\n",
            "\n",
            "\n",
            "DO $$\n",
            "BEGIN\n",
            "-- Logica type: logicarecord481217614\n",
            "if not exists (select 'I(am) :- I(think)' from pg_type where typname = 'logicarecord481217614') then create type logicarecord481217614 as (r logicarecord893574736); end if;\n",
            "-- Logica type: logicarecord86796764\n",
            "if not exists (select 'I(am) :- I(think)' from pg_type where typname = 'logicarecord86796764') then create type logicarecord86796764 as (s text); end if;\n",
            "-- Logica type: logicarecord275391720\n",
            "if not exists (select 'I(am) :- I(think)' from pg_type where typname = 'logicarecord275391720') then create type logicarecord275391720 as (character text, name text); end if;\n",
            "-- Logica type: logicarecord573040768\n",
            "if not exists (select 'I(am) :- I(think)' from pg_type where typname = 'logicarecord573040768') then create type logicarecord573040768 as (department text, job text, name text); end if;\n",
            "-- Logica type: logicarecord500250946\n",
            "if not exists (select 'I(am) :- I(think)' from pg_type where typname = 'logicarecord500250946') then create type logicarecord500250946 as (\"cast\" logicarecord275391720[], crew logicarecord573040768[], movie_id numeric); end if;\n",
            "END $$;\n",
            "SELECT\n",
            "  (logica_home_credits).*\n",
            "FROM\n",
            "  logica_home.credits AS logica_home_credits LIMIT 100;\n"
          ]
        },
        {
          "output_type": "display_data",
          "data": {
            "text/plain": [
              "<IPython.core.display.Javascript object>"
            ],
            "application/javascript": [
              "window[\"4a679f38-af89-11f0-88c9-0242ac1c000c\"] = google.colab.output.setActiveOutputArea(window[\"4a662a4a-af89-11f0-88c9-0242ac1c000c\"]);\n",
              "//# sourceURL=js_ebcac1cde6"
            ]
          },
          "metadata": {}
        },
        {
          "output_type": "display_data",
          "data": {
            "text/plain": [
              "<IPython.core.display.Javascript object>"
            ],
            "application/javascript": [
              "window[\"4a68bb8e-af89-11f0-88c9-0242ac1c000c\"] = google.colab.output.getActiveOutputArea();\n",
              "//# sourceURL=js_1b6b6ba2a9"
            ]
          },
          "metadata": {}
        },
        {
          "output_type": "display_data",
          "data": {
            "text/plain": [
              "<IPython.core.display.Javascript object>"
            ],
            "application/javascript": [
              "window[\"4a68f4d2-af89-11f0-88c9-0242ac1c000c\"] = document.querySelector(\"#id4_content_1\");\n",
              "//# sourceURL=js_10aebeeb8d"
            ]
          },
          "metadata": {}
        },
        {
          "output_type": "display_data",
          "data": {
            "text/plain": [
              "<IPython.core.display.Javascript object>"
            ],
            "application/javascript": [
              "window[\"4a69786c-af89-11f0-88c9-0242ac1c000c\"] = google.colab.output.setActiveOutputArea(window[\"4a68f4d2-af89-11f0-88c9-0242ac1c000c\"]);\n",
              "//# sourceURL=js_3c626c6002"
            ]
          },
          "metadata": {}
        },
        {
          "output_type": "display_data",
          "data": {
            "text/plain": [
              "<IPython.core.display.Javascript object>"
            ],
            "application/javascript": [
              "window[\"4a69a76a-af89-11f0-88c9-0242ac1c000c\"] = window[\"id4\"].setSelectedTabIndex(1);\n",
              "//# sourceURL=js_6565102655"
            ]
          },
          "metadata": {}
        },
        {
          "output_type": "stream",
          "name": "stdout",
          "text": [
            "The following table is stored at \u001b[1mSomeCredits\u001b[0m variable.\n"
          ]
        },
        {
          "output_type": "display_data",
          "data": {
            "text/plain": [
              "<IPython.core.display.HTML object>"
            ],
            "text/html": [
              "<table border=\"1\" class=\"dataframe\">\n",
              "  <thead>\n",
              "    <tr style=\"text-align: right;\">\n",
              "      <th></th>\n",
              "      <th>movie_id</th>\n",
              "      <th>cast</th>\n",
              "      <th>crew</th>\n",
              "    </tr>\n",
              "  </thead>\n",
              "  <tbody>\n",
              "    <tr>\n",
              "      <th>0</th>\n",
              "      <td>2</td>\n",
              "      <td>[{'character': 'Taisto Olavi Kasurinen', 'name': 'Turo Pajala'}, {'character': 'Irmeli Katariina Pihlaja', 'name': 'Susanna Haavisto'}, {'character': 'Mikkonen', 'name': 'Matti Pellonpää'}, {'character': 'Riku', 'name': 'Eetu Hilkamo'}]</td>\n",
              "      <td>[{'department': 'Costume &amp; Make-Up', 'job': 'Costume Design', 'name': 'Tuula Hilkamo'}, {'department': 'Art', 'job': 'Production Design', 'name': 'Risto Karhula'}, {'department': 'Editing', 'job': 'Editor', 'name': 'Raija Talvio'}, {'department': 'Camera', 'job': 'Director of Photography', 'name': 'Timo Salminen'}, {'department': 'Directing', 'job': 'Director', 'name': 'Aki Kaurismäki'}, {'department': 'Writing', 'job': 'Screenplay', 'name': 'Aki Kaurismäki'}]</td>\n",
              "    </tr>\n",
              "    <tr>\n",
              "      <th>1</th>\n",
              "      <td>3</td>\n",
              "      <td>[{'character': 'Nikander', 'name': 'Matti Pellonpää'}, {'character': 'Third Man', 'name': 'Jukka-Pekka Palo'}, {'character': 'Shop Steward', 'name': 'Pekka Laiho'}, {'character': 'Ilona's Girlfriend', 'name': 'Kylli Köngäs'}, {'character': 'Co-worker', 'name': 'Esko Nikkari'}, {'character': 'Melartin', 'name': 'Sakari Kuosmanen'}, {'character': 'Ilona Rajamäki', 'name': 'Kati Outinen'}]</td>\n",
              "      <td>[{'department': 'Writing', 'job': 'Screenplay', 'name': 'Aki Kaurismäki'}, {'department': 'Directing', 'job': 'Director', 'name': 'Aki Kaurismäki'}, {'department': 'Camera', 'job': 'Director of Photography', 'name': 'Timo Salminen'}, {'department': 'Crew', 'job': 'Compositors', 'name': 'Timo Salminen'}, {'department': 'Editing', 'job': 'Editor', 'name': 'Raija Talvio'}, {'department': 'Production', 'job': 'Producer', 'name': 'Mika Kaurismäki'}, {'department': 'Camera', 'job': 'Camera Operator', 'name': 'Albert Collins'}, {'department': 'Art', 'job': 'Art Direction', 'name': 'Heikki Ukkonen'}, {'department': 'Art', 'job': 'Art Direction', 'name': 'Pertti Hilkamo'}, {'department': 'Directing', 'job': 'Script Supervisor', 'name': 'Marja-Leena Helin'}, {'department': 'Camera', 'job': 'Still Photographer', 'name': 'Marja-Leena Helin'}]</td>\n",
              "    </tr>\n",
              "    <tr>\n",
              "      <th>2</th>\n",
              "      <td>5</td>\n",
              "      <td>[{'character': 'Jezebel', 'name': 'Sammi Davis'}, {'character': 'Diana', 'name': 'Amanda de Cadenet'}, {'character': 'Ted the Bellhop', 'name': 'Tim Roth'}, {'character': 'Athena', 'name': 'Valeria Golino'}, {'character': 'Raven', 'name': 'Lili Taylor'}, {'character': 'Long Hair Yuppy Scum', 'name': 'Lawrence Bender'}, {'character': 'Eva', 'name': 'Ione Skye'}, {'character': 'Kiva', 'name': 'Alicia Witt'}, {'character': 'Sam the Bellhop', 'name': 'Marc Lawrence'}, {'character': 'Hooker', 'name': 'Kimberly Blair'}, {'character': 'Juancho', 'name': 'Danny Verduzco'}, {'character': 'Corpse', 'name': 'Patricia Vonne'}, {'character': 'TV Dancing Girl', 'name': 'Salma Hayek'}, {'character': 'Norman', 'name': 'Paul Calderon'}, {'character': 'Betty', 'name': 'Kathy Griffin'}, {'character': 'Siegfried', 'name': 'David Proval'}, {'character': 'Sarah', 'name': 'Lana McKissack'}, {'character': 'Wife', 'name': 'Tamlyn Tomita'}, {'character': 'Man', 'name': 'Antonio Banderas'}, {'character': 'Angela', 'name': 'Jennifer Beals'}, {'character': 'Elspeth', 'name': 'Madonna'}, {'character': 'Margaret', 'name': 'Marisa Tomei'}, {'character': 'Leo', 'name': 'Bruce Willis'}, {'character': 'Chester Rush', 'name': 'Quentin Tarantino'}]</td>\n",
              "      <td>[{'department': 'Sound', 'job': 'Original Music Composer', 'name': 'Combustible Edison'}, {'department': 'Sound', 'job': 'First Assistant Sound Editor', 'name': 'Tim Tuchrello'}, {'department': 'Sound', 'job': 'Music Editor', 'name': 'Denise Okimoto'}, {'department': 'Art', 'job': 'Lead Painter', 'name': 'Marc Gillson'}, {'department': 'Art', 'job': 'Construction Foreman', 'name': 'Ray Maxwell'}, {'department': 'Art', 'job': 'Construction Coordinator', 'name': 'Brian Markey'}, {'department': 'Art', 'job': 'Art Department Coordinator', 'name': 'Marisol Jiménez'}, {'department': 'Costume &amp; Make-Up', 'job': 'Costume Design', 'name': 'Mary Claire Hannan'}, {'department': 'Costume &amp; Make-Up', 'job': 'Costume Design', 'name': 'Susan L. Bertram'}, {'department': 'Sound', 'job': 'Music Supervisor', 'name': 'Karyn Rachtman'}, {'department': 'Camera', 'job': 'First Assistant Camera', 'name': 'Ziad Doueiri'}, {'department': 'Camera', 'job': 'Key Grip', 'name': 'Rick Stribling'}, {'department': 'Camera', 'job': 'Grip', 'name': 'Elizabeth Bolden'}, {'department': 'Camera', 'job': 'Steadicam Operator', 'name': 'Jonathan Brown'}, {'department': 'Costume &amp; Make-Up', 'job': 'Costume Supervisor', 'name': 'Jacqueline Aronson'}, {'department': 'Costume &amp; Make-Up', 'job': 'Costume Supervisor', 'name': 'Thomas G. Marquez'}, {'department': 'Costume &amp; Make-Up', 'job': 'Hairstylist', 'name': 'Orlando'}, {'department': 'Costume &amp; Make-Up', 'job': 'Key Hair Stylist', 'name': 'Ermahn Ospina'}, {'department': 'Costume &amp; Make-Up', 'job': 'Makeup Artist', 'name': 'Paul Starr'}, {'department': 'Crew', 'job': 'Carpenter', 'name': 'James C. Beeson'}, {'department': 'Crew', 'job': 'Choreographer', 'name': 'Sissy Boyd'}, {'department': 'Crew', 'job': 'Craft Service', 'name': 'Derek Hurd'}, {'department': 'Crew', 'job': 'Driver', 'name': 'Darrell Dubovsky'}, {'department': 'Crew', 'job': 'Post Production Assistant', 'name': 'Ben Parker'}, {'department': 'Art', 'job': 'Property Master', 'name': 'Lynda Reiss'}, {'department': 'Crew', 'job': 'Security', 'name': 'Nick Roberts'}, {'department': 'Crew', 'job': 'Set Medic', 'name': 'Patrice Carbaugh'}, {'department': 'Crew', 'job': 'Set Production Assistant', 'name': 'Ben Parker'}, {'department': 'Crew', 'job': 'Special Effects Coordinator', 'name': 'Paul Taglianetti'}, {'department': 'Crew', 'job': 'Stand In', 'name': 'Michael Boyce Harris'}, {'department': 'Crew', 'job': 'Transportation Captain', 'name': 'Dotti Thompson'}, {'department': 'Crew', 'job': 'Transportation Coordinator', 'name': 'P. Gerald Knight'}, {'department': 'Production', 'job': 'Unit Production Manager', 'name': 'Debbie Hayn-Cass'}, {'department': 'Crew', 'job': 'Unit Publicist', 'name': 'Nancy Willen'}, {'department': 'Directing', 'job': 'First Assistant Director', 'name': 'Douglas Aarniokoski'}, {'department': 'Directing', 'job': 'First Assistant Director', 'name': 'Fernando Altschul'}, {'department': 'Directing', 'job': 'Script Supervisor', 'name': 'Jayne-Ann Tenggren'}, {'department': 'Art', 'job': 'Standby Painter', 'name': 'T.D. Donnelly'}, {'department': 'Sound', 'job': 'Dolby Consultant', 'name': 'Thom 'Coach' Ehle'}, {'department': 'Crew', 'job': 'Creative Consultant', 'name': 'Chuck Jones'}, {'department': 'Crew', 'job': 'Studio Teachers', 'name': 'Jan D. Tys'}, {'department': 'Crew', 'job': 'Special Sound Effects', 'name': 'Victor Iorillo'}, {'department': 'Sound', 'job': 'Supervising Sound Editor', 'name': 'Bruce Fortune'}, {'department': 'Sound', 'job': 'Sound Effects Editor', 'name': 'Glenn Hoskinson'}, {'department': 'Sound', 'job': 'Sound Editor', 'name': 'Jay Nierenberg'}, {'department': 'Sound', 'job': 'Production Sound Mixer', 'name': 'Pawel Wdowczak'}, {'department': 'Writing', 'job': 'Writer', 'name': 'Robert Rodriguez'}, {'department': 'Writing', 'job': 'Writer', 'name': 'Alexandre Rockwell'}, {'department': 'Writing', 'job': 'Writer', 'name': 'Allison Anders'}, {'department': 'Art', 'job': 'Set Decoration', 'name': 'Sara Andrews'}, {'department': 'Art', 'job': 'Art Direction', 'name': 'Mayne Berke'}, {'department': 'Production', 'job': 'Casting', 'name': 'Russell Gray'}, {'department': 'Production', 'job': 'Executive Producer', 'name': 'Alexandre Rockwell'}, {'department': 'Production', 'job': 'Executive Producer', 'name': 'Quentin Tarantino'}, {'department': 'Production', 'job': 'Producer', 'name': 'Lawrence Bender'}, {'department': 'Directing', 'job': 'Director', 'name': 'Quentin Tarantino'}, {'department': 'Directing', 'job': 'Director', 'name': 'Robert Rodriguez'}, {'department': 'Directing', 'job': 'Director', 'name': 'Alexandre Rockwell'}, {'department': 'Directing', 'job': 'Director', 'name': 'Allison Anders'}, {'department': 'Sound', 'job': 'Sound Designer', 'name': 'Lance Brown'}, {'department': 'Art', 'job': 'Production Design', 'name': 'Gary Frutkoff'}, {'department': 'Sound', 'job': 'Boom Operator', 'name': 'Paul Koronkiewicz'}, {'department': 'Editing', 'job': 'Color Timer', 'name': 'Mike Stanwick'}, {'department': 'Editing', 'job': 'First Assistant Editor', 'name': 'Bob Allen'}, {'department': 'Editing', 'job': 'First Assistant Editor', 'name': 'Erik C. Andersen'}, {'department': 'Lighting', 'job': 'Best Boy Electric', 'name': 'Edgar Arellano'}, {'department': 'Lighting', 'job': 'Electrician', 'name': 'Marcel DeJure'}, {'department': 'Lighting', 'job': 'Gaffer', 'name': 'Chuck Smith'}, {'department': 'Production', 'job': 'Casting Associate', 'name': 'Randi Hiller'}, {'department': 'Art', 'job': 'Painter', 'name': 'Carlos A. Chavez'}, {'department': 'Production', 'job': 'Location Manager', 'name': 'Robert Earl Craft'}, {'department': 'Production', 'job': 'Production Accountant', 'name': 'Deborah Hebert'}, {'department': 'Production', 'job': 'Production Coordinator', 'name': 'Dawn Todd Curfman'}, {'department': 'Production', 'job': 'Production Manager', 'name': 'Paul Hellerman'}, {'department': 'Production', 'job': 'Production Supervisor', 'name': 'Debbie Hayn-Cass'}, {'department': 'Production', 'job': 'Co-Producer', 'name': 'Heidi Vogel'}, {'department': 'Production', 'job': 'Co-Producer', 'name': 'Scott Lambert'}, {'department': 'Production', 'job': 'Co-Producer', 'name': 'Paul Hellerman'}, {'department': 'Sound', 'job': 'Foley', 'name': 'David Gertz'}, {'department': 'Editing', 'job': 'Editor', 'name': 'Robert Rodriguez'}, {'department': 'Editing', 'job': 'Editor', 'name': 'Sally Menke'}, {'department': 'Editing', 'job': 'Editor', 'name': 'Elena Maganini'}, {'department': 'Editing', 'job': 'Editor', 'name': 'Margaret Goodspeed'}, {'department': 'Camera', 'job': 'Director of Photography', 'name': 'Andrzej Sekula'}, {'department': 'Camera', 'job': 'Director of Photography', 'name': 'Phil Parmet'}, {'department': 'Camera', 'job': 'Director of Photography', 'name': 'Guillermo Navarro'}, {'department': 'Camera', 'job': 'Director of Photography', 'name': 'Rodrigo García'}, {'department': 'Writing', 'job': 'Writer', 'name': 'Quentin Tarantino'}]</td>\n",
              "    </tr>\n",
              "    <tr>\n",
              "      <th>3</th>\n",
              "      <td>6</td>\n",
              "      <td>[{'character': 'Linda Wyatt', 'name': 'Christine Harnos'}, {'character': 'Rita', 'name': 'Angela Alvarado'}, {'character': 'Clarissa', 'name': 'Galyn Görg'}, {'character': 'John Wyatt', 'name': 'Stephen Dorff'}, {'character': 'Buck', 'name': 'Eugene Williams'}, {'character': 'Dre', 'name': 'Relioues Webb'}, {'character': 'Travis', 'name': 'Michael Wiseman'}, {'character': 'Rhodes', 'name': 'Everlast'}, {'character': 'Frank Wyatt', 'name': 'Emilio Estevez'}, {'character': 'Mike Peterson', 'name': 'Cuba Gooding Jr.'}, {'character': 'Fallon', 'name': 'Denis Leary'}, {'character': 'Ray Cochran', 'name': 'Jeremy Piven'}, {'character': 'Sykes', 'name': 'Peter Greene'}, {'character': 'Teddy, the Kid', 'name': 'Michael DeLorenzo'}, {'character': 'Charley', 'name': 'Will Zahrn'}]</td>\n",
              "      <td>[{'department': 'Costume &amp; Make-Up', 'job': 'Costume Design', 'name': 'Marilyn Vance'}, {'department': 'Art', 'job': 'Set Decoration', 'name': 'John M. Dwyer'}, {'department': 'Art', 'job': 'Art Direction', 'name': 'Dan Olexiewicz'}, {'department': 'Art', 'job': 'Production Design', 'name': 'Joseph C. Nemec III'}, {'department': 'Writing', 'job': 'Story', 'name': 'Jere Cunningham'}, {'department': 'Writing', 'job': 'Story', 'name': 'Lewis Colick'}, {'department': 'Production', 'job': 'Executive Producer', 'name': 'Marilyn Vance'}, {'department': 'Production', 'job': 'Executive Producer', 'name': 'Lloyd Segan'}, {'department': 'Production', 'job': 'Associate Producer', 'name': 'Kris Wiseman McIntyre'}, {'department': 'Editing', 'job': 'Editor', 'name': 'Tim Wellburn'}, {'department': 'Camera', 'job': 'Director of Photography', 'name': 'Peter Levy'}, {'department': 'Sound', 'job': 'Original Music Composer', 'name': 'Alan Silvestri'}, {'department': 'Production', 'job': 'Producer', 'name': 'Gene Levy'}, {'department': 'Writing', 'job': 'Screenplay', 'name': 'Lewis Colick'}, {'department': 'Directing', 'job': 'Director', 'name': 'Stephen Hopkins'}, {'department': 'Production', 'job': 'Associate Producer', 'name': 'Christopher Mollo'}]</td>\n",
              "    </tr>\n",
              "    <tr>\n",
              "      <th>4</th>\n",
              "      <td>11</td>\n",
              "      <td>[{'character': 'Solomohal (uncredited)', 'name': 'Joe Kaye'}, {'character': 'Chall Bekan (uncredited)', 'name': 'Linda Jones'}, {'character': 'Mosep (uncredited)', 'name': 'Annette Jones'}, {'character': 'Death Star Trooper (uncredited)', 'name': 'Joe Johnston'}, {'character': 'Ponda Baba (uncredited)', 'name': 'Tommy Ilsley'}, {'character': 'Stormtrooper (uncredited)', 'name': 'Arthur Howell'}, {'character': 'Brea Tonnika (uncredited)', 'name': 'Christine Hewett'}, {'character': 'Stormtrooper (uncredited)', 'name': 'Frank Henson'}, {'character': 'Leia's Rebel Escort (uncredited)', 'name': 'Alan Harris'}, {'character': 'Stormtrooper (uncredited)', 'name': 'Reg Harding'}, {'character': 'Stormtrooper (special edition) (uncredited)', 'name': 'Nelson Hall'}, {'character': 'Cantina Patron (uncredited)', 'name': 'Isaac Grand'}, {'character': 'Kabe / Jawa / GONK Droid (uncredited)', 'name': 'Rusty Goffe'}, {'character': 'Kabe (uncredited)', 'name': 'Barry Gnome'}, {'character': 'Death Star Trooper (uncredited)', 'name': 'Steve Gawley'}, {'character': 'Cantina Patron (uncredited)', 'name': 'Salo Gardner'}, {'character': 'Stormtrooper with Binoculars (uncredited)', 'name': 'Ted Gagliano'}, {'character': 'Death Star Trooper (uncredited)', 'name': 'Harry Fielder'}, {'character': 'Djas Puhr (uncredited)', 'name': 'Kim Falkinburg'}, {'character': 'Garindan (uncredited)', 'name': 'Sadie Eden'}, {'character': 'Jawa (uncredited)', 'name': 'Warwick Diamond'}, {'character': 'Stormtrooper / Tusken Raider / Death Star Trooper / Garouf Lafoe (uncredited)', 'name': 'Peter Diamond'}, {'character': 'Jawa (uncredited)', 'name': 'Frazer Diamond'}, {'character': 'Hrchek Kal Fas (uncredited)', 'name': 'Robert A. Denham'}, {'character': 'Greedo (uncredited)', 'name': 'Maria De Aragon'}, {'character': 'Cantina Patron (uncredited)', 'name': 'Robert Davies'}, {'character': 'Dr. Evazan (uncredited)', 'name': 'Alfie Curtis'}, {'character': 'Wioslea (uncredited)', 'name': 'Barry Copping'}, {'character': 'Stormtrooper (uncredited)', 'name': 'Tim Condren'}, {'character': 'Cantina Patron (uncredited)', 'name': 'Gilda Cohen'}, {'character': 'Drifter (Red 12) (uncredited)', 'name': 'John Chapman'}, {'character': 'Wuher (uncredited)', 'name': 'Ted Burnett'}, {'character': 'Nabrun Leids (uncredited)', 'name': 'Janice Burchette'}, {'character': 'Greedo (uncredited)', 'name': 'Paul Blake'}, {'character': 'Cantina Alien (uncredited)', 'name': 'Doug Beswick'}, {'character': 'Cantina Alien (uncredited)', 'name': 'Jon Berg'}, {'character': 'Stormtrooper (uncredited)', 'name': 'Lightning Bear'}, {'character': 'Stormtrooper (voice) (uncredited)', 'name': 'Scott Beach'}, {'character': 'Boba Fett (special edition) (uncredited)', 'name': 'Mark Austin'}, {'character': 'Red Two (voice) (uncredited)', 'name': 'David Ankrum'}, {'character': 'Gold Five', 'name': 'Graham Ashley'}, {'character': 'Gold Two', 'name': 'Jeremy Sinden'}, {'character': 'Gold Leader', 'name': 'Angus MacInnes'}, {'character': 'Red Six (Porkins)', 'name': 'William Hootkins'}, {'character': 'Red Four (John \"D\")', 'name': 'Jack Klaff'}, {'character': 'Red Leader', 'name': 'Drewe Henley'}, {'character': 'General Dodonna', 'name': 'Alex McCrindle'}, {'character': 'Stormtrooper', 'name': 'Michael Leader'}, {'character': 'General Motti', 'name': 'Richard LeParmentier'}, {'character': 'Commander #1', 'name': 'Leslie Schofield'}, {'character': 'General Taggi', 'name': 'Don Henderson'}, {'character': 'Red Three (Biggs)', 'name': 'Garrick Hagon'}, {'character': 'Red Two (Wedge)', 'name': 'Denis Lawson'}, {'character': 'General Willard', 'name': 'Eddie Byrne'}, {'character': 'Chief Jawa', 'name': 'Jack Purvis'}, {'character': 'Aunt Beru', 'name': 'Shelagh Fraser'}, {'character': 'Uncle Owen', 'name': 'Phil Brown'}, {'character': 'Voice of Darth Vader (voice)', 'name': 'James Earl Jones'}, {'character': 'Darth Vader', 'name': 'David Prowse'}, {'character': 'Chewbacca', 'name': 'Peter Mayhew'}, {'character': 'Artoo-Detoo (R2-D2)', 'name': 'Kenny Baker'}, {'character': 'See Threepio (C-3PO)', 'name': 'Anthony Daniels'}, {'character': 'Obi-Wan \"Ben\" Kenobi', 'name': 'Alec Guinness'}, {'character': 'Grand Moff Tarkin', 'name': 'Peter Cushing'}, {'character': 'Princess Leia Organa', 'name': 'Carrie Fisher'}, {'character': 'Han Solo', 'name': 'Harrison Ford'}, {'character': 'Luke Skywalker', 'name': 'Mark Hamill'}, {'character': 'Jawa (uncredited)', 'name': 'Tiffany L. Kurtz'}, {'character': 'Rebel Pilot (uncredited)', 'name': 'Colin Higgins'}, {'character': 'Cantina Patron (uncredited)', 'name': 'Fred Wood'}, {'character': 'Mos Eisley Citizen (special edition) (uncredited)', 'name': 'Steve 'Spaz' Williams'}, {'character': 'Stormtrooper (uncredited)', 'name': 'Bill Weston'}, {'character': 'Ketwol / Melas (uncredited)', 'name': 'Harold Weed'}, {'character': 'Thuku (uncredited)', 'name': 'Diana Sadley Way'}, {'character': 'Greedo (voice) (uncredited)', 'name': 'Larry Ward'}, {'character': 'Jawa (uncredited)', 'name': 'Hal Wamsley'}, {'character': 'Stormtrooper (voice) (uncredited)', 'name': 'Jerry Walter'}, {'character': 'Stormtrooper (voice) (uncredited)', 'name': 'Morgan Upton'}, {'character': 'Del Goren (uncredited)', 'name': 'Burnell Tucker'}, {'character': 'Cantina Alien (uncredited)', 'name': 'Phil Tippett'}, {'character': 'Lt. Shann Childsen (uncredited)', 'name': 'Malcolm Tierney'}, {'character': 'Massassi Outpost Announcer / Various Voices (voice) (uncredited)', 'name': 'Tom Sylla'}, {'character': 'Cantina Voices (voice) (uncredited)', 'name': 'John Sylla'}, {'character': 'Lt. Pol Treidum (uncredited)', 'name': 'Peter Sumner'}, {'character': 'Sai'torr Kal Fas (uncredited)', 'name': 'Peter Sturgeon'}, {'character': 'Cantina Patron (uncredited)', 'name': 'Roy Straite'}, {'character': 'Cantina Patron (uncredited)', 'name': 'George Stock'}, {'character': 'Senni Tonnika (uncredited)', 'name': 'Angela Staines'}, {'character': 'Tawss Khaa (uncredited)', 'name': 'Erica Simmons'}, {'character': 'Cmdr. Praji (Imperial Officer #2 on rebel ship) (uncredited)', 'name': 'George Roubicek'}, {'character': 'Leesub Sirln (uncredited)', 'name': 'Pam Rose'}, {'character': 'InCom Engineer (uncredited)', 'name': 'Shane Rimmer'}, {'character': 'Rycar Ryjerd (uncredited)', 'name': 'Marcus Powell'}, {'character': 'Massassi Base Rebel Scout (uncredited)', 'name': 'Lorne Peterson'}, {'character': 'Swilla Corey (uncredited)', 'name': 'Mandy Morton'}, {'character': 'Cantina Patron (uncredited)', 'name': 'Geoffrey Moon'}, {'character': 'Death Star Gunner (uncredited)', 'name': 'Grant McCune'}, {'character': 'Stormtrooper (special edition) (uncredited)', 'name': 'Rick McCallum'}, {'character': 'Takeel (uncredited)', 'name': 'Alf Mangan'}, {'character': 'Jawa (uncredited)', 'name': 'Mahjoub'}, ...]</td>\n",
              "      <td>[{'department': 'Production', 'job': 'Executive Producer', 'name': 'George Lucas'}, {'department': 'Directing', 'job': 'Director', 'name': 'George Lucas'}, {'department': 'Visual Effects', 'job': 'Visual Effects', 'name': 'Paul Huston'}, {'department': 'Art', 'job': 'Production Design', 'name': 'John Barry'}, {'department': 'Editing', 'job': 'Editor', 'name': 'Paul Hirsch'}, {'department': 'Editing', 'job': 'Editor', 'name': 'Richard Chew'}, {'department': 'Visual Effects', 'job': 'Animation', 'name': 'Phil Tippett'}, {'department': 'Costume &amp; Make-Up', 'job': 'Costume Design', 'name': 'John Mollo'}, {'department': 'Art', 'job': 'Art Direction', 'name': 'Leslie Dilley'}, {'department': 'Art', 'job': 'Set Decoration', 'name': 'Roger Christian'}, {'department': 'Production', 'job': 'Casting', 'name': 'Dianne Crittenden'}, {'department': 'Editing', 'job': 'Editor', 'name': 'Marcia Lucas'}, {'department': 'Art', 'job': 'Art Direction', 'name': 'Norman Reynolds'}, {'department': 'Production', 'job': 'Casting', 'name': 'Irene Lamb'}, {'department': 'Production', 'job': 'Casting', 'name': 'Vic Ramos'}, {'department': 'Camera', 'job': 'Director of Photography', 'name': 'Gilbert Taylor'}, {'department': 'Sound', 'job': 'Original Music Composer', 'name': 'John Williams'}, {'department': 'Production', 'job': 'Producer', 'name': 'Rick McCallum'}, {'department': 'Production', 'job': 'Producer', 'name': 'Gary Kurtz'}, {'department': 'Writing', 'job': 'Writer', 'name': 'George Lucas'}]</td>\n",
              "    </tr>\n",
              "    <tr>\n",
              "      <th>5</th>\n",
              "      <td>12</td>\n",
              "      <td>[{'character': 'Fish School (voice)', 'name': 'John Ratzenberger'}, {'character': 'Sheldon (voice)', 'name': 'Erik Per Sullivan'}, {'character': 'Pearl (voice)', 'name': 'Erica Beck'}, {'character': 'Tad (voice)', 'name': 'Jordan Ranft'}, {'character': 'Darla (voice)', 'name': 'LuLu Ebeling'}, {'character': 'Dentist (voice)', 'name': 'Bill Hunter'}, {'character': 'Chum (voice)', 'name': 'Bruce Spence'}, {'character': 'Anchor (voice)', 'name': 'Eric Bana'}, {'character': 'Bruce (voice)', 'name': 'Barry Humphries'}, {'character': 'Mr. Ray (voice)', 'name': 'Bob Peterson'}, {'character': 'Squirt (voice)', 'name': 'Nicholas Bird'}, {'character': 'Coral (voice)', 'name': 'Elizabeth Perkins'}, {'character': 'Crush (voice)', 'name': 'Andrew Stanton'}, {'character': 'Nigel (voice)', 'name': 'Geoffrey Rush'}, {'character': 'Jacques (voice)', 'name': 'Joe Ranft'}, {'character': 'Deb / Flo (voice)', 'name': 'Vicki Lewis'}, {'character': 'Bubbles (voice)', 'name': 'Stephen Root'}, {'character': 'Gurgle (voice)', 'name': 'Austin Pendleton'}, {'character': 'Peach (voice)', 'name': 'Allison Janney'}, {'character': 'Bloat (voice)', 'name': 'Brad Garrett'}, {'character': 'Gill (voice)', 'name': 'Willem Dafoe'}, {'character': 'Nemo (voice)', 'name': 'Alexander Gould'}, {'character': 'Dory (voice)', 'name': 'Ellen DeGeneres'}, {'character': 'Marlin (voice)', 'name': 'Albert Brooks'}]</td>\n",
              "      <td>[{'department': 'Visual Effects', 'job': 'Visual Development', 'name': 'Dominique Louis'}, {'department': 'Crew', 'job': 'Temp Music Editor', 'name': 'David Slusser'}, {'department': 'Art', 'job': 'Production Design', 'name': 'Ralph Eggleston'}, {'department': 'Sound', 'job': 'Music Editor', 'name': 'Bill Bernstein'}, {'department': 'Sound', 'job': 'Sound Re-Recording Mixer', 'name': 'Gary Rydstrom'}, {'department': 'Sound', 'job': 'Supervising Sound Editor', 'name': 'Gary Rydstrom'}, {'department': 'Sound', 'job': 'Sound Designer', 'name': 'Gary Rydstrom'}, {'department': 'Sound', 'job': 'Original Music Composer', 'name': 'Thomas Newman'}, {'department': 'Editing', 'job': 'Editor', 'name': 'David Ian Salter'}, {'department': 'Production', 'job': 'Executive Producer', 'name': 'John Lasseter'}, {'department': 'Writing', 'job': 'Screenplay', 'name': 'David Reynolds'}, {'department': 'Writing', 'job': 'Screenplay', 'name': 'Andrew Stanton'}, {'department': 'Writing', 'job': 'Screenplay', 'name': 'Bob Peterson'}, {'department': 'Production', 'job': 'Producer', 'name': 'Graham Walters'}, {'department': 'Directing', 'job': 'Co-Director', 'name': 'Lee Unkrich'}, {'department': 'Editing', 'job': 'Supervising Film Editor', 'name': 'Lee Unkrich'}, {'department': 'Writing', 'job': 'Original Story', 'name': 'Andrew Stanton'}, {'department': 'Directing', 'job': 'Director', 'name': 'Andrew Stanton'}, {'department': 'Visual Effects', 'job': 'Visual Development', 'name': 'Bruce Zick'}, {'department': 'Sound', 'job': 'Sound Re-Recording Mixer', 'name': 'Gary Summers'}, {'department': 'Sound', 'job': 'Foley Editor', 'name': 'Al Nelson'}, {'department': 'Visual Effects', 'job': 'Visual Development', 'name': 'George Hull'}, {'department': 'Art', 'job': 'Art Direction', 'name': 'Anthony Christov'}, {'department': 'Visual Effects', 'job': 'Visual Development', 'name': 'Tony Fucile'}, {'department': 'Writing', 'job': 'Storyboard', 'name': 'Ronnie del Carmen'}, {'department': 'Art', 'job': 'Sculptor', 'name': 'Greg Dykstra'}, {'department': 'Visual Effects', 'job': 'Animation', 'name': 'Michael Parks'}, {'department': 'Writing', 'job': 'Story', 'name': 'Peter Sohn'}, {'department': 'Sound', 'job': 'Sound Effects Editor', 'name': 'Teresa Eckton'}, {'department': 'Camera', 'job': 'Director of Photography', 'name': 'Sharon Calahan'}, {'department': 'Crew', 'job': 'Sound Design Assistant', 'name': 'Dee Selby'}, {'department': 'Art', 'job': 'Art Direction', 'name': 'Ricky Nierva'}, {'department': 'Sound', 'job': 'ADR Editor', 'name': 'Steve Slanec'}, {'department': 'Production', 'job': 'Production Accountant', 'name': 'Nephi Sanchez'}, {'department': 'Editing', 'job': 'Editorial Production Assistant', 'name': 'Gregory Amundson'}, {'department': 'Crew', 'job': 'Production Office Assistant', 'name': 'Jon Darrell Handy'}, {'department': 'Camera', 'job': 'Camera Technician', 'name': 'Cosmic Don'}, {'department': 'Editing', 'job': 'Color Timer', 'name': 'Terry Claborn'}, {'department': 'Sound', 'job': 'Orchestrator', 'name': 'Thomas Pasatieri'}, {'department': 'Visual Effects', 'job': 'CG Painter', 'name': 'Bert Berry'}, {'department': 'Crew', 'job': 'Second Film Editor', 'name': 'Kevin Nolting'}, {'department': 'Writing', 'job': 'Story', 'name': 'Joe Ekers'}, {'department': 'Visual Effects', 'job': 'Visual Development', 'name': 'Geefwee Boedoe'}, {'department': 'Writing', 'job': 'Story', 'name': 'Nathan Stanton'}, {'department': 'Production', 'job': 'Production Supervisor', 'name': 'Marcia Gwendolyn Jones'}, {'department': 'Production', 'job': 'Casting', 'name': 'Mary Hidalgo'}, {'department': 'Crew', 'job': 'In Memory Of', 'name': 'Glenn McQueen'}, {'department': 'Visual Effects', 'job': 'Animation Director', 'name': 'Mark A. Walsh'}, {'department': 'Sound', 'job': 'Sound Effects Editor', 'name': 'Shannon Mills'}, {'department': 'Sound', 'job': 'Supervising Sound Editor', 'name': 'Michael Silvers'}, {'department': 'Crew', 'job': 'Projection', 'name': 'John Hazelton'}, {'department': 'Crew', 'job': 'Post Production Supervisor', 'name': 'Paul Cichocki'}, {'department': 'Camera', 'job': 'Camera Supervisor', 'name': 'Louis Rivera'}, {'department': 'Crew', 'job': 'CG Supervisor', 'name': 'Steve May'}, {'department': 'Crew', 'job': 'CG Supervisor', 'name': 'Anthony A. Apodaca'}, {'department': 'Crew', 'job': 'CG Supervisor', 'name': 'Brian Green'}, {'department': 'Crew', 'job': 'Production Office Assistant', 'name': 'Peter T. Schreiber'}, {'department': 'Crew', 'job': 'Supervising Animator', 'name': 'Dylan Brown'}, {'department': 'Writing', 'job': 'Storyboard', 'name': 'Bosco Ng'}, {'department': 'Production', 'job': 'Associate Producer', 'name': 'Jinko Gotoh'}, {'department': 'Production', 'job': 'Production Manager', 'name': 'Lindsey Collins'}, {'department': 'Writing', 'job': 'Story', 'name': 'Bruce Morris'}, {'department': 'Production', 'job': 'Casting', 'name': 'Matthew Jon Beck'}, {'department': 'Production', 'job': 'Casting', 'name': 'Kevin Reher'}, {'department': 'Crew', 'job': 'Second Film Editor', 'name': 'Stan Webb'}, {'department': 'Writing', 'job': 'Story', 'name': 'Jim Capobianco'}, {'department': 'Editing', 'job': 'Editorial Production Assistant', 'name': 'Jacob Parsons'}, {'department': 'Visual Effects', 'job': 'Visual Development', 'name': 'Simon Varela'}, {'department': 'Sound', 'job': 'Sound Effects Editor', 'name': 'E.J. Holowicki'}, {'department': 'Editing', 'job': 'First Assistant Editor', 'name': 'Axel Geddes'}, {'department': 'Crew', 'job': 'Second Film Editor', 'name': 'Katherine Ringgold'}, {'department': 'Editing', 'job': 'Editorial Production Assistant', 'name': 'Gabrielle Siegel'}, {'department': 'Visual Effects', 'job': 'Animation Manager', 'name': 'Jenni Tsoi'}, {'department': 'Visual Effects', 'job': 'Fix Animator', 'name': 'Paul Mendoza'}, {'department': 'Visual Effects', 'job': 'Animation', 'name': 'Andrew L. Schmidt'}, {'department': 'Visual Effects', 'job': 'Animation', 'name': 'Andrew Gordon'}, {'department': 'Visual Effects', 'job': 'Animation Director', 'name': 'Alan Barillaro'}, {'department': 'Crew', 'job': 'CG Supervisor', 'name': 'David Eisenmann'}, {'department': 'Camera', 'job': 'Director of Photography', 'name': 'Jeremy Lasky'}, {'department': 'Visual Effects', 'job': 'CG Painter', 'name': 'Andrea Warren'}, {'department': 'Visual Effects', 'job': 'Visual Development', 'name': 'Peter DeSeve'}, {'department': 'Visual Effects', 'job': 'Visual Development', 'name': 'Carter Goodrich'}, {'department': 'Art', 'job': 'Sculptor', 'name': 'Jerome Ranft'}, {'department': 'Art', 'job': 'Art Direction', 'name': 'Randy Berrett'}, {'department': 'Art', 'job': 'Art Direction', 'name': 'Robin Cooper'}, {'department': 'Visual Effects', 'job': 'Visual Development', 'name': 'D.J. Cleland-Hura'}, {'department': 'Crew', 'job': 'CG Supervisor', 'name': 'Michael Lorenzen'}, {'department': 'Crew', 'job': 'CG Supervisor', 'name': 'Michael Fong'}, {'department': 'Crew', 'job': 'CG Supervisor', 'name': 'Danielle Feinberg'}, {'department': 'Crew', 'job': 'CG Supervisor', 'name': 'Lisa Forssel'}, {'department': 'Visual Effects', 'job': 'Visual Development', 'name': 'Mark Whiting'}, {'department': 'Crew', 'job': 'Supervising Technical Director', 'name': 'Oren Jacob'}, {'department': 'Camera', 'job': 'Camera Technician', 'name': 'Jeff Wan'}, {'department': 'Visual Effects', 'job': 'Fix Animator', 'name': 'Chris DiGiovanni'}, {'department': 'Crew', 'job': 'CG Supervisor', 'name': 'Jesse Hollander'}, {'department': 'Visual Effects', 'job': 'Character Designer', 'name': 'Dan Lee'}, {'department': 'Editing', 'job': 'Editorial Coordinator', 'name': 'Noelle P. Case'}, {'department': 'Crew', 'job': 'Photoscience Manager', 'name': 'James Burgess'}, {'department': 'Sound', 'job': 'Sound Editor', 'name': 'Kent Brown'}, {'department': 'Visual Effects', 'job': 'CG Painter', 'name': 'Yvonne Herbst'}, ...]</td>\n",
              "    </tr>\n",
              "    <tr>\n",
              "      <th>6</th>\n",
              "      <td>13</td>\n",
              "      <td>[{'character': 'Elderly Southern Woman', 'name': 'Nora Dunfee'}, {'character': 'Waitress in cafe', 'name': 'Hallie D'Amore'}, {'character': 'Taxi Driver', 'name': 'Michael Mattison'}, {'character': 'Aging Hippie', 'name': 'Charles Boswell'}, {'character': 'Wild eyed man', 'name': 'Timothy McNeil'}, {'character': 'Crony', 'name': 'Bob Penny'}, {'character': 'Football Player (uncredited)', 'name': 'Greg Brown'}, {'character': 'Drugged Out Boyfriend', 'name': 'Lazarus Jackson'}, {'character': 'Discharge Officer', 'name': 'Lazarus Jackson'}, {'character': 'President Nixon (voice)', 'name': 'Joe Alaskey'}, {'character': 'Lenore', 'name': 'Tiffany Salerno'}, {'character': 'Carla', 'name': 'Tiffany Salerno'}, {'character': 'Dick Cavett', 'name': 'Dick Cavett'}, {'character': 'Hollywood Boulevard Girlfriend', 'name': 'Vanessa Roth'}, {'character': 'Wesley', 'name': 'Geoffrey Blake'}, {'character': 'Black Panther', 'name': 'Michael Jace'}, {'character': 'Abbie Hoffman', 'name': 'Richard D'Alessandro'}, {'character': 'Isabel', 'name': 'Isabel Rose'}, {'character': 'President Johnson (voice)', 'name': 'John William Galt'}, {'character': 'Hospital Officer', 'name': 'Stephen Bridgewater'}, {'character': 'Wounded soldier', 'name': 'Byron Minns'}, {'character': 'Wounded soldier', 'name': 'Michael McFall'}, {'character': 'Army Hospital Male Nurse', 'name': 'Michael McFall'}, {'character': 'Tex', 'name': 'Steven Griffith'}, {'character': 'Cheerleader (uncredited)', 'name': 'Troy Christian'}, {'character': 'Football Coach (uncredited)', 'name': 'Bryan Hanna'}, {'character': 'Barracks Recruit (uncredited)', 'name': 'Zach Hanner'}, {'character': 'National Guardsman (uncredited)', 'name': 'Aaron Michael Lacey'}, {'character': 'Football Fan (uncredited)', 'name': 'Jacqueline Lovell'}, {'character': 'Football Player (uncredited)', 'name': 'Brendan Shanahan'}, {'character': 'Black Panther (uncredited)', 'name': 'William Shipman'}, {'character': 'Nicholas Katzenbach (uncredited)', 'name': 'Robb Skyler'}, {'character': 'Jenny's Babysitter (uncredited)', 'name': 'Mary Ellen Trainor'}, {'character': 'Cleveland', 'name': 'Michael Burgess'}, {'character': 'Forrest Gump', 'name': 'Tom Hanks'}, {'character': 'Jenny Curran', 'name': 'Robin Wright'}, {'character': 'Lt. Dan Taylor', 'name': 'Gary Sinise'}, {'character': 'Pvt. Benjamin Buford 'Bubba' Blue', 'name': 'Mykelti Williamson'}, {'character': 'Mrs. Gump', 'name': 'Sally Field'}, {'character': 'Young Forrest Gump', 'name': 'Michael Conner Humphreys'}, {'character': 'Young Jenny Curran', 'name': 'Hanna Hall'}, {'character': 'Forrest Gump Jr.', 'name': 'Haley Joel Osment'}, {'character': 'School Bus Driver', 'name': 'Siobhan Fallon'}, {'character': 'Drill Sergeant', 'name': 'Afemo Omilami'}, {'character': 'Young Elvis Presley', 'name': 'Peter Dobson'}, {'character': 'College Football Coach', 'name': 'Sonny Shroyer'}, {'character': 'Barber', 'name': 'George Kelly'}, {'character': 'Principal', 'name': 'Sam Anderson'}, {'character': 'Louise', 'name': 'Margo Moorer'}, {'character': 'Boy with cross', 'name': 'Christopher Jones'}, {'character': 'Jenny's Father', 'name': 'Kevin Mangan'}, {'character': 'High School Football Coach', 'name': 'Brett Rice'}, {'character': 'Recruiter', 'name': 'Daniel C. Striepeke'}, {'character': 'Newscaster', 'name': 'David Brisbin'}, {'character': 'Earl', 'name': 'Kirk Ward'}, {'character': 'Bubba's Mother', 'name': 'Marlena Smalls'}, {'character': 'Bubba's Great Grandmother', 'name': 'Kitty K. Green'}, {'character': 'Jenny's date', 'name': 'Mark Matheisen'}, {'character': 'Local Anchor #1', 'name': 'Al Harrington'}, {'character': 'President Kennedy (voice)', 'name': 'Jed Gillin'}, {'character': 'Army Recruiter', 'name': 'Don Fischer'}, {'character': 'Barracks Recruit', 'name': 'Matt Wallace'}, {'character': 'Club patron', 'name': 'Mike Jolly'}, {'character': 'Club patron', 'name': 'Michael Kemmerling'}, {'character': 'Club patron', 'name': 'John Voldstad'}, {'character': 'Helicopter gunman', 'name': 'Daniel J. Gillooly'}]</td>\n",
              "      <td>[{'department': 'Camera', 'job': 'Additional Photography', 'name': 'Bobby Mancuso'}, {'department': 'Costume &amp; Make-Up', 'job': 'Makeup Artist', 'name': 'Jay Cannistraci'}, {'department': 'Costume &amp; Make-Up', 'job': 'Hairstylist', 'name': 'Susan Schuler-Page'}, {'department': 'Costume &amp; Make-Up', 'job': 'Hairstylist', 'name': 'William A. Kohout'}, {'department': 'Costume &amp; Make-Up', 'job': 'Hairstylist', 'name': 'Hazel Catmull'}, {'department': 'Art', 'job': 'Set Decoration', 'name': 'Nancy Haigh'}, {'department': 'Art', 'job': 'Art Direction', 'name': 'William James Teegarden'}, {'department': 'Art', 'job': 'Art Direction', 'name': 'Leslie McDonald'}, {'department': 'Art', 'job': 'Production Design', 'name': 'Rick Carter'}, {'department': 'Costume &amp; Make-Up', 'job': 'Costume Design', 'name': 'Joanna Johnston'}, {'department': 'Production', 'job': 'Casting', 'name': 'Ellen Lewis'}, {'department': 'Writing', 'job': 'Novel', 'name': 'Winston Groom'}, {'department': 'Writing', 'job': 'Screenplay', 'name': 'Eric Roth'}, {'department': 'Editing', 'job': 'Editor', 'name': 'Arthur Schmidt'}, {'department': 'Sound', 'job': 'Original Music Composer', 'name': 'Alan Silvestri'}, {'department': 'Camera', 'job': 'Director of Photography', 'name': 'Don Burgess'}, {'department': 'Production', 'job': 'Producer', 'name': 'Steve Starkey'}, {'department': 'Production', 'job': 'Producer', 'name': 'Steve Tisch'}, {'department': 'Production', 'job': 'Producer', 'name': 'Wendy Finerman'}, {'department': 'Directing', 'job': 'Director', 'name': 'Robert Zemeckis'}, {'department': 'Production', 'job': 'Executive In Charge Of Production', 'name': 'Michael Tadross'}, {'department': 'Production', 'job': 'Casting Associate', 'name': 'David Brymer'}, {'department': 'Lighting', 'job': 'Rigging Grip', 'name': 'E. Scott Mayhugh'}, {'department': 'Lighting', 'job': 'Lighting Technician', 'name': 'David R. Christensen'}, {'department': 'Lighting', 'job': 'Gaffer', 'name': 'Andy Ryan'}, {'department': 'Lighting', 'job': 'Electrician', 'name': 'Dan Cornwall'}, {'department': 'Lighting', 'job': 'Best Boy Electric', 'name': 'Sam Taybi'}, {'department': 'Editing', 'job': 'Color Timer', 'name': 'Bob Kaiser'}, {'department': 'Crew', 'job': 'Utility Stunts', 'name': 'Joey Box'}, {'department': 'Production', 'job': 'Unit Production Manager', 'name': 'Charles Newirth'}, {'department': 'Crew', 'job': 'Transportation Co-Captain', 'name': 'Wayne Roberts'}, {'department': 'Crew', 'job': 'Transportation Captain', 'name': 'Randy Cantor'}, {'department': 'Crew', 'job': 'Stunts', 'name': 'Keith Campbell'}, {'department': 'Crew', 'job': 'Projection', 'name': 'Timothy Greenwood'}, {'department': 'Crew', 'job': 'Picture Car Coordinator', 'name': 'Tyler C. Daum'}, {'department': 'Crew', 'job': 'Executive Music Producer', 'name': 'Joel Sill'}, {'department': 'Production', 'job': 'Production Coordinator', 'name': 'Debra James'}, {'department': 'Sound', 'job': 'Boom Operator', 'name': 'Earl Sampson'}, {'department': 'Sound', 'job': 'Assistant Sound Editor', 'name': 'David Franklin Bergad'}, {'department': 'Sound', 'job': 'Orchestrator', 'name': 'William Ross'}, {'department': 'Sound', 'job': 'Sound Mixer', 'name': 'Jonathan Gaynor'}, {'department': 'Visual Effects', 'job': 'Visual Effects Coordinator', 'name': 'Anne Calanchini'}, {'department': 'Writing', 'job': 'Storyboard', 'name': 'Erik TIemens'}, {'department': 'Sound', 'job': 'Vocal Coach', 'name': 'Christiane Steffen'}, {'department': 'Crew', 'job': 'Driver', 'name': 'Jim DePue'}, {'department': 'Crew', 'job': 'Craft Service', 'name': 'Amy Panzer'}, {'department': 'Crew', 'job': 'Carpenter', 'name': 'Scott Mobley'}, {'department': 'Costume &amp; Make-Up', 'job': 'Set Dressing Artist', 'name': 'William Alford'}, {'department': 'Costume &amp; Make-Up', 'job': 'Seamstress', 'name': 'Alleene C. Keith'}, {'department': 'Costume &amp; Make-Up', 'job': 'Makeup Designer', 'name': 'Hallie D'Amore'}, {'department': 'Costume &amp; Make-Up', 'job': 'Assistant Costume Designer', 'name': 'Jessica Fasman'}, {'department': 'Camera', 'job': 'Grip', 'name': 'Ismael Araujo Jr.'}, {'department': 'Camera', 'job': 'First Assistant Camera', 'name': 'John Gazdik'}, {'department': 'Crew', 'job': 'Loader', 'name': 'Chris Johnson'}, {'department': 'Art', 'job': 'Production Illustrator', 'name': 'Stefan Dechant'}, {'department': 'Art', 'job': 'Painter', 'name': 'Samuel Ray Jablonski'}, {'department': 'Art', 'job': 'Location Scout', 'name': 'Brett Haas'}, {'department': 'Art', 'job': 'Construction Foreman', 'name': 'Barry Spencer'}, {'department': 'Production', 'job': 'Production Accountant', 'name': 'Cynthia Quan'}, {'department': 'Costume &amp; Make-Up', 'job': 'Makeup Artist', 'name': 'Craig Lyman'}, {'department': 'Directing', 'job': 'Script Supervisor', 'name': 'Susan Malerstein'}, {'department': 'Crew', 'job': 'Thanks', 'name': 'Robert J. Groden'}, {'department': 'Crew', 'job': 'Thanks', 'name': 'Lindsey Buckingham'}, {'department': 'Directing', 'job': 'First Assistant Director', 'name': 'Bruce Moriarty'}, {'department': 'Crew', 'job': 'Post Production Supervisor', 'name': 'Rick Porras'}, {'department': 'Crew', 'job': 'Post Production Supervisor', 'name': 'Steven J. Boyd'}, {'department': 'Editing', 'job': 'Assistant Editor', 'name': 'Jeremiah O'Driscoll'}, {'department': 'Visual Effects', 'job': 'Special Effects Supervisor', 'name': 'Allen Hall'}, {'department': 'Costume &amp; Make-Up', 'job': 'Hair Designer', 'name': 'Judith A. Cory'}, {'department': 'Visual Effects', 'job': 'Visual Effects', 'name': 'Greg Maloney'}, {'department': 'Sound', 'job': 'Production Sound Mixer', 'name': 'William B. Kaplan'}, {'department': 'Crew', 'job': 'Special Effects', 'name': 'Joe Montenegro'}, {'department': 'Sound', 'job': 'ADR &amp; Dubbing', 'name': 'Leigh French'}, {'department': 'Production', 'job': 'Co-Producer', 'name': 'Charles Newirth'}, {'department': 'Crew', 'job': 'Unit Publicist', 'name': 'Jane E. Russell'}, {'department': 'Crew', 'job': 'Dialect Coach', 'name': 'Jessica Drake'}, {'department': 'Production', 'job': 'Location Manager', 'name': 'Mary Morgan'}, {'department': 'Production', 'job': 'Location Manager', 'name': 'Amy Ness'}, {'department': 'Production', 'job': 'Location Manager', 'name': 'Peggy Pridemore'}, {'department': 'Crew', 'job': 'Choreographer', 'name': 'Leslie Cook'}, {'department': 'Crew', 'job': 'Transportation Coordinator', 'name': 'Joel Marrow'}, {'department': 'Sound', 'job': 'Music Editor', 'name': 'Kenneth Karman'}, {'department': 'Editing', 'job': 'First Assistant Editor', 'name': 'Carin-Anne Strohmaier'}, {'department': 'Costume &amp; Make-Up', 'job': 'Set Costumer', 'name': 'Stephen P. Shubin'}, {'department': 'Costume &amp; Make-Up', 'job': 'Set Costumer', 'name': 'Rudolph Garcia'}, {'department': 'Costume &amp; Make-Up', 'job': 'Set Costumer', 'name': 'Patricia Bercsi'}, {'department': 'Costume &amp; Make-Up', 'job': 'Costume Supervisor', 'name': 'Pamela Wise'}, {'department': 'Costume &amp; Make-Up', 'job': 'Costume Supervisor', 'name': 'Dan Bronson'}, {'department': 'Camera', 'job': 'Still Photographer', 'name': 'Phillip V. Caruso'}, {'department': 'Camera', 'job': 'Camera Operator', 'name': 'Chris Squires'}, {'department': 'Crew', 'job': 'Second Unit Cinematographer', 'name': 'David M. Dunlap'}, {'department': 'Crew', 'job': 'Stunt Coordinator', 'name': 'Bud Davis'}, {'department': 'Visual Effects', 'job': 'Visual Effects Supervisor', 'name': 'Ken Ralston'}, {'department': 'Crew', 'job': 'Visual Effects Editor', 'name': 'Michael McGovern'}, {'department': 'Crew', 'job': 'Visual Effects Editor', 'name': 'Debbie Denise'}, {'department': 'Visual Effects', 'job': 'Visual Effects Producer', 'name': 'Debbie Denise'}, {'department': 'Crew', 'job': 'Visual Effects Art Director', 'name': 'Doug Chiang'}, {'department': 'Crew', 'job': 'CG Supervisor', 'name': 'Stephen Rosenbaum'}, {'department': 'Crew', 'job': 'CG Supervisor', 'name': 'George Murphy'}, {'department': 'Sound', 'job': 'Supervising Sound Editor', 'name': 'Gloria S. Borders'}, ...]</td>\n",
              "    </tr>\n",
              "    <tr>\n",
              "      <th>7</th>\n",
              "      <td>14</td>\n",
              "      <td>[{'character': 'Playground Girl #2', 'name': 'Chelsea Hertford'}, {'character': 'Playground Girl #1', 'name': 'Heather Joy Sher'}, {'character': 'Spartanette #10', 'name': 'Stephanie Rizzo'}, {'character': 'Spartanette #9', 'name': 'Reshma Gajjar'}, {'character': 'Spartanette #8', 'name': 'Nancy Anderson'}, {'character': 'Spartanette #7', 'name': 'Emily Zachary'}, {'character': 'Spartanette #6', 'name': 'Chekesha Van Putten'}, {'character': 'Spartanette #5', 'name': 'Mona Leah'}, {'character': 'Spartanette #4', 'name': 'Carolina Lancaster'}, {'character': 'Spartanette #3', 'name': 'Lily Houtkin'}, {'character': 'Spartanette #2', 'name': 'Krista Goodsitt'}, {'character': 'Spartanette #1', 'name': 'Alison Faulk'}, {'character': 'Young Jane', 'name': 'Erin Cathryn Strubbe'}, {'character': 'Firing Range Attendant', 'name': 'Matthew Kimbrough'}, {'character': 'Mr. Smiley's Manager', 'name': 'Dennis Anderson'}, {'character': 'Mr. Smiley's Counter Girl (Janine)', 'name': 'Marissa Jaret Winokur'}, {'character': 'Bartender (uncredited)', 'name': 'Bruce Cohen'}, {'character': 'Christy Kane', 'name': 'Amber Smith'}, {'character': 'Sale House Woman #4', 'name': 'Lisa Cloud'}, {'character': 'Sale House Woman #3', 'name': 'Brenda Wehle'}, {'character': 'Sale House Woman #2', 'name': 'Sue Casey'}, {'character': 'Catering Boss', 'name': 'Joel McCrary'}, {'character': 'Advertising Executive (uncredited)', 'name': 'Tom Miller'}, {'character': 'Wedding Guest (uncredited)', 'name': 'David C. Fisher'}, {'character': 'Newscaster (uncredited)', 'name': 'Elaine Corral Kendall'}, {'character': 'Lester Burnham', 'name': 'Kevin Spacey'}, {'character': 'Carolyn Burnham', 'name': 'Annette Bening'}, {'character': 'Jane Burnham', 'name': 'Thora Birch'}, {'character': 'Ricky Fitts', 'name': 'Wes Bentley'}, {'character': 'Angela Hayes', 'name': 'Mena Suvari'}, {'character': 'Colonel Frank Fitts', 'name': 'Chris Cooper'}, {'character': 'Jim Olmeyer', 'name': 'Scott Bakula'}, {'character': 'Buddy Kane', 'name': 'Peter Gallagher'}, {'character': 'Barbara Fitts', 'name': 'Allison Janney'}, {'character': 'Jim Berkley', 'name': 'Sam Robards'}, {'character': 'Brad Dupree', 'name': 'Barry Del Sherman'}, {'character': 'Sale House Man #1', 'name': 'John Cho'}, {'character': 'Sale House Man #2', 'name': 'Hal Fort Atkinson'}, {'character': 'Sale House Man #3', 'name': 'Kent Faulcon'}, {'character': 'Sale House Woman #1', 'name': 'Ara Celi'}]</td>\n",
              "      <td>[{'department': 'Sound', 'job': 'Original Music Composer', 'name': 'Thomas Newman'}, {'department': 'Camera', 'job': 'Director of Photography', 'name': 'Conrad L. Hall'}, {'department': 'Editing', 'job': 'Editor', 'name': 'Christopher Greenbury'}, {'department': 'Editing', 'job': 'Editor', 'name': 'Tariq Anwar'}, {'department': 'Production', 'job': 'Casting', 'name': 'Debra Zane'}, {'department': 'Costume &amp; Make-Up', 'job': 'Costume Design', 'name': 'Julie Weiss'}, {'department': 'Writing', 'job': 'Screenplay', 'name': 'Alan Ball'}, {'department': 'Art', 'job': 'Production Design', 'name': 'Naomi Shohan'}, {'department': 'Production', 'job': 'Co-Producer', 'name': 'Alan Ball'}, {'department': 'Production', 'job': 'Co-Producer', 'name': 'Stan Wlodkowski'}, {'department': 'Art', 'job': 'Set Decoration', 'name': 'Jan K. Bergstrom'}, {'department': 'Art', 'job': 'Art Department Coordinator', 'name': 'Molly Click'}, {'department': 'Art', 'job': 'Assistant Art Director', 'name': 'Catherine Smith'}, {'department': 'Art', 'job': 'Construction Coordinator', 'name': 'Joe Ondrejko'}, {'department': 'Crew', 'job': 'Special Effects Coordinator', 'name': 'John Hartigan'}, {'department': 'Visual Effects', 'job': 'Visual Effects Producer', 'name': 'Janet Yale'}, {'department': 'Visual Effects', 'job': 'Visual Effects Producer', 'name': 'Jonathan F. Styrlund'}, {'department': 'Visual Effects', 'job': 'Visual Effects Supervisor', 'name': 'Rob Hodgson'}, {'department': 'Visual Effects', 'job': 'Visual Effects Supervisor', 'name': 'David Goldberg'}, {'department': 'Lighting', 'job': 'Rigging Gaffer', 'name': 'Huston Beaumont'}, {'department': 'Crew', 'job': 'Second Unit Cinematographer', 'name': 'David Golia'}, {'department': 'Crew', 'job': 'Second Unit Cinematographer', 'name': 'Conrad W. Hall'}, {'department': 'Lighting', 'job': 'Rigging Grip', 'name': 'Gerald A. King'}, {'department': 'Camera', 'job': 'Camera Operator', 'name': 'Aaron Pazanti'}, {'department': 'Camera', 'job': 'Camera Operator', 'name': 'Geoffrey Haley'}, {'department': 'Camera', 'job': 'Still Photographer', 'name': 'Lorey Sebastian'}, {'department': 'Camera', 'job': 'First Assistant Camera', 'name': 'Clyde E. Bryan'}, {'department': 'Costume &amp; Make-Up', 'job': 'Assistant Costume Designer', 'name': 'Marcy Grace Froehlich'}, {'department': 'Costume &amp; Make-Up', 'job': 'Costume Supervisor', 'name': 'Hope Slepak'}, {'department': 'Production', 'job': 'Production Coordinator', 'name': 'Christa Vausbinder'}, {'department': 'Crew', 'job': 'Studio Teachers', 'name': 'Pia Mehr'}, {'department': 'Writing', 'job': 'Storyboard', 'name': 'Tony Chance'}, {'department': 'Visual Effects', 'job': 'Visual Effects Coordinator', 'name': 'Paula Bonhomme'}, {'department': 'Visual Effects', 'job': 'Digital Compositors', 'name': 'Olivier Sarda'}, {'department': 'Visual Effects', 'job': '3D Artist', 'name': 'John Cassella'}, {'department': 'Visual Effects', 'job': '24 Frame Playback', 'name': 'Ralph Merzbach'}, {'department': 'Sound', 'job': 'Scoring Mixer', 'name': 'Dennis S. Sands'}, {'department': 'Sound', 'job': 'Production Sound Mixer', 'name': 'Richard Van Dyke'}, {'department': 'Sound', 'job': 'First Assistant Sound Editor', 'name': 'Thomas O'Neil Younkman'}, {'department': 'Sound', 'job': 'Boom Operator', 'name': 'Carl Fischer'}, {'department': 'Production', 'job': 'Production Accountant', 'name': 'Janet Lonsdale'}, {'department': 'Production', 'job': 'Location Manager', 'name': 'Christine Bonnem'}, {'department': 'Editing', 'job': 'Editorial Production Assistant', 'name': 'Jeffrey Skinner'}, {'department': 'Editing', 'job': 'Color Timer', 'name': 'Phil Hetos'}, {'department': 'Crew', 'job': 'Visual Effects Editor', 'name': 'Matt Magnolia'}, {'department': 'Crew', 'job': 'Transportation Coordinator', 'name': 'A. Welch Lambeth'}, {'department': 'Crew', 'job': 'Transportation Captain', 'name': 'Randy Lovelady'}, {'department': 'Crew', 'job': 'Stand In', 'name': 'Holiday Freeman'}, {'department': 'Crew', 'job': 'Set Production Assistant', 'name': 'Mike Piccirillo'}, {'department': 'Art', 'job': 'Property Master', 'name': 'Lynda Reiss'}, {'department': 'Crew', 'job': 'Propmaker', 'name': 'Rob Garlow'}, {'department': 'Crew', 'job': 'Projection', 'name': 'René González'}, {'department': 'Crew', 'job': 'Production Controller', 'name': 'Jim Turner'}, {'department': 'Crew', 'job': 'Post Production Assistant', 'name': 'Kevin Du Toit'}, {'department': 'Crew', 'job': 'Loader', 'name': 'Michael Thomas'}, {'department': 'Crew', 'job': 'Driver', 'name': 'Jeff Couch'}, {'department': 'Crew', 'job': 'Craft Service', 'name': 'Krissy Korn'}, {'department': 'Costume &amp; Make-Up', 'job': 'Set Dressing Artist', 'name': 'Ian Kay'}, {'department': 'Camera', 'job': 'Key Grip', 'name': 'Bill Young'}, {'department': 'Camera', 'job': 'Additional Camera', 'name': 'Dana Kroeger'}, {'department': 'Art', 'job': 'Standby Painter', 'name': 'Christian Zimmermann'}, {'department': 'Art', 'job': 'Set Designer', 'name': 'Andrea Dopaso'}, {'department': 'Art', 'job': 'Painter', 'name': 'Chris Samp'}, {'department': 'Art', 'job': 'Greensman', 'name': 'Richard W. Jones'}, {'department': 'Sound', 'job': 'ADR Supervisor', 'name': 'Trevor Jolly'}, {'department': 'Directing', 'job': 'Assistant Director', 'name': 'Rosemary C. Cremona'}, {'department': 'Lighting', 'job': 'Electrician', 'name': 'Ross Dunkerley'}, {'department': 'Crew', 'job': 'Unit Publicist', 'name': 'David Linck'}, {'department': 'Crew', 'job': 'Thanks', 'name': 'Nicole Kidman'}, {'department': 'Crew', 'job': 'Thanks', 'name': 'Pete Townshend'}, {'department': 'Production', 'job': 'Casting', 'name': 'Terri Taylor'}, {'department': 'Crew', 'job': 'Stunt Coordinator', 'name': 'Ben Scott'}, {'department': 'Crew', 'job': 'Utility Stunts', 'name': 'Phil Culotta'}, {'department': 'Costume &amp; Make-Up', 'job': 'Set Costumer', 'name': 'Alix Hester'}, {'department': 'Costume &amp; Make-Up', 'job': 'Set Costumer', 'name': 'Kanani Wolf'}, {'department': 'Sound', 'job': 'Music Editor', 'name': 'Bill Bernstein'}, {'department': 'Sound', 'job': 'Music Editor', 'name': 'Joanie Diener'}, {'department': 'Sound', 'job': 'Music Supervisor', 'name': 'Chris Douridas'}, {'department': 'Sound', 'job': 'Orchestrator', 'name': 'Thomas Pasatieri'}, {'department': 'Directing', 'job': 'Script Supervisor', 'name': 'Ana Maria Quintana'}, {'department': 'Production', 'job': 'Researcher', 'name': 'Deborah Ricketts'}, {'department': 'Directing', 'job': 'Script Supervisor', 'name': 'Marilyn Giardino'}, {'department': 'Crew', 'job': 'Choreographer', 'name': 'Paula Abdul'}, {'department': 'Editing', 'job': 'Dialogue Editor', 'name': 'Simon Coke'}, {'department': 'Editing', 'job': 'Dialogue Editor', 'name': 'Mark Gordon'}, {'department': 'Sound', 'job': 'Foley', 'name': 'James Moriana'}, {'department': 'Sound', 'job': 'Foley', 'name': 'Jeffrey Wilhoit'}, {'department': 'Sound', 'job': 'Sound Effects Editor', 'name': 'Bryan Bowen'}, {'department': 'Sound', 'job': 'Sound Effects Editor', 'name': 'Alan Rankin'}, {'department': 'Sound', 'job': 'Sound Re-Recording Mixer', 'name': 'Bob Beemer'}, {'department': 'Sound', 'job': 'Sound Re-Recording Mixer', 'name': 'Scott Millan'}, {'department': 'Sound', 'job': 'Supervising Sound Editor', 'name': 'Scott Martin Gershin'}, {'department': 'Costume &amp; Make-Up', 'job': 'Hairstylist', 'name': 'Cydney Cornell'}, {'department': 'Costume &amp; Make-Up', 'job': 'Key Hair Stylist', 'name': 'Patricia DeHaney'}, {'department': 'Costume &amp; Make-Up', 'job': 'Key Hair Stylist', 'name': 'Carol A. O'Connell'}, {'department': 'Costume &amp; Make-Up', 'job': 'Makeup Artist', 'name': 'Tania McComas'}, {'department': 'Directing', 'job': 'Assistant Director', 'name': 'Tony Adler'}, {'department': 'Crew', 'job': 'Post Production Supervisor', 'name': 'Lisa Dennis Kennedy'}, {'department': 'Sound', 'job': 'ADR &amp; Dubbing', 'name': 'Jackie Gonneau'}, {'department': 'Production', 'job': 'Unit Production Manager', 'name': 'Cristen Carr Strubbe'}, ...]</td>\n",
              "    </tr>\n",
              "    <tr>\n",
              "      <th>8</th>\n",
              "      <td>15</td>\n",
              "      <td>[{'character': 'Man at Xanadu Great Hall (uncredited)', 'name': 'William Alston'}, {'character': 'Charles Foster Kane', 'name': 'Orson Welles'}, {'character': 'Jedediah Leland', 'name': 'Joseph Cotten'}, {'character': 'Susan Alexander Kane', 'name': 'Dorothy Comingore'}, {'character': 'Jim W. Gettys', 'name': 'Ray Collins'}, {'character': 'Walter Parks Thatcher', 'name': 'George Coulouris'}, {'character': 'Mary Kane', 'name': 'Agnes Moorehead'}, {'character': 'Raymond', 'name': 'Paul Stewart'}, {'character': 'Emily Norton Kane', 'name': 'Ruth Warrick'}, {'character': 'Herbert Carter', 'name': 'Erskine Sanford'}, {'character': 'Jerry Thompson/Narrator', 'name': 'William Alland'}, {'character': 'Mr. Bernstein', 'name': 'Everett Sloane'}, {'character': 'Signor Matiste', 'name': 'Fortunio Bonanova'}, {'character': 'John', 'name': 'Gus Schilling'}, {'character': 'Mr. Rawlston', 'name': 'Philip Van Zandt'}, {'character': 'Bertha Anderson', 'name': 'Georgia Backus'}, {'character': 'Jim Kane', 'name': 'Harry Shannon'}, {'character': 'Charles Foster Kane III', 'name': 'Sonny Bupp'}, {'character': 'Young Charles Foster Kane', 'name': 'Buddy Swan'}, {'character': 'Interviewer', 'name': 'Gregg Toland'}, {'character': 'Man at Party in Everglades (uncredited)', 'name': 'Don Ackerman'}, {'character': 'Pianist in 'El Rancho' (uncredited)', 'name': 'Nat 'King' Cole'}, {'character': 'Gino (uncredited)', 'name': 'Gino Corrado'}, {'character': 'Extra (uncredited)', 'name': 'Maurice Costello'}, {'character': 'Newsreel Man (uncredited)', 'name': 'Demetrius Alexis'}, {'character': 'Newsreel Man (uncredited)', 'name': 'Gene Coogan'}, {'character': 'Newsreel Man (uncredited)', 'name': 'Art Dupuis'}, {'character': 'Newsreel Man (uncredited)', 'name': 'Rudy Germane'}, {'character': 'Newsreel Man (uncredited)', 'name': 'Mike Lally'}, {'character': 'Newsreel Man (uncredited)', 'name': 'Walter Lawrence'}, {'character': 'Newsreel Man (uncredited)', 'name': 'John Northpole'}, {'character': 'Newsreel Man (uncredited)', 'name': 'Victor Romito'}, {'character': 'Newsreel Man (uncredited)', 'name': 'Bob Terry'}, {'character': 'Chorus Master (uncredited)', 'name': 'Tudor Williams'}, {'character': 'Man at Xanadu Great Hall (uncredited)', 'name': 'Jack Gargan'}, {'character': 'Man at Xanadu Great Hall (uncredited)', 'name': 'Bert Moorhouse'}, {'character': 'Maid in Xanadu Hall (uncredited)', 'name': 'Carmen Laroux'}, {'character': 'Man at Boat Dock (uncredited)', 'name': 'Sam Ash'}, {'character': 'Man at Boat Dock (uncredited)', 'name': 'Buddy Messinger'}, {'character': 'Man at Boat Dock (uncredited)', 'name': 'Terrance Ray'}, {'character': 'Woman at Boat Dock (uncredited)', 'name': 'Sally Corner'}, {'character': 'City Room Employee (uncredited)', 'name': 'Walter Bacon'}, {'character': 'City Editor (uncredited)', 'name': 'Herbert Corthell'}, {'character': 'Man Singing at Inquirer Party (uncredited)', 'name': 'Harry A. Bailey'}, {'character': 'Man Singing at Inquirer Party (uncredited)', 'name': 'Danny Borzage'}, {'character': 'Man Singing at Inquirer Party (uncredited)', 'name': 'J.J. Clark'}, {'character': 'Man Singing at Inquirer Party (uncredited)', 'name': 'Tom Coleman'}, {'character': 'Man Singing at Inquirer Party (uncredited)', 'name': 'Carl Deloro'}, {'character': 'Man Singing at Inquirer Party (uncredited)', 'name': 'Jack Egan'}, {'character': 'Man Singing at Inquirer Party (uncredited)', 'name': 'Robert Haines'}, {'character': 'Man Singing at Inquirer Party (uncredited)', 'name': 'Ludwig Lowry'}, {'character': 'Man Singing at Inquirer Party (uncredited)', 'name': 'John McCormack'}, {'character': 'Man Singing at Inquirer Party (uncredited)', 'name': 'Hercules Mendez'}, {'character': 'Man Singing at Inquirer Party (uncredited)', 'name': 'Paddy O'Flynn'}, {'character': 'Man Singing at Inquirer Party (uncredited)', 'name': 'Sam Rice'}, {'character': 'Man Singing at Inquirer Party (uncredited)', 'name': 'Don Roberts'}, {'character': 'Man Singing at Inquirer Party (uncredited)', 'name': 'Larry Wheat'}, {'character': 'Man Singing at Inquirer Party (uncredited)', 'name': 'Larry Williams'}, {'character': 'Georgia (uncredited)', 'name': 'Joan Blair'}, {'character': 'Servant (uncredited)', 'name': 'Morgan Brown'}, {'character': 'Wedding Guest (uncredited)', 'name': 'Harry Burkhardt'}, {'character': 'Inquirer Reporter (uncredited)', 'name': 'Edmund Cobb'}, {'character': 'Reporter (uncredited)', 'name': 'Eddie Coke'}, {'character': 'Reporter (uncredited)', 'name': 'Louis Natheaux'}, {'character': 'Reporter (uncredited)', 'name': 'Arthur O'Connell'}, {'character': 'Reporter (uncredited)', 'name': 'Guy Repp'}, {'character': 'Reporter (uncredited)', 'name': 'Tom Steele'}, {'character': 'Reporter (uncredited)', 'name': 'Richard Wilson'}, {'character': 'Reporter at Xanadu (uncredited)', 'name': 'Louise Currie'}, {'character': 'Reporter at Xanadu (uncredited)', 'name': 'Walter Sande'}, {'character': 'Reporter at Xanadu (uncredited)', 'name': 'Jan Wiley'}, {'character': 'Reporter at Wedding (uncredited)', 'name': 'Milton Kibbee'}, {'character': 'Reporter at Boat Deck (uncredited)', 'name': 'Buck Mack'}, {'character': 'Reporter Smoking Pipe at End (uncredited)', 'name': 'Alan Ladd'}, {'character': 'Teddy Roosevelt (uncredited)', 'name': 'Thomas A. Curran'}, {'character': 'Boss Printer (uncredited)', 'name': 'Jack Curtis'}, {'character': 'Copy Boy (uncredited)', 'name': 'George Noisom'}, {'character': 'Copy Boy Delivering Message in Chicago Hotel Room (uncredited)', 'name': 'Gerald Pierce'}, {'character': 'House Maid (uncredited)', 'name': 'Donna Dax'}, {'character': 'Newspaperman at Trenton Town Hall (uncredited)', 'name': 'George DeNormand'}, {'character': 'Newspaperman at Trenton Town Hall (uncredited)', 'name': 'Bud Geary'}, {'character': 'Newspaperman at Trenton Town Hall (uncredited)', 'name': 'Bert LeBaron'}, {'character': 'Newspaperman at Trenton Town Hall (uncredited)', 'name': 'Clyde McAtee'}, {'character': 'Newspaperman at Trenton Town Hall (uncredited)', 'name': 'Cyril Ring'}, {'character': 'Newspaperman at Trenton Town Hall (uncredited)', 'name': 'Roland Winters'}, {'character': 'Newspaperman (uncredited)', 'name': 'Lew Harvey'}, {'character': 'Newspaperman (uncredited)', 'name': 'Herman J. Mankiewicz'}, {'character': 'Man in Projection Room (uncredited)', 'name': 'Eddie Dew'}, {'character': 'Man in Projection Room (uncredited)', 'name': 'Perc Launders'}, {'character': 'Ward Heeler (uncredited)', 'name': 'John Dilson'}, {'character': 'Ward Heeler (uncredited)', 'name': 'Walter James'}, {'character': 'Photographer (uncredited)', 'name': 'Robert Dudley'}, {'character': 'French Maid (uncredited)', 'name': 'Suzanne Dulier'}, {'character': 'Solly (uncredited)', 'name': 'Al Eben'}, {'character': 'Car-Driver (uncredited)', 'name': 'Johnny Eckert'}, {'character': 'Adolf Hitler (uncredited)', 'name': 'Carl Ekberg'}, {'character': 'Leland's Nurse (uncredited)', 'name': 'Edith Evanson'}, {'character': 'Hermann Goring (uncredited)', 'name': 'Carl Faulkner'}, {'character': 'Dancer (uncredited)', 'name': 'Juanita Fields'}, {'character': 'Dancer (uncredited)', 'name': 'Edna Mae Jones'}, ...]</td>\n",
              "      <td>[{'department': 'Production', 'job': 'Producer', 'name': 'Richard Baer'}, {'department': 'Directing', 'job': 'Director', 'name': 'Orson Welles'}, {'department': 'Production', 'job': 'Producer', 'name': 'Orson Welles'}, {'department': 'Editing', 'job': 'Color Timer', 'name': 'George Cave'}, {'department': 'Directing', 'job': 'Second Assistant Director', 'name': 'Fred Fleck'}, {'department': 'Directing', 'job': 'Assistant Director', 'name': 'Edward Donahue'}, {'department': 'Crew', 'job': 'Post Production Supervisor', 'name': 'Lee S. Marcus'}, {'department': 'Production', 'job': 'Executive Producer', 'name': 'George Schaefer'}, {'department': 'Production', 'job': 'Production Manager', 'name': 'J.R. Crone'}, {'department': 'Production', 'job': 'Executive In Charge Of Production', 'name': 'Pandro S. Berman'}, {'department': 'Costume &amp; Make-Up', 'job': 'Makeup Artist', 'name': 'Maurice Seiderman'}, {'department': 'Sound', 'job': 'Sound Re-Recording Mixer', 'name': 'Clem Portman'}, {'department': 'Costume &amp; Make-Up', 'job': 'Makeup Artist', 'name': 'Layne Britton'}, {'department': 'Art', 'job': 'Set Decoration', 'name': 'Darrell Silvera'}, {'department': 'Production', 'job': 'Casting', 'name': 'Rufus Le Maire'}, {'department': 'Costume &amp; Make-Up', 'job': 'Makeup Department Head', 'name': 'Mel Berns'}, {'department': 'Crew', 'job': 'Stunts', 'name': 'Tom Steele'}, {'department': 'Writing', 'job': 'Writer', 'name': 'Mollie Kent'}, {'department': 'Writing', 'job': 'Writer', 'name': 'John Houseman'}, {'department': 'Writing', 'job': 'Writer', 'name': 'Roger Q. Denny'}, {'department': 'Writing', 'job': 'Screenplay', 'name': 'Herman J. Mankiewicz'}, {'department': 'Writing', 'job': 'Screenplay', 'name': 'Orson Welles'}, {'department': 'Crew', 'job': 'Special Effects', 'name': 'Vernon L. Walker'}, {'department': 'Costume &amp; Make-Up', 'job': 'Costume Design', 'name': 'Edward Stevenson'}, {'department': 'Art', 'job': 'Art Direction', 'name': 'Van Nest Polglase'}, {'department': 'Editing', 'job': 'Editor', 'name': 'Robert Wise'}, {'department': 'Camera', 'job': 'Director of Photography', 'name': 'Gregg Toland'}, {'department': 'Sound', 'job': 'Original Music Composer', 'name': 'Bernard Herrmann'}, {'department': 'Sound', 'job': 'Supervising Sound Editor', 'name': 'John Aalberg'}, {'department': 'Camera', 'job': 'Still Photographer', 'name': 'Phil Stern'}, {'department': 'Lighting', 'job': 'Gaffer', 'name': 'Vic Jones'}, {'department': 'Camera', 'job': 'Still Photographer', 'name': 'Alexander Kahle'}, {'department': 'Production', 'job': 'Researcher', 'name': 'Elizabeth McGaffey'}, {'department': 'Editing', 'job': 'Assistant Editor', 'name': 'Mark Robson'}, {'department': 'Editing', 'job': 'Editorial Manager', 'name': 'John Houseman'}]</td>\n",
              "    </tr>\n",
              "    <tr>\n",
              "      <th>9</th>\n",
              "      <td>16</td>\n",
              "      <td>[{'character': 'Angry Man', 'name': 'Michael Flessas'}, {'character': 'Defense Attorney', 'name': 'Lars Michael Dinesen'}, {'character': 'Receptionist', 'name': 'Mette Berggreen'}, {'character': 'Judge', 'name': 'Reathel Bean'}, {'character': 'Morty', 'name': 'Jens Albinus'}, {'character': 'Dr. Porkorny', 'name': 'Udo Kier'}, {'character': 'District Attorney', 'name': 'Zeljko Ivanek'}, {'character': 'Brenda', 'name': 'Siobhan Fallon'}, {'character': 'Samuel', 'name': 'Vincent Paterson'}, {'character': 'Norman', 'name': 'Jean-Marc Barr'}, {'character': 'Gene Jezkova', 'name': 'Vladica Kostic'}, {'character': 'Linda Houston', 'name': 'Cara Seymour'}, {'character': 'Oldrich Novy', 'name': 'Joel Grey'}, {'character': 'Jeff', 'name': 'Peter Stormare'}, {'character': 'Bill Houston', 'name': 'David Morse'}, {'character': 'Kathy', 'name': 'Catherine Deneuve'}, {'character': 'Selma Jezkova', 'name': 'Björk'}, {'character': 'Dancer', 'name': 'Al Agami'}, {'character': 'Person in Doorway', 'name': 'Sean-Michael Smith'}, {'character': 'Officer of the Court / Dancer', 'name': 'Noah Lazarus'}, {'character': 'Woman on Night Shift', 'name': 'Paprika Steen'}, {'character': 'Doctor', 'name': 'Stellan Skarsgård'}, {'character': 'Detective', 'name': 'John Randolph Jones'}, {'character': 'Suzan', 'name': 'Katrine Falkenberg'}, {'character': 'Chairman / Dancer', 'name': 'John Martinus'}, {'character': 'New Defense Council', 'name': 'Luke Reilly'}, {'character': 'Prison Guard - Serving Selma Jezkova's last meal (uncredited)', 'name': 'Caroline Sascha Cogez'}, {'character': 'Dancer (uncredited)', 'name': 'Troels Asmussen'}, {'character': 'Dancer', 'name': 'Anna Norberg'}]</td>\n",
              "      <td>[{'department': 'Production', 'job': 'Producer', 'name': 'Friðrik Þór Friðriksson'}, {'department': 'Production', 'job': 'Production Accountant', 'name': 'James Wilson'}, {'department': 'Crew', 'job': 'Production Office Assistant', 'name': 'Carsten Sparwath'}, {'department': 'Crew', 'job': 'Dialect Coach', 'name': 'Sean-Michael Smith'}, {'department': 'Production', 'job': 'Finance', 'name': 'Peter Garde'}, {'department': 'Crew', 'job': 'Production Controller', 'name': 'Jonas Frederiksen'}, {'department': 'Crew', 'job': 'Legal Services', 'name': 'Andrea F. Cannistraci'}, {'department': 'Production', 'job': 'Production Coordinator', 'name': 'Malini Ahlberg'}, {'department': 'Sound', 'job': 'Sound', 'name': 'Isobel Griffiths'}, {'department': 'Editing', 'job': 'Color Timer', 'name': 'Yvan Lucas'}, {'department': 'Editing', 'job': 'Additional Editing', 'name': 'Peter Hjorth'}, {'department': 'Crew', 'job': 'Post Production Assistant', 'name': 'Christine Ekstrand'}, {'department': 'Costume &amp; Make-Up', 'job': 'Assistant Costume Designer', 'name': 'Louize Nissen'}, {'department': 'Camera', 'job': 'Camera Operator', 'name': 'Lars von Trier'}, {'department': 'Lighting', 'job': 'Electrician', 'name': 'Harri Sipilä'}, {'department': 'Crew', 'job': 'Cinematography', 'name': 'Sedsel Andersen'}, {'department': 'Crew', 'job': 'Cinematography', 'name': 'Eric Kress'}, {'department': 'Lighting', 'job': 'Electrician', 'name': 'Morten Nybø'}, {'department': 'Camera', 'job': 'Still Photographer', 'name': 'David Koskas'}, {'department': 'Lighting', 'job': 'Gaffer', 'name': 'Frank Berger'}, {'department': 'Crew', 'job': 'Stunts', 'name': 'Stig Günther'}, {'department': 'Sound', 'job': 'Dolby Consultant', 'name': 'Mark Kenna'}, {'department': 'Sound', 'job': 'Sound Designer', 'name': 'Per Streit'}, {'department': 'Sound', 'job': 'Boom Operator', 'name': 'Ad Stoop'}, {'department': 'Sound', 'job': 'Sound', 'name': 'Guy Sigsworth'}, {'department': 'Editing', 'job': 'Dialogue Editor', 'name': 'Pétur Einarsson'}, {'department': 'Sound', 'job': 'ADR &amp; Dubbing', 'name': 'Fabio D'Amico'}, {'department': 'Crew', 'job': 'Property Master', 'name': 'Jesper Lorents'}, {'department': 'Directing', 'job': 'Assistant Director', 'name': 'Caroline Sascha Cogez'}, {'department': 'Directing', 'job': 'Assistant Director', 'name': 'Anders Refn'}, {'department': 'Production', 'job': 'Unit Production Manager', 'name': 'Joakim Höglund'}, {'department': 'Production', 'job': 'Unit Production Manager', 'name': 'Anders Barlebo'}, {'department': 'Sound', 'job': 'Original Music Composer', 'name': 'Björk'}, {'department': 'Production', 'job': 'Co-Executive Producer', 'name': 'Marianne Slot'}, {'department': 'Production', 'job': 'Producer', 'name': 'Leo Pescarolo'}, {'department': 'Production', 'job': 'Co-Executive Producer', 'name': 'Lars Jönsson'}, {'department': 'Production', 'job': 'Line Producer', 'name': 'Malte Forssell'}, {'department': 'Crew', 'job': 'Unit Publicist', 'name': 'Liz Miller'}, {'department': 'Crew', 'job': 'Choreographer', 'name': 'Vincent Paterson'}, {'department': 'Costume &amp; Make-Up', 'job': 'Makeup Artist', 'name': 'Ursula Rödel'}, {'department': 'Costume &amp; Make-Up', 'job': 'Makeup Artist', 'name': 'Cédric Gérard'}, {'department': 'Costume &amp; Make-Up', 'job': 'Hairstylist', 'name': 'John Nollet'}, {'department': 'Costume &amp; Make-Up', 'job': 'Hairstylist', 'name': 'Michelle Crane'}, {'department': 'Writing', 'job': 'Writer', 'name': 'Lars von Trier'}, {'department': 'Art', 'job': 'Art Direction', 'name': 'Peter Grant'}, {'department': 'Sound', 'job': 'Sound Designer', 'name': 'Kristian Eidnes Andersen'}, {'department': 'Costume &amp; Make-Up', 'job': 'Costume Design', 'name': 'Manon Rasmussen'}, {'department': 'Art', 'job': 'Production Design', 'name': 'Karl Júlíusson'}, {'department': 'Production', 'job': 'Casting', 'name': 'Avy Kaufman'}, {'department': 'Editing', 'job': 'Editor', 'name': 'Molly Malene Stensgaard'}, {'department': 'Editing', 'job': 'Editor', 'name': 'François Gédigier'}, {'department': 'Camera', 'job': 'Director of Photography', 'name': 'Robby Müller'}, {'department': 'Production', 'job': 'Producer', 'name': 'Els Vandevorst'}, {'department': 'Production', 'job': 'Producer', 'name': 'Poul Erik Lindeborg'}, {'department': 'Production', 'job': 'Producer', 'name': 'Tero Kaukomaa'}, {'department': 'Production', 'job': 'Producer', 'name': 'Torleif Hauge'}, {'department': 'Production', 'job': 'Producer', 'name': 'Anja Grafers'}, {'department': 'Production', 'job': 'Producer', 'name': 'Mogens Glad'}, {'department': 'Production', 'job': 'Producer', 'name': 'Finn Gjerdrum'}, {'department': 'Directing', 'job': 'Director', 'name': 'Lars von Trier'}, {'department': 'Production', 'job': 'Producer', 'name': 'Vibeke Windeløv'}, {'department': 'Production', 'job': 'Executive Producer', 'name': 'Peter Aalbæk Jensen'}]</td>\n",
              "    </tr>\n",
              "    <tr>\n",
              "      <th>10</th>\n",
              "      <td>17</td>\n",
              "      <td>[{'character': 'Young Dafydd', 'name': 'Casper Harvey'}, {'character': 'James', 'name': 'Sean Bean'}, {'character': 'Adèle', 'name': 'Maria Bello'}, {'character': 'Rowan', 'name': 'Richard Elfyn'}, {'character': 'Dafydd', 'name': 'Maurice Roeves'}, {'character': 'Ebrill', 'name': 'Abigail Stone'}, {'character': 'Sarah', 'name': 'Sophie Stuckey'}, {'character': 'Police Inspector', 'name': 'Robin Griffith'}, {'character': 'Librarian', 'name': 'Gwenyth Petty'}, {'character': 'Doctor', 'name': 'Eluned Jones'}]</td>\n",
              "      <td>[{'department': 'Costume &amp; Make-Up', 'job': 'Hairstylist', 'name': 'Christine Whitney'}, {'department': 'Costume &amp; Make-Up', 'job': 'Makeup Artist', 'name': 'Erin Ayanian'}, {'department': 'Production', 'job': 'Production Manager', 'name': 'Candice Fonseca'}, {'department': 'Crew', 'job': 'Property Master', 'name': 'Richard Mills'}, {'department': 'Editing', 'job': 'Dialogue Editor', 'name': 'Dan Green'}, {'department': 'Editing', 'job': 'Dialogue Editor', 'name': 'Lauren Ana Walker'}, {'department': 'Sound', 'job': 'Sound Effects Editor', 'name': 'Bernard O'Reilly'}, {'department': 'Sound', 'job': 'Sound Re-Recording Mixer', 'name': 'Dan Johnson'}, {'department': 'Camera', 'job': 'Still Photographer', 'name': 'Giles Keyte'}, {'department': 'Camera', 'job': 'Steadicam Operator', 'name': 'Gerry Vasbenter'}, {'department': 'Sound', 'job': 'Foley', 'name': 'Lionel Selwyn'}, {'department': 'Crew', 'job': 'Stunt Coordinator', 'name': 'Gareth Milne'}, {'department': 'Camera', 'job': 'Underwater Camera', 'name': 'Mark Wolf'}, {'department': 'Sound', 'job': 'Foley', 'name': 'Jason Swanscott'}, {'department': 'Directing', 'job': 'Script Supervisor', 'name': 'Elizabeth Tremblay'}, {'department': 'Lighting', 'job': 'Rigging Gaffer', 'name': 'John Donoghue'}, {'department': 'Lighting', 'job': 'Gaffer', 'name': 'Phil Brookes'}, {'department': 'Camera', 'job': 'Camera Operator', 'name': 'Howard Baker'}, {'department': 'Crew', 'job': 'CG Supervisor', 'name': 'John Harvey'}, {'department': 'Visual Effects', 'job': 'Animation', 'name': 'Jayson King'}, {'department': 'Visual Effects', 'job': 'Animation', 'name': 'Adam Seeley'}, {'department': 'Sound', 'job': 'Sound Effects Editor', 'name': 'Ben Meechan'}, {'department': 'Editing', 'job': 'Dialogue Editor', 'name': 'Simon Price'}, {'department': 'Sound', 'job': 'Music Editor', 'name': 'Kirsty Whalley'}, {'department': 'Visual Effects', 'job': 'Visual Effects Supervisor', 'name': 'Adam Gascoyne'}, {'department': 'Production', 'job': 'Casting', 'name': 'Suzanne M. Smith'}, {'department': 'Sound', 'job': 'Foley', 'name': 'Melissa Lake'}, {'department': 'Sound', 'job': 'Sound Re-Recording Mixer', 'name': 'Howard Bargroff'}, {'department': 'Costume &amp; Make-Up', 'job': 'Hair Designer', 'name': 'Sarah Monzani'}, {'department': 'Costume &amp; Make-Up', 'job': 'Hairstylist', 'name': 'Zoe Brown'}, {'department': 'Sound', 'job': 'Music Editor', 'name': 'Allan Jenkins'}, {'department': 'Art', 'job': 'Art Direction', 'name': 'Ed Walsh'}, {'department': 'Costume &amp; Make-Up', 'job': 'Hairstylist', 'name': 'Simon Thompson'}, {'department': 'Costume &amp; Make-Up', 'job': 'Makeup Department Head', 'name': 'Sue Ignatius'}, {'department': 'Directing', 'job': 'Director', 'name': 'John Fawcett'}, {'department': 'Writing', 'job': 'Author', 'name': 'Simon Maginn'}, {'department': 'Writing', 'job': 'Screenplay', 'name': 'Stephen Massicotte'}, {'department': 'Production', 'job': 'Producer', 'name': 'Paul W.S. Anderson'}, {'department': 'Production', 'job': 'Producer', 'name': 'Jeremy Bolt'}, {'department': 'Production', 'job': 'Producer', 'name': 'Robert Kulzer'}, {'department': 'Production', 'job': 'Executive Producer', 'name': 'Steve Christian'}, {'department': 'Sound', 'job': 'Sound Director', 'name': 'Edmund Butt'}, {'department': 'Camera', 'job': 'Director of Photography', 'name': 'Christian Sebaldt'}, {'department': 'Production', 'job': 'Casting', 'name': 'Robyn Ray'}, {'department': 'Editing', 'job': 'Editor', 'name': 'Chris Gill'}, {'department': 'Art', 'job': 'Production Design', 'name': 'Eve Stewart'}, {'department': 'Art', 'job': 'Supervising Art Director', 'name': 'Andrew Grant'}, {'department': 'Production', 'job': 'Location Manager', 'name': 'Johnny Bamford'}, {'department': 'Production', 'job': 'Location Manager', 'name': 'Phil Gates'}, {'department': 'Crew', 'job': 'Carpenter', 'name': 'Graham Thomas'}, {'department': 'Crew', 'job': 'Carpenter', 'name': 'Mark Overall'}, {'department': 'Crew', 'job': 'Carpenter', 'name': 'Terry Law'}, {'department': 'Production', 'job': 'Production Accountant', 'name': 'Della Moore'}, {'department': 'Production', 'job': 'Location Manager', 'name': 'Henry Woolley'}, {'department': 'Production', 'job': 'Location Manager', 'name': 'Ian Pollington'}, {'department': 'Crew', 'job': 'Unit Publicist', 'name': 'Rob Deacon'}, {'department': 'Production', 'job': 'Location Manager', 'name': 'Jules De Barsham'}, {'department': 'Editing', 'job': 'Digital Intermediate', 'name': 'Marcus Alexander'}, {'department': 'Costume &amp; Make-Up', 'job': 'Costume Supervisor', 'name': 'Leigh Nicol'}, {'department': 'Camera', 'job': 'Camera Operator', 'name': 'Mark Milsome'}, {'department': 'Camera', 'job': 'Camera Operator', 'name': 'David Odd'}, {'department': 'Costume &amp; Make-Up', 'job': 'Costume Design', 'name': 'Ffion Elinor'}]</td>\n",
              "    </tr>\n",
              "    <tr>\n",
              "      <th>11</th>\n",
              "      <td>18</td>\n",
              "      <td>[{'character': 'Staedert's Technician', 'name': 'David Garvey'}, {'character': 'Priest', 'name': 'John Bennett'}, {'character': 'Afro Scott', 'name': 'Roger Wright'}, {'character': 'Mangalor alien', 'name': 'Joss Skottowe'}, {'character': 'Bodyguard', 'name': 'Frank Senger'}, {'character': 'VIP Lounge Worker', 'name': 'Gito Santana'}, {'character': 'Stewardess', 'name': 'Tracy Redington'}, {'character': 'Glamorous Japanese Girl', 'name': 'Kamay Lau'}, {'character': 'Japanese Hostess', 'name': 'Anita Koh'}, {'character': 'Mondoshawan #3', 'name': 'François Guillaume'}, {'character': 'Glamorous Alien Diva at Event', 'name': 'Kristen Fick'}, {'character': 'Burger Assistant', 'name': 'Stina Richardson'}, {'character': 'Burger Assistant', 'name': 'Renee Montemayor'}, {'character': 'Burger Assistant', 'name': 'Marie Guillard'}, {'character': 'Zorg's Man', 'name': 'Alex Georgijev'}, {'character': 'Zorg's Man', 'name': 'Roy Garcia'}, {'character': 'Zorg's Man', 'name': 'Shaun Davis'}, {'character': 'Zorg's Man', 'name': 'Patrick Nicholls'}, {'character': 'Zorg's Man', 'name': 'J.D. Dawodu'}, {'character': 'Power Operator', 'name': 'C. Keith Martin'}, {'character': 'Power Operator', 'name': 'Leo Williams'}, {'character': 'TV Stewardess', 'name': 'Mia Frye'}, {'character': 'Warship Technician', 'name': 'Robert Alexander'}, {'character': 'Robot Barman', 'name': 'Robert Clapperton'}, {'character': 'Staedert's Technician', 'name': 'Omar Williams'}, {'character': 'Staedert's Technician', 'name': 'Stanley Kowalski'}, {'character': 'Lab Guard', 'name': 'Leon Dekker'}, {'character': 'Lab Guard', 'name': 'Scott Woods'}, {'character': 'Military Technician', 'name': 'Cecil Cheng'}, {'character': 'Military Technician', 'name': 'Nathan Hamlett'}, {'character': 'Military Technician', 'name': 'Dane Messam'}, {'character': 'Scientist', 'name': 'Sean Buckley'}, {'character': 'Scientist', 'name': 'Ali Yassine'}, {'character': 'Scientist', 'name': 'Sarah Carrington'}, {'character': 'Zorg's Secretary', 'name': 'Sibyl Buck'}, {'character': 'Hotel Manager', 'name': 'Fred Williams'}, {'character': 'Fhloston Captain', 'name': 'John Sharian'}, {'character': 'Fhloston Commander', 'name': 'Robert Oates'}, {'character': 'Police Chief', 'name': 'Lenny McLean'}, {'character': 'Fhloston Hostess', 'name': 'Laura De Palma'}, {'character': 'Fhloston Hostess', 'name': 'Yui'}, {'character': 'Roy von Bacon', 'name': 'Eddie Ellwood'}, {'character': 'Princess Achen', 'name': 'Zeta Graff'}, {'character': 'Emperor Kodar Japhet', 'name': 'Sonny Caldinez'}, {'character': 'Baby Ray', 'name': 'Ian Beckett'}, {'character': 'Shuttle Mechanic', 'name': 'Kevin Brewerton'}, {'character': 'Shuttle Co-Pilot', 'name': 'Tyrone Tyrell'}, {'character': 'Shuttle Pilot', 'name': 'Kaleem Janjua'}, {'character': 'Tawdry Girl', 'name': 'Ève Salvail'}, {'character': 'Airport Cop', 'name': 'Christopher Adamson'}, {'character': 'Mangalore Kino', 'name': 'Alan Ruscoe'}, {'character': 'Mangalore Akanit', 'name': 'Aron Paramor'}, {'character': 'Human Aknot', 'name': 'Vladimir McCrary'}, {'character': 'Diva's Assistant', 'name': 'Gin Clarke'}, {'character': 'Ruby Rhod Assistant', 'name': 'Carlton Chance'}, {'character': 'Ruby Rhod Assistant', 'name': 'David Fishley'}, {'character': 'Ruby Rhod Assistant', 'name': 'Stewart Harvey-Wilson'}, {'character': 'Cop', 'name': 'Paul Priestley'}, {'character': 'Diva's Manager', 'name': 'Pete Dunwell'}, {'character': 'Warship Captain', 'name': 'Martin McDougall'}, {'character': 'Check-in Attendant', 'name': 'Sophia Goth'}, {'character': 'Stewardess', 'name': 'Natasha Brice'}, {'character': 'Stewardess', 'name': 'Rachel Willis'}, {'character': 'Flying Cop', 'name': 'Jerry Ezekiel'}, {'character': 'Flying Cop', 'name': 'Riz Meedin'}, {'character': 'Flying Cop', 'name': 'Jean-Luc Caron'}, {'character': 'Flying Cop', 'name': 'Mark Seaton'}, {'character': 'Flying Cop / Military Technician', 'name': 'Roger Monk'}, {'character': 'Flying Cop', 'name': 'David Barrass'}, {'character': 'Flying Cop', 'name': 'David Kennedy'}, {'character': 'NY Cop', 'name': 'Derek Ezenagu'}, {'character': 'Chief NY Cop', 'name': 'Sam Douglas'}, {'character': 'Mactilburgh's Technician', 'name': 'Anthony Chinn'}, {'character': 'Staedert's Captain', 'name': 'Colin Brooks'}, {'character': 'Mactilburgh's Assistant', 'name': 'Bill Reimbold'}, {'character': 'Mondoshawan / Ground Crew', 'name': 'Kevin Molloy'}, {'character': 'Mondoshawan', 'name': 'Jerome St. John Blake'}, {'character': 'Mondoshawan', 'name': 'Richard Ashton'}, {'character': 'Mondoshawan', 'name': 'Justin Lee Burrows'}, {'character': 'Mondoshawan / Mangalore Aknot / Airport Guard', 'name': 'Clifton Lloyd Bryan'}, {'character': 'Aziz', 'name': 'Said Talidi'}, {'character': 'Omar', 'name': 'Roberto Bryce'}, {'character': 'Korben Dallas', 'name': 'Bruce Willis'}, {'character': 'Jean-Baptiste Emmanuel Zorg', 'name': 'Gary Oldman'}, {'character': 'Father Vito Cornelius', 'name': 'Ian Holm'}, {'character': 'Leeloo', 'name': 'Milla Jovovich'}, {'character': 'Ruby Rhod', 'name': 'Chris Tucker'}, {'character': 'Billy', 'name': 'Luke Perry'}, {'character': 'General Munro', 'name': 'Brion James'}, {'character': 'President Lindberg', 'name': 'Tom Lister Jr.'}, {'character': 'Fog', 'name': 'Lee Evans'}, {'character': 'David', 'name': 'Charlie Creed-Miles'}, {'character': 'Right Arm', 'name': 'Tricky'}, {'character': 'General Staedert', 'name': 'John Neville'}, {'character': 'Professor Pacoli', 'name': 'John Bluthal'}, {'character': 'Mugger', 'name': 'Mathieu Kassovitz'}, {'character': 'Mactilburgh', 'name': 'Christopher Fairbank'}, {'character': 'Mr. Kim', 'name': 'Kim Chan'}, {'character': 'Major Iceborg', 'name': 'Julie T. Wallace'}, {'character': 'General Tudor', 'name': 'Al Matthews'}, ...]</td>\n",
              "      <td>[{'department': 'Crew', 'job': 'Carpenter', 'name': 'Dominic Ackland-Snow'}, {'department': 'Writing', 'job': 'Screenplay', 'name': 'Luc Besson'}, {'department': 'Directing', 'job': 'Director', 'name': 'Luc Besson'}, {'department': 'Writing', 'job': 'Story', 'name': 'Luc Besson'}, {'department': 'Production', 'job': 'Producer', 'name': 'Patrice Ledoux'}, {'department': 'Writing', 'job': 'Screenplay', 'name': 'Robert Mark Kamen'}, {'department': 'Production', 'job': 'Co-Producer', 'name': 'Iain Smith'}, {'department': 'Crew', 'job': 'Post Production Supervisor', 'name': 'John A. Amicarella'}, {'department': 'Production', 'job': 'Associate Producer', 'name': 'John A. Amicarella'}, {'department': 'Sound', 'job': 'Sound Designer', 'name': 'Mark A. Mangini'}, {'department': 'Sound', 'job': 'Original Music Composer', 'name': 'Eric Serra'}, {'department': 'Camera', 'job': 'Director of Photography', 'name': 'Thierry Arbogast'}, {'department': 'Editing', 'job': 'Editor', 'name': 'Sylvie Landra'}, {'department': 'Production', 'job': 'Casting', 'name': 'Lucinda Syson'}, {'department': 'Art', 'job': 'Production Design', 'name': 'Dan Weil'}, {'department': 'Art', 'job': 'Art Direction', 'name': 'Ira Gilford'}, {'department': 'Crew', 'job': 'Visual Effects Art Director', 'name': 'Ira Gilford'}, {'department': 'Art', 'job': 'Art Direction', 'name': 'Ron Gress'}, {'department': 'Crew', 'job': 'Visual Effects Art Director', 'name': 'Ron Gress'}, {'department': 'Art', 'job': 'Art Direction', 'name': 'Michael Lamont'}, {'department': 'Art', 'job': 'Art Direction', 'name': 'Jim Morahan'}, {'department': 'Art', 'job': 'Art Direction', 'name': 'Kevin Phipps'}, {'department': 'Art', 'job': 'Set Decoration', 'name': 'Maggie Gray'}, {'department': 'Art', 'job': 'Set Decoration', 'name': 'Anna Pinnock'}, {'department': 'Costume &amp; Make-Up', 'job': 'Costume Design', 'name': 'Jean Paul Gaultier'}, {'department': 'Production', 'job': 'Production Manager', 'name': 'Sarah Bradshaw'}, {'department': 'Production', 'job': 'Unit Production Manager', 'name': 'Crys Forsyth-Smith'}, {'department': 'Production', 'job': 'Production Manager', 'name': 'Bernard Grenet'}, {'department': 'Production', 'job': 'Production Manager', 'name': 'Barrie Melrose'}, {'department': 'Crew', 'job': 'Second Unit', 'name': 'Pascal Chaumeil'}, {'department': 'Camera', 'job': 'Second Unit Director of Photography', 'name': 'Pascal Chaumeil'}, {'department': 'Camera', 'job': 'Camera Operator', 'name': 'Jean-Paul Meurisse'}, {'department': 'Sound', 'job': 'Foley', 'name': 'Ellen Heuer'}, {'department': 'Visual Effects', 'job': 'Creature Design', 'name': 'Nick Dudman'}, {'department': 'Art', 'job': 'Assistant Art Director', 'name': 'Gary Tomkins'}, {'department': 'Costume &amp; Make-Up', 'job': 'Makeup Artist', 'name': 'Amanda Knight'}, {'department': 'Crew', 'job': 'Stunts', 'name': 'Lucy Allen'}, {'department': 'Directing', 'job': 'Script Supervisor', 'name': 'Jean Bourne'}, {'department': 'Sound', 'job': 'ADR &amp; Dubbing', 'name': 'Victoria Rose Sampson'}, {'department': 'Sound', 'job': 'Sound Re-Recording Mixer', 'name': 'Ron Bartlett'}, {'department': 'Crew', 'job': 'Stunt Coordinator', 'name': 'Marc Boyle'}, {'department': 'Editing', 'job': 'First Assistant Editor', 'name': 'Yann Hervé'}, {'department': 'Sound', 'job': 'Sound Engineer', 'name': 'Pierre Excoffier'}, {'department': 'Art', 'job': 'Sculptor', 'name': 'Shaune Harrison'}, {'department': 'Editing', 'job': 'First Assistant Editor', 'name': 'Simon Cozens'}, {'department': 'Art', 'job': 'Conceptual Design', 'name': 'Jean Giraud'}, {'department': 'Art', 'job': 'Assistant Art Director', 'name': 'Frederic Evard'}, {'department': 'Costume &amp; Make-Up', 'job': 'Hairstylist', 'name': 'Lisa Tomblin'}, {'department': 'Production', 'job': 'Location Manager', 'name': 'Kevin De La Noy'}, {'department': 'Crew', 'job': 'Sound Recordist', 'name': 'Brian D. Lucas'}, {'department': 'Sound', 'job': 'Sound Effects Editor', 'name': 'Julia Evershade'}, {'department': 'Directing', 'job': 'Assistant Director', 'name': 'Franck Lebreton'}, {'department': 'Sound', 'job': 'Foley', 'name': 'James Moriana'}, {'department': 'Sound', 'job': 'Sound Effects Editor', 'name': 'David A. Whittaker'}, {'department': 'Visual Effects', 'job': 'Animation Supervisor', 'name': 'Daniel Robichaud'}, {'department': 'Crew', 'job': 'Sound Recordist', 'name': 'Daniel Brisseau'}, {'department': 'Directing', 'job': 'Assistant Director', 'name': 'Olivier Horlait'}, {'department': 'Art', 'job': 'Assistant Art Director', 'name': 'Paul Kirby'}, {'department': 'Sound', 'job': 'Music Supervisor', 'name': 'Anita Camarata'}, {'department': 'Sound', 'job': 'Boom Operator', 'name': 'Jean-Marie Blondel'}, {'department': 'Art', 'job': 'Set Designer', 'name': 'James Hambidge'}, {'department': 'Sound', 'job': 'Sound Effects Editor', 'name': 'Dwayne Avery'}, {'department': 'Crew', 'job': 'Armorer', 'name': 'Simon Atherton'}, {'department': 'Directing', 'job': 'Assistant Director', 'name': 'Aimée Peyronnet'}, {'department': 'Directing', 'job': 'Second Assistant Director', 'name': 'Frédéric Garson'}, {'department': 'Costume &amp; Make-Up', 'job': 'Makeup Department Head', 'name': 'Lois Burwell'}, {'department': 'Art', 'job': 'Art Department Coordinator', 'name': 'Katie Gabriel'}, {'department': 'Visual Effects', 'job': 'Special Effects Supervisor', 'name': 'Nick Allder'}, {'department': 'Camera', 'job': 'Still Photographer', 'name': 'Jack English'}, {'department': 'Sound', 'job': 'Sound Re-Recording Mixer', 'name': 'Chris Jenkins'}, {'department': 'Sound', 'job': 'Sound Effects Editor', 'name': 'David Lewis Yewdall'}, {'department': 'Crew', 'job': 'Digital Effects Supervisor', 'name': 'Karen E. Goulekas'}, {'department': 'Crew', 'job': 'Utility Stunts', 'name': 'Dean Forster'}, {'department': 'Directing', 'job': 'First Assistant Director', 'name': 'Kelly L'Estrange'}, {'department': 'Lighting', 'job': 'Gaffer', 'name': 'John Higgins'}, {'department': 'Crew', 'job': 'Visual Effects Editor', 'name': 'Debra Wolff'}, {'department': 'Crew', 'job': 'Sound Recordist', 'name': 'Andrea Eliseyan'}, {'department': 'Sound', 'job': 'ADR &amp; Dubbing', 'name': 'Curt Schulkey'}, {'department': 'Sound', 'job': 'Sound Effects Editor', 'name': 'Howell Gibbens'}, {'department': 'Costume &amp; Make-Up', 'job': 'Hairstylist', 'name': 'Sue Love'}, {'department': 'Costume &amp; Make-Up', 'job': 'Hairstylist', 'name': 'Bunny Parker'}, {'department': 'Camera', 'job': 'Steadicam Operator', 'name': 'John Ward'}, {'department': 'Sound', 'job': 'Sound Effects Editor', 'name': 'Geoffrey G. Rubay'}, {'department': 'Lighting', 'job': 'Best Boy Electric', 'name': 'Kevin Edland'}, {'department': 'Visual Effects', 'job': 'Visual Effects Supervisor', 'name': 'Bill Kent'}, {'department': 'Crew', 'job': 'Property Master', 'name': 'Barry Wilkinson'}, {'department': 'Directing', 'job': 'Assistant Director', 'name': 'Camille Lipmann'}, {'department': 'Costume &amp; Make-Up', 'job': 'Makeup Artist', 'name': 'Pauline Heys'}, {'department': 'Art', 'job': 'Construction Coordinator', 'name': 'Ray Barrett'}, {'department': 'Art', 'job': 'Construction Coordinator', 'name': 'Richard Guille'}, {'department': 'Crew', 'job': 'Sound Recordist', 'name': 'Gary L.G. Simpson'}, {'department': 'Sound', 'job': 'Sound Designer', 'name': 'John Pospisil'}, {'department': 'Crew', 'job': 'Sequence Supervisor', 'name': 'Sean C. Cunningham'}, {'department': 'Crew', 'job': 'Sequence Supervisor', 'name': 'Sean Dever'}, {'department': 'Crew', 'job': 'Sequence Supervisor', 'name': 'Christine Lo'}, {'department': 'Crew', 'job': 'Sequence Supervisor', 'name': 'Joshua I. Kolden'}, {'department': 'Crew', 'job': 'Sequence Supervisor', 'name': 'Rodney J. McFall'}, {'department': 'Crew', 'job': 'Second Unit Cinematographer', 'name': 'Nick Tebbet'}, {'department': 'Lighting', 'job': 'Rigging Gaffer', 'name': 'Kenny Monger'}, {'department': 'Editing', 'job': 'First Assistant Editor', 'name': 'Donald Likovich'}, ...]</td>\n",
              "    </tr>\n",
              "    <tr>\n",
              "      <th>12</th>\n",
              "      <td>19</td>\n",
              "      <td>[{'character': 'Grot', 'name': 'Heinrich George'}, {'character': 'Jan', 'name': 'Olaf Storm'}, {'character': 'Working Man Who Causes Explosion of M-Machine (uncredited)', 'name': 'Georg John'}, {'character': 'Working Man (uncredited)', 'name': 'Arthur Reinhardt'}, {'character': 'Working Woman (uncredited)', 'name': 'Henrietta Siodmak'}, {'character': 'Maria', 'name': 'Brigitte Helm'}, {'character': 'Johann 'Joh' Fredersen', 'name': 'Alfred Abel'}, {'character': 'Arbeiterfrau', 'name': 'Helene Weigel'}, {'character': 'Lady in Car / Woman of Eternal Gardens', 'name': 'Margarete Lanner'}, {'character': 'Marinus', 'name': 'Hanns Leo Reich'}, {'character': 'Creative Human', 'name': 'Fritz Alberti'}, {'character': 'Freder Fredersen', 'name': 'Gustav Fröhlich'}, {'character': 'Woman of Eternal Gardens (uncredited)', 'name': 'Helen von Münchofen'}, {'character': 'Master of Ceremonies', 'name': 'Heinrich Gotho'}, {'character': 'Working Woman (uncredited)', 'name': 'Grete Berger'}, {'character': 'Working Man (uncredited)', 'name': 'Curt Siodmak'}, {'character': 'Son in Eternal Gardens (uncredited)', 'name': 'Rolf von Goth'}, {'character': 'C.A. Rotwang, the inventor', 'name': 'Rudolf Klein-Rogge'}, {'character': 'The Thin Man', 'name': 'Fritz Rasp'}, {'character': 'Josaphat', 'name': 'Theodor Loos'}, {'character': 'No. 11811 - Georgy', 'name': 'Erwin Biswanger'}]</td>\n",
              "      <td>[{'department': 'Directing', 'job': 'Assistant Director', 'name': 'Slatan Dudow'}, {'department': 'Art', 'job': 'Set Designer', 'name': 'Otto Hunte'}, {'department': 'Art', 'job': 'Set Designer', 'name': 'Erich Kettelhut'}, {'department': 'Art', 'job': 'Set Designer', 'name': 'Karl Vollbrecht'}, {'department': 'Camera', 'job': 'Camera Operator', 'name': 'Karl Freund'}, {'department': 'Camera', 'job': 'Camera Operator', 'name': 'Günther Rittau'}, {'department': 'Sound', 'job': 'Original Music Composer', 'name': 'Otto Harzner'}, {'department': 'Sound', 'job': 'Conductor', 'name': 'Frank Strobel'}, {'department': 'Crew', 'job': 'Production Office Assistant', 'name': 'Erich Holder'}, {'department': 'Crew', 'job': 'Production Office Assistant', 'name': 'Erich Kettelhut'}, {'department': 'Crew', 'job': 'Production Office Assistant', 'name': 'Hans Taussig'}, {'department': 'Crew', 'job': 'Production Artist', 'name': 'Rudi George'}, {'department': 'Production', 'job': 'Producer', 'name': 'Erich Pommer'}, {'department': 'Directing', 'job': 'Director', 'name': 'Fritz Lang'}, {'department': 'Sound', 'job': 'Original Music Composer', 'name': 'Gottfried Huppertz'}, {'department': 'Editing', 'job': 'Editor', 'name': 'Fritz Lang'}, {'department': 'Camera', 'job': 'Director of Photography', 'name': 'Karl Freund'}, {'department': 'Camera', 'job': 'Director of Photography', 'name': 'Günther Rittau'}, {'department': 'Camera', 'job': 'Director of Photography', 'name': 'Walter Ruttmann'}, {'department': 'Costume &amp; Make-Up', 'job': 'Costume Design', 'name': 'Aenne Willkomm'}, {'department': 'Art', 'job': 'Set Designer', 'name': 'Edgar G. Ulmer'}, {'department': 'Art', 'job': 'Art Direction', 'name': 'Karl Vollbrecht'}, {'department': 'Art', 'job': 'Art Direction', 'name': 'Erich Kettelhut'}, {'department': 'Art', 'job': 'Art Direction', 'name': 'Otto Hunte'}, {'department': 'Writing', 'job': 'Screenplay', 'name': 'Fritz Lang'}, {'department': 'Writing', 'job': 'Screenplay', 'name': 'Thea von Harbou'}, {'department': 'Art', 'job': 'Sculptor', 'name': 'Walter Schulze-Mittendorff'}, {'department': 'Crew', 'job': 'Special Effects', 'name': 'Ernst Kunstmann'}, {'department': 'Crew', 'job': 'Special Effects', 'name': 'Konstantin Irmen-Tschet'}, {'department': 'Visual Effects', 'job': 'Visual Effects', 'name': 'Eugen Schüfftan'}, {'department': 'Camera', 'job': 'First Assistant Camera', 'name': 'Robert Baberske'}, {'department': 'Camera', 'job': 'Still Photographer', 'name': 'Horst von Harbou'}, {'department': 'Sound', 'job': 'Music Editor', 'name': 'Frank Strobel'}, {'department': 'Writing', 'job': 'Novel', 'name': 'Thea von Harbou'}]</td>\n",
              "    </tr>\n",
              "    <tr>\n",
              "      <th>13</th>\n",
              "      <td>20</td>\n",
              "      <td>[{'character': 'Patsy', 'name': 'Kenya Jo Kennedy'}, {'character': 'Penny', 'name': 'Jessica Amlee'}, {'character': 'Dr. Thompson', 'name': 'Julian Richings'}, {'character': 'Hairdresser', 'name': 'Maria de Medeiros'}, {'character': 'Ann's Mother', 'name': 'Deborah Harry'}, {'character': 'Neighbor Ann', 'name': 'Leonor Watling'}, {'character': 'Don', 'name': 'Scott Speedman'}, {'character': 'Laurie', 'name': 'Amanda Plummer'}, {'character': 'Ann', 'name': 'Sarah Polley'}, {'character': None, 'name': 'Mark Ruffalo'}, {'character': 'Ann's Father', 'name': 'Alfred Molina'}, {'character': 'Camille Martínez', 'name': 'Camille Martinez'}]</td>\n",
              "      <td>[{'department': 'Sound', 'job': 'Sound Designer', 'name': 'Albert Manera'}, {'department': 'Sound', 'job': 'Sound Designer', 'name': 'Patrick Ghislain'}, {'department': 'Sound', 'job': 'Sound Designer', 'name': 'Viorel Ghiocel'}, {'department': 'Sound', 'job': 'Sound Designer', 'name': 'Manuel Corrales'}, {'department': 'Costume &amp; Make-Up', 'job': 'Costume Design', 'name': 'Katia Stano'}, {'department': 'Art', 'job': 'Art Direction', 'name': 'Shelley Bolton'}, {'department': 'Production', 'job': 'Casting', 'name': 'Monika Mikkelsen'}, {'department': 'Production', 'job': 'Casting', 'name': 'Heidi Levitt'}, {'department': 'Production', 'job': 'Executive Producer', 'name': 'Pedro Almodóvar'}, {'department': 'Production', 'job': 'Executive Producer', 'name': 'Agustín Almodóvar'}, {'department': 'Sound', 'job': 'Original Music Composer', 'name': 'Alfonso Vilallonga'}, {'department': 'Editing', 'job': 'Editor', 'name': 'Lisa Robison'}, {'department': 'Camera', 'job': 'Director of Photography', 'name': 'Jean-Claude Larrieu'}, {'department': 'Writing', 'job': 'Author', 'name': 'Nanci Kincaid'}, {'department': 'Production', 'job': 'Producer', 'name': 'Gordon McLennan'}, {'department': 'Directing', 'job': 'Director', 'name': 'Isabel Coixet'}, {'department': 'Production', 'job': 'Producer', 'name': 'Esther García'}]</td>\n",
              "    </tr>\n",
              "    <tr>\n",
              "      <th>14</th>\n",
              "      <td>30</td>\n",
              "      <td>[{'character': 'Miguel', 'name': 'Kouichi Yamadera'}, {'character': 'Heinz', 'name': 'Tsutomu Isobe'}, {'character': 'Emily', 'name': 'Ami Hasegawa'}, {'character': 'Eva', 'name': 'Gara Takashima'}]</td>\n",
              "      <td>[{'department': 'Sound', 'job': 'Original Music Composer', 'name': 'Yoko Kanno'}, {'department': 'Writing', 'job': 'Author', 'name': 'Satoshi Kon'}, {'department': 'Writing', 'job': 'Author', 'name': 'Katsuhiro Ōtomo'}, {'department': 'Directing', 'job': 'Director', 'name': 'Kouji Morimoto'}]</td>\n",
              "    </tr>\n",
              "    <tr>\n",
              "      <th>15</th>\n",
              "      <td>21</td>\n",
              "      <td>[{'character': 'Himself', 'name': 'Michael Hynson'}, {'character': 'Himself', 'name': 'Chuck Gardner'}, {'character': 'Himself', 'name': 'Robert August'}, {'character': 'Himself', 'name': 'Wayne Miyata'}, {'character': 'Himself', 'name': 'Lord 'Tally Ho' Blears'}, {'character': 'Narrator', 'name': 'Bruce Brown'}, {'character': 'Himself', 'name': 'Chip Fitzwater'}]</td>\n",
              "      <td>[{'department': 'Editing', 'job': 'Editor', 'name': 'Bruce Brown'}, {'department': 'Production', 'job': 'Producer', 'name': 'Bruce Brown'}, {'department': 'Directing', 'job': 'Director', 'name': 'Bruce Brown'}, {'department': 'Sound', 'job': 'Original Music Composer', 'name': 'Gaston Georis'}, {'department': 'Production', 'job': 'Producer', 'name': 'Robert Bagley'}, {'department': 'Writing', 'job': 'Author', 'name': 'Bruce Brown'}, {'department': 'Sound', 'job': 'Original Music Composer', 'name': 'John Blakeley'}, {'department': 'Sound', 'job': 'Original Music Composer', 'name': 'Walter Georis'}, {'department': 'Camera', 'job': 'Director of Photography', 'name': 'Bruce Brown'}]</td>\n",
              "    </tr>\n",
              "    <tr>\n",
              "      <th>16</th>\n",
              "      <td>22</td>\n",
              "      <td>[{'character': 'Lejon', 'name': 'LeJon'}, {'character': 'Katracho: Barbossa's Crew', 'name': 'Jose Zelaya'}, {'character': 'Hawksmoor: Barbossa's Crew', 'name': 'Michael W. Williams'}, {'character': 'Murtogg', 'name': 'Giles New'}, {'character': 'Scarus: Barbossa's Crew', 'name': 'Tommy Schooler'}, {'character': 'Clubba: Barbossa's Crew', 'name': 'David Patykewich'}, {'character': 'Monk: Barbossa's Crew (as Michael Lane)', 'name': 'Michael Earl Lane'}, {'character': 'Maximo: Barbossa's Crew', 'name': 'Maxie J. Santillan Jr.'}, {'character': 'Ketchum: Barbossa's Crew', 'name': 'Jerry Gauny'}, {'character': 'Bo'sun', 'name': 'Isaac C. Singleton Jr.'}, {'character': 'Marty', 'name': 'Martin Klebba'}, {'character': 'Cotton's Parrot (voice)', 'name': 'Christopher S. Capp'}, {'character': 'Cotton', 'name': 'David Bailie'}, {'character': 'Twigg', 'name': 'Michael Berry Jr.'}, {'character': 'Koehler', 'name': 'Treva Etienne'}, {'character': 'Lieutenant Gillette', 'name': 'Damian O'Hare'}, {'character': 'Ragetti', 'name': 'Mackenzie Crook'}, {'character': 'Pintel', 'name': 'Lee Arenberg'}, {'character': 'Anamaria', 'name': 'Zoe Saldana'}, {'character': 'Joshamee Gibbs', 'name': 'Kevin McNally'}, {'character': 'Governor Weatherby Swann', 'name': 'Jonathan Pryce'}, {'character': 'Commodore James Norrington', 'name': 'Jack Davenport'}, {'character': 'Elizabeth Swann', 'name': 'Keira Knightley'}, {'character': 'Will Turner', 'name': 'Orlando Bloom'}, {'character': 'Captain Hector Barbossa', 'name': 'Geoffrey Rush'}, {'character': 'Quartetto: Jack's Crew', 'name': 'Fred Toft'}, {'character': 'Crimp: Jack's Crew', 'name': 'Craig Thomson'}, {'character': 'Ladbroc: Jack's Crew (as Chris 'Sully' Sullivan)', 'name': 'Christopher Sullivan'}, {'character': 'Duncan: Jack's Crew', 'name': 'M. Scott Shields'}, {'character': 'Tearlach: Jack's Crew (as Gerard Reyes)', 'name': 'Gerard J. Reyes'}, {'character': 'Matelot: Jack's Crew', 'name': 'Rudolph McCollum'}, {'character': 'Kursar: Jack's Crew', 'name': 'Mike Haberecht'}, {'character': 'Sailor (uncredited)', 'name': 'Paul Gagné'}, {'character': 'Marine (uncredited)', 'name': 'Joe Grisaffi'}, {'character': 'Barbossa's Crew (uncredited)', 'name': 'James McAuley'}, {'character': 'Captain Jack Sparrow', 'name': 'Johnny Depp'}, {'character': 'Pirate (uncredited)', 'name': 'Jordi Caballero'}, {'character': 'Pirate (uncredited)', 'name': 'Gregory Alosio'}, {'character': 'Nipperkin: Barbossa's Crew', 'name': 'Don LaDaga'}, {'character': 'Simbakka: Barbossa's Crew', 'name': 'Michael A. Thompson'}, {'character': 'Dog Ear: Barbossa's Crew', 'name': 'Tobias McKinney'}, {'character': 'Weatherby: Barbossa's Crew', 'name': 'D.P. FitzGerald'}, {'character': 'Scratch: Barbossa's Crew', 'name': 'Finneus Egan'}, {'character': 'Moises: Jack's Crew', 'name': 'Félix Castro'}, {'character': 'Crying Boy', 'name': 'Ben Roberts'}, {'character': 'Crying Boy', 'name': 'Sam Roberts'}, {'character': 'Crippled Man', 'name': 'Israel Aduramo'}, {'character': 'Sailor', 'name': 'Ian McIntyre'}, {'character': 'Town Clerk', 'name': 'Owen Finnegan'}, {'character': 'Seedy Prisoner #4', 'name': 'Mike Babcock'}, {'character': 'Seedy Prisoner #3', 'name': 'Antonio Valentino'}, {'character': 'Seedy Prisoner #2', 'name': 'Ben Wilson'}, {'character': 'Mallot', 'name': 'Brye Cooper'}, {'character': 'Sailor / Edinburgh', 'name': 'Matthew Bowyer'}, {'character': 'Jacoby', 'name': 'Vince Lozano'}, {'character': 'Grapple', 'name': 'Trevor Goddard'}, {'character': 'Steersman', 'name': 'Christian Martin'}, {'character': 'Sentry', 'name': 'Dustin Seavey'}, {'character': 'Seedy Looking Prisoner', 'name': 'Michael Sean Tighe'}, {'character': 'Frightened Sailor', 'name': 'Luke de Woolfson'}, {'character': 'Giselle', 'name': 'Vanessa Branch'}, {'character': 'Scarlett', 'name': 'Lauren Maher'}, {'character': 'Young Elizabeth', 'name': 'Lucinda Dryzek'}, {'character': 'Young Will', 'name': 'Dylan Smith'}, {'character': 'Butler', 'name': 'Paul Keith'}, {'character': 'Estrella', 'name': 'Paula J. Newman'}, {'character': 'Mr. Brown', 'name': 'Ralph P. Martin'}, {'character': 'Harbormaster', 'name': 'Guy Siner'}, {'character': 'Lieutenant Theodore Groves', 'name': 'Greg Ellis'}, {'character': 'Mullroy', 'name': 'Angus Barnett'}]</td>\n",
              "      <td>[{'department': 'Sound', 'job': 'Production Sound Mixer', 'name': 'Lee Orloff'}, {'department': 'Costume &amp; Make-Up', 'job': 'Costume Illustrator', 'name': 'Darrell Warner'}, {'department': 'Costume &amp; Make-Up', 'job': 'Key Makeup Artist', 'name': 'Joel Harlow'}, {'department': 'Costume &amp; Make-Up', 'job': 'Makeup Supervisor', 'name': 'Brian Sipe'}, {'department': 'Costume &amp; Make-Up', 'job': 'Tailor', 'name': 'Lee Clayton'}, {'department': 'Costume &amp; Make-Up', 'job': 'Wardrobe Supervisor', 'name': 'Ken Crouch'}, {'department': 'Crew', 'job': 'Animal Coordinator', 'name': 'Mark Harden'}, {'department': 'Crew', 'job': 'Marine Coordinator', 'name': 'Matthew H. O'Connor'}, {'department': 'Crew', 'job': 'Pilot', 'name': 'David Paris'}, {'department': 'Crew', 'job': 'Techno Crane Operator', 'name': 'Bryan Fletchall'}, {'department': 'Directing', 'job': 'First Assistant Director', 'name': 'Peter Kohn'}, {'department': 'Directing', 'job': 'Second Assistant Director', 'name': 'Susan J. Hellmann'}, {'department': 'Production', 'job': 'ADR Voice Casting', 'name': 'Barbara Harris'}, {'department': 'Production', 'job': 'Assistant Production Coordinator', 'name': 'Robert Mazaraki'}, {'department': 'Production', 'job': 'Casting Assistant', 'name': 'Robin De Lano'}, {'department': 'Production', 'job': 'Local Casting', 'name': 'Ed Arenas'}, {'department': 'Visual Effects', 'job': 'Matchmove Supervisor', 'name': 'Jason H. Snell'}, {'department': 'Visual Effects', 'job': 'Creature Technical Director', 'name': 'Timothy Brakensiek'}, {'department': 'Visual Effects', 'job': 'CG Animator', 'name': 'Chris Armstrong'}, {'department': 'Sound', 'job': 'Utility Sound', 'name': 'Mike Anderson'}, {'department': 'Sound', 'job': 'Supervising Music Editor', 'name': 'Christopher Brooks'}, {'department': 'Sound', 'job': 'Supervising Dialogue Editor', 'name': 'Teri E. Dorman'}, {'department': 'Sound', 'job': 'Music Programmer', 'name': 'Bart Hendrickson'}, {'department': 'Sound', 'job': 'Musician', 'name': 'Kevin Connolly'}, {'department': 'Sound', 'job': 'Foley Editor', 'name': 'Christine Danelski'}, {'department': 'Sound', 'job': 'Conductor', 'name': 'Nick Ingman'}, {'department': 'Sound', 'job': 'ADR Editor', 'name': 'Lisa J. Levine'}, {'department': 'Camera', 'job': 'Director of Photography', 'name': 'Dariusz Wolski'}, {'department': 'Sound', 'job': 'Original Music Composer', 'name': 'Klaus Badelt'}, {'department': 'Directing', 'job': 'Director', 'name': 'Gore Verbinski'}, {'department': 'Production', 'job': 'Producer', 'name': 'Jerry Bruckheimer'}, {'department': 'Art', 'job': 'Production Design', 'name': 'Brian Morris'}, {'department': 'Writing', 'job': 'Screenstory', 'name': 'Ted Elliott'}, {'department': 'Writing', 'job': 'Screenstory', 'name': 'Terry Rossio'}, {'department': 'Writing', 'job': 'Screenstory', 'name': 'Stuart Beattie'}, {'department': 'Writing', 'job': 'Screenstory', 'name': 'Jay Wolpert'}, {'department': 'Production', 'job': 'Casting', 'name': 'Jennifer Alessi'}, {'department': 'Production', 'job': 'Casting', 'name': 'Ronna Kress'}, {'department': 'Editing', 'job': 'Editor', 'name': 'Stephen E. Rivkin'}, {'department': 'Editing', 'job': 'Editor', 'name': 'Arthur Schmidt'}, {'department': 'Editing', 'job': 'Editor', 'name': 'Craig Wood'}, {'department': 'Writing', 'job': 'Screenplay', 'name': 'Ted Elliott'}, {'department': 'Writing', 'job': 'Screenplay', 'name': 'Terry Rossio'}, {'department': 'Costume &amp; Make-Up', 'job': 'Makeup Department Head', 'name': 'Ve Neill'}, {'department': 'Costume &amp; Make-Up', 'job': 'Costume Design', 'name': 'Penny Rose'}, {'department': 'Crew', 'job': 'Stunts', 'name': 'Tom Waite'}, {'department': 'Art', 'job': 'Art Direction', 'name': 'Derek R. Hill'}, {'department': 'Art', 'job': 'Art Direction', 'name': 'Michael Powels'}, {'department': 'Visual Effects', 'job': 'Visual Effects', 'name': 'Cedric Nicolas-Troyan'}, {'department': 'Production', 'job': 'Executive Producer', 'name': 'Paul Deason'}, {'department': 'Production', 'job': 'Executive Producer', 'name': 'Bruce Hendricks'}, {'department': 'Production', 'job': 'Executive Producer', 'name': 'Chad Oman'}, {'department': 'Production', 'job': 'Associate Producer', 'name': 'Pat Sandston'}, {'department': 'Production', 'job': 'Executive Producer', 'name': 'Mike Stenson'}, {'department': 'Art', 'job': 'Art Direction', 'name': 'James E. Tocci'}, {'department': 'Art', 'job': 'Art Direction', 'name': 'Donald B. Woodruff'}, {'department': 'Art', 'job': 'Set Decoration', 'name': 'Larry Dias'}, {'department': 'Art', 'job': 'Art Department Coordinator', 'name': 'Carla S. Nemec'}, {'department': 'Art', 'job': 'Construction Coordinator', 'name': 'Robert A. Blackburn'}, {'department': 'Art', 'job': 'Construction Foreman', 'name': 'Stephen Howard'}, {'department': 'Art', 'job': 'Greensman', 'name': 'Craig B. Ayers Sr.'}, {'department': 'Art', 'job': 'Leadman', 'name': 'P. Scott Bailey'}, {'department': 'Art', 'job': 'Painter', 'name': 'Alan James'}, {'department': 'Art', 'job': 'Production Illustrator', 'name': 'Darek Gogol'}, {'department': 'Art', 'job': 'Set Designer', 'name': 'Gene Darnell'}, {'department': 'Camera', 'job': 'Additional Photography', 'name': 'Patrick Loungway'}, {'department': 'Camera', 'job': 'Camera Operator', 'name': 'Chris Haarhoff'}, {'department': 'Camera', 'job': 'Camera Technician', 'name': 'Jeff Sturgill'}, {'department': 'Camera', 'job': 'First Assistant Camera', 'name': 'Dennis Rogers'}, {'department': 'Camera', 'job': 'Grip', 'name': 'Andy Bertelson'}, {'department': 'Camera', 'job': 'Aerial Director of Photography', 'name': 'David B. Nowell'}, {'department': 'Camera', 'job': 'Steadicam Operator', 'name': 'David Luckenbach'}, {'department': 'Camera', 'job': 'Still Photographer', 'name': 'Elliott Marks'}, {'department': 'Camera', 'job': 'Underwater Camera', 'name': 'Peter Manno'}, {'department': 'Costume &amp; Make-Up', 'job': 'Assistant Costume Designer', 'name': 'Alexa M. Stone'}, {'department': 'Costume &amp; Make-Up', 'job': 'Hair Designer', 'name': 'Martin Samuel'}, {'department': 'Costume &amp; Make-Up', 'job': 'Hairstylist', 'name': 'Susan Carol Schwary'}, {'department': 'Costume &amp; Make-Up', 'job': 'Makeup Artist', 'name': 'Jane Aull'}, {'department': 'Costume &amp; Make-Up', 'job': 'Set Costumer', 'name': 'Toby Bronson'}, {'department': 'Art', 'job': 'Set Dresser', 'name': 'G. Roger Abell'}, {'department': 'Costume &amp; Make-Up', 'job': 'Wigmaker', 'name': 'Bob Kretschmer'}, {'department': 'Crew', 'job': 'Additional Music', 'name': 'Slamm Andrews'}, {'department': 'Crew', 'job': 'Armorer', 'name': 'Harry Lu'}, {'department': 'Crew', 'job': 'Carpenter', 'name': 'Mick Simpson'}, {'department': 'Crew', 'job': 'Choreographer', 'name': 'JoAnn Fregalette Jansen'}, {'department': 'Crew', 'job': 'Craft Service', 'name': 'Lea Anderson'}, {'department': 'Crew', 'job': 'Dialect Coach', 'name': 'Barbara Berkery'}, {'department': 'Crew', 'job': 'Digital Effects Supervisor', 'name': 'Gregory D. Liegey'}, {'department': 'Crew', 'job': 'Driver', 'name': 'Steve De Leon'}, {'department': 'Crew', 'job': 'Loader', 'name': 'Mark Connelly'}, {'department': 'Crew', 'job': 'Post Production Assistant', 'name': 'Dylan Quirt'}, {'department': 'Crew', 'job': 'Post Production Supervisor', 'name': 'Tami Goldman'}, {'department': 'Crew', 'job': 'Production Office Assistant', 'name': 'Michael Betz'}, {'department': 'Crew', 'job': 'Propmaker', 'name': 'Fred Apolito'}, {'department': 'Crew', 'job': 'Property Master', 'name': 'Charles Stewart'}, {'department': 'Crew', 'job': 'Scenic Artist', 'name': 'Michael Denering'}, {'department': 'Crew', 'job': 'Second Unit Cinematographer', 'name': 'Bruce Hendricks'}, {'department': 'Crew', 'job': 'Sequence Supervisor', 'name': 'Neil Herzinger'}, {'department': 'Crew', 'job': 'Set Medic', 'name': 'Jason Inman'}, {'department': 'Crew', 'job': 'Set Production Assistant', 'name': 'Heather Anderson'}, ...]</td>\n",
              "    </tr>\n",
              "    <tr>\n",
              "      <th>17</th>\n",
              "      <td>24</td>\n",
              "      <td>[{'character': 'Beatrix 'The Bride' Kiddo', 'name': 'Uma Thurman'}, {'character': 'O-Ren Ishii', 'name': 'Lucy Liu'}, {'character': 'Vernita Green', 'name': 'Vivica A. Fox'}, {'character': 'Elle Driver', 'name': 'Daryl Hannah'}, {'character': 'Bill', 'name': 'David Carradine'}, {'character': 'Budd', 'name': 'Michael Madsen'}, {'character': 'Sofie Fatale', 'name': 'Julie Dreyfus'}, {'character': 'Gogo Yubari', 'name': 'Chiaki Kuriyama'}, {'character': 'Hattori Hanzo', 'name': 'Sonny Chiba'}, {'character': 'Johnny Mo', 'name': 'Gordon Liu Chia-Hui'}, {'character': 'Earl McGraw', 'name': 'Michael Parks'}, {'character': 'Buck', 'name': 'Michael Bowen'}, {'character': 'Tanaka', 'name': 'Jun Kunimura'}, {'character': 'Bald Guy (Sushi Shop)', 'name': 'Kenji Ohba'}, {'character': 'Proprietor', 'name': 'Yuki Kazamatsuri'}, {'character': 'Edgar McGraw', 'name': 'James Parks'}, {'character': 'Charlie Brown', 'name': 'Sakichi Satô'}, {'character': 'Trucker', 'name': 'Jonathan Loughran'}, {'character': 'Tokyo Business Man', 'name': 'Yoshiyuki Morishita'}, {'character': 'Crazy 88 #1 (Miki)', 'name': 'Tetsuro Shimaguchi'}, {'character': 'Crazy 88', 'name': 'Kazuki Kitamura'}, {'character': 'Crazy 88', 'name': 'Yoji Tanaka'}, {'character': 'Crazy 88', 'name': 'Sô Yamanaka'}, {'character': 'Crazy 88 #6 (Girl)', 'name': 'Julie Manase'}, {'character': 'Boss Ozawah', 'name': 'Akaji Maro'}, {'character': 'Boss Honda', 'name': 'Goro Daimon'}, {'character': 'O-Ren (anime sequence) (voice)', 'name': 'Ai Maeda'}, {'character': 'Boss Matsumoto (anime sequence) (voice)', 'name': 'Naomi Kusumi'}, {'character': 'Pretty Riki (anime sequence) (voice)', 'name': 'Hikaru Midorikawa'}, {'character': 'Crazy 88', 'name': '高桥一生'}, {'character': 'Boss Benta', 'name': 'Shun Sugata'}, {'character': 'Boss Orgami', 'name': 'Zhang Jin Zhan'}, {'character': 'Young 88 (Spanked Boy)', 'name': 'Hu Xiaohui'}, {'character': 'Nikki Bell', 'name': 'Ambrosia Kelley'}, {'character': 'The 5, 6, 7, 8's', 'name': 'Sachiko Fujii'}, {'character': 'Okinawa Airline Ticket Agent', 'name': 'Shu Lan Tuan'}]</td>\n",
              "      <td>[{'department': 'Production', 'job': 'Producer', 'name': 'Lawrence Bender'}, {'department': 'Sound', 'job': 'Sound Engineer', 'name': 'John Bires'}, {'department': 'Sound', 'job': 'Sound Re-Recording Mixer', 'name': 'Michael Minkler'}, {'department': 'Visual Effects', 'job': 'Digital Compositors', 'name': 'Kelly Bumbarger'}, {'department': 'Visual Effects', 'job': 'Special Effects Supervisor', 'name': 'Jason Gustafson'}, {'department': 'Sound', 'job': 'Sound', 'name': 'Daniel R. Kerr'}, {'department': 'Sound', 'job': 'Sound Editor', 'name': 'Bob Beher'}, {'department': 'Sound', 'job': 'Production Sound Mixer', 'name': 'Mark Ulano'}, {'department': 'Sound', 'job': 'Music Supervisor', 'name': 'Michelle Kuznetsky'}, {'department': 'Sound', 'job': 'Boom Operator', 'name': 'Tom Hartig'}, {'department': 'Production', 'job': 'Production Manager', 'name': 'Motoki Ishida'}, {'department': 'Production', 'job': 'Production Coordinator', 'name': 'Jennifer S. Deayton'}, {'department': 'Production', 'job': 'Production Accountant', 'name': 'Katsumi Furuhashi'}, {'department': 'Production', 'job': 'Casting Associate', 'name': 'Julie Dreyfus'}, {'department': 'Lighting', 'job': 'Rigging Grip', 'name': 'Carlos Escobar'}, {'department': 'Lighting', 'job': 'Rigging Gaffer', 'name': 'John R. Manocchia'}, {'department': 'Lighting', 'job': 'Lighting Technician', 'name': 'Preston A. Adams'}, {'department': 'Lighting', 'job': 'Gaffer', 'name': 'Ian Kincaid'}, {'department': 'Lighting', 'job': 'Best Boy Electric', 'name': 'Greg Fausak'}, {'department': 'Editing', 'job': 'First Assistant Editor', 'name': 'Joan Sobel'}, {'department': 'Editing', 'job': 'Digital Intermediate', 'name': 'Jennifer Hall Lee'}, {'department': 'Sound', 'job': 'Music Supervisor', 'name': 'Mary Ramos'}, {'department': 'Crew', 'job': 'Makeup Effects', 'name': 'Gregory Nicotero'}, {'department': 'Camera', 'job': 'Grip', 'name': 'Bruce Del Castillo'}, {'department': 'Production', 'job': 'Unit Production Manager', 'name': 'Cornelia Ryan'}, {'department': 'Costume &amp; Make-Up', 'job': 'Costume Supervisor', 'name': 'Helen Monaghan'}, {'department': 'Production', 'job': 'Location Manager', 'name': 'Carlos A. Aragon'}, {'department': 'Art', 'job': 'Set Dresser', 'name': 'David Ladish'}, {'department': 'Visual Effects', 'job': 'Character Designer', 'name': 'Shou Tajima'}, {'department': 'Sound', 'job': 'Utility Sound', 'name': 'Adam Blantz'}, {'department': 'Sound', 'job': 'Foley Editor', 'name': 'Craig S. Jaeger'}, {'department': 'Production', 'job': 'Casting Assistant', 'name': 'Jerome Ro Brooks'}, {'department': 'Production', 'job': 'Assistant Production Manager', 'name': 'Rui Kuroki'}, {'department': 'Production', 'job': 'Assistant Production Coordinator', 'name': 'Rachael Lin Gallaghan'}, {'department': 'Editing', 'job': 'Negative Cutter', 'name': 'Aaron Denenberg'}, {'department': 'Directing', 'job': 'Third Assistant Director', 'name': 'Texas Dave'}, {'department': 'Directing', 'job': 'Director', 'name': 'Quentin Tarantino'}, {'department': 'Camera', 'job': 'Director of Photography', 'name': 'Robert Richardson'}, {'department': 'Editing', 'job': 'Editor', 'name': 'Sally Menke'}, {'department': 'Camera', 'job': 'Camera Loader', 'name': 'Julie Helton'}, {'department': 'Production', 'job': 'Casting', 'name': 'Koko Maeda'}, {'department': 'Production', 'job': 'Casting', 'name': 'Johanna Ray'}, {'department': 'Sound', 'job': 'Sound Designer', 'name': 'Harry Cohen'}, {'department': 'Writing', 'job': 'Writer', 'name': 'Quentin Tarantino'}, {'department': 'Costume &amp; Make-Up', 'job': 'Costume Design', 'name': 'Kumiko Ogawa'}, {'department': 'Costume &amp; Make-Up', 'job': 'Costume Design', 'name': 'Catherine Marie Thomas'}, {'department': 'Art', 'job': 'Production Design', 'name': 'Yohei Taneda'}, {'department': 'Art', 'job': 'Production Design', 'name': 'David Wasco'}, {'department': 'Art', 'job': 'Construction Foreman', 'name': 'Jeff Plauster'}, {'department': 'Art', 'job': 'Greensman', 'name': 'Steve Borgese'}, {'department': 'Art', 'job': 'Lead Painter', 'name': 'Laurel Pickering'}, {'department': 'Art', 'job': 'Leadman', 'name': 'Brett C. Smith'}, {'department': 'Art', 'job': 'Location Scout', 'name': 'Marie Healy'}, {'department': 'Art', 'job': 'Painter', 'name': 'Michael Spitaletto'}, {'department': 'Art', 'job': 'Production Illustrator', 'name': 'Ayako Sakahara'}, {'department': 'Art', 'job': 'Standby Painter', 'name': 'Elizabeth Norton'}, {'department': 'Camera', 'job': 'First Assistant Camera', 'name': 'Jamie Felz'}, {'department': 'Costume &amp; Make-Up', 'job': 'Hairstylist', 'name': 'Ilona Herman'}, {'department': 'Costume &amp; Make-Up', 'job': 'Key Hair Stylist', 'name': 'Emanuel Millar'}, {'department': 'Costume &amp; Make-Up', 'job': 'Makeup Designer', 'name': 'Scott Patton'}, {'department': 'Crew', 'job': 'Additional Music', 'name': 'D.A. Young'}, {'department': 'Crew', 'job': 'Armorer', 'name': 'Vincent Joseph Flaherty'}, {'department': 'Crew', 'job': 'Carpenter', 'name': 'Archie Hankins'}, {'department': 'Crew', 'job': 'Video Assist Operator', 'name': 'Glenn Cannon'}, {'department': 'Crew', 'job': 'Unit Publicist', 'name': 'Will Casey'}, {'department': 'Production', 'job': 'Unit Production Manager', 'name': 'Arturo del Río'}, {'department': 'Crew', 'job': 'Transportation Co-Captain', 'name': 'Bruce Callahan'}, {'department': 'Art', 'job': 'Art Direction', 'name': 'Daniel Bradford'}, {'department': 'Art', 'job': 'Art Direction', 'name': 'Juiping Cao'}, {'department': 'Art', 'job': 'Art Direction', 'name': 'Hidefumi Hanatani'}, {'department': 'Art', 'job': 'Art Direction', 'name': 'Lu Yo Lui'}, {'department': 'Art', 'job': 'Art Direction', 'name': 'Minoru Nishida'}, {'department': 'Art', 'job': 'Set Decoration', 'name': 'Yoshihito Akatsuka'}, {'department': 'Art', 'job': 'Set Decoration', 'name': 'Sandy Reynolds-Wasco'}, {'department': 'Costume &amp; Make-Up', 'job': 'Makeup Department Head', 'name': 'Heba Thorisdottir'}, {'department': 'Art', 'job': 'Set Designer', 'name': 'Peter Davidson'}, {'department': 'Art', 'job': 'Set Designer', 'name': 'Mary Saisselin'}, {'department': 'Art', 'job': 'Set Designer', 'name': 'Takashi Sasaki'}, {'department': 'Art', 'job': 'Art Department Coordinator', 'name': 'Gretchen Engel'}, {'department': 'Editing', 'job': 'Dialogue Editor', 'name': 'Michael Hertlein'}, {'department': 'Editing', 'job': 'Dialogue Editor', 'name': 'Katrina Siegmund'}, {'department': 'Editing', 'job': 'Dialogue Editor', 'name': 'Frederick H. Stahly'}, {'department': 'Sound', 'job': 'Sound Designer', 'name': 'Peter Michael Sullivan'}, {'department': 'Sound', 'job': 'Foley', 'name': 'James Moriana'}, {'department': 'Sound', 'job': 'Foley', 'name': 'Jeffrey Wilhoit'}, {'department': 'Sound', 'job': 'Supervising Sound Editor', 'name': 'Wylie Stateman'}, {'department': 'Sound', 'job': 'Supervising Sound Editor', 'name': 'Scott Martin Gershin'}, {'department': 'Crew', 'job': 'Special Effects Coordinator', 'name': 'John Hartigan'}, {'department': 'Crew', 'job': 'Special Effects Coordinator', 'name': 'Corey Pritchett'}, {'department': 'Visual Effects', 'job': 'Visual Effects Supervisor', 'name': 'Frankie Chung'}, {'department': 'Visual Effects', 'job': 'Visual Effects Supervisor', 'name': 'Tommy Tom'}, {'department': 'Crew', 'job': 'Stunt Coordinator', 'name': 'Keith Adams'}, {'department': 'Camera', 'job': 'Still Photographer', 'name': 'Andrew Cooper'}, {'department': 'Camera', 'job': 'Steadicam Operator', 'name': 'Larry McConkey'}, {'department': 'Costume &amp; Make-Up', 'job': 'Costume Supervisor', 'name': 'Daniel Grant North'}, {'department': 'Costume &amp; Make-Up', 'job': 'Set Costumer', 'name': 'Kanani Wolf'}, {'department': 'Sound', 'job': 'Music Editor', 'name': 'Jay B. Richardson'}, {'department': 'Crew', 'job': 'Transportation Coordinator', 'name': 'Derek Raser'}, {'department': 'Production', 'job': 'Location Manager', 'name': 'Douglas Dresser'}, {'department': 'Production', 'job': 'Location Manager', 'name': 'Akira Morii'}, ...]</td>\n",
              "    </tr>\n",
              "    <tr>\n",
              "      <th>18</th>\n",
              "      <td>25</td>\n",
              "      <td>[{'character': 'Corporal Harrigan', 'name': 'John Krasinski'}, {'character': 'Staff Sgt. Sykes', 'name': 'Jamie Foxx'}, {'character': 'Anthony Swofford', 'name': 'Jake Gyllenhaal'}, {'character': 'D.I. Fitch', 'name': 'Scott MacDonald'}, {'character': 'Kruger', 'name': 'Lucas Black'}, {'character': 'Alan Troy', 'name': 'Peter Sarsgaard'}, {'character': 'Ramon Escobar', 'name': 'Laz Alonso'}, {'character': 'Lt. Col. Kazinski', 'name': 'Chris Cooper'}, {'character': 'Fergus O'Donnell', 'name': 'Brian Geraghty'}, {'character': 'Swoff's Sister', 'name': 'Honorine Bell'}, {'character': 'Young Mrs. Swofford', 'name': 'Katherine Randolph'}, {'character': 'Young Mr. Swofford', 'name': 'Craig Coyne'}, {'character': 'Nurse', 'name': 'Riad Galayini'}, {'character': 'Branded Marine', 'name': 'Kevin Foster'}, {'character': 'Julius', 'name': 'Jocko Sims'}, {'character': 'Poitier', 'name': 'Damion Poitier'}, {'character': 'Major Lincoln', 'name': 'Dennis Haysbert'}, {'character': 'Bored Gunny', 'name': 'Ming Lo'}, {'character': 'Mr. Swofford', 'name': 'James Morrison'}, {'character': 'Mrs. Swofford', 'name': 'Dendrie Taylor'}]</td>\n",
              "      <td>[{'department': 'Camera', 'job': 'Director of Photography', 'name': 'Roger Deakins'}, {'department': 'Sound', 'job': 'Original Music Composer', 'name': 'Jim Morrison'}, {'department': 'Editing', 'job': 'Editor', 'name': 'Walter Murch'}, {'department': 'Sound', 'job': 'Original Music Composer', 'name': 'Thomas Newman'}, {'department': 'Directing', 'job': 'Director', 'name': 'Sam Mendes'}, {'department': 'Production', 'job': 'Producer', 'name': 'Sam Mendes'}, {'department': 'Production', 'job': 'Producer', 'name': 'Bobby Cohen'}, {'department': 'Production', 'job': 'Producer', 'name': 'Sam Mercer'}, {'department': 'Writing', 'job': 'Author', 'name': 'William Broyles Jr.'}, {'department': 'Writing', 'job': 'Author', 'name': 'Anthony Swofford'}]</td>\n",
              "    </tr>\n",
              "    <tr>\n",
              "      <th>19</th>\n",
              "      <td>26</td>\n",
              "      <td>[{'character': 'Eyal', 'name': 'Lior Ashkenazi'}, {'character': 'Axel Himmelman', 'name': 'Knut Berger'}, {'character': 'Pia Himmelman', 'name': 'Caroline Peters'}, {'character': 'Menachem', 'name': 'Gideon Shemer'}, {'character': 'Axel's Mother', 'name': 'Carola Regnier'}, {'character': 'Axel's Father', 'name': 'Hanns Zischler'}, {'character': 'Alfred Himmelman', 'name': 'Ernest Lenart'}]</td>\n",
              "      <td>[{'department': 'Production', 'job': 'Producer', 'name': 'Gal Uchovsky'}, {'department': 'Writing', 'job': 'Author', 'name': 'Gal Uchovsky'}, {'department': 'Editing', 'job': 'Editor', 'name': 'Yosef Grunfeld'}, {'department': 'Camera', 'job': 'Director of Photography', 'name': 'Tobias Hochstein'}, {'department': 'Sound', 'job': 'Original Music Composer', 'name': 'Ivri Lider'}, {'department': 'Directing', 'job': 'Director', 'name': 'Eytan Fox'}, {'department': 'Production', 'job': 'Producer', 'name': 'Amir Harel'}]</td>\n",
              "    </tr>\n",
              "    <tr>\n",
              "      <th>20</th>\n",
              "      <td>27</td>\n",
              "      <td>[{'character': 'Himself - Primal Scream (uncredited)', 'name': 'Bobby Gillespie'}, {'character': 'Matt', 'name': 'Kieran O'Brien'}, {'character': 'Lisa', 'name': 'Margo Stilley'}, {'character': 'Himself - The Dandy Warhols (uncredited)', 'name': 'Courtney Taylor-Taylor'}, {'character': 'Himself - Franz Ferdinand (uncredited)', 'name': 'Alex Kapranos'}, {'character': 'Himself - Elbow (uncredited)', 'name': 'Guy Garvey'}, {'character': 'Himself - Black Rebel Motorcycle Club (uncredited)', 'name': 'Robert Levon Been'}, {'character': 'Himself - Black Rebel Motorcycle Club (uncredited)', 'name': 'Peter Hayes'}, {'character': 'Himself - Super Furry Animals (uncredited)', 'name': 'Gruff Rhys'}, {'character': 'Himself - The Von Bondies (uncredited)', 'name': 'Jason Stollsteimer'}, {'character': 'Herself - The Von Bondies (uncredited)', 'name': 'Marcie Bolen'}, {'character': 'Himself (uncredited)', 'name': 'Michael Nyman'}]</td>\n",
              "      <td>[{'department': 'Editing', 'job': 'Editor', 'name': 'Michael Winterbottom'}, {'department': 'Writing', 'job': 'Author', 'name': 'Michael Winterbottom'}, {'department': 'Production', 'job': 'Producer', 'name': 'Michael Winterbottom'}, {'department': 'Production', 'job': 'Producer', 'name': 'Andrew Eaton'}, {'department': 'Camera', 'job': 'Director of Photography', 'name': 'Marcel Zyskind'}, {'department': 'Production', 'job': 'Casting', 'name': 'Julie Dunne'}, {'department': 'Editing', 'job': 'Editor', 'name': 'Mat Whitecross'}, {'department': 'Production', 'job': 'Casting', 'name': 'Steve Daly'}, {'department': 'Directing', 'job': 'Director', 'name': 'Michael Winterbottom'}]</td>\n",
              "    </tr>\n",
              "    <tr>\n",
              "      <th>21</th>\n",
              "      <td>28</td>\n",
              "      <td>[{'character': 'Kilgore's Gunner', 'name': 'James Keane'}, {'character': 'Colonel Lucas', 'name': 'Harrison Ford'}, {'character': 'Lieutenant Richard M. Colby', 'name': 'Scott Glenn'}, {'character': 'Chief Phillips', 'name': 'Albert Hall'}, {'character': 'Tyrone 'Clean' Miller', 'name': 'Laurence Fishburne'}, {'character': 'Lance B. Johnson', 'name': 'Sam Bottoms'}, {'character': 'Jay 'Chef' Hicks', 'name': 'Frederic Forrest'}, {'character': 'Lieutenant Colonel Bill Kilgore', 'name': 'Robert Duvall'}, {'character': 'Colonel Walter E. Kurtz', 'name': 'Marlon Brando'}, {'character': 'Captain Benjamin L. Willard', 'name': 'Martin Sheen'}, {'character': 'Miss May', 'name': 'Colleen Camp'}, {'character': 'Playmate of the Year', 'name': 'Cynthia Wood'}, {'character': 'Playmate', 'name': 'Linda Carpenter'}, {'character': 'Soldier in Trench', 'name': 'Jack Thibeau'}, {'character': 'Supply Sergeant', 'name': 'Tom Mason'}, {'character': 'Machine Gunner', 'name': 'Damien Leake'}, {'character': 'AFRS Announcer', 'name': 'Marc Coppola'}, {'character': 'Lieutenant Carlsen', 'name': 'Glenn Walken'}, {'character': 'Agent', 'name': 'Bill Graham'}, {'character': 'Johnny from Malibu / Mike from San Diego', 'name': 'Jerry Ross'}, {'character': 'Soldier with Colby (uncredited)', 'name': 'Charles Robinson'}, {'character': 'Soldier (uncredited)', 'name': 'Nick Nicholson'}, {'character': 'Soldier (uncredited)', 'name': 'Don Gordon Bell'}, {'character': 'Soldier (uncredited)', 'name': 'Evan A. Lottman'}, {'character': 'Eagle Thrust Seven Helicopter Pilot (uncredited)', 'name': 'R. Lee Ermey'}, {'character': 'Extra (uncredited)', 'name': 'Jim Gaines'}, {'character': 'Extra (uncredited)', 'name': 'Charlie Sheen'}, {'character': 'TV Photographer (uncredited)', 'name': 'Vittorio Storaro'}, {'character': 'Director of TV Crew (uncredited)', 'name': 'Francis Ford Coppola'}, {'character': 'Bit Part (uncredited)', 'name': 'Henry Strzalkowski'}, {'character': 'Helicopter Skid Marine (uncredited)', 'name': 'Lonnie Woodley'}, {'character': 'Roxanne Sarrault', 'name': 'Aurore Clément'}, {'character': 'Jerry, Civilian', 'name': 'Jerry Ziesmer'}, {'character': 'General Corman', 'name': 'G. D. Spradlin'}, {'character': 'Photojournalist', 'name': 'Dennis Hopper'}, {'character': 'Mike from San Diego', 'name': 'Kerry Rossall'}]</td>\n",
              "      <td>[{'department': 'Editing', 'job': 'Editor', 'name': 'Lisa Fruchtman'}, {'department': 'Sound', 'job': 'Original Music Composer', 'name': 'Carmine Coppola'}, {'department': 'Production', 'job': 'Producer', 'name': 'Mona Skager'}, {'department': 'Production', 'job': 'Producer', 'name': 'Eddie Romero'}, {'department': 'Production', 'job': 'Producer', 'name': 'John Ashley'}, {'department': 'Production', 'job': 'Producer', 'name': 'Tom Sternberg'}, {'department': 'Production', 'job': 'Producer', 'name': 'Fred Roos'}, {'department': 'Production', 'job': 'Producer', 'name': 'Gray Frederickson'}, {'department': 'Production', 'job': 'Producer', 'name': 'Francis Ford Coppola'}, {'department': 'Writing', 'job': 'Screenplay', 'name': 'Francis Ford Coppola'}, {'department': 'Writing', 'job': 'Screenplay', 'name': 'John Milius'}, {'department': 'Directing', 'job': 'Director', 'name': 'Francis Ford Coppola'}, {'department': 'Camera', 'job': 'Still Photographer', 'name': 'Josh Weiner'}, {'department': 'Camera', 'job': 'Camera Operator', 'name': 'Piero Servo'}, {'department': 'Sound', 'job': 'Musician', 'name': 'Zakir Hussain'}, {'department': 'Writing', 'job': 'Writer', 'name': 'Michael Herr'}, {'department': 'Sound', 'job': 'Sound Re-Recording Mixer', 'name': 'Richard Beggs'}, {'department': 'Sound', 'job': 'Sound Re-Recording Mixer', 'name': 'Mark Berger'}, {'department': 'Sound', 'job': 'Sound Recordist', 'name': 'Nathan Boxer'}, {'department': 'Sound', 'job': 'Sound Editor', 'name': 'Leslie Hodgson'}, {'department': 'Sound', 'job': 'Sound Editor', 'name': 'Jay Miracle'}, {'department': 'Art', 'job': 'Assistant Art Director', 'name': 'James J. Murakami'}, {'department': 'Crew', 'job': 'Title Graphics', 'name': 'Wayne Fitzgerald'}, {'department': 'Sound', 'job': 'Sound Editor', 'name': 'Maurice Schell'}, {'department': 'Crew', 'job': 'Special Effects Coordinator', 'name': 'Joe Lombardi'}, {'department': 'Directing', 'job': 'Assistant Director', 'name': 'Tony Brandt'}, {'department': 'Camera', 'job': 'First Assistant Camera', 'name': 'Efren Lapid'}, {'department': 'Crew', 'job': 'Thanks', 'name': 'Jeff Scheftel'}, {'department': 'Crew', 'job': 'Stunt Coordinator', 'name': 'Terry Leonard'}, {'department': 'Directing', 'job': 'Assistant Director', 'name': 'Larry J. Franco'}, {'department': 'Directing', 'job': 'Assistant Director', 'name': 'Jerry Ziesmer'}, {'department': 'Sound', 'job': 'Music', 'name': 'Francis Ford Coppola'}, {'department': 'Crew', 'job': 'Additional Writing', 'name': 'Michael Herr'}, {'department': 'Editing', 'job': 'Assistant Editor', 'name': 'Jerry Ross'}, {'department': 'Crew', 'job': 'Stunts', 'name': 'Kerry Rossall'}, {'department': 'Writing', 'job': 'Novel', 'name': 'Joseph Conrad'}, {'department': 'Sound', 'job': 'Sound Designer', 'name': 'Walter Murch'}, {'department': 'Production', 'job': 'Production Manager', 'name': 'Barrie M. Osborne'}, {'department': 'Production', 'job': 'Production Manager', 'name': 'Leon Chooluck'}, {'department': 'Costume &amp; Make-Up', 'job': 'Makeup Artist', 'name': 'Jack H. Young'}, {'department': 'Costume &amp; Make-Up', 'job': 'Makeup Artist', 'name': 'Fred C. Blau Jr.'}, {'department': 'Art', 'job': 'Set Decoration', 'name': 'George R. Nelson'}, {'department': 'Art', 'job': 'Art Direction', 'name': 'Angelo P. Graham'}, {'department': 'Art', 'job': 'Production Design', 'name': 'Dean Tavoularis'}, {'department': 'Production', 'job': 'Casting', 'name': 'Vic Ramos'}, {'department': 'Production', 'job': 'Casting', 'name': 'Terry Liebling'}, {'department': 'Editing', 'job': 'Editor', 'name': 'Walter Murch'}, {'department': 'Editing', 'job': 'Editor', 'name': 'Gerald B. Greenberg'}, {'department': 'Camera', 'job': 'Director of Photography', 'name': 'Vittorio Storaro'}]</td>\n",
              "    </tr>\n",
              "    <tr>\n",
              "      <th>22</th>\n",
              "      <td>33</td>\n",
              "      <td>[{'character': 'Wiggens', 'name': 'Michael Charrois'}, {'character': 'Johnny Foley', 'name': 'Ben Cardinal'}, {'character': 'Texas Slim', 'name': 'Lochlyn Munro'}, {'character': 'Muddy Chandler', 'name': 'Mina E. Mina'}, {'character': 'Fuzzy', 'name': 'Frank C. Turner'}, {'character': 'Paddy McGee', 'name': 'Blair Haynes'}, {'character': 'Bill Munny', 'name': 'Clint Eastwood'}, {'character': 'Little Bill Daggett', 'name': 'Gene Hackman'}, {'character': 'Ned Logan', 'name': 'Morgan Freeman'}, {'character': 'English Bob', 'name': 'Richard Harris'}, {'character': 'The Schofield Kid', 'name': 'Jaimz Woolvett'}, {'character': 'Tom Luckinbill', 'name': 'Larry Reese'}, {'character': 'Barber', 'name': 'Walter Marsh'}, {'character': 'Charley Hecker', 'name': 'John Pyper-Ferguson'}, {'character': 'Crocker', 'name': 'Robert Koons'}, {'character': 'Hank (uncredited)', 'name': 'Philip Ettington'}, {'character': 'Fighter', 'name': 'Greg Goossen'}, {'character': 'The Shadow', 'name': 'George Orrison'}, {'character': 'Bucky', 'name': 'Larry Joshua'}, {'character': 'Train Person', 'name': 'Michael Maurer'}, {'character': 'Delilah Fitzgerald', 'name': 'Anna Levine'}, {'character': 'W.W. Beauchamp', 'name': 'Saul Rubinek'}, {'character': 'Strawberry Alice', 'name': 'Frances Fisher'}, {'character': 'Quick Mike', 'name': 'David Mucci'}, {'character': 'Davey Bunting', 'name': 'Rob Campbell'}, {'character': 'Skinny Dubois', 'name': 'Anthony James'}, {'character': 'Clyde Ledbetter', 'name': 'Ron White'}, {'character': 'Fatty Rossiter', 'name': 'Jefferson Mappin'}, {'character': 'Deputy Andy Russell', 'name': 'Jeremy Ratchford'}, {'character': 'Lippy MacGregor', 'name': 'Philip Maurice Hayes'}, {'character': 'Little Sue', 'name': 'Tara Frederick'}, {'character': 'Silky', 'name': 'Beverley Elliott'}, {'character': 'Faith', 'name': 'Liisa Repo-Martell'}, {'character': 'Will Munny', 'name': 'Shane Meier'}]</td>\n",
              "      <td>[{'department': 'Directing', 'job': 'Assistant Director', 'name': 'Bill Bannerman'}, {'department': 'Costume &amp; Make-Up', 'job': 'Costume Supervisor', 'name': 'Carla Hetland'}, {'department': 'Writing', 'job': 'Author', 'name': 'David Webb Peoples'}, {'department': 'Writing', 'job': 'Screenplay', 'name': 'David Webb Peoples'}, {'department': 'Costume &amp; Make-Up', 'job': 'Makeup Department Head', 'name': 'Michael Hancock'}, {'department': 'Directing', 'job': 'Assistant Director', 'name': 'Grant Lucibello'}, {'department': 'Costume &amp; Make-Up', 'job': 'Hairstylist', 'name': 'Carol Pershing'}, {'department': 'Crew', 'job': 'Special Effects', 'name': 'Paul Healy'}, {'department': 'Lighting', 'job': 'Lighting Technician', 'name': 'Víctor Pérez'}, {'department': 'Production', 'job': 'Casting', 'name': 'Lorelei Kuchera'}, {'department': 'Production', 'job': 'Unit Manager', 'name': 'Lynne Bespflug'}, {'department': 'Costume &amp; Make-Up', 'job': 'Costume Supervisor', 'name': 'Joanne Hansen'}, {'department': 'Production', 'job': 'Production Manager', 'name': 'Bob Gray'}, {'department': 'Costume &amp; Make-Up', 'job': 'Costume Supervisor', 'name': 'Glenn Wright'}, {'department': 'Costume &amp; Make-Up', 'job': 'Makeup Artist', 'name': 'Stan Edmonds'}, {'department': 'Directing', 'job': 'Assistant Director', 'name': 'Jeffrey Wetzel'}, {'department': 'Production', 'job': 'Casting', 'name': 'Stuart Aikins'}, {'department': 'Art', 'job': 'Art Direction', 'name': 'Rick Roberts'}, {'department': 'Costume &amp; Make-Up', 'job': 'Hair Department Head', 'name': 'Iloe Flewelling'}, {'department': 'Crew', 'job': 'Stunts', 'name': 'George Orrison'}, {'department': 'Production', 'job': 'Production Accountant', 'name': 'Michael Maurer'}, {'department': 'Directing', 'job': 'Script Supervisor', 'name': 'Lloyd Nelson'}, {'department': 'Crew', 'job': 'Stunts', 'name': 'Alex Green'}, {'department': 'Editing', 'job': 'Color Timer', 'name': 'Phil Downey'}, {'department': 'Directing', 'job': 'Director', 'name': 'Clint Eastwood'}, {'department': 'Sound', 'job': 'Sound Re-Recording Mixer', 'name': 'Rick Alexander'}, {'department': 'Sound', 'job': 'Music Editor', 'name': 'Donald Harris'}, {'department': 'Directing', 'job': 'Assistant Director', 'name': 'Tom Rooker'}, {'department': 'Production', 'job': 'Casting', 'name': 'Phyllis Huffman'}, {'department': 'Editing', 'job': 'Editor', 'name': 'Joel Cox'}, {'department': 'Art', 'job': 'Set Decoration', 'name': 'Janice Blackie-Goodine'}, {'department': 'Crew', 'job': 'Special Effects Coordinator', 'name': 'John Frazier'}, {'department': 'Art', 'job': 'Art Direction', 'name': 'Adrian Gorton'}, {'department': 'Art', 'job': 'Production Design', 'name': 'Henry Bumstead'}, {'department': 'Camera', 'job': 'Director of Photography', 'name': 'Jack Green'}, {'department': 'Production', 'job': 'Production Manager', 'name': 'David Valdes'}, {'department': 'Production', 'job': 'Executive Producer', 'name': 'David Valdes'}, {'department': 'Production', 'job': 'Producer', 'name': 'Julian Ludwig'}, {'department': 'Sound', 'job': 'Original Music Composer', 'name': 'Lennie Niehaus'}, {'department': 'Production', 'job': 'Producer', 'name': 'Clint Eastwood'}, {'department': 'Crew', 'job': 'Special Effects', 'name': 'Maurice Routly'}, {'department': 'Camera', 'job': 'Still Photographer', 'name': 'Bob Akester'}, {'department': 'Editing', 'job': 'Assistant Editor', 'name': 'Michael Cipriano'}]</td>\n",
              "    </tr>\n",
              "    <tr>\n",
              "      <th>23</th>\n",
              "      <td>35</td>\n",
              "      <td>[{'character': 'Sideshow Bob (voice)', 'name': 'Kelsey Grammer'}, {'character': 'Colin (voice)', 'name': 'Maile Flanagan'}, {'character': 'Milhouse Van Houten / Jimbo Jones / Rod Flanders (voice)', 'name': 'Pamela Hayden'}, {'character': 'TV Dad (voice)', 'name': 'Philip Rosenthal'}, {'character': 'Helen Lovejoy (voice)', 'name': 'Maggie Roswell'}, {'character': 'Man / EPA Driver (voice)', 'name': 'Karl Wiedergott'}, {'character': 'Mrs. Krabappel (voice)', 'name': 'Marcia Wallace'}, {'character': 'Fat Tony (voice)', 'name': 'Joe Mantegna'}, {'character': 'Himself (voice)', 'name': 'Tom Hanks'}, {'character': 'Green Day (voice)', 'name': 'Billie Joe Armstrong'}, {'character': 'Martin (voice)', 'name': 'Russi Taylor'}, {'character': 'Russ Cargill (voice)', 'name': 'Albert Brooks'}, {'character': 'Sweet Old Lady / Colin / Mrs. Skinner / Nelson's Mother / Pig / Cat Lady / Female EPA Worker / G.P.S. Woman / Cookie Kwan / Lindsey Naegle / TV Son / Medicine Woman / Girl on Phone (voice)', 'name': 'Tress MacNeille'}, {'character': 'Green Day (voice)', 'name': 'Mike Dirnt'}, {'character': 'Green Day (voice)', 'name': 'Tre Cool'}, {'character': 'Homer / Itchy / Barney / Grampa / Stage Manager / Krusty the Clown / Mayor Quimby / Mayor's Aide / Multi-Eyed Squirrel / Panicky Man / Sideshow Mel / Mr. Teeny / EPA Official / Kissing Cop / Bear / Boy on Phone / NSA Worker / Officer / Santa's Little Helper / Squeaky-Voiced Teen (voice)', 'name': 'Dan Castellaneta'}, {'character': 'Marge Simpson / Selma / Patty (voice)', 'name': 'Julie Kavner'}, {'character': 'Bart Simpson / Maggie Simpson / Ralph / Nelson / Todd Flanders / TV Daughter / Woman on Phone (voice)', 'name': 'Nancy Cartwright'}, {'character': 'Lisa Simpson (voice)', 'name': 'Yeardley Smith'}, {'character': 'Professor Frink / Comic Book Guy / Moe / Chief Wiggum / Lou / Carl / Cletus / Bumblebee Man / Male EPA Worker / Dome Depot Announcer / Kissing Cop / Carnival Barker / Counter Man / Apu / Drederick Tatum / Sea Captain / EPA Passenger / Robot / Dr. Nick / Wise Guy (voice)', 'name': 'Hank Azaria'}, {'character': 'Scratchy / Mr. Burns / Rev. Lovejoy / Ned Flanders / Lenny / Skull / President Arnold Schwarzenegger / Kent Brockman / Principal Skinner / Dr. Hibbert / Smithers / Toll Booth Man / Guard / Otto / Kang (voice)', 'name': 'Harry Shearer'}]</td>\n",
              "      <td>[{'department': 'Directing', 'job': 'Layout', 'name': 'Frans Vischer'}, {'department': 'Visual Effects', 'job': 'Animation', 'name': 'Sun Jae Lee'}, {'department': 'Editing', 'job': 'Editorial Services', 'name': 'Roger Injarusorn'}, {'department': 'Directing', 'job': 'Layout', 'name': 'Eddie Rosas'}, {'department': 'Directing', 'job': 'Layout', 'name': 'Nate Lowe'}, {'department': 'Directing', 'job': 'Layout', 'name': 'Juan 'Jo' Luna'}, {'department': 'Crew', 'job': 'Compositors', 'name': 'Dennis Bonnell'}, {'department': 'Directing', 'job': 'Layout', 'name': 'J.C. Wegman'}, {'department': 'Directing', 'job': 'Layout', 'name': 'Jennifer Moeller'}, {'department': 'Directing', 'job': 'Layout', 'name': 'Andre Medina'}, {'department': 'Directing', 'job': 'Layout', 'name': 'Eric Koenig'}, {'department': 'Directing', 'job': 'Layout', 'name': 'Jay Jackson'}, {'department': 'Directing', 'job': 'Layout', 'name': 'Jeff Johnson'}, {'department': 'Directing', 'job': 'Layout', 'name': 'Roberto Casale'}, {'department': 'Directing', 'job': 'Layout', 'name': 'Rufino Camacho'}, {'department': 'Directing', 'job': 'Layout', 'name': 'Ivaylo Anguelov'}, {'department': 'Visual Effects', 'job': 'Animation', 'name': 'Silvia Pompei'}, {'department': 'Visual Effects', 'job': 'Animation', 'name': 'Anthony DeRosa'}, {'department': 'Visual Effects', 'job': 'Animation', 'name': 'Caroline Cruikshank'}, {'department': 'Directing', 'job': 'Assistant Director', 'name': 'Matthew Schofield'}, {'department': 'Crew', 'job': 'Post Production Supervisor', 'name': 'Jeannine Berger'}, {'department': 'Sound', 'job': 'Supervising Music Editor', 'name': 'Daniel Pinder'}, {'department': 'Production', 'job': 'Co-Producer', 'name': 'Craig Sost'}, {'department': 'Sound', 'job': 'Supervising Sound Editor', 'name': 'Gwendolyn Yates Whittle'}, {'department': 'Visual Effects', 'job': 'Animation Director', 'name': 'Gary McCarver'}, {'department': 'Production', 'job': 'Producer', 'name': 'Claudia Katz'}, {'department': 'Production', 'job': 'Executive Producer', 'name': 'Nikki Vanzo'}, {'department': 'Production', 'job': 'Producer', 'name': 'Matt Orefice'}, {'department': 'Production', 'job': 'Producer', 'name': 'Felicia Nalivansky'}, {'department': 'Production', 'job': 'Producer', 'name': 'Amanda Moshay'}, {'department': 'Production', 'job': 'Producer', 'name': 'Peter Gave'}, {'department': 'Art', 'job': 'Art Direction', 'name': 'Dima Malanitchev'}, {'department': 'Writing', 'job': 'Screenplay', 'name': 'John Swartzwelder'}, {'department': 'Production', 'job': 'Producer', 'name': 'Jay Kleckner'}, {'department': 'Writing', 'job': 'Screenplay', 'name': 'Matt Selman'}, {'department': 'Writing', 'job': 'Screenplay', 'name': 'Ian Maxtone-Graham'}, {'department': 'Production', 'job': 'Producer', 'name': 'Mike Scully'}, {'department': 'Writing', 'job': 'Screenplay', 'name': 'Mike Scully'}, {'department': 'Writing', 'job': 'Screenplay', 'name': 'George Meyer'}, {'department': 'Production', 'job': 'Producer', 'name': 'Al Jean'}, {'department': 'Writing', 'job': 'Screenplay', 'name': 'Al Jean'}, {'department': 'Writing', 'job': 'Screenplay', 'name': 'Mike Reiss'}, {'department': 'Writing', 'job': 'Screenplay', 'name': 'David Mirkin'}, {'department': 'Production', 'job': 'Producer', 'name': 'Richard Sakai'}, {'department': 'Visual Effects', 'job': 'Animation', 'name': 'John Pomeroy'}, {'department': 'Writing', 'job': 'Screenplay', 'name': 'Jon Vitti'}, {'department': 'Editing', 'job': 'Editor', 'name': 'John Carnochan'}, {'department': 'Sound', 'job': 'Original Music Composer', 'name': 'Hans Zimmer'}, {'department': 'Writing', 'job': 'Screenplay', 'name': 'Sam Simon'}, {'department': 'Production', 'job': 'Producer', 'name': 'James L. Brooks'}, {'department': 'Writing', 'job': 'Screenplay', 'name': 'James L. Brooks'}, {'department': 'Production', 'job': 'Producer', 'name': 'Matt Groening'}, {'department': 'Writing', 'job': 'Screenplay', 'name': 'Matt Groening'}, {'department': 'Crew', 'job': 'Compositors', 'name': 'Bingo Ferguson'}, {'department': 'Crew', 'job': 'Compositors', 'name': 'Brendan Harris'}, {'department': 'Directing', 'job': 'Director', 'name': 'David Silverman'}, {'department': 'Crew', 'job': 'Compositors', 'name': 'Louie C. Jhocson'}, {'department': 'Crew', 'job': 'Compositors', 'name': 'Miae Kim'}, {'department': 'Crew', 'job': 'Compositors', 'name': 'Rick Moser'}, {'department': 'Crew', 'job': 'Compositors', 'name': 'Edwin Shortess'}, {'department': 'Crew', 'job': 'Compositors', 'name': 'Doug Tiano'}, {'department': 'Directing', 'job': 'Layout', 'name': 'Manny DeGuzman'}, {'department': 'Crew', 'job': 'Compositors', 'name': 'Darrin Drew'}, {'department': 'Crew', 'job': 'Compositors', 'name': 'Beth S. Morris'}, {'department': 'Crew', 'job': 'Compositors', 'name': 'Colin Sittig'}, {'department': 'Directing', 'job': 'Layout', 'name': 'Richard Manginsay'}]</td>\n",
              "    </tr>\n",
              "    <tr>\n",
              "      <th>24</th>\n",
              "      <td>38</td>\n",
              "      <td>[{'character': 'Frank', 'name': 'Thomas Jay Ryan'}, {'character': 'Rob Eakin', 'name': 'David Cross'}, {'character': 'Young Joel', 'name': 'Ryan Whitney'}, {'character': 'Young Clementine', 'name': 'Lola Daehler'}, {'character': 'Young Bully', 'name': 'Josh Flitter'}, {'character': 'Joel's Mother', 'name': 'Debbon Ayer'}, {'character': 'Train Conducter', 'name': 'Gerry Robert Byrne'}, {'character': 'Young Bully', 'name': 'Brian Price'}, {'character': 'Joel Barish', 'name': 'Jim Carrey'}, {'character': 'Clementine Kruczynski', 'name': 'Kate Winslet'}, {'character': 'Rollerblader', 'name': 'Lauren Adler'}, {'character': 'Mary Svevo', 'name': 'Kirsten Dunst'}, {'character': 'Stan Fink', 'name': 'Mark Ruffalo'}, {'character': 'Patrick', 'name': 'Elijah Wood'}, {'character': 'Dr. Howard Mierzwiak', 'name': 'Tom Wilkinson'}, {'character': 'Carrie Eakin', 'name': 'Jane Adams'}, {'character': 'Young Bully', 'name': 'Amir Ali Said'}, {'character': 'Young Bully', 'name': 'Paul Litowsky'}, {'character': 'Hollis Mierzwiak', 'name': 'Deirdre O'Connell'}]</td>\n",
              "      <td>[{'department': 'Art', 'job': 'Set Decoration', 'name': 'Ron von Blomberg'}, {'department': 'Directing', 'job': 'Script Supervisor', 'name': 'Mary Cybulski'}, {'department': 'Lighting', 'job': 'Gaffer', 'name': 'John C. Nadeau'}, {'department': 'Directing', 'job': 'Director', 'name': 'Michel Gondry'}, {'department': 'Writing', 'job': 'Story', 'name': 'Michel Gondry'}, {'department': 'Writing', 'job': 'Story', 'name': 'Pierre Bismuth'}, {'department': 'Sound', 'job': 'Original Music Composer', 'name': 'Jon Brion'}, {'department': 'Camera', 'job': 'Director of Photography', 'name': 'Ellen Kuras'}, {'department': 'Writing', 'job': 'Screenplay', 'name': 'Charlie Kaufman'}, {'department': 'Production', 'job': 'Executive Producer', 'name': 'Charlie Kaufman'}, {'department': 'Writing', 'job': 'Story', 'name': 'Charlie Kaufman'}, {'department': 'Production', 'job': 'Producer', 'name': 'Anthony Bregman'}, {'department': 'Production', 'job': 'Producer', 'name': 'Steve Golin'}, {'department': 'Camera', 'job': 'Camera Operator', 'name': 'Chris Norr'}, {'department': 'Production', 'job': 'Casting', 'name': 'Jeanne McCarthy'}, {'department': 'Editing', 'job': 'Editor', 'name': 'Valdís Óskarsdóttir'}, {'department': 'Production', 'job': 'Executive Producer', 'name': 'Georges Bermann'}, {'department': 'Art', 'job': 'Production Design', 'name': 'Dan Leigh'}, {'department': 'Production', 'job': 'Executive Producer', 'name': 'Glenn Williamson'}, {'department': 'Costume &amp; Make-Up', 'job': 'Costume Design', 'name': 'Melissa Toth'}, {'department': 'Production', 'job': 'Executive Producer', 'name': 'David L. Bushell'}]</td>\n",
              "    </tr>\n",
              "    <tr>\n",
              "      <th>25</th>\n",
              "      <td>55</td>\n",
              "      <td>[{'character': 'Leonardo', 'name': 'José Sefami'}, {'character': 'Octavio', 'name': 'Gael García Bernal'}, {'character': 'Susana', 'name': 'Vanessa Bauche'}, {'character': 'Valeria', 'name': 'Goya Toledo'}, {'character': 'Daniel', 'name': 'Alvaro Guerrero'}, {'character': 'El Chivo', 'name': 'Emilio Echevarría'}, {'character': 'Luis', 'name': 'Jorge Salinas'}, {'character': 'Gustavo', 'name': 'Rodrigo Murray'}, {'character': 'Jorge', 'name': 'Humberto Busto'}, {'character': 'Mauricio', 'name': 'Gerardo Campbell'}, {'character': 'Tía Luisa', 'name': 'Rosa María Bianchi'}, {'character': 'Mama Susana', 'name': 'Dunia Saldívar'}, {'character': 'Mama Octavio', 'name': 'Adriana Barraza'}, {'character': 'Maru', 'name': 'Lourdes Echevarría'}, {'character': 'Ramiro', 'name': 'Marco Pérez'}, {'character': 'Julieta', 'name': 'Laura Almela'}, {'character': 'Jarocho', 'name': 'Gustavo Sánchez Parra'}, {'character': 'Alvaro', 'name': 'Dagoberto Gama'}, {'character': 'El jaibo', 'name': 'Rodrigo Ostap'}, {'character': 'Doctor', 'name': 'Patricio Castillo'}, {'character': 'Conductor de T.V.', 'name': 'Roberto Medina'}, {'character': 'Hombre deshuesadero', 'name': 'Carlos Samperio'}, {'character': 'Judicial', 'name': 'Mauricio Martínez'}, {'character': 'Andrés Salgado', 'name': 'Ricardo Dalmacci'}, {'character': 'El Chispas', 'name': 'Gustavo Muñoz'}]</td>\n",
              "      <td>[{'department': 'Art', 'job': 'Set Decoration', 'name': 'Julieta Álvarez'}, {'department': 'Writing', 'job': 'Author', 'name': 'Guillermo Arriaga'}, {'department': 'Camera', 'job': 'Director of Photography', 'name': 'Rodrigo Prieto'}, {'department': 'Production', 'job': 'Producer', 'name': 'Alejandro González Iñárritu'}, {'department': 'Editing', 'job': 'Editor', 'name': 'Luis Carballar'}, {'department': 'Production', 'job': 'Executive Producer', 'name': 'Francisco González Compeán'}, {'department': 'Production', 'job': 'Executive Producer', 'name': 'Martha Sosa Elizondo'}, {'department': 'Production', 'job': 'Casting', 'name': 'Manuel Teil'}, {'department': 'Art', 'job': 'Production Design', 'name': 'Brigitte Broch'}, {'department': 'Art', 'job': 'Art Direction', 'name': 'Melo Hinojosa'}, {'department': 'Costume &amp; Make-Up', 'job': 'Costume Design', 'name': 'Gabriela Diaque'}, {'department': 'Production', 'job': 'Producer', 'name': 'Pelayo Gutiérrez'}, {'department': 'Production', 'job': 'Producer', 'name': 'Raúl Olvera Ferrer'}, {'department': 'Production', 'job': 'Producer', 'name': 'Guillermo Arriaga'}, {'department': 'Sound', 'job': 'Original Music Composer', 'name': 'Antonio Vega'}, {'department': 'Sound', 'job': 'Original Music Composer', 'name': 'Gustavo Santaolalla'}, {'department': 'Editing', 'job': 'Editor', 'name': 'Alejandro González Iñárritu'}, {'department': 'Editing', 'job': 'Editor', 'name': 'Fernando Pérez Unda'}, {'department': 'Crew', 'job': 'Thanks', 'name': 'Juan Carlos Rulfo'}, {'department': 'Crew', 'job': 'Thanks', 'name': 'Héctor Suárez'}, {'department': 'Camera', 'job': 'Still Photographer', 'name': 'Federico García'}, {'department': 'Crew', 'job': 'Thanks', 'name': 'Raúl Quintanilla'}, {'department': 'Costume &amp; Make-Up', 'job': 'Assistant Costume Designer', 'name': 'Carlos Munguía'}, {'department': 'Costume &amp; Make-Up', 'job': 'Costume Supervisor', 'name': 'Ismael Jardon'}, {'department': 'Production', 'job': 'Casting', 'name': 'Sonia Guerrero'}, {'department': 'Editing', 'job': 'Editorial Manager', 'name': 'Carlos Bolado'}, {'department': 'Editing', 'job': 'Editorial Coordinator', 'name': 'Guillermo del Toro'}, {'department': 'Production', 'job': 'Location Manager', 'name': 'Patricia Cano'}, {'department': 'Production', 'job': 'Location Manager', 'name': 'Claudia Puebla'}, {'department': 'Sound', 'job': 'Music Supervisor', 'name': 'Lynn Fainchtein'}, {'department': 'Sound', 'job': 'Music', 'name': 'Daniel Hidalgo'}, {'department': 'Sound', 'job': 'Sound Engineer', 'name': 'Anibal Kerpel'}, {'department': 'Sound', 'job': 'Orchestrator', 'name': 'David Campbell'}, {'department': 'Crew', 'job': 'Thanks', 'name': 'Simón Bross'}, {'department': 'Crew', 'job': 'Thanks', 'name': 'Alfonso Cuarón'}, {'department': 'Crew', 'job': 'Thanks', 'name': 'Carlos Cuarón'}, {'department': 'Crew', 'job': 'Thanks', 'name': 'José Luis García Agraz'}, {'department': 'Crew', 'job': 'Thanks', 'name': 'Rodrigo Cortés'}, {'department': 'Crew', 'job': 'Thanks', 'name': 'Federico González Compeán'}, {'department': 'Crew', 'job': 'Thanks', 'name': 'Alfredo Joskowicz'}, {'department': 'Crew', 'job': 'Thanks', 'name': 'Vicente Leñero'}, {'department': 'Crew', 'job': 'Thanks', 'name': 'Luis Mandoki'}, {'department': 'Crew', 'job': 'Thanks', 'name': 'Antonio Serrano'}, {'department': 'Production', 'job': 'Casting', 'name': 'Jorge Guerrero'}, {'department': 'Crew', 'job': 'Special Effects', 'name': 'Javier Martínez'}, {'department': 'Directing', 'job': 'Assistant Director', 'name': 'Carlos Hidalgo'}, {'department': 'Directing', 'job': 'Assistant Director', 'name': 'Adrian Grunberg'}, {'department': 'Crew', 'job': 'Post-Production Manager', 'name': 'Tlacateotl Mata'}, {'department': 'Costume &amp; Make-Up', 'job': 'Makeup Designer', 'name': 'Gabriel Solana'}, {'department': 'Costume &amp; Make-Up', 'job': 'Makeup Artist', 'name': 'David Ruiz Gameros'}, {'department': 'Costume &amp; Make-Up', 'job': 'Hairstylist', 'name': 'Isabel Amezcua'}, {'department': 'Production', 'job': 'Associate Producer', 'name': 'Mónica Lozano'}, {'department': 'Crew', 'job': 'Special Effects Coordinator', 'name': 'Alejandro Vázquez'}, {'department': 'Sound', 'job': 'Music', 'name': 'Herminio Gutiérrez'}, {'department': 'Crew', 'job': 'Stunts', 'name': 'Rafael Valdez'}, {'department': 'Crew', 'job': 'Stunts', 'name': 'Gerardo Albarrán'}, {'department': 'Crew', 'job': 'Second Unit', 'name': 'Adrian Grunberg'}, {'department': 'Production', 'job': 'Production Manager', 'name': 'Tita Lombardo'}, {'department': 'Directing', 'job': 'Director', 'name': 'Alejandro González Iñárritu'}]</td>\n",
              "    </tr>\n",
              "    <tr>\n",
              "      <th>26</th>\n",
              "      <td>58</td>\n",
              "      <td>[{'character': 'Lord Cutler Beckett', 'name': 'Tom Hollander'}, {'character': 'Koleniko', 'name': 'Clive Ashborn'}, {'character': 'Clanker', 'name': 'Andy Beckwith'}, {'character': 'Maccus', 'name': 'Dermot Keaney'}, {'character': 'Captain Hector Barbossa', 'name': 'Geoffrey Rush'}, {'character': 'Captain Bellamy', 'name': 'Alex Norton'}, {'character': 'Ian Mercer', 'name': 'David Schofield'}, {'character': 'Marty', 'name': 'Martin Klebba'}, {'character': 'Cotton', 'name': 'David Bailie'}, {'character': 'Cotton's Parrot (voice)', 'name': 'Christopher S. Capp'}, {'character': 'Tia Dalma', 'name': 'Naomie Harris'}, {'character': 'Catcall (uncredited)', 'name': 'Philip Ettington'}, {'character': 'Headless', 'name': 'Reggie Lee'}, {'character': 'Elizabeth Swann', 'name': 'Keira Knightley'}, {'character': 'Will Turner', 'name': 'Orlando Bloom'}, {'character': 'Captain Jack Sparrow', 'name': 'Johnny Depp'}, {'character': 'Joshamee Gibbs', 'name': 'Kevin McNally'}, {'character': 'James Norrington', 'name': 'Jack Davenport'}, {'character': 'Captain Davy Jones', 'name': 'Bill Nighy'}, {'character': 'William \"Bootstrap Bill\" Turner', 'name': 'Stellan Skarsgård'}, {'character': 'Burser', 'name': 'John Boswall'}, {'character': 'Burser - Edinburgh', 'name': 'Max Baker'}, {'character': 'Quartermaster - Edinburgh', 'name': 'Steve Speirs'}, {'character': 'Scarlet', 'name': 'Lauren Maher'}, {'character': 'Giselle', 'name': 'Vanessa Branch'}, {'character': 'Frightened Sailor', 'name': 'Luke de Woolfson'}, {'character': 'Black Pearl Pirate', 'name': 'Jonathan Kite'}, {'character': 'Ho-Kwan', 'name': 'Ho-Kwan Tse'}, {'character': 'Penrod (uncredited)', 'name': 'Peter Donald Badalamenti II'}, {'character': 'Ogilvey', 'name': 'Jonathan Linsley'}, {'character': 'Jimmy Legs', 'name': 'Christopher Adamson'}, {'character': 'Ragetti', 'name': 'Mackenzie Crook'}, {'character': 'Pintel', 'name': 'Lee Arenberg'}, {'character': 'Governor Weatherby Swann', 'name': 'Jonathan Pryce'}]</td>\n",
              "      <td>[{'department': 'Editing', 'job': 'Editor', 'name': 'Stephen E. Rivkin'}, {'department': 'Writing', 'job': 'Author', 'name': 'Terry Rossio'}, {'department': 'Writing', 'job': 'Screenplay', 'name': 'Terry Rossio'}, {'department': 'Writing', 'job': 'Author', 'name': 'Ted Elliott'}, {'department': 'Writing', 'job': 'Screenplay', 'name': 'Ted Elliott'}, {'department': 'Production', 'job': 'Producer', 'name': 'Jerry Bruckheimer'}, {'department': 'Directing', 'job': 'Director', 'name': 'Gore Verbinski'}, {'department': 'Camera', 'job': 'Director of Photography', 'name': 'Dariusz Wolski'}, {'department': 'Visual Effects', 'job': 'Visual Effects', 'name': 'Cedric Nicolas-Troyan'}, {'department': 'Costume &amp; Make-Up', 'job': 'Hairstylist', 'name': 'Camille Friend'}, {'department': 'Visual Effects', 'job': 'Special Effects Supervisor', 'name': 'Allen Hall'}, {'department': 'Costume &amp; Make-Up', 'job': 'Makeup Department Head', 'name': 'Ve Neill'}, {'department': 'Art', 'job': 'Conceptual Design', 'name': 'James Ward Byrkit'}, {'department': 'Art', 'job': 'Production Design', 'name': 'Rick Heinrichs'}, {'department': 'Production', 'job': 'Casting', 'name': 'Denise Chamian'}, {'department': 'Production', 'job': 'Producer', 'name': 'Pat Sandston'}, {'department': 'Production', 'job': 'Producer', 'name': 'Peter Kohn'}, {'department': 'Production', 'job': 'Executive Producer', 'name': 'Chad Oman'}, {'department': 'Production', 'job': 'Executive Producer', 'name': 'Eric McLeod'}, {'department': 'Production', 'job': 'Executive Producer', 'name': 'Mike Stenson'}, {'department': 'Production', 'job': 'Executive Producer', 'name': 'Bruce Hendricks'}, {'department': 'Sound', 'job': 'Original Music Composer', 'name': 'Hans Zimmer'}, {'department': 'Editing', 'job': 'Editor', 'name': 'Craig Wood'}]</td>\n",
              "    </tr>\n",
              "    <tr>\n",
              "      <th>27</th>\n",
              "      <td>2459</td>\n",
              "      <td>[{'character': 'Marthe', 'name': 'Danièle Delorme'}, {'character': 'Daniel', 'name': 'Claude Brasseur'}, {'character': 'Simon', 'name': 'Guy Bedos'}, {'character': 'Bouly', 'name': 'Victor Lanoux'}, {'character': 'Esperanza', 'name': 'Martine Sarcey'}, {'character': 'Étienne', 'name': 'Jean Rochefort'}, {'character': 'Lucien', 'name': 'Christophe Bourseiller'}, {'character': 'Mouchy Messina', 'name': 'Marthe Villalonga'}, {'character': 'Charlotte', 'name': 'Anny Duperey'}]</td>\n",
              "      <td>[{'department': 'Directing', 'job': 'Director', 'name': 'Yves Robert'}, {'department': 'Writing', 'job': 'Screenplay', 'name': 'Yves Robert'}, {'department': 'Writing', 'job': 'Screenplay', 'name': 'Jean-Loup Dabadie'}]</td>\n",
              "    </tr>\n",
              "    <tr>\n",
              "      <th>28</th>\n",
              "      <td>59</td>\n",
              "      <td>[{'character': 'Billy', 'name': 'Greg Bryk'}, {'character': 'Leland', 'name': 'Stephen McHattie'}, {'character': 'Sheriff Sam Carney', 'name': 'Peter MacNeill'}, {'character': 'Carl Fogerty', 'name': 'Ed Harris'}, {'character': 'Richie Cusack', 'name': 'William Hurt'}, {'character': 'Jack Stall', 'name': 'Ashton Holmes'}, {'character': 'Sarah Stall', 'name': 'Heidi Hayes'}, {'character': 'Edie Stall', 'name': 'Maria Bello'}, {'character': 'Tom Stall', 'name': 'Viggo Mortensen'}, {'character': 'Charlie Roarke', 'name': 'Aidan Devine'}, {'character': 'Frank Mulligan', 'name': 'Bill MacDonald'}, {'character': 'Charlotte', 'name': 'Deborah Drakeford'}, {'character': 'Mick', 'name': 'Gerry Quigley'}, {'character': 'Judy Danvers', 'name': 'Sumela Kay'}, {'character': 'Bobby', 'name': 'Kyle Schmid'}]</td>\n",
              "      <td>[{'department': 'Production', 'job': 'Executive Producer', 'name': 'Kent Alterman'}, {'department': 'Sound', 'job': 'Supervising Sound Editor', 'name': 'Michael O'Farrell'}, {'department': 'Production', 'job': 'Executive Producer', 'name': 'Justis Greene'}, {'department': 'Art', 'job': 'Set Decoration', 'name': 'Peter Nicolakakos'}, {'department': 'Production', 'job': 'Executive Producer', 'name': 'Roger Kass'}, {'department': 'Directing', 'job': 'Script Supervisor', 'name': 'Dug Rotstein'}, {'department': 'Sound', 'job': 'Sound Effects Editor', 'name': 'Clive Turner'}, {'department': 'Camera', 'job': 'Still Photographer', 'name': 'Takashi Seida'}, {'department': 'Sound', 'job': 'Music Editor', 'name': 'Jennifer Dunnington'}, {'department': 'Sound', 'job': 'Sound Re-Recording Mixer', 'name': 'Mark Zsifkovits'}, {'department': 'Sound', 'job': 'Sound Re-Recording Mixer', 'name': 'Orest Sushko'}, {'department': 'Sound', 'job': 'Supervising Sound Editor', 'name': 'Wayne Griffin'}, {'department': 'Sound', 'job': 'Sound Re-Recording Mixer', 'name': 'Christian T. Cooke'}, {'department': 'Editing', 'job': 'Dialogue Editor', 'name': 'Alastair Gray'}, {'department': 'Editing', 'job': 'Editor', 'name': 'Ronald Sanders'}, {'department': 'Camera', 'job': 'Director of Photography', 'name': 'Peter Suschitzky'}, {'department': 'Writing', 'job': 'Novel', 'name': 'John Wagner'}, {'department': 'Writing', 'job': 'Screenplay', 'name': 'Josh Olson'}, {'department': 'Production', 'job': 'Producer', 'name': 'Chris Bender'}, {'department': 'Directing', 'job': 'Director', 'name': 'David Cronenberg'}, {'department': 'Costume &amp; Make-Up', 'job': 'Key Hair Stylist', 'name': 'Mary-Lou Green-Benvenuti'}, {'department': 'Sound', 'job': 'Music Supervisor', 'name': 'Karen Elliott'}, {'department': 'Production', 'job': 'Unit Production Manager', 'name': 'Heather Meehan'}, {'department': 'Sound', 'job': 'Original Music Composer', 'name': 'Howard Shore'}, {'department': 'Writing', 'job': 'Novel', 'name': 'Vince Locke'}, {'department': 'Art', 'job': 'Art Direction', 'name': 'James McAteer'}, {'department': 'Production', 'job': 'Casting', 'name': 'Deirdre Bowen'}, {'department': 'Art', 'job': 'Production Design', 'name': 'Carol Spier'}, {'department': 'Costume &amp; Make-Up', 'job': 'Costume Design', 'name': 'Denise Cronenberg'}, {'department': 'Crew', 'job': 'Stunt Coordinator', 'name': 'John Stoneham Jr.'}, {'department': 'Production', 'job': 'Executive Producer', 'name': 'Cale Boyter'}, {'department': 'Production', 'job': 'Producer', 'name': 'J.C. Spink'}, {'department': 'Production', 'job': 'Executive Producer', 'name': 'Toby Emmerich'}, {'department': 'Production', 'job': 'Executive Producer', 'name': 'Josh Braun'}, {'department': 'Production', 'job': 'Co-Producer', 'name': 'Jake Weiner'}]</td>\n",
              "    </tr>\n",
              "    <tr>\n",
              "      <th>29</th>\n",
              "      <td>62</td>\n",
              "      <td>[{'character': 'Ape', 'name': 'Danny Grover'}, {'character': 'Ape', 'name': 'David Hines'}, {'character': 'Ape', 'name': 'Tony Jackson'}, {'character': 'Ape', 'name': 'John Jordan'}, {'character': 'Ape', 'name': 'Scott MacKee'}, {'character': 'Ape', 'name': 'Laurence Marchant'}, {'character': 'Ape', 'name': 'Darryl Paes'}, {'character': 'Ape', 'name': 'Joe Refalo'}, {'character': 'Ape', 'name': 'Andy Wallace'}, {'character': 'Ape', 'name': 'Bob Wilyman'}, {'character': 'Ape Killed by Moon-Watcher', 'name': 'Richard Woods'}, {'character': 'Interviewer (uncredited)', 'name': 'Martin Amor'}, {'character': 'Young Man (uncredited)', 'name': 'S. Newton Anderson'}, {'character': '(uncredited)', 'name': 'Sheraton Blount'}, {'character': '(uncredited)', 'name': 'Ann Bormann'}, {'character': '(uncredited)', 'name': 'Julie Croft'}, {'character': '(uncredited)', 'name': 'Penny Francis'}, {'character': '(uncredited)', 'name': 'Marcella Markham'}, {'character': 'Russian Scientist (uncredited)', 'name': 'Irena Marr'}, {'character': 'Russian Scientist (uncredited)', 'name': 'Krystyna Marr'}, {'character': '(uncredited)', 'name': 'Kim Neil'}, {'character': '(uncredited)', 'name': 'Jane Pearl'}, {'character': '(uncredited)', 'name': 'Penny Pearl'}, {'character': 'Miller (uncredited)', 'name': 'Kevin Scott'}, {'character': 'TMA-1 Site Technician #1 (uncredited)', 'name': 'John Swindells'}, {'character': 'TMA-1 Site Photographer (uncredited)', 'name': 'Burnell Tucker'}, {'character': 'TMA-1 Site Technician #2 (uncredited)', 'name': 'John Clifford'}, {'character': 'Dr. Dave Bowman', 'name': 'Keir Dullea'}, {'character': 'Dr. Frank Poole', 'name': 'Gary Lockwood'}, {'character': 'Dr. Heywood R. Floyd', 'name': 'William Sylvester'}, {'character': 'HAL 9000 (voice)', 'name': 'Douglas Rain'}, {'character': 'Moon-Watcher', 'name': 'Daniel Richter'}, {'character': 'Dr. Andrei Smyslov', 'name': 'Leonard Rossiter'}, {'character': 'Elena', 'name': 'Margaret Tyzack'}, {'character': 'Dr. Ralph Halvorsen', 'name': 'Robert Beatty'}, {'character': 'Dr. Bill Michaels', 'name': 'Sean Sullivan'}, {'character': 'Mission Controller (voice)', 'name': 'Frank Miller'}, {'character': 'Aries-1B Lunar Shuttle Captain', 'name': 'Ed Bishop'}, {'character': 'Aries-1B Stewardess', 'name': 'Edwina Carroll'}, {'character': 'Stewardess', 'name': 'Penny Brahms'}, {'character': 'Stewardess', 'name': 'Heather Downham'}, {'character': 'stewardess', 'name': 'Maggie d'Abo'}, {'character': 'stewardess', 'name': 'Chela Matthison'}, {'character': 'Voiceprint identification girl', 'name': 'Judy Kiern'}, {'character': 'Poole's Father', 'name': 'Alan Gifford'}, {'character': 'Poole's Mother', 'name': 'Ann Gillis'}, {'character': 'Squirt - Floyd's Daughter (uncredited)', 'name': 'Vivian Kubrick'}, {'character': 'BBC-12 Announcer (uncredited)', 'name': 'Kenneth Kendall'}, {'character': 'Astronaut', 'name': 'Bill Weston'}, {'character': 'Astronaut', 'name': 'Glenn Beck'}, {'character': 'Astronaut', 'name': 'Mike Lovell'}, {'character': 'Ape', 'name': 'John Ashley'}, {'character': 'Ape', 'name': 'Jimmy Bell'}, {'character': 'Ape', 'name': 'David Charkham'}, {'character': 'Ape', 'name': 'Simon Davis'}, {'character': 'Ape', 'name': 'Jonathan Daw'}, {'character': 'Ape', 'name': 'Péter Delmár'}, {'character': 'Ape Attacked by Leopard', 'name': 'Terry Duggan'}, {'character': 'Ape', 'name': 'David Fleetwood'}, {'character': 'Ape', 'name': 'Brian Hawley'}]</td>\n",
              "      <td>[{'department': 'Sound', 'job': 'Sound Editor', 'name': 'Winston Ryder'}, {'department': 'Sound', 'job': 'Sound mixer', 'name': 'H.L. Bird'}, {'department': 'Editing', 'job': 'Editor', 'name': 'Ray Lovejoy'}, {'department': 'Camera', 'job': 'Director of Photography', 'name': 'Geoffrey Unsworth'}, {'department': 'Production', 'job': 'Producer', 'name': 'Stanley Kubrick'}, {'department': 'Directing', 'job': 'Director', 'name': 'Stanley Kubrick'}, {'department': 'Writing', 'job': 'Screenplay', 'name': 'Stanley Kubrick'}, {'department': 'Writing', 'job': 'Novel', 'name': 'Arthur C. Clarke'}, {'department': 'Writing', 'job': 'Screenplay', 'name': 'Arthur C. Clarke'}, {'department': 'Art', 'job': 'Construction Coordinator', 'name': 'Dick Frift'}, {'department': 'Art', 'job': 'Production Design', 'name': 'Harry Lange'}, {'department': 'Art', 'job': 'Production Design', 'name': 'Ernest Archer'}, {'department': 'Art', 'job': 'Art Direction', 'name': 'John Hoesli'}, {'department': 'Art', 'job': 'Set Decoration', 'name': 'Robert Cartwright'}, {'department': 'Crew', 'job': 'Special Effects', 'name': 'Les Bowie'}, {'department': 'Art', 'job': 'Production Design', 'name': 'Anthony Masters'}, {'department': 'Crew', 'job': 'Special Effects', 'name': 'Brian Johnson'}, {'department': 'Production', 'job': 'Casting', 'name': 'James Liggat'}, {'department': 'Production', 'job': 'Producer', 'name': 'Victor Lyndon'}]</td>\n",
              "    </tr>\n",
              "    <tr>\n",
              "      <th>...</th>\n",
              "      <td>...</td>\n",
              "      <td>...</td>\n",
              "      <td>...</td>\n",
              "    </tr>\n",
              "    <tr>\n",
              "      <th>70</th>\n",
              "      <td>99</td>\n",
              "      <td>[{'character': 'Mario', 'name': 'Carlos Lozano'}, {'character': 'Rosa's Father', 'name': 'Fernando Fernán Gómez'}, {'character': 'Esteban', 'name': 'Eloy Azorín'}, {'character': 'Lola', 'name': 'Toni Cantó'}, {'character': 'Taxista', 'name': 'Agustín Almodóvar'}, {'character': 'Huma', 'name': 'Marisa Paredes'}, {'character': 'Nina', 'name': 'Candela Peña'}, {'character': 'Agrado', 'name': 'Antonia San Juan'}, {'character': 'Rosa's Mother', 'name': 'Rosa Maria Sardà'}, {'character': 'Rosa', 'name': 'Penélope Cruz'}, {'character': '(uncredited)', 'name': 'Esther García'}, {'character': '(uncredited)', 'name': 'Lola García'}, {'character': '(uncredited)', 'name': 'Juan Marquez'}, {'character': '(uncredited)', 'name': 'Carmen Balagué'}, {'character': 'Espectador (uncredited)', 'name': 'Fito Páez'}, {'character': 'Mamen (uncredited)', 'name': 'Cayetana Guillén Cuervo'}, {'character': 'Manuela', 'name': 'Cecilia Roth'}, {'character': 'Heart Recipient', 'name': 'Carlos García Cambero'}, {'character': 'Farmacéutico', 'name': 'Patxi Freytez'}, {'character': 'Carmen', 'name': 'Carme Fortuny'}, {'character': 'Alex', 'name': 'Michel Ruben'}, {'character': 'Ginecólogo', 'name': 'Juan José Otegui'}, {'character': 'Yael', 'name': 'Yael Barnatán'}, {'character': 'Malena', 'name': 'Malena Gutiérrez'}, {'character': 'Doctor 2', 'name': 'José Luis Torrijo'}, {'character': 'Doctor 1', 'name': 'Manuel Morón'}, {'character': 'Actor \"Doctor\"', 'name': 'Fernando Guillén'}]</td>\n",
              "      <td>[{'department': 'Writing', 'job': 'Author', 'name': 'Pedro Almodóvar'}, {'department': 'Sound', 'job': 'Original Music Composer', 'name': 'Alberto Iglesias'}, {'department': 'Editing', 'job': 'Editor', 'name': 'José Salcedo'}, {'department': 'Sound', 'job': 'Sound Designer', 'name': 'Miguel Rejas'}, {'department': 'Sound', 'job': 'Sound Designer', 'name': 'José Antonio Bermúdez'}, {'department': 'Sound', 'job': 'Sound Designer', 'name': 'Diego Garrido'}, {'department': 'Camera', 'job': 'Director of Photography', 'name': 'Affonso Beato'}, {'department': 'Art', 'job': 'Production Design', 'name': 'Antxón Gómez'}, {'department': 'Production', 'job': 'Casting', 'name': 'Sara Bilbatúa'}, {'department': 'Costume &amp; Make-Up', 'job': 'Costume Design', 'name': 'Bina Daigeler'}, {'department': 'Costume &amp; Make-Up', 'job': 'Costume Design', 'name': 'Humberto Cornejo'}, {'department': 'Production', 'job': 'Executive Producer', 'name': 'Esther García'}, {'department': 'Camera', 'job': 'First Assistant Camera', 'name': 'José Ramón Delgado'}, {'department': 'Lighting', 'job': 'Electrician', 'name': 'Fernando Beltrán'}, {'department': 'Lighting', 'job': 'Gaffer', 'name': 'Enrique Bello'}, {'department': 'Crew', 'job': 'Thanks', 'name': 'Cayetana Guillén Cuervo'}, {'department': 'Crew', 'job': 'Thanks', 'name': 'Pierre Edelman'}, {'department': 'Directing', 'job': 'Script Supervisor', 'name': 'Yuyi Beringola'}, {'department': 'Editing', 'job': 'Assistant Editor', 'name': 'Rosa Ortiz'}, {'department': 'Editing', 'job': 'Assistant Editor', 'name': 'Manolo Laguna'}, {'department': 'Production', 'job': 'Casting', 'name': 'Pilar Moya'}, {'department': 'Production', 'job': 'Producer', 'name': 'Michel Ruben'}, {'department': 'Production', 'job': 'Producer', 'name': 'Agustín Almodóvar'}, {'department': 'Directing', 'job': 'Director', 'name': 'Pedro Almodóvar'}, {'department': 'Production', 'job': 'Casting', 'name': 'Mamen Moya'}, {'department': 'Crew', 'job': 'Stunts', 'name': 'Ismael Martínez'}, {'department': 'Crew', 'job': 'Special Effects', 'name': 'Antonio Molina'}, {'department': 'Costume &amp; Make-Up', 'job': 'Hairstylist', 'name': 'Jean-Jacques Puchu'}, {'department': 'Costume &amp; Make-Up', 'job': 'Makeup Artist', 'name': 'Jorge Hernández Lobo'}, {'department': 'Costume &amp; Make-Up', 'job': 'Costume Design', 'name': 'José María De Cossío'}, {'department': 'Art', 'job': 'Set Decoration', 'name': 'Federico García Cambero'}, {'department': 'Directing', 'job': 'Assistant Director', 'name': 'Lola García'}]</td>\n",
              "    </tr>\n",
              "    <tr>\n",
              "      <th>71</th>\n",
              "      <td>100</td>\n",
              "      <td>[{'character': 'John', 'name': 'Tony McMahon'}, {'character': 'Alan / Narrator', 'name': 'Alan Ford'}, {'character': 'Traffic Warden', 'name': 'Rob Brydon'}, {'character': 'Tanya', 'name': 'Vera Day'}, {'character': 'Nathan', 'name': 'Elwin 'Chopper' David'}, {'character': 'Barfly Jack', 'name': 'Danny John-Jules'}, {'character': 'Man in Pub', 'name': 'Andrew Tiernan'}, {'character': 'Gary', 'name': 'Victor McGuire'}, {'character': 'Dean', 'name': 'Jake Abraham'}, {'character': 'Tom', 'name': 'Jason Flemyng'}, {'character': 'Soap', 'name': 'Dexter Fletcher'}, {'character': 'Eddie', 'name': 'Nick Moran'}, {'character': 'Bacon', 'name': 'Jason Statham'}, {'character': 'Big Chris', 'name': 'Vinnie Jones'}, {'character': 'JD', 'name': 'Sting'}, {'character': 'Winston', 'name': 'Steven Mackintosh'}, {'character': 'J', 'name': 'Nicholas Rowe'}, {'character': 'Barry the Baptist', 'name': 'Lenny McLean'}, {'character': ''Hatchet' Harry Lonsdale', 'name': 'P.H. Moriarty'}, {'character': 'Dog', 'name': 'Frank Harper'}, {'character': 'Paul', 'name': 'Huggy Leaver'}, {'character': 'Nick the Greek', 'name': 'Stephen Marcus'}, {'character': 'Little Chris', 'name': 'Peter McNicholl'}, {'character': 'Charles', 'name': 'Nick Marcq'}, {'character': 'Rory Breaker', 'name': 'Vas Blackwood'}, {'character': 'Plank', 'name': 'Steve Sweeney'}, {'character': 'Willie', 'name': 'Charles Forbes'}]</td>\n",
              "      <td>[{'department': 'Art', 'job': 'Production Design', 'name': 'Iain Andrews'}, {'department': 'Camera', 'job': 'Director of Photography', 'name': 'Tim Maurice-Jones'}, {'department': 'Sound', 'job': 'Original Music Composer', 'name': 'John Murphy'}, {'department': 'Sound', 'job': 'Original Music Composer', 'name': 'David A. Hughes'}, {'department': 'Production', 'job': 'Producer', 'name': 'Matthew Vaughn'}, {'department': 'Directing', 'job': 'Director', 'name': 'Guy Ritchie'}, {'department': 'Costume &amp; Make-Up', 'job': 'Costume Design', 'name': 'Stephanie Collie'}, {'department': 'Writing', 'job': 'Screenplay', 'name': 'Guy Ritchie'}, {'department': 'Editing', 'job': 'Editor', 'name': 'Niven Howie'}, {'department': 'Production', 'job': 'Casting', 'name': 'Guy Ritchie'}, {'department': 'Production', 'job': 'Casting', 'name': 'Celestia Fox'}, {'department': 'Art', 'job': 'Production Design', 'name': 'Eve Mavrakis'}]</td>\n",
              "    </tr>\n",
              "    <tr>\n",
              "      <th>72</th>\n",
              "      <td>101</td>\n",
              "      <td>[{'character': 'Fatman', 'name': 'Frank Senger'}, {'character': 'Swat 6', 'name': 'Hervé Husson'}, {'character': 'Swat 7', 'name': 'Didier Legros'}, {'character': 'Swat 4', 'name': 'David Gregg'}, {'character': 'Swat 3', 'name': 'Junior Almeida'}, {'character': 'Swat 2', 'name': 'Christophe Gautier'}, {'character': 'Swat 9', 'name': 'Gilles Kleber'}, {'character': 'Swat 8', 'name': 'Marc Andréoni'}, {'character': 'Swat 5', 'name': 'Michel Montanary'}, {'character': 'Swat 1', 'name': 'Samy Naceri'}, {'character': 'Swat Chief', 'name': 'Geoffrey Bateman'}, {'character': 'Swat Hostage', 'name': 'Arsène Jiroyan'}, {'character': '1st Security man', 'name': 'Peter Linari'}, {'character': '2nd Policeman', 'name': 'Tommy Hollis'}, {'character': '1st Policeman', 'name': 'Kent Broadhurst'}, {'character': 'Ball Kid', 'name': 'Alex Dezen'}, {'character': 'Léon Montana', 'name': 'Jean Reno'}, {'character': 'Mathilda Lando', 'name': 'Natalie Portman'}, {'character': 'Norman Stansfield', 'name': 'Gary Oldman'}, {'character': 'Tony', 'name': 'Danny Aiello'}, {'character': 'Malky', 'name': 'Peter Appel'}, {'character': 'Mathilda's Father', 'name': 'Michael Badalucco'}, {'character': 'Mathilda's Mother', 'name': 'Ellen Greene'}, {'character': 'Mathilda's Sister', 'name': 'Elizabeth Regen'}, {'character': 'Mathilda's Brother', 'name': 'Carl J. Matusovich'}, {'character': 'Bodyguard Chief', 'name': 'Eric Challier'}, {'character': '1St Stansfield Man', 'name': 'Willi One Blood'}, {'character': '2nd Stansfield man', 'name': 'Don Creech'}, {'character': '3rd Stansfield man (Benny)', 'name': 'Keith A. Glascoe'}, {'character': 'Stansfield man', 'name': 'Jernard Burks'}, {'character': 'Stansfield man', 'name': 'Matt De Matt'}, {'character': 'Receptionist', 'name': 'George Martin'}, {'character': 'Old Lady', 'name': 'Jessie Keosian'}, {'character': 'Manolo', 'name': 'Adam Busch'}, {'character': 'Stairway Swat', 'name': 'Joseph Malerba'}, {'character': 'Mickey', 'name': 'Luc Bernard'}, {'character': 'Blond Babe', 'name': 'Maïwenn'}, {'character': 'Tonto', 'name': 'Lucius Wyatt 'Cherokee''}, {'character': 'Leon's Taxi driver', 'name': 'Stuart Rudin'}]</td>\n",
              "      <td>[{'department': 'Directing', 'job': 'First Assistant Director', 'name': 'Pascal Chaumeil'}, {'department': 'Editing', 'job': 'Editor', 'name': 'Sylvie Landra'}, {'department': 'Sound', 'job': 'Sound Re-Recording Mixer', 'name': 'Bruno Tarrière'}, {'department': 'Sound', 'job': 'Sound Re-Recording Mixer', 'name': 'Gérard Lamps'}, {'department': 'Art', 'job': 'Production Design', 'name': 'Dan Weil'}, {'department': 'Production', 'job': 'Casting', 'name': 'Todd M. Thaler'}, {'department': 'Crew', 'job': 'Stunt Coordinator', 'name': 'Peter Bucossi'}, {'department': 'Directing', 'job': 'Script Supervisor', 'name': 'Sylvette Baudrot'}, {'department': 'Writing', 'job': 'Screenplay', 'name': 'Luc Besson'}, {'department': 'Costume &amp; Make-Up', 'job': 'Costume Design', 'name': 'Magali Guidasci'}, {'department': 'Camera', 'job': 'Director of Photography', 'name': 'Thierry Arbogast'}, {'department': 'Sound', 'job': 'Original Music Composer', 'name': 'Eric Serra'}, {'department': 'Production', 'job': 'Producer', 'name': 'Patrice Ledoux'}, {'department': 'Directing', 'job': 'Director', 'name': 'Luc Besson'}, {'department': 'Art', 'job': 'Art Direction', 'name': 'Gerard Drolon'}, {'department': 'Art', 'job': 'Set Decoration', 'name': 'Françoise Benoît-Fresco'}, {'department': 'Sound', 'job': 'Sound Re-Recording Mixer', 'name': 'François Groult'}, {'department': 'Crew', 'job': 'Executive Music Producer', 'name': 'Claude Serra'}, {'department': 'Camera', 'job': 'Still Photographer', 'name': 'Patrick Camboulive'}]</td>\n",
              "    </tr>\n",
              "    <tr>\n",
              "      <th>73</th>\n",
              "      <td>102</td>\n",
              "      <td>[{'character': None, 'name': 'Birgitte Prins'}, {'character': 'Cecilie', 'name': 'Sonja Richter'}, {'character': 'Joachim', 'name': 'Nikolaj Lie Kaas'}, {'character': 'Niels', 'name': 'Mads Mikkelsen'}, {'character': None, 'name': 'Hans Henrik Clemensen'}, {'character': None, 'name': 'Philip Zandén'}, {'character': 'Marie', 'name': 'Paprika Steen'}, {'character': 'Stine', 'name': 'Stine Bjerregaard'}, {'character': 'Hanne', 'name': 'Birthe Neumann'}, {'character': 'Finn', 'name': 'Niels Olsen'}, {'character': 'Thomsen', 'name': 'Ulf Pilgaard'}, {'character': 'Gustav', 'name': 'Ronnie Lorenzen'}, {'character': 'Robert', 'name': 'Anders Nyborg'}, {'character': None, 'name': 'Pelle Bang Sørensen'}, {'character': None, 'name': 'Ida Dwinger'}, {'character': None, 'name': 'Michel Castenholt'}, {'character': None, 'name': 'Jens Basse Dam'}, {'character': None, 'name': 'Hanne Windfeld'}, {'character': None, 'name': 'Tina Gylling Mortensen'}, {'character': None, 'name': 'Susanne Juhász'}]</td>\n",
              "      <td>[{'department': 'Editing', 'job': 'Editor', 'name': 'Thomas Krag'}, {'department': 'Editing', 'job': 'Editor', 'name': 'Pernille Bech Christensen'}, {'department': 'Sound', 'job': 'Sound Designer', 'name': 'Per Streit'}, {'department': 'Sound', 'job': 'Original Music Composer', 'name': 'Jesper Winge Leisner'}, {'department': 'Production', 'job': 'Producer', 'name': 'Jonas Frederiksen'}, {'department': 'Production', 'job': 'Producer', 'name': 'Sisse Graum Jørgensen'}, {'department': 'Production', 'job': 'Line Producer', 'name': 'Karen Bentzon'}, {'department': 'Writing', 'job': 'Screenplay', 'name': 'Anders Thomas Jensen'}, {'department': 'Directing', 'job': 'Director', 'name': 'Susanne Bier'}, {'department': 'Production', 'job': 'Producer', 'name': 'Vibeke Windeløv'}, {'department': 'Production', 'job': 'Executive Producer', 'name': 'Peter Aalbæk Jensen'}, {'department': 'Production', 'job': 'Casting', 'name': 'Jette Termann'}, {'department': 'Costume &amp; Make-Up', 'job': 'Costume Design', 'name': 'Stine Gudmundsen-Holmgreen'}, {'department': 'Production', 'job': 'Casting', 'name': 'Lene Seested'}, {'department': 'Camera', 'job': 'Director of Photography', 'name': 'Morten Søborg'}]</td>\n",
              "    </tr>\n",
              "    <tr>\n",
              "      <th>74</th>\n",
              "      <td>103</td>\n",
              "      <td>[{'character': 'Concession Girl', 'name': 'Diahnne Abbott'}, {'character': 'Tom', 'name': 'Albert Brooks'}, {'character': 'Senator Charles Palantine', 'name': 'Leonard Harris'}, {'character': 'Wizard', 'name': 'Peter Boyle'}, {'character': 'Iris Steensma', 'name': 'Jodie Foster'}, {'character': ''Sport' Matthew', 'name': 'Harvey Keitel'}, {'character': 'Betsy', 'name': 'Cybill Shepherd'}, {'character': 'Travis Bickle', 'name': 'Robert De Niro'}, {'character': 'Charlie T', 'name': 'Norman Matlock'}, {'character': 'Doughboy', 'name': 'Harry Northup'}, {'character': 'Campaign Worker', 'name': 'Harlan Cary Poe'}, {'character': 'Andy - Gun Salesman', 'name': 'Steven Prince'}, {'character': 'The John', 'name': 'Peter Savage'}, {'character': 'Palantine's Aide', 'name': 'Nicholas Shields'}, {'character': 'T.V. Interviewer', 'name': 'Ralph S. Singleton'}, {'character': 'Campaign Worker (uncredited)', 'name': 'Annie Gagen'}, {'character': 'Political rallier (uncredited)', 'name': 'Carson Grant'}, {'character': 'Campaign Aide (uncredited)', 'name': 'Mary-Pat Green'}, {'character': 'Girl at Columbus Circle (uncredited)', 'name': 'Debbi Morgan'}, {'character': 'Policeman (uncredited)', 'name': 'Don Stroud'}, {'character': 'Iris' Time Keeper', 'name': 'Murray Moston'}, {'character': 'Angry Black Man', 'name': 'Frank Adu'}, {'character': 'Man in cab', 'name': 'Martin Scorsese'}, {'character': 'Personell Officer', 'name': 'Joe Spinell'}, {'character': 'Melio, Delicatessen Owner', 'name': 'Victor Argo'}, {'character': 'Mafioso', 'name': 'Bob Maroff'}, {'character': 'Tom's Assistant', 'name': 'Bill Minkin'}, {'character': 'Secret Service Agent', 'name': 'Richard Higgs'}, {'character': 'Soap Opera Woman', 'name': 'Brenda Dickson'}, {'character': 'Policeman al rally', 'name': 'Gino Ardito'}]</td>\n",
              "      <td>[{'department': 'Sound', 'job': 'Supervising Sound Editor', 'name': 'Frank E. Warner'}, {'department': 'Camera', 'job': 'Camera Operator', 'name': 'Fred Schuler'}, {'department': 'Crew', 'job': 'Scenic Artist', 'name': 'Cosmo Sorice'}, {'department': 'Directing', 'job': 'Script Supervisor', 'name': 'Kay Chapin'}, {'department': 'Camera', 'job': 'Grip', 'name': 'Robert Ward'}, {'department': 'Camera', 'job': 'Camera Intern', 'name': 'Bill Johnson'}, {'department': 'Crew', 'job': 'Thanks', 'name': 'Julia Cameron'}, {'department': 'Production', 'job': 'Production Manager', 'name': 'Phillip M. Goldfarb'}, {'department': 'Crew', 'job': 'Transportation Coordinator', 'name': 'Raymond Hartwick'}, {'department': 'Costume &amp; Make-Up', 'job': 'Makeup Artist', 'name': 'Irving Buchman'}, {'department': 'Crew', 'job': 'Special Effects', 'name': 'Tony Parmelee'}, {'department': 'Crew', 'job': 'Property Master', 'name': 'Leslie Bloom'}, {'department': 'Crew', 'job': 'Makeup Effects', 'name': 'Dick Smith'}, {'department': 'Writing', 'job': 'Writer', 'name': 'Paul Schrader'}, {'department': 'Costume &amp; Make-Up', 'job': 'Costume Design', 'name': 'Ruth Morley'}, {'department': 'Crew', 'job': 'Title Graphics', 'name': 'Dan Perri'}, {'department': 'Production', 'job': 'Publicist', 'name': 'Marion Billings'}, {'department': 'Camera', 'job': 'Still Photographer', 'name': 'Josh Weiner'}, {'department': 'Directing', 'job': 'Director', 'name': 'Martin Scorsese'}, {'department': 'Production', 'job': 'Producer', 'name': 'Julia Phillips'}, {'department': 'Production', 'job': 'Producer', 'name': 'Michael Phillips'}, {'department': 'Camera', 'job': 'Director of Photography', 'name': 'Michael Chapman'}, {'department': 'Sound', 'job': 'Original Music Composer', 'name': 'Bernard Herrmann'}, {'department': 'Production', 'job': 'Casting', 'name': 'Juliet Taylor'}, {'department': 'Art', 'job': 'Set Decoration', 'name': 'Herbert F. Mulligan'}, {'department': 'Art', 'job': 'Art Direction', 'name': 'Charles Rosen'}, {'department': 'Sound', 'job': 'Sound Effects Editor', 'name': 'David M. Horton'}, {'department': 'Sound', 'job': 'Sound Effects Editor', 'name': 'Sam Gemette'}, {'department': 'Sound', 'job': 'Sound Effects Editor', 'name': 'James Fritch'}, {'department': 'Sound', 'job': 'Sound Effects Editor', 'name': 'Gordon Davidson'}, {'department': 'Editing', 'job': 'Editor', 'name': 'Tom Rolf'}, {'department': 'Editing', 'job': 'Editor', 'name': 'Melvin Shapiro'}, {'department': 'Sound', 'job': 'Sound Re-Recording Mixer', 'name': 'Rick Alexander'}, {'department': 'Crew', 'job': 'Visual Effects Design Consultant', 'name': 'David Nichols'}, {'department': 'Crew', 'job': 'Thanks', 'name': 'Kris Kristofferson'}, {'department': 'Editing', 'job': 'Assistant Editor', 'name': 'Billy Weber'}, {'department': 'Editing', 'job': 'Assistant Editor', 'name': 'George Trirogoff'}, {'department': 'Editing', 'job': 'Supervising Film Editor', 'name': 'Marcia Lucas'}, {'department': 'Camera', 'job': 'Additional Photography', 'name': 'Carter Stevens'}, {'department': 'Directing', 'job': 'Assistant Director', 'name': 'Ralph S. Singleton'}, {'department': 'Directing', 'job': 'Other', 'name': 'Robert P. Cohen'}, {'department': 'Directing', 'job': 'Assistant Director', 'name': 'Peter R. Scoppa'}, {'department': 'Costume &amp; Make-Up', 'job': 'Hairstylist', 'name': 'Mona Orr'}, {'department': 'Production', 'job': 'Associate Producer', 'name': 'Phillip M. Goldfarb'}, {'department': 'Sound', 'job': 'Sound Re-Recording Mixer', 'name': 'Tex Rudloff'}, {'department': 'Production', 'job': 'Casting', 'name': 'Sylvia Fay'}]</td>\n",
              "    </tr>\n",
              "    <tr>\n",
              "      <th>75</th>\n",
              "      <td>104</td>\n",
              "      <td>[{'character': 'Blind Woman', 'name': 'Monica Bleibtreu'}, {'character': 'Frau Jäger', 'name': 'Suzanne von Borsody'}, {'character': 'Polizist (uncredited)', 'name': 'Marc Bischoff'}, {'character': 'Casino-Kassiererin (uncredited)', 'name': 'Beate Finckh'}, {'character': 'Erzähler (voice) (uncredited)', 'name': 'Hans Paetsch'}, {'character': 'Mike', 'name': 'Sebastian Schipper'}, {'character': 'Mother', 'name': 'Ute Lubosch'}, {'character': 'Doris', 'name': 'Julia Lindig'}, {'character': 'Cleaning Person', 'name': 'Andreas Petri'}, {'character': 'Croupier', 'name': 'Klaus Müller'}, {'character': 'Casino Manager', 'name': 'Utz Krause'}, {'character': 'Ambulance Driver', 'name': 'Volkhart Buff'}, {'character': 'Wachmann Supermarkt (uncredited)', 'name': 'Peter Pauli'}, {'character': 'Man on picture (uncredited)', 'name': 'Wolfgang Becker'}, {'character': 'Herr Meier', 'name': 'Ludger Pistor'}, {'character': 'Herr Kruse', 'name': 'Lars Rudolph'}, {'character': 'Ronnie', 'name': 'Heino Ferch'}, {'character': 'Homeless Man', 'name': 'Joachim Król'}, {'character': 'Herr Schuster', 'name': 'Armin Rohde'}, {'character': 'Frau Hansen', 'name': 'Nina Petri'}, {'character': 'Lola's Father', 'name': 'Herbert Knaup'}, {'character': 'Manni', 'name': 'Moritz Bleibtreu'}, {'character': 'Lola', 'name': 'Franka Potente'}]</td>\n",
              "      <td>[{'department': 'Art', 'job': 'Production Design', 'name': 'Alexander Manasse'}, {'department': 'Costume &amp; Make-Up', 'job': 'Costume Design', 'name': 'Monika Jacobs'}, {'department': 'Sound', 'job': 'Sound Designer', 'name': 'Dirk Jacob'}, {'department': 'Sound', 'job': 'Sound Designer', 'name': 'Frank Behnke'}, {'department': 'Production', 'job': 'Executive Producer', 'name': 'Maria Köpf'}, {'department': 'Writing', 'job': 'Screenplay', 'name': 'Tom Tykwer'}, {'department': 'Production', 'job': 'Producer', 'name': 'Gebhard Henke'}, {'department': 'Production', 'job': 'Producer', 'name': 'Andreas Schreitmüller'}, {'department': 'Production', 'job': 'Casting', 'name': 'An Dorthe Braker'}, {'department': 'Costume &amp; Make-Up', 'job': 'Makeup Artist', 'name': 'Babette Bröseke'}, {'department': 'Costume &amp; Make-Up', 'job': 'Makeup Artist', 'name': 'Margrit Neufink'}, {'department': 'Costume &amp; Make-Up', 'job': 'Makeup Artist', 'name': 'Jekaterina Oertel'}, {'department': 'Production', 'job': 'Production Manager', 'name': 'Ralph Brosche'}, {'department': 'Visual Effects', 'job': 'Animation', 'name': 'Gil Alkabetz'}, {'department': 'Production', 'job': 'Casting Associate', 'name': 'Nessie Nesslauer'}, {'department': 'Sound', 'job': 'Music Supervisor', 'name': 'Stefan Broedner'}, {'department': 'Crew', 'job': 'Thanks', 'name': 'Wolfgang Becker'}, {'department': 'Crew', 'job': 'Thanks', 'name': 'Liane Jessen'}, {'department': 'Costume &amp; Make-Up', 'job': 'Hair Designer', 'name': 'Christa Krista'}, {'department': 'Directing', 'job': 'Script Supervisor', 'name': 'Sabine Zimmer'}, {'department': 'Crew', 'job': 'Second Unit Cinematographer', 'name': 'Susanna Salonen'}, {'department': 'Crew', 'job': 'Second Unit Cinematographer', 'name': 'Marc Kubik'}, {'department': 'Camera', 'job': 'Steadicam Operator', 'name': 'Tilman Büttner'}, {'department': 'Camera', 'job': 'Steadicam Operator', 'name': 'Mikesch Groht'}, {'department': 'Camera', 'job': 'Steadicam Operator', 'name': 'Klaus Liebertz'}, {'department': 'Camera', 'job': 'Steadicam Operator', 'name': 'Sebastian Meuschel'}, {'department': 'Camera', 'job': 'Steadicam Operator', 'name': 'Christof Wahl'}, {'department': 'Camera', 'job': 'Still Photographer', 'name': 'Bernd Spauke'}, {'department': 'Lighting', 'job': 'Gaffer', 'name': 'Fred Dombrowka'}, {'department': 'Camera', 'job': 'Still Photographer', 'name': 'Gudrun F. Widlok'}, {'department': 'Directing', 'job': 'Director', 'name': 'Tom Tykwer'}, {'department': 'Production', 'job': 'Producer', 'name': 'Stefan Arndt'}, {'department': 'Sound', 'job': 'Original Music Composer', 'name': 'Tom Tykwer'}, {'department': 'Sound', 'job': 'Original Music Composer', 'name': 'Johnny Klimek'}, {'department': 'Sound', 'job': 'Original Music Composer', 'name': 'Reinhold Heil'}, {'department': 'Camera', 'job': 'Director of Photography', 'name': 'Frank Griebe'}, {'department': 'Editing', 'job': 'Editor', 'name': 'Mathilde Bonnefoy'}]</td>\n",
              "    </tr>\n",
              "    <tr>\n",
              "      <th>76</th>\n",
              "      <td>106</td>\n",
              "      <td>[{'character': 'General Phillips', 'name': 'R. G. Armstrong'}, {'character': 'Poncho Ramirez', 'name': 'Richard Chaves'}, {'character': 'Billy', 'name': 'Sonny Landham'}, {'character': 'Blain', 'name': 'Jesse Ventura'}, {'character': 'Sergeant 'Mac' Eliot', 'name': 'Bill Duke'}, {'character': 'Anna', 'name': 'Elpidia Carrillo'}, {'character': 'Major Alan 'Dutch' Schaeffer', 'name': 'Arnold Schwarzenegger'}, {'character': 'Major George Dillon', 'name': 'Carl Weathers'}, {'character': 'Russian Officer (uncredited)', 'name': 'Sven-Ole Thorsen'}, {'character': 'Helicopter Pilot / Predator', 'name': 'Kevin Peter Hall'}, {'character': 'Hawkins', 'name': 'Shane Black'}]</td>\n",
              "      <td>[{'department': 'Crew', 'job': 'Aerial Coordinator', 'name': 'Charles A. Tamburro'}, {'department': 'Crew', 'job': 'Pilot', 'name': 'Michael Tamburro'}, {'department': 'Directing', 'job': 'Script Supervisor', 'name': 'Marion Tumen'}, {'department': 'Sound', 'job': 'Supervising Sound Effects Editor', 'name': 'Richard L. Anderson'}, {'department': 'Sound', 'job': 'Supervising Sound Effects Editor', 'name': 'David E. Stone'}, {'department': 'Sound', 'job': 'Sound Effects Editor', 'name': 'Richard Shorr'}, {'department': 'Sound', 'job': 'Sound Effects Editor', 'name': 'Catherine Shorr'}, {'department': 'Sound', 'job': 'ADR Editor', 'name': 'Corinne Sessarego'}, {'department': 'Sound', 'job': 'ADR Editor', 'name': 'Hank Salerno'}, {'department': 'Sound', 'job': 'Foley Editor', 'name': 'Steve Richardson'}, {'department': 'Sound', 'job': 'Dialogue Editor', 'name': 'Cindy Marty'}, {'department': 'Sound', 'job': 'Sound Effects Editor', 'name': 'Gene Corso'}, {'department': 'Camera', 'job': 'Key Grip', 'name': 'Juan Iniestra'}, {'department': 'Art', 'job': 'Art Direction', 'name': 'Jorge Sainz'}, {'department': 'Lighting', 'job': 'Gaffer', 'name': 'Warren Mearns'}, {'department': 'Camera', 'job': 'Key Grip', 'name': 'Patrick Nash'}, {'department': 'Camera', 'job': 'Still Photographer', 'name': 'Zade Rosenthal'}, {'department': 'Camera', 'job': 'Still Photographer', 'name': 'Alfredo Ruvalcaba'}, {'department': 'Writing', 'job': 'Author', 'name': 'Jim Thomas'}, {'department': 'Production', 'job': 'Producer', 'name': 'Lawrence Gordon'}, {'department': 'Production', 'job': 'Producer', 'name': 'Jim Thomas'}, {'department': 'Production', 'job': 'Producer', 'name': 'Joel Silver'}, {'department': 'Directing', 'job': 'Director', 'name': 'John McTiernan'}, {'department': 'Art', 'job': 'Set Decoration', 'name': 'Enrique Estévez'}, {'department': 'Costume &amp; Make-Up', 'job': 'Hairstylist', 'name': 'Bertha Chiu'}, {'department': 'Costume &amp; Make-Up', 'job': 'Makeup Designer', 'name': 'Scott Eddo'}, {'department': 'Costume &amp; Make-Up', 'job': 'Hairstylist', 'name': 'Carlos Horcasitas'}, {'department': 'Directing', 'job': 'First Assistant Director', 'name': 'Beau Marks'}, {'department': 'Art', 'job': 'Sculptor', 'name': 'Henry Alvarez'}, {'department': 'Camera', 'job': 'Key Grip', 'name': 'Grahame Litchfield'}, {'department': 'Camera', 'job': 'Director of Photography', 'name': 'Donald McAlpine'}, {'department': 'Art', 'job': 'Art Direction', 'name': 'Frank Richwood'}, {'department': 'Writing', 'job': 'Author', 'name': 'John Thomas'}, {'department': 'Costume &amp; Make-Up', 'job': 'Costume Design', 'name': 'Marilyn Vance'}, {'department': 'Editing', 'job': 'Editor', 'name': 'John F. Link'}, {'department': 'Editing', 'job': 'Editor', 'name': 'Mark Helfrich'}, {'department': 'Production', 'job': 'Casting', 'name': 'Jackie Burch'}, {'department': 'Lighting', 'job': 'Gaffer', 'name': 'Fernando Calvillo'}, {'department': 'Lighting', 'job': 'Gaffer', 'name': 'Toby Holtham'}, {'department': 'Crew', 'job': 'Stunt Coordinator', 'name': 'Craig R. Baxley'}, {'department': 'Visual Effects', 'job': 'Animation Supervisor', 'name': 'Robert Mrozowski'}, {'department': 'Crew', 'job': 'Visual Effects Editor', 'name': 'J.W. Kompare'}, {'department': 'Visual Effects', 'job': 'Visual Effects Supervisor', 'name': 'Joel Hynek'}, {'department': 'Art', 'job': 'Production Design', 'name': 'John Vallone'}, {'department': 'Sound', 'job': 'Original Music Composer', 'name': 'Alan Silvestri'}, {'department': 'Visual Effects', 'job': 'Special Effects Supervisor', 'name': 'Al Di Sarro'}, {'department': 'Visual Effects', 'job': 'Special Effects Supervisor', 'name': 'Laurencio Cordero'}, {'department': 'Sound', 'job': 'Sound Effects Editor', 'name': 'Gary Wright'}, {'department': 'Sound', 'job': 'ADR Editor', 'name': 'Bill Voigtlander'}, {'department': 'Crew', 'job': 'Carpenter', 'name': 'Marc Fambro'}, {'department': 'Art', 'job': 'Property Master', 'name': 'Antonio Mata'}, {'department': 'Art', 'job': 'Greensman', 'name': 'Frank Mitchell'}, {'department': 'Art', 'job': 'Construction Coordinator', 'name': 'Salvador Pena'}, {'department': 'Art', 'job': 'Greensman', 'name': 'Francisco Ramirez'}, {'department': 'Art', 'job': 'Set Dresser', 'name': 'Macedonio Ramos'}, {'department': 'Art', 'job': 'Property Master', 'name': 'Tommy Tomlinson'}, {'department': 'Sound', 'job': 'Supervising Dialogue Editor', 'name': 'George H. Anderson'}, {'department': 'Costume &amp; Make-Up', 'job': 'Costume Supervisor', 'name': 'Robert B. Harris'}, {'department': 'Costume &amp; Make-Up', 'job': 'Costume Supervisor', 'name': 'James W. Tyson'}, {'department': 'Sound', 'job': 'Orchestrator', 'name': 'James B. Campbell'}, {'department': 'Sound', 'job': 'Music Editor', 'name': 'Michael Tronick'}, {'department': 'Crew', 'job': 'Pilot', 'name': 'Alejandro Madrid Bonilla'}, {'department': 'Directing', 'job': 'Script Supervisor', 'name': 'Gabriela Gurrola'}, {'department': 'Crew', 'job': 'Pilot', 'name': 'Peter McKernan'}, {'department': 'Visual Effects', 'job': 'Visual Effects Producer', 'name': 'Robert M. Greenberg'}, {'department': 'Visual Effects', 'job': 'Visual Effects Supervisor', 'name': 'Michael Bigelow'}]</td>\n",
              "    </tr>\n",
              "    <tr>\n",
              "      <th>77</th>\n",
              "      <td>16702</td>\n",
              "      <td>[{'character': 'Agent Michal Bodanyuk', 'name': 'Lana Ettinger'}, {'character': 'Hayim - Head of Mossad', 'name': 'Ilan Dar'}, {'character': 'Agent Rami Haruvi', 'name': 'Ron Shahar'}, {'character': 'Caroline Goodman', 'name': 'Iris Abramovich'}]</td>\n",
              "      <td>[{'department': 'Writing', 'job': 'Screenplay', 'name': 'Alon Gur Arye'}, {'department': 'Directing', 'job': 'Director', 'name': 'Alon Gur Arye'}, {'department': 'Writing', 'job': 'Screenplay', 'name': 'Noam Segev'}]</td>\n",
              "    </tr>\n",
              "    <tr>\n",
              "      <th>78</th>\n",
              "      <td>107</td>\n",
              "      <td>[{'character': 'Gary', 'name': 'Jason Buckham'}, {'character': 'Errol', 'name': 'Andy Beckwith'}, {'character': 'Neil', 'name': 'William Beck'}, {'character': 'Tyrone', 'name': 'Ade'}, {'character': 'Mullet', 'name': 'Ewen Bremner'}, {'character': 'Sol', 'name': 'Lennie James'}, {'character': 'Vincent', 'name': 'Robbie Gee'}, {'character': 'Doug 'The Head' Denovitz', 'name': 'Mike Reid'}, {'character': 'Brick Top Polford', 'name': 'Alan Ford'}, {'character': 'MC', 'name': 'Charles Cork'}, {'character': 'Horrible Man', 'name': 'James Cunningham'}, {'character': 'Mum O'Neil', 'name': 'Sorcha Cusack'}, {'character': 'Jack the All Seeing Eye', 'name': 'Mickey Dee'}, {'character': 'Rosebud', 'name': 'Sam Douglas'}, {'character': 'Gorgeous George', 'name': 'Adam Fogerty'}, {'character': 'Bad Boy Lincoln', 'name': 'Goldie'}, {'character': 'Tommy', 'name': 'Stephen Graham'}, {'character': 'Reuben', 'name': 'Sid Hoare'}, {'character': 'Referee', 'name': 'Ronald Isaac'}, {'character': 'Michael', 'name': 'Chuck Julian'}, {'character': 'John', 'name': 'Dave Legeno'}, {'character': 'Avi's Colleague', 'name': 'Eric Meyers'}, {'character': 'Charlie', 'name': 'Jason Ninh Cao'}, {'character': 'Patrick', 'name': 'Paul O'Boyle'}, {'character': 'Paulie', 'name': 'Jimmy Roussounis'}, {'character': 'Pauline', 'name': 'Sidney Sedin'}, {'character': 'Turkish', 'name': 'Jason Statham'}, {'character': 'Boris 'The Blade' Yurinov', 'name': 'Rade Serbedzija'}, {'character': 'Mickey O'Neil', 'name': 'Brad Pitt'}, {'character': 'Bullet Tooth Tony', 'name': 'Vinnie Jones'}, {'character': 'Abraham 'Cousin Avi' Denovitz', 'name': 'Dennis Farina'}, {'character': 'Franky Four Fingers', 'name': 'Benicio del Toro'}, {'character': 'Darren', 'name': 'Jason Flemyng'}, {'character': 'Man Reading Newspaper (uncredited)', 'name': 'Guy Ritchie'}, {'character': 'Boxer (uncredited)', 'name': 'Elwin 'Chopper' David'}, {'character': 'Policeman', 'name': 'Andrew Shield'}, {'character': 'Bomber Harris', 'name': 'Trevor Steedman'}, {'character': 'Himy', 'name': 'Yuri Stepanov'}, {'character': 'Sausage Charlie', 'name': 'Peter Szakacs'}, {'character': 'Salt Peter', 'name': 'John Taheny'}, {'character': 'Mad Fist Willy', 'name': 'Mick Theo'}, {'character': 'John the Gun', 'name': 'Andy Till'}, {'character': 'The Russian', 'name': 'Velibor Topic'}, {'character': 'Horace 'Good Night' Anderson', 'name': 'Scott Welch'}, {'character': 'Gypsy Man', 'name': 'Michael Hughes'}, {'character': 'Gypsy Man', 'name': 'Liam McMahon'}, {'character': 'Gypsy Man', 'name': 'James Warren'}, {'character': 'Gypsy Kid', 'name': 'Austin Drage'}, {'character': 'Gypsy Kid', 'name': 'Liam Donaghy'}, {'character': 'Policeman', 'name': 'Tim Faraday'}, {'character': 'Brick Top's Henchman', 'name': 'Roy Snell'}, {'character': 'Brick Top's Henchman', 'name': 'Dean Smith'}, {'character': 'Brick Top's Henchman', 'name': 'Shaun Pearson'}, {'character': 'Brick Top's Henchman', 'name': 'John Farnell'}, {'character': 'Gypsy Kid', 'name': 'Joe Williams'}, {'character': 'Susi', 'name': 'Teena Collins'}, {'character': 'Alex', 'name': 'Nicola Collins'}, {'character': 'Liam', 'name': 'Mickey Cantwell'}]</td>\n",
              "      <td>[{'department': 'Crew', 'job': 'Unit Publicist', 'name': 'Nevette Previd'}, {'department': 'Crew', 'job': 'Score Engineer', 'name': 'Daniel L. Griffiths'}, {'department': 'Sound', 'job': 'Boom Operator', 'name': 'Arthur Fenn'}, {'department': 'Production', 'job': 'Researcher', 'name': 'Willi Geiger'}, {'department': 'Production', 'job': 'Production Accountant', 'name': 'Maurice Landsberger'}, {'department': 'Crew', 'job': 'Transportation Captain', 'name': 'Simon Barker'}, {'department': 'Crew', 'job': 'Stand In', 'name': 'Bill Hickey'}, {'department': 'Crew', 'job': 'Second Unit Cinematographer', 'name': 'Mick Ward'}, {'department': 'Crew', 'job': 'Property Master', 'name': 'Tom Pleydell-Pearce'}, {'department': 'Crew', 'job': 'Driver', 'name': 'Fergus Cotter'}, {'department': 'Crew', 'job': 'Carpenter', 'name': 'Robert Park'}, {'department': 'Crew', 'job': 'Additional Music', 'name': 'Bibs Ekkel'}, {'department': 'Camera', 'job': 'Grip', 'name': 'Terry Williams'}, {'department': 'Art', 'job': 'Construction Coordinator', 'name': 'Dennis Wilson'}, {'department': 'Lighting', 'job': 'Electrician', 'name': 'Ray Bateman'}, {'department': 'Art', 'job': 'Standby Painter', 'name': 'Tom Roberts'}, {'department': 'Production', 'job': 'Location Manager', 'name': 'Pat Karam'}, {'department': 'Editing', 'job': 'Color Timer', 'name': 'David Rees'}, {'department': 'Crew', 'job': 'Loader', 'name': 'Jake Marcuson'}, {'department': 'Crew', 'job': 'Dialect Coach', 'name': 'Brendan Gunn'}, {'department': 'Costume &amp; Make-Up', 'job': 'Key Hair Stylist', 'name': 'Pebbles'}, {'department': 'Editing', 'job': 'First Assistant Editor', 'name': 'Paul Swinburne'}, {'department': 'Visual Effects', 'job': 'Special Effects Supervisor', 'name': 'Ken Lailey'}, {'department': 'Sound', 'job': 'Foley', 'name': 'Diane Greaves'}, {'department': 'Crew', 'job': 'Armorer', 'name': 'Charles Bodycomb'}, {'department': 'Crew', 'job': 'Stunt Coordinator', 'name': 'Tom Delmar'}, {'department': 'Art', 'job': 'Assistant Art Director', 'name': 'Martin Foley'}, {'department': 'Production', 'job': 'Associate Producer', 'name': 'Taha Ali Reza'}, {'department': 'Production', 'job': 'Associate Producer', 'name': 'Sebastian Pearson'}, {'department': 'Camera', 'job': 'Still Photographer', 'name': 'Sebastian Pearson'}, {'department': 'Production', 'job': 'Executive Producer', 'name': 'Angad Paul'}, {'department': 'Crew', 'job': 'Cableman', 'name': 'James Harris'}, {'department': 'Costume &amp; Make-Up', 'job': 'Hairstylist', 'name': 'Belinda Parish'}, {'department': 'Sound', 'job': 'Supervising Sound Editor', 'name': 'Danny Sheehan'}, {'department': 'Sound', 'job': 'Music Editor', 'name': 'Danny Sheehan'}, {'department': 'Directing', 'job': 'Script Supervisor', 'name': 'Mary Haddow'}, {'department': 'Camera', 'job': 'Steadicam Operator', 'name': 'Peter Wignall'}, {'department': 'Writing', 'job': 'Storyboard', 'name': 'Peter Wignall'}, {'department': 'Production', 'job': 'Production Coordinator', 'name': 'Emma Pike'}, {'department': 'Crew', 'job': 'Security', 'name': 'David Lindsay'}, {'department': 'Sound', 'job': 'Sound Effects Editor', 'name': 'Matthew Collinge'}, {'department': 'Sound', 'job': 'Sound Designer', 'name': 'Matthew Collinge'}, {'department': 'Sound', 'job': 'Sound Mixer', 'name': 'Simon Hayes'}, {'department': 'Costume &amp; Make-Up', 'job': 'Makeup Artist', 'name': 'Jean Ann Black'}, {'department': 'Art', 'job': 'Set Decoration', 'name': 'Linda Wilson'}, {'department': 'Art', 'job': 'Art Direction', 'name': 'Julie Philpott'}, {'department': 'Costume &amp; Make-Up', 'job': 'Costume Supervisor', 'name': 'Sharon Gilham'}, {'department': 'Directing', 'job': 'Assistant Director', 'name': 'David Reid'}, {'department': 'Sound', 'job': 'Music', 'name': 'Noel Gallagher'}, {'department': 'Production', 'job': 'Executive Producer', 'name': 'Trudie Styler'}, {'department': 'Production', 'job': 'Production Manager', 'name': 'Adam Bohling'}, {'department': 'Production', 'job': 'Executive Producer', 'name': 'Peter Morton'}, {'department': 'Production', 'job': 'Executive Producer', 'name': 'Stephen Marks'}, {'department': 'Costume &amp; Make-Up', 'job': 'Prosthetic Supervisor', 'name': 'Barrie Gower'}, {'department': 'Production', 'job': 'Co-Producer', 'name': 'Michael Dreyer'}, {'department': 'Costume &amp; Make-Up', 'job': 'Costume Design', 'name': 'Verity Hawkes'}, {'department': 'Editing', 'job': 'Editor', 'name': 'Jon Harris'}, {'department': 'Art', 'job': 'Production Design', 'name': 'Hugo Luczyc-Wyhowski'}, {'department': 'Camera', 'job': 'Director of Photography', 'name': 'Tim Maurice-Jones'}, {'department': 'Production', 'job': 'Producer', 'name': 'Matthew Vaughn'}, {'department': 'Writing', 'job': 'Writer', 'name': 'Guy Ritchie'}, {'department': 'Directing', 'job': 'Director', 'name': 'Guy Ritchie'}, {'department': 'Sound', 'job': 'Original Music Composer', 'name': 'John Murphy'}, {'department': 'Production', 'job': 'Casting', 'name': 'Lucinda Syson'}, {'department': 'Production', 'job': 'Executive Producer', 'name': 'Steve Tisch'}]</td>\n",
              "    </tr>\n",
              "    <tr>\n",
              "      <th>79</th>\n",
              "      <td>108</td>\n",
              "      <td>[{'character': 'La journaliste', 'name': 'Hélène Vincent'}, {'character': 'Le médecin', 'name': 'Claude Duneton'}, {'character': 'Olivier', 'name': 'Benoît Régent'}, {'character': 'Julie Vignon', 'name': 'Juliette Binoche'}, {'character': 'Patrice', 'name': 'Hugues Quester'}, {'character': 'La mère', 'name': 'Emmanuelle Riva'}, {'character': 'Dominique', 'name': 'Julie Delpy'}, {'character': 'Karol Karol', 'name': 'Zbigniew Zamachowski'}, {'character': 'Sandrine', 'name': 'Florence Pernel'}, {'character': 'Lucille', 'name': 'Charlotte Véry'}, {'character': 'L'agent immobilier', 'name': 'Philippe Volter'}]</td>\n",
              "      <td>[{'department': 'Writing', 'job': 'Author', 'name': 'Edward Zebrowski'}, {'department': 'Editing', 'job': 'Editor', 'name': 'Jacques Witta'}, {'department': 'Sound', 'job': 'Original Music Composer', 'name': 'Zbigniew Preisner'}, {'department': 'Production', 'job': 'Producer', 'name': 'Marin Karmitz'}, {'department': 'Directing', 'job': 'Director', 'name': 'Krzysztof Kieślowski'}, {'department': 'Writing', 'job': 'Author', 'name': 'Krzysztof Kieślowski'}, {'department': 'Writing', 'job': 'Author', 'name': 'Krzysztof Piesiewicz'}, {'department': 'Camera', 'job': 'Director of Photography', 'name': 'Slawomir Idziak'}, {'department': 'Writing', 'job': 'Author', 'name': 'Slawomir Idziak'}, {'department': 'Writing', 'job': 'Author', 'name': 'Agnieszka Holland'}, {'department': 'Writing', 'job': 'Screenplay', 'name': 'Krzysztof Kieślowski'}]</td>\n",
              "    </tr>\n",
              "    <tr>\n",
              "      <th>80</th>\n",
              "      <td>109</td>\n",
              "      <td>[{'character': 'L'elegant', 'name': 'Grzegorz Warchol'}, {'character': 'Jurek', 'name': 'Jerzy Stuhr'}, {'character': 'Mikolaj', 'name': 'Janusz Gajos'}, {'character': 'Dominique', 'name': 'Julie Delpy'}, {'character': 'Karol Karol', 'name': 'Zbigniew Zamachowski'}, {'character': 'Julie Vignon', 'name': 'Juliette Binoche'}, {'character': 'Le juge', 'name': 'Philippe Morier-Genoud'}, {'character': 'La vieux payson', 'name': 'Jerzy Nowak'}, {'character': 'L'inspecteur', 'name': 'Cezary Harasimowicz'}, {'character': 'Le notaire', 'name': 'Aleksander Bardini'}]</td>\n",
              "      <td>[{'department': 'Production', 'job': 'Producer', 'name': 'Marin Karmitz'}, {'department': 'Sound', 'job': 'Original Music Composer', 'name': 'Zbigniew Preisner'}, {'department': 'Production', 'job': 'Executive Producer', 'name': 'Yvon Crenn'}, {'department': 'Production', 'job': 'Casting', 'name': 'Teresa Violetta Buhl'}, {'department': 'Production', 'job': 'Casting', 'name': 'Margot Capelier'}, {'department': 'Art', 'job': 'Production Design', 'name': 'Claude Lenoir'}, {'department': 'Art', 'job': 'Production Design', 'name': 'Halina Dobrowolska'}, {'department': 'Writing', 'job': 'Screenplay', 'name': 'Krzysztof Piesiewicz'}, {'department': 'Writing', 'job': 'Screenplay', 'name': 'Krzysztof Kieślowski'}, {'department': 'Directing', 'job': 'Director', 'name': 'Krzysztof Kieślowski'}, {'department': 'Editing', 'job': 'Editor', 'name': 'Urszula Lesiak'}, {'department': 'Camera', 'job': 'Director of Photography', 'name': 'Edward Klosinski'}]</td>\n",
              "    </tr>\n",
              "    <tr>\n",
              "      <th>81</th>\n",
              "      <td>110</td>\n",
              "      <td>[{'character': 'Richter Joseph Kern', 'name': 'Jean-Louis Trintignant'}, {'character': 'Valentine Dussaut', 'name': 'Irène Jacob'}, {'character': 'Karol Karol', 'name': 'Zbigniew Zamachowski'}, {'character': 'Julie Vignon (de Courcy)', 'name': 'Juliette Binoche'}, {'character': 'Auguste Bruner', 'name': 'Jean-Pierre Lorit'}, {'character': 'Karin', 'name': 'Frédérique Feder'}, {'character': 'Le photographe', 'name': 'Samuel Le Bihan'}, {'character': 'Le Vétérinaire', 'name': 'Marion Stalens'}, {'character': 'Dominique', 'name': 'Julie Delpy'}, {'character': 'Olivier', 'name': 'Benoît Régent'}]</td>\n",
              "      <td>[{'department': 'Editing', 'job': 'Editor', 'name': 'Jacques Witta'}, {'department': 'Writing', 'job': 'Screenplay', 'name': 'Krzysztof Kieślowski'}, {'department': 'Directing', 'job': 'Director', 'name': 'Krzysztof Kieślowski'}, {'department': 'Writing', 'job': 'Author', 'name': 'Krzysztof Kieślowski'}, {'department': 'Writing', 'job': 'Screenplay', 'name': 'Krzysztof Piesiewicz'}, {'department': 'Camera', 'job': 'Director of Photography', 'name': 'Piotr Sobocinski'}, {'department': 'Sound', 'job': 'Original Music Composer', 'name': 'Bertrand Lenclos'}, {'department': 'Sound', 'job': 'Original Music Composer', 'name': 'Zbigniew Preisner'}, {'department': 'Production', 'job': 'Producer', 'name': 'Marin Karmitz'}, {'department': 'Writing', 'job': 'Author', 'name': 'Krzysztof Piesiewicz'}]</td>\n",
              "    </tr>\n",
              "    <tr>\n",
              "      <th>82</th>\n",
              "      <td>111</td>\n",
              "      <td>[{'character': 'Vic Phillips', 'name': 'John Carter'}, {'character': 'Alberto The Shadow', 'name': 'Mark Margolis'}, {'character': 'Jerry The Banker', 'name': 'Dennis Holahan'}, {'character': 'Hector The Toad', 'name': 'Al Israel'}, {'character': 'Nick The Pig', 'name': 'Michael P. Moran'}, {'character': 'Angel', 'name': 'Pepe Serna'}, {'character': 'Ernie', 'name': 'Arnaldo Santana'}, {'character': 'Chi Chi', 'name': 'Ángel Salazar'}, {'character': 'Mel Bernstein', 'name': 'Harris Yulin'}, {'character': 'Alejandro Sosa', 'name': 'Paul Shenar'}, {'character': 'Omar Suarez', 'name': 'F. Murray Abraham'}, {'character': 'Mama Montana', 'name': 'Miriam Colón'}, {'character': 'Frank Lopez', 'name': 'Robert Loggia'}, {'character': 'Gina Montana', 'name': 'Mary Elizabeth Mastrantonio'}, {'character': 'Elvira Hancock', 'name': 'Michelle Pfeiffer'}, {'character': 'Manny Ribera', 'name': 'Steven Bauer'}, {'character': 'Tony Montana', 'name': 'Al Pacino'}, {'character': 'Mrs. Gutierrez', 'name': 'Ilka Tanya Payán'}, {'character': 'Dancer - LaLa (uncredited)', 'name': 'Maxine Wasa'}, {'character': 'Boy at Pool (uncredited)', 'name': 'Marcus Shirock'}, {'character': 'Boy Lying on Raft in Pool (uncredited)', 'name': 'Brett Ratner'}, {'character': 'Sasso (uncredited)', 'name': 'Jorge Porcel'}, {'character': 'Colombian Hitman (uncredited)', 'name': 'Henry Kingi'}, {'character': 'Extra (uncredited)', 'name': 'Kevyn Major Howard'}, {'character': 'Charles Goodson (uncredited)', 'name': 'Gregg Henry'}, {'character': 'Voice (uncredited)', 'name': 'Linda Gillen'}, {'character': 'Immigration Officer (voice) (uncredited)', 'name': 'Dennis Franz'}, {'character': 'Immigration Officer (voice) (uncredited)', 'name': 'Charles Durning'}, {'character': 'Ambassador's Daughter (uncredited)', 'name': 'Barclay DeVeau'}, {'character': 'Woman at Babylon Club', 'name': 'Katt Shea'}, {'character': 'Woman at Babylon Club', 'name': 'Margaret Michaels'}, {'character': 'Woman at Babylon Club', 'name': 'Emilia Crow'}, {'character': 'Woman at Babylon Club', 'name': 'Shelley Taylor Morgan'}, {'character': 'Woman at Babylon Club', 'name': 'Ava Lazar'}, {'character': 'Woman at Babylon Club', 'name': 'Lana Clarkson'}, {'character': 'Woman at Babylon Club', 'name': 'Lee Benton'}, {'character': 'Woman at Babylon Club', 'name': 'Angela Aames'}, {'character': 'Helicopter Pilot', 'name': 'Charles A. Tamburro'}, {'character': 'The Skull', 'name': 'Geno Silva'}, {'character': 'Monsignor', 'name': 'Michael Rougas'}, {'character': 'Kid #2', 'name': 'Manuel Padilla Jr.'}, {'character': 'Gaspar's Bodyguard', 'name': 'Mike Moroff'}, {'character': 'Waldo', 'name': 'Santos Morales'}, {'character': 'Ariel Bleyer', 'name': 'Victor Millan'}, {'character': 'Bank Spokesman', 'name': 'John McCann'}, {'character': 'Interviewer', 'name': 'Mario Machado'}, {'character': 'Car Salesman', 'name': 'Ronald G. Joseph'}, {'character': 'Male Patron', 'name': 'Ben Frommer'}, {'character': 'General Strasser', 'name': 'Dante D'Andre'}, {'character': 'Shooter #2', 'name': 'Gregory Cruz'}, {'character': 'Rebenga', 'name': 'Roberto Contreras'}, {'character': 'Matos', 'name': 'Carlos Augusto Cestero'}, {'character': 'Shooter #1', 'name': 'Gary Carlos Cervantes'}, {'character': 'Pedro Quinn', 'name': 'Albert Carrier'}, {'character': 'Shooter', 'name': 'Rene Carrasco'}, {'character': 'Ronnie Echevierra', 'name': 'Victor Campos'}, {'character': 'Cuban Refugee', 'name': 'Gil Barreto'}, {'character': 'Immigration Officer #1', 'name': 'Garnett Smith'}, {'character': 'Immigration Officer #2', 'name': 'Tony Perez'}, {'character': 'Immigration Officer #3', 'name': 'John Brandon'}, {'character': 'M.C. at Babylon Club', 'name': 'Richard Belzer'}, {'character': 'Seidelbaum', 'name': 'Ted Beniades'}, {'character': 'Sheffield', 'name': 'Michael Alldredge'}]</td>\n",
              "      <td>[{'department': 'Camera', 'job': 'Still Photographer', 'name': 'Sidney Ray Baldwin'}, {'department': 'Crew', 'job': 'Thanks', 'name': 'Nick Navarro'}, {'department': 'Sound', 'job': 'ADR &amp; Dubbing', 'name': 'Maurice Schell'}, {'department': 'Directing', 'job': 'Assistant Director', 'name': 'Jerry Ziesmer'}, {'department': 'Crew', 'job': 'Stunts', 'name': 'Gary Hymes'}, {'department': 'Production', 'job': 'Unit Production Manager', 'name': 'Raymond Hartwick'}, {'department': 'Crew', 'job': 'Stunts', 'name': 'Glenn R. Wilder'}, {'department': 'Crew', 'job': 'Stunts', 'name': 'Dick Ziker'}, {'department': 'Costume &amp; Make-Up', 'job': 'Set Costumer', 'name': 'Randi Mavestrand'}, {'department': 'Costume &amp; Make-Up', 'job': 'Set Costumer', 'name': 'G. Tony Scarano'}, {'department': 'Costume &amp; Make-Up', 'job': 'Set Costumer', 'name': 'Gregory B. Peña'}, {'department': 'Costume &amp; Make-Up', 'job': 'Set Costumer', 'name': 'Linda Henrikson'}, {'department': 'Production', 'job': 'Casting', 'name': 'Bob Morones'}, {'department': 'Crew', 'job': 'Projection', 'name': 'Bill Hansard'}, {'department': 'Crew', 'job': 'Special Effects', 'name': 'Ken Pepiot'}, {'department': 'Crew', 'job': 'Special Effects', 'name': 'Stan Parks'}, {'department': 'Costume &amp; Make-Up', 'job': 'Hairstylist', 'name': 'Toni-Ann Walker'}, {'department': 'Costume &amp; Make-Up', 'job': 'Hairstylist', 'name': 'Janice D. Brandow'}, {'department': 'Costume &amp; Make-Up', 'job': 'Makeup Artist', 'name': 'Stephen Abrums'}, {'department': 'Production', 'job': 'Casting', 'name': 'Alixe Gordin'}, {'department': 'Art', 'job': 'Production Design', 'name': 'Ferdinando Scarfiotti'}, {'department': 'Sound', 'job': 'Original Music Composer', 'name': 'Giorgio Moroder'}, {'department': 'Camera', 'job': 'Director of Photography', 'name': 'John A. Alonzo'}, {'department': 'Production', 'job': 'Producer', 'name': 'Martin Bregman'}, {'department': 'Directing', 'job': 'Director', 'name': 'Brian De Palma'}, {'department': 'Editing', 'job': 'Editor', 'name': 'David Ray'}, {'department': 'Production', 'job': 'Executive Producer', 'name': 'Louis A. Stroller'}, {'department': 'Writing', 'job': 'Screenplay', 'name': 'Oliver Stone'}, {'department': 'Editing', 'job': 'Editor', 'name': 'Gerald B. Greenberg'}, {'department': 'Art', 'job': 'Art Direction', 'name': 'Edward Richardson'}, {'department': 'Art', 'job': 'Set Decoration', 'name': 'Bruce Weintraub'}, {'department': 'Costume &amp; Make-Up', 'job': 'Costume Design', 'name': 'Patricia Norris'}, {'department': 'Writing', 'job': 'Novel', 'name': 'Armitage Trail'}, {'department': 'Crew', 'job': 'Stunts', 'name': 'Scott Wilder'}, {'department': 'Crew', 'job': 'Stunts', 'name': 'Mario Roberts'}, {'department': 'Crew', 'job': 'Stunts', 'name': 'Thomas Rosales, Jr.'}, {'department': 'Directing', 'job': 'Assistant Director', 'name': 'Chris Soldo'}, {'department': 'Crew', 'job': 'Stunts', 'name': 'Tom Steele'}, {'department': 'Crew', 'job': 'Stunts', 'name': 'Don Pulford'}, {'department': 'Editing', 'job': 'Assistant Editor', 'name': 'Ray Hubley'}, {'department': 'Crew', 'job': 'Stunts', 'name': 'M. James Arnett'}, {'department': 'Sound', 'job': 'Supervising Sound Editor', 'name': 'Edward Beyer'}]</td>\n",
              "    </tr>\n",
              "    <tr>\n",
              "      <th>83</th>\n",
              "      <td>1479</td>\n",
              "      <td>[{'character': 'Mrs. Winter', 'name': 'Megan Owen'}, {'character': 'Peter Winter', 'name': 'Peter Greene'}, {'character': 'Girl with ball', 'name': 'Alice Levitt'}, {'character': 'Nicole Winter', 'name': 'Jennifer MacDonald'}, {'character': 'Dr. Michaels', 'name': 'J. Dixon Byrne'}, {'character': 'Jack McNally', 'name': 'Robert Albert'}, {'character': 'Melinda Frayne', 'name': 'Molly Castelloe'}]</td>\n",
              "      <td>[{'department': 'Writing', 'job': 'Screenplay', 'name': 'Lodge Kerrigan'}, {'department': 'Directing', 'job': 'Director', 'name': 'Lodge Kerrigan'}, {'department': 'Camera', 'job': 'Director of Photography', 'name': 'Teodoro Maniaci'}, {'department': 'Editing', 'job': 'Editor', 'name': 'Jay Rabinowitz'}, {'department': 'Production', 'job': 'Producer', 'name': 'Lodge Kerrigan'}, {'department': 'Art', 'job': 'Production Design', 'name': 'Tania Ferrier'}, {'department': 'Sound', 'job': 'Original Music Composer', 'name': 'Hahn Rowe'}]</td>\n",
              "    </tr>\n",
              "    <tr>\n",
              "      <th>84</th>\n",
              "      <td>112</td>\n",
              "      <td>[{'character': 'Woman in Church', 'name': 'Elsebeth Steentoft'}, {'character': 'Evening School Teacher', 'name': 'Martin Brygmann'}, {'character': 'Lady', 'name': 'Susanne Oldenburg'}, {'character': 'Church Singer#2 / Sportsman#2', 'name': 'Steen Svare'}, {'character': 'Church Singer#1 / Sportsman#1', 'name': 'Alex Nyborg Madsen'}, {'character': 'Marcello', 'name': 'Carlo Barsotti'}, {'character': 'Olympia's Father', 'name': 'Jesper Christensen'}, {'character': 'Klaus Graversen', 'name': 'Claus Gerving'}, {'character': 'Karen's Mother', 'name': 'Lene Tiemroth'}, {'character': 'Reverend Wredmann', 'name': 'Bent Mejding'}, {'character': 'Nurse', 'name': 'Rikke Wölck'}, {'character': 'Real Estate Dealer', 'name': 'Karen-Lise Mynster'}, {'character': 'Hal-Finn', 'name': 'Lars Kaalund'}, {'character': 'Olympia', 'name': 'Anette Støvelbæk'}, {'character': 'Andreas', 'name': 'Anders W. Berthelsen'}, {'character': 'Jørgen Mortensen', 'name': 'Peter Gantzler'}, {'character': 'Giulia', 'name': 'Sara Indrio Jensen'}, {'character': 'Karen', 'name': 'Ann Eleonora Jørgensen'}]</td>\n",
              "      <td>[{'department': 'Production', 'job': 'Producer', 'name': 'Ib Tardini'}, {'department': 'Camera', 'job': 'Director of Photography', 'name': 'Jørgen Johansson'}, {'department': 'Editing', 'job': 'Editor', 'name': 'Gerd Tjur'}, {'department': 'Directing', 'job': 'Director', 'name': 'Lone Scherfig'}, {'department': 'Production', 'job': 'Line Producer', 'name': 'Karen Bentzon'}, {'department': 'Production', 'job': 'Executive Producer', 'name': 'Peter Aalbæk Jensen'}, {'department': 'Sound', 'job': 'Original Music Composer', 'name': 'Rune Palving'}, {'department': 'Writing', 'job': 'Author', 'name': 'Lone Scherfig'}]</td>\n",
              "    </tr>\n",
              "    <tr>\n",
              "      <th>85</th>\n",
              "      <td>113</td>\n",
              "      <td>[{'character': 'Boy Monk', 'name': 'Seo Jae-kyeong'}, {'character': 'Old Monk', 'name': 'Oh Yeong-su'}, {'character': 'The Girl', 'name': 'Ha Yeo-jin'}, {'character': 'Young Adult Monk', 'name': 'Kim Young-min'}, {'character': 'Adult Monk', 'name': 'Kim Ki-duk'}, {'character': 'The Baby's Mother', 'name': 'Park Ji-ah '}, {'character': 'Detective Ji', 'name': 'Ji Dae-Han'}, {'character': 'The Girl's Mother', 'name': 'Kim Jung-young'}, {'character': 'The Baby', 'name': 'Song Min-young'}, {'character': 'Child Monk', 'name': 'Kim Jong-ho'}]</td>\n",
              "      <td>[{'department': 'Writing', 'job': 'Author', 'name': 'Kim Ki-duk'}, {'department': 'Editing', 'job': 'Editor', 'name': 'Kim Ki-duk'}, {'department': 'Directing', 'job': 'Director', 'name': 'Kim Ki-duk'}, {'department': 'Costume &amp; Make-Up', 'job': 'Costume Design', 'name': 'Kim Min-Hee'}, {'department': 'Camera', 'job': 'Director of Photography', 'name': 'Dong-hyeon Baek'}, {'department': 'Production', 'job': 'Production Manager', 'name': 'Bae Jeong-min'}, {'department': 'Production', 'job': 'Executive Producer', 'name': 'Soma Chung'}, {'department': 'Sound', 'job': 'Original Music Composer', 'name': 'Park Ji-Woong'}, {'department': 'Sound', 'job': 'Sound Designer', 'name': 'Bon-seung Ku'}, {'department': 'Production', 'job': 'Producer', 'name': 'Raimond Goebel'}, {'department': 'Production', 'job': 'Producer', 'name': 'Karl Baumgartner'}, {'department': 'Production', 'job': 'Producer', 'name': 'Seung-jae Lee'}]</td>\n",
              "    </tr>\n",
              "    <tr>\n",
              "      <th>86</th>\n",
              "      <td>114</td>\n",
              "      <td>[{'character': 'Skateboard Kid', 'name': 'Scott Marshall'}, {'character': 'James Morse', 'name': 'Ralph Bellamy'}, {'character': 'Philip Stuckey', 'name': 'Jason Alexander'}, {'character': 'Barney Thompson', 'name': 'Héctor Elizondo'}, {'character': 'Mr. Hollister', 'name': 'Larry Miller'}, {'character': 'Kit De Luca', 'name': 'Laura San Giacomo'}, {'character': 'David Morse', 'name': 'Alex Hyde-White'}, {'character': 'Bridget', 'name': 'Elinor Donahue'}, {'character': 'Elizabeth Stuckey', 'name': 'Amy Yasbeck'}, {'character': 'Susan', 'name': 'Judith Baldwin'}, {'character': 'Detective', 'name': 'Hank Azaria'}, {'character': 'Mark', 'name': 'John David Carson'}, {'character': 'Maitre D'', 'name': 'Michael French'}, {'character': 'Waiter', 'name': 'Allan Kent'}, {'character': 'Senator Adams', 'name': 'Stacy Keach, Sr.'}, {'character': 'Edward Lewis', 'name': 'Richard Gere'}, {'character': 'Vivian Ward', 'name': 'Julia Roberts'}]</td>\n",
              "      <td>[{'department': 'Camera', 'job': 'Director of Photography', 'name': 'Charles Minsky'}, {'department': 'Editing', 'job': 'Editor', 'name': 'Raja Gosnell'}, {'department': 'Production', 'job': 'Casting', 'name': 'Dianne Crittenden'}, {'department': 'Art', 'job': 'Production Design', 'name': 'Albert Brenner'}, {'department': 'Editing', 'job': 'Editor', 'name': 'Priscilla Nedd-Friendly'}, {'department': 'Production', 'job': 'Producer', 'name': 'Arnon Milchan'}, {'department': 'Production', 'job': 'Producer', 'name': 'Steven Reuther'}, {'department': 'Directing', 'job': 'Director', 'name': 'Garry Marshall'}, {'department': 'Writing', 'job': 'Author', 'name': 'J. F. Lawton'}, {'department': 'Sound', 'job': 'Original Music Composer', 'name': 'James Newton Howard'}]</td>\n",
              "    </tr>\n",
              "    <tr>\n",
              "      <th>87</th>\n",
              "      <td>115</td>\n",
              "      <td>[{'character': 'Auto Circus Cop', 'name': 'Mike Gomez'}, {'character': 'Coffee Shop Waitress', 'name': 'Lu Elrod'}, {'character': 'Tony the Chauffeur', 'name': 'Dom Irrera'}, {'character': 'Arthur Digby Sellers', 'name': 'Harry Bugin'}, {'character': 'Pilar, Sellers' Housekeeper', 'name': 'Irene Olga López'}, {'character': 'Corvette Owner', 'name': 'Luis Colina'}, {'character': 'Malibu Police Chief', 'name': 'Leon Russom'}, {'character': 'Cab Driver', 'name': 'Ajgie Kirkland'}, {'character': 'Saddam Hussein', 'name': 'Jerry Haleva'}, {'character': 'Pancake Waitress', 'name': 'Jennifer Lamb'}, {'character': 'Little Larry Sellers', 'name': 'Jesse Flanagan'}, {'character': 'Chorine Dancer (uncredited)', 'name': 'Wendy Braun'}, {'character': 'Sherry in 'Logjammin' (uncredited)', 'name': 'Asia Carrera'}, {'character': 'Dancer (uncredited)', 'name': 'Kiva Dawson'}, {'character': 'Cook (uncredited)', 'name': 'Anthony J. Sacco'}, {'character': 'The Dude', 'name': 'Jeff Bridges'}, {'character': 'Walter Sobchak', 'name': 'John Goodman'}, {'character': 'Maude Lebowski', 'name': 'Julianne Moore'}, {'character': 'Theodore Donald \"Donny\" Kerabatsos', 'name': 'Steve Buscemi'}, {'character': 'Brandt', 'name': 'Philip Seymour Hoffman'}, {'character': 'Jeffrey Lebowski - The Big Lebowski', 'name': 'David Huddleston'}, {'character': 'Younger Cop', 'name': 'Christian Clemenson'}, {'character': 'Older Cop', 'name': 'Richard Gant'}, {'character': 'Maude's Thug #1', 'name': 'Carlos Leon'}, {'character': 'Da Fino', 'name': 'Jon Polito'}, {'character': 'Knox Harrington', 'name': 'David Thewlis'}, {'character': 'Liam O'Brien, Quintana's Partner', 'name': 'James G. Hoosier'}, {'character': 'Marty', 'name': 'Jack Kehler'}, {'character': 'Smokey', 'name': 'Jimmie Dale Gilmore'}, {'character': 'Blond Treehorn Thug', 'name': 'Mark Pellegrino'}, {'character': 'Woo, Treehorn Thug', 'name': 'Philip Moon'}, {'character': 'Nihilist Woman, Franz's Girlfriend', 'name': 'Aimee Mann'}, {'character': 'Nihilist #2, Kieffer', 'name': 'Flea'}, {'character': 'Nihilist #3, Franz', 'name': 'Torsten Voges'}, {'character': 'Nihilist #1, Uli Kunkel/'Karl Hungus'', 'name': 'Peter Stormare'}, {'character': 'Jackie Treehorn', 'name': 'Ben Gazzara'}, {'character': 'Jesus Quintana', 'name': 'John Turturro'}, {'character': 'Bunny Lebowski', 'name': 'Tara Reid'}, {'character': 'The Stranger', 'name': 'Sam Elliott'}, {'character': 'Doctor', 'name': 'Marshall Manesh'}, {'character': 'Gary the Bartender', 'name': 'Peter Siragusa'}]</td>\n",
              "      <td>[{'department': 'Editing', 'job': 'Dialogue Editor', 'name': 'Rick Freeman'}, {'department': 'Sound', 'job': 'Sound Re-Recording Mixer', 'name': 'Michael Barry'}, {'department': 'Sound', 'job': 'Sound Re-Recording Mixer', 'name': 'Skip Lievsay'}, {'department': 'Sound', 'job': 'Supervising Sound Editor', 'name': 'Skip Lievsay'}, {'department': 'Sound', 'job': 'Production Sound Mixer', 'name': 'Allan Byer'}, {'department': 'Sound', 'job': 'Music Editor', 'name': 'Todd Kasow'}, {'department': 'Sound', 'job': 'Music Supervisor', 'name': 'Happy Walters'}, {'department': 'Directing', 'job': 'Script Supervisor', 'name': 'T. Kukovinski'}, {'department': 'Production', 'job': 'Production Supervisor', 'name': 'Gilly Ruben'}, {'department': 'Art', 'job': 'Art Direction', 'name': 'John Dexter'}, {'department': 'Art', 'job': 'Set Decoration', 'name': 'Chris L. Spellman'}, {'department': 'Costume &amp; Make-Up', 'job': 'Costume Design', 'name': 'Mary Zophres'}, {'department': 'Production', 'job': 'Co-Producer', 'name': 'John Cameron'}, {'department': 'Camera', 'job': 'Still Photographer', 'name': 'Merrick Morton'}, {'department': 'Writing', 'job': 'Writer', 'name': 'Joel Coen'}, {'department': 'Writing', 'job': 'Writer', 'name': 'Ethan Coen'}, {'department': 'Production', 'job': 'Executive Producer', 'name': 'Eric Fellner'}, {'department': 'Production', 'job': 'Executive Producer', 'name': 'Tim Bevan'}, {'department': 'Editing', 'job': 'Editor', 'name': 'Tricia Cooke'}, {'department': 'Editing', 'job': 'Editor', 'name': 'Joel Coen'}, {'department': 'Editing', 'job': 'Editor', 'name': 'Ethan Coen'}, {'department': 'Production', 'job': 'Casting', 'name': 'John S. Lyons'}, {'department': 'Art', 'job': 'Production Design', 'name': 'Rick Heinrichs'}, {'department': 'Sound', 'job': 'Original Music Composer', 'name': 'Carter Burwell'}, {'department': 'Camera', 'job': 'Director of Photography', 'name': 'Roger Deakins'}, {'department': 'Production', 'job': 'Producer', 'name': 'Ethan Coen'}, {'department': 'Directing', 'job': 'Director', 'name': 'Joel Coen'}, {'department': 'Sound', 'job': 'Dolby Consultant', 'name': 'Bradford L. Hohle'}, {'department': 'Writing', 'job': 'Storyboard', 'name': 'J. Todd Anderson'}, {'department': 'Visual Effects', 'job': 'Visual Effects Supervisor', 'name': 'Janek Sirrs'}, {'department': 'Visual Effects', 'job': 'Visual Effects Producer', 'name': 'Janet Yale'}, {'department': 'Visual Effects', 'job': 'Digital Compositors', 'name': 'Johnathan R. Banta'}, {'department': 'Visual Effects', 'job': '3D Artist', 'name': 'Robert Chapin'}, {'department': 'Sound', 'job': 'Foley', 'name': 'Marko A. Costanzo'}, {'department': 'Sound', 'job': 'Assistant Sound Editor', 'name': 'Kimberly R. McCord-Wilson'}, {'department': 'Sound', 'job': 'Boom Operator', 'name': 'Peter F. Kurland'}, {'department': 'Production', 'job': 'Publicist', 'name': 'Larry Kaplan'}, {'department': 'Production', 'job': 'Location Manager', 'name': 'Robert Graf'}, {'department': 'Lighting', 'job': 'Rigging Grip', 'name': 'Philippe Aubry'}, {'department': 'Lighting', 'job': 'Lighting Technician', 'name': 'Mike Gerzevitz'}, {'department': 'Lighting', 'job': 'Electrician', 'name': 'Roman Jakobi'}, {'department': 'Crew', 'job': 'Video Assist Operator', 'name': 'Martin Weight'}, {'department': 'Crew', 'job': 'Stunts', 'name': 'Loyd Catlett'}, {'department': 'Crew', 'job': 'Stand In', 'name': 'Ken Kells'}, {'department': 'Crew', 'job': 'Set Production Assistant', 'name': 'Rita Lisa Danao'}, {'department': 'Art', 'job': 'Property Master', 'name': 'Ritchie Kremer'}, {'department': 'Crew', 'job': 'Propmaker', 'name': 'David Boucher'}, {'department': 'Crew', 'job': 'Production Intern', 'name': 'Lauren Lapham'}, {'department': 'Crew', 'job': 'Post Production Supervisor', 'name': 'Charlie Vogel'}, {'department': 'Crew', 'job': 'Loader', 'name': 'Ed Dally'}, {'department': 'Crew', 'job': 'Driver', 'name': 'Michael Cain'}, {'department': 'Crew', 'job': 'Dialect Coach', 'name': 'Elizabeth Himelstein'}, {'department': 'Crew', 'job': 'Craft Service', 'name': 'Gary Kramer'}, {'department': 'Crew', 'job': 'Choreographer', 'name': 'Bill Landrum'}, {'department': 'Costume &amp; Make-Up', 'job': 'Set Dressing Artist', 'name': 'Beth Emerson'}, {'department': 'Costume &amp; Make-Up', 'job': 'Assistant Costume Designer', 'name': 'Sonya Ooten'}, {'department': 'Camera', 'job': 'Aerial Camera', 'name': 'Ron Goodman'}, {'department': 'Camera', 'job': 'Grip', 'name': 'Tony Boura'}, {'department': 'Camera', 'job': 'Additional Camera', 'name': 'Charles Schner'}, {'department': 'Art', 'job': 'Standby Painter', 'name': 'John Railton'}, {'department': 'Art', 'job': 'Set Designer', 'name': 'Mariko Braswell'}, {'department': 'Art', 'job': 'Painter', 'name': 'Wayne Nycz'}, {'department': 'Art', 'job': 'Leadman', 'name': 'Tim Snowber'}, {'department': 'Art', 'job': 'Greensman', 'name': 'Philip C. Hurst'}, {'department': 'Art', 'job': 'Construction Coordinator', 'name': 'Tim R. Lafferty'}, {'department': 'Art', 'job': 'Art Department Coordinator', 'name': 'Lori Ashcraft'}, {'department': 'Art', 'job': 'Art Department Assistant', 'name': 'Sydney Ann Lunn'}, {'department': 'Camera', 'job': 'First Assistant Camera', 'name': 'Andy Harris'}, {'department': 'Sound', 'job': 'Music Supervisor', 'name': 'Spring Aspers'}, {'department': 'Sound', 'job': 'Music', 'name': 'Emile Charlap'}, {'department': 'Editing', 'job': 'Color Timer', 'name': 'David Orr'}, {'department': 'Crew', 'job': 'Thanks', 'name': 'Liz Young'}, {'department': 'Costume &amp; Make-Up', 'job': 'Set Costumer', 'name': 'Cookie Lopez'}, {'department': 'Costume &amp; Make-Up', 'job': 'Set Costumer', 'name': 'Virginia Burton'}, {'department': 'Directing', 'job': 'Assistant Director', 'name': 'Donald Murphy'}, {'department': 'Directing', 'job': 'Assistant Director', 'name': 'Jeff Rafner'}, {'department': 'Production', 'job': 'Executive In Charge Of Production', 'name': 'Jane Frazer'}, {'department': 'Production', 'job': 'Unit Production Manager', 'name': 'John Cameron'}, {'department': 'Crew', 'job': 'Makeup Effects', 'name': 'Myke Michaels'}, {'department': 'Costume &amp; Make-Up', 'job': 'Hairstylist', 'name': 'Lori McCoy-Bell'}, {'department': 'Costume &amp; Make-Up', 'job': 'Makeup Artist', 'name': 'Selina Jayne'}, {'department': 'Costume &amp; Make-Up', 'job': 'Makeup Artist', 'name': 'Edouard F. Henriques'}, {'department': 'Costume &amp; Make-Up', 'job': 'Key Hair Stylist', 'name': 'Daniel Curet'}, {'department': 'Costume &amp; Make-Up', 'job': 'Makeup Department Head', 'name': 'Jean Ann Black'}, {'department': 'Production', 'job': 'Producer', 'name': 'Joel Coen'}, {'department': 'Production', 'job': 'Production Coordinator', 'name': 'Gregg Edler'}, {'department': 'Crew', 'job': 'Transportation Coordinator', 'name': 'Don Tardino'}, {'department': 'Crew', 'job': 'Transportation Captain', 'name': 'Timothy P. Ryan'}, {'department': 'Crew', 'job': 'Transportation Captain', 'name': 'Thomas Vilardo'}, {'department': 'Lighting', 'job': 'Rigging Gaffer', 'name': 'Martin Bosworth'}, {'department': 'Crew', 'job': 'Stunt Coordinator', 'name': 'Jery Hewitt'}, {'department': 'Camera', 'job': 'Camera Operator', 'name': 'Ted Morris'}, {'department': 'Editing', 'job': 'Assistant Editor', 'name': 'Alex Belth'}, {'department': 'Editing', 'job': 'Assistant Editor', 'name': 'Lisa Mozden'}, {'department': 'Production', 'job': 'Casting Associate', 'name': 'Wendy Weidman'}, {'department': 'Costume &amp; Make-Up', 'job': 'Costume Supervisor', 'name': 'Pamela Withers'}, {'department': 'Sound', 'job': 'Sound Effects Editor', 'name': 'Lewis Goldstein'}, {'department': 'Editing', 'job': 'Dialogue Editor', 'name': 'Magdaline Volaitis'}]</td>\n",
              "    </tr>\n",
              "    <tr>\n",
              "      <th>88</th>\n",
              "      <td>116</td>\n",
              "      <td>[{'character': 'Alan Sinclair', 'name': 'Geoffrey Streatfeild'}, {'character': 'John the Chauffeur', 'name': 'John Fortune'}, {'character': 'Custodian', 'name': 'Anthony O'Donnell'}, {'character': 'Carol', 'name': 'Rose Keegan'}, {'character': 'Samantha', 'name': 'Zoe Telford'}, {'character': 'Hewetts' Friend', 'name': 'Scott Handy'}, {'character': 'Margaret', 'name': 'Selina Cadell'}, {'character': 'Nola Co-Worker', 'name': 'Georgina Chapman'}, {'character': 'Hewetts' Friend', 'name': 'Emily Gilchrist'}, {'character': 'Office Worker (uncredited)', 'name': 'Eddie Marsan'}, {'character': 'Chris Wilton', 'name': 'Jonathan Rhys Meyers'}, {'character': 'Nola Rice', 'name': 'Scarlett Johansson'}, {'character': 'Ian', 'name': 'Colin Salmon'}, {'character': 'Detective Parry', 'name': 'Steve Pemberton'}, {'character': ''La Traviata' Performer', 'name': 'Janis Kelly'}, {'character': ''La Traviata' Performer', 'name': 'Alan Oke'}, {'character': 'Chloe Hewett Wilton', 'name': 'Emily Mortimer'}, {'character': 'Alec Hewett', 'name': 'Brian Cox'}, {'character': 'Eleanor Hewett', 'name': 'Penelope Wilton'}, {'character': 'Detective Banner', 'name': 'James Nesbitt'}, {'character': 'Inspector Dowd', 'name': 'Ewen Bremner'}, {'character': 'Heather', 'name': 'Miranda Raison'}, {'character': 'Mrs. Eastby', 'name': 'Margaret Tyzack'}, {'character': 'Henry', 'name': 'Rupert Penry-Jones'}, {'character': 'Policeman', 'name': 'Toby Kebbell'}, {'character': 'Mr. Townsend', 'name': 'Alexander Armstrong'}, {'character': 'Tom Hewett', 'name': 'Matthew Goode'}, {'character': 'Estate Agent', 'name': 'Paul Kaye'}, {'character': 'Ping-Pong Player', 'name': 'Mark Gatiss'}, {'character': 'Rod Carver', 'name': 'Simon Kunz'}]</td>\n",
              "      <td>[{'department': 'Production', 'job': 'Casting', 'name': 'Patricia Kerrigan DiCerto'}, {'department': 'Costume &amp; Make-Up', 'job': 'Makeup Artist', 'name': 'Carmel Jackson'}, {'department': 'Art', 'job': 'Set Decoration', 'name': 'Caroline Smith'}, {'department': 'Costume &amp; Make-Up', 'job': 'Makeup Artist', 'name': 'Sharon Martin'}, {'department': 'Art', 'job': 'Art Direction', 'name': 'Diane Dancklefsen'}, {'department': 'Costume &amp; Make-Up', 'job': 'Costume Design', 'name': 'Jill Taylor'}, {'department': 'Sound', 'job': 'Sound Re-Recording Mixer', 'name': 'Lee Dichter'}, {'department': 'Production', 'job': 'Unit Production Manager', 'name': 'Tori Parry'}, {'department': 'Editing', 'job': 'Assistant Editor', 'name': 'James Nichols Jr.'}, {'department': 'Production', 'job': 'Casting', 'name': 'Juliet Taylor'}, {'department': 'Directing', 'job': 'Director', 'name': 'Woody Allen'}, {'department': 'Writing', 'job': 'Author', 'name': 'Woody Allen'}, {'department': 'Camera', 'job': 'Director of Photography', 'name': 'Remi Adefarasin'}, {'department': 'Crew', 'job': 'Stand In', 'name': 'Steve Morphew'}, {'department': 'Crew', 'job': 'Property Master', 'name': 'Philip McDonald'}, {'department': 'Editing', 'job': 'First Assistant Editor', 'name': 'Morgan Neville'}, {'department': 'Sound', 'job': 'Boom Operator', 'name': 'Shaun Mills'}, {'department': 'Editing', 'job': 'Dialogue Editor', 'name': 'Sylvia Menno'}, {'department': 'Sound', 'job': 'Sound mixer', 'name': 'Peter Glossop'}, {'department': 'Art', 'job': 'Construction Coordinator', 'name': 'Steve Bohan'}, {'department': 'Directing', 'job': 'Assistant Director', 'name': 'Christopher Newman'}, {'department': 'Art', 'job': 'Art Direction', 'name': 'Jan Spoczynski'}, {'department': 'Lighting', 'job': 'Gaffer', 'name': 'Jimmy Wilson'}, {'department': 'Camera', 'job': 'Steadicam Operator', 'name': 'Roger Tooley'}, {'department': 'Sound', 'job': 'Sound Editor', 'name': 'David Wahnon'}, {'department': 'Sound', 'job': 'Foley', 'name': 'Nancy Cabrera'}, {'department': 'Editing', 'job': 'Editor', 'name': 'Alisa Lepselter'}, {'department': 'Camera', 'job': 'Camera Operator', 'name': 'Remi Adefarasin'}, {'department': 'Art', 'job': 'Production Design', 'name': 'Jim Clay'}, {'department': 'Production', 'job': 'Producer', 'name': 'Letty Aronson'}, {'department': 'Production', 'job': 'Producer', 'name': 'Nicky Kentish Barnes'}, {'department': 'Production', 'job': 'Producer', 'name': 'Stephen Tenenbaum'}, {'department': 'Production', 'job': 'Casting', 'name': 'Gail Stevens'}, {'department': 'Costume &amp; Make-Up', 'job': 'Hair Designer', 'name': 'Sallie Jaye'}, {'department': 'Production', 'job': 'Producer', 'name': 'Gareth Wiley'}, {'department': 'Production', 'job': 'Co-Producer', 'name': 'Helen Robin'}, {'department': 'Production', 'job': 'Co-Executive Producer', 'name': 'Charles H. Joffe'}, {'department': 'Production', 'job': 'Co-Executive Producer', 'name': 'Jack Rollins'}, {'department': 'Sound', 'job': 'Sound Effects Editor', 'name': 'Coll Anderson'}]</td>\n",
              "    </tr>\n",
              "    <tr>\n",
              "      <th>89</th>\n",
              "      <td>2539</td>\n",
              "      <td>[{'character': 'Sleepover Friend', 'name': 'Sarah Hyland'}, {'character': 'Evelyn Wright', 'name': 'Cloris Leachman'}, {'character': 'Flor Moreno', 'name': 'Paz Vega'}, {'character': 'Deborah Clasky', 'name': 'Téa Leoni'}, {'character': 'John Clasky', 'name': 'Adam Sandler'}, {'character': 'Luz', 'name': 'Brenda Canela'}, {'character': 'Flor's Husband', 'name': 'Ricardo Molina'}, {'character': 'Cristina (sechsjährig)', 'name': 'Victoria Luna'}, {'character': 'Hostess at John's Restaurant', 'name': 'Liz Carey'}, {'character': 'Sleepover Friend', 'name': 'Spencer Locke'}, {'character': 'Monica', 'name': 'Cecilia Suárez'}, {'character': 'Georgie', 'name': 'Ian Hyland'}, {'character': 'Bernice', 'name': 'Sarah Steele'}, {'character': 'Christina', 'name': 'Shelbie Bruce'}]</td>\n",
              "      <td>[{'department': 'Crew', 'job': 'Stunt Coordinator', 'name': 'Alex Daniels'}, {'department': 'Crew', 'job': 'Propmaker', 'name': 'Elvin Yoshida'}, {'department': 'Directing', 'job': 'Director', 'name': 'James L. Brooks'}, {'department': 'Production', 'job': 'Producer', 'name': 'James L. Brooks'}, {'department': 'Writing', 'job': 'Author', 'name': 'James L. Brooks'}, {'department': 'Sound', 'job': 'Original Music Composer', 'name': 'Hans Zimmer'}, {'department': 'Production', 'job': 'Co-Producer', 'name': 'Francine Maisler'}, {'department': 'Production', 'job': 'Casting', 'name': 'Mary Vernieu'}, {'department': 'Camera', 'job': 'Director of Photography', 'name': 'John Seale'}, {'department': 'Editing', 'job': 'Editor', 'name': 'Richard Marks'}, {'department': 'Production', 'job': 'Co-Producer', 'name': 'Richard Marks'}, {'department': 'Art', 'job': 'Production Design', 'name': 'Ida Random'}, {'department': 'Directing', 'job': 'Assistant Director', 'name': 'Aldric La'Auli Porter'}, {'department': 'Production', 'job': 'Co-Producer', 'name': 'Aldric La'Auli Porter'}, {'department': 'Art', 'job': 'Set Decoration', 'name': 'Leslie A. Pope'}, {'department': 'Sound', 'job': 'Sound Effects Editor', 'name': 'Scott G.G. Haller'}, {'department': 'Costume &amp; Make-Up', 'job': 'Costume Design', 'name': 'Louise Mingenbach'}, {'department': 'Crew', 'job': 'Unit Publicist', 'name': 'Bronwyn Preston'}, {'department': 'Production', 'job': 'Executive Producer', 'name': 'Joan Bradshaw'}, {'department': 'Costume &amp; Make-Up', 'job': 'Makeup Designer', 'name': 'Michèle Burke'}, {'department': 'Editing', 'job': 'Color Timer', 'name': 'Steve Bowen'}, {'department': 'Costume &amp; Make-Up', 'job': 'Costume Design', 'name': 'Shay Cunliffe'}, {'department': 'Crew', 'job': 'Second Unit Cinematographer', 'name': 'Bruce A. Block'}, {'department': 'Sound', 'job': 'Foley', 'name': 'Goro Koyama'}, {'department': 'Art', 'job': 'Property Master', 'name': 'Robin L. Miller'}, {'department': 'Editing', 'job': 'Editor', 'name': 'Tia Nolan'}, {'department': 'Production', 'job': 'Casting Associate', 'name': 'Shalimar Reodica'}, {'department': 'Production', 'job': 'Producer', 'name': 'Richard Sakai'}, {'department': 'Production', 'job': 'Producer', 'name': 'Julie Ansell'}, {'department': 'Art', 'job': 'Art Direction', 'name': 'Tom Reta'}, {'department': 'Costume &amp; Make-Up', 'job': 'Hairstylist', 'name': 'Marc Boyle'}, {'department': 'Crew', 'job': 'Translator', 'name': 'Dolores Aguirre'}, {'department': 'Visual Effects', 'job': 'Digital Compositors', 'name': 'Lisa Deaner'}, {'department': 'Lighting', 'job': 'Lighting Technician', 'name': 'Jesse Mather'}, {'department': 'Crew', 'job': 'Stand In', 'name': 'Maite Garcia'}, {'department': 'Crew', 'job': 'Software Engineer', 'name': 'Jeremy Selan'}, {'department': 'Crew', 'job': 'Set Production Assistant', 'name': 'Alex Leimone'}, {'department': 'Crew', 'job': 'Set Medic', 'name': 'Brian Clark'}, {'department': 'Crew', 'job': 'Scenic Artist', 'name': 'Max Gabl'}, {'department': 'Crew', 'job': 'Choreographer', 'name': 'Liz Imperio'}, {'department': 'Costume &amp; Make-Up', 'job': 'Set Dressing Artist', 'name': 'Greg Benge'}, {'department': 'Art', 'job': 'Greensman', 'name': 'Sean D. Jackson'}, {'department': 'Art', 'job': 'Construction Foreman', 'name': 'Billy Iiams Jr.'}, {'department': 'Writing', 'job': 'Storyboard', 'name': 'Mark Moretti'}, {'department': 'Crew', 'job': 'Transportation Coordinator', 'name': 'Dan Brizendine'}, {'department': 'Crew', 'job': 'Craft Service', 'name': 'Ella Marcus'}, {'department': 'Costume &amp; Make-Up', 'job': 'Makeup Artist', 'name': 'Jamie Leigh DeVilla'}, {'department': 'Camera', 'job': 'Grip', 'name': 'Edward Hohman'}, {'department': 'Production', 'job': 'Production Accountant', 'name': 'Denise Morgan McGrath'}, {'department': 'Costume &amp; Make-Up', 'job': 'Assistant Costume Designer', 'name': 'Cathy Crandall'}, {'department': 'Sound', 'job': 'Scoring Mixer', 'name': 'Alan Meyerson'}, {'department': 'Art', 'job': 'Art Department Assistant', 'name': 'Shaun Young'}, {'department': 'Crew', 'job': 'Dialect Coach', 'name': 'Roberta Farkas'}, {'department': 'Lighting', 'job': 'Best Boy Electric', 'name': 'Jesse Tango'}, {'department': 'Crew', 'job': 'Video Assist Operator', 'name': 'Michael Herron'}, {'department': 'Crew', 'job': 'Score Engineer', 'name': 'Abhay Manusmare'}, {'department': 'Editing', 'job': 'Editorial Coordinator', 'name': 'Mitch Zeitlin'}, {'department': 'Crew', 'job': 'Digital Effects Supervisor', 'name': 'Tyler Foell'}, {'department': 'Sound', 'job': 'Music Supervisor', 'name': 'Elliot Lurie'}, {'department': 'Production', 'job': 'Production Coordinator', 'name': 'Dhana Gilbert'}, {'department': 'Sound', 'job': 'Orchestrator', 'name': 'Bruce Fowler'}, {'department': 'Costume &amp; Make-Up', 'job': 'Set Costumer', 'name': 'Demetricus Holloway'}, {'department': 'Visual Effects', 'job': 'Visual Effects Supervisor', 'name': 'Gray Marshall'}, {'department': 'Lighting', 'job': 'Rigging Grip', 'name': 'Jose Danner'}, {'department': 'Art', 'job': 'Painter', 'name': 'David Carberry'}, {'department': 'Art', 'job': 'Art Department Coordinator', 'name': 'Circe Mirano'}, {'department': 'Sound', 'job': 'Supervising Sound Editor', 'name': 'Dennis Drummond'}, {'department': 'Sound', 'job': 'Sound Mixer', 'name': 'Thomas Causey'}, {'department': 'Crew', 'job': 'Loader', 'name': 'James Goldman'}, {'department': 'Production', 'job': 'Casting', 'name': 'Addison McQuigg'}, {'department': 'Production', 'job': 'Associate Producer', 'name': 'Maria Kavanaugh'}, {'department': 'Production', 'job': 'Executive Producer', 'name': 'Christy Haubegger'}, {'department': 'Crew', 'job': 'Transportation Captain', 'name': 'Tim Sisson'}, {'department': 'Crew', 'job': 'Stunts', 'name': 'Lisa Dempsey'}, {'department': 'Costume &amp; Make-Up', 'job': 'Key Hair Stylist', 'name': 'Trish Almeida'}, {'department': 'Lighting', 'job': 'Electrician', 'name': 'Lamarr Gray'}, {'department': 'Sound', 'job': 'Assistant Sound Editor', 'name': 'Bill Burns'}, {'department': 'Editing', 'job': 'First Assistant Editor', 'name': 'Debra L. Tennant'}, {'department': 'Lighting', 'job': 'Rigging Gaffer', 'name': 'Charlie McIntyre'}, {'department': 'Crew', 'job': 'Studio Teachers', 'name': 'Jo Ann Smith'}, {'department': 'Costume &amp; Make-Up', 'job': 'Hair Department Head', 'name': 'Kelvin R. Trahan'}, {'department': 'Editing', 'job': 'Digital Intermediate', 'name': 'Lorene Simpson'}, {'department': 'Crew', 'job': 'Visual Effects Editor', 'name': 'Roxanne Dorman'}, {'department': 'Art', 'job': 'Set Designer', 'name': 'Mariko Braswell'}, {'department': 'Crew', 'job': 'Additional Music', 'name': 'Kazimir Boyle'}, {'department': 'Camera', 'job': 'Steadicam Operator', 'name': 'Tommy Lohmann'}, {'department': 'Camera', 'job': 'Aerial Director of Photography', 'name': 'Phil Pastuhov'}, {'department': 'Directing', 'job': 'Script Supervisor', 'name': 'Sharron Reynolds'}, {'department': 'Sound', 'job': 'Boom Operator', 'name': 'Joseph F. Brennan'}, {'department': 'Production', 'job': 'Unit Production Manager', 'name': 'Daniel M. Stillman'}, {'department': 'Camera', 'job': 'First Assistant Camera', 'name': 'Clyde E. Bryan'}, {'department': 'Sound', 'job': 'ADR &amp; Dubbing', 'name': 'Michael Haight'}, {'department': 'Costume &amp; Make-Up', 'job': 'Key Makeup Artist', 'name': 'Kate Biscoe'}, {'department': 'Production', 'job': 'Casting', 'name': 'Manuel Teil'}, {'department': 'Visual Effects', 'job': 'Visual Effects Producer', 'name': 'Lydia Bottegoni'}, {'department': 'Production', 'job': 'Production Office Coordinator', 'name': 'Gabriela Ríos'}, {'department': 'Camera', 'job': 'Still Photographer', 'name': 'Bob Marshak'}, {'department': 'Art', 'job': 'Construction Coordinator', 'name': 'Hugh Conlon'}, {'department': 'Art', 'job': 'Location Scout', 'name': 'James Lin'}, {'department': 'Camera', 'job': 'Camera Operator', 'name': 'George Billinger III'}, ...]</td>\n",
              "    </tr>\n",
              "    <tr>\n",
              "      <th>90</th>\n",
              "      <td>117</td>\n",
              "      <td>[{'character': 'Bodyguard', 'name': 'Vince Viverito'}, {'character': 'Union Station Bodyguard (uncredited)', 'name': 'Matt Johnston'}, {'character': 'Train Announcer (uncredited)', 'name': 'Jack Fitzstephens'}, {'character': 'Street Person (uncredited)', 'name': 'John Barrowman'}, {'character': 'Bit (uncredited)', 'name': 'Robert Minkoff'}, {'character': 'Gangster (uncredited)', 'name': 'William Rossman'}, {'character': 'Hoodlum (uncredited)', 'name': 'Stephen Burrows'}, {'character': 'District Attorney (uncredited)', 'name': 'Clifton James'}, {'character': 'Hotel Clerk', 'name': 'Basil Reale'}, {'character': 'Pagliacci', 'name': 'James Guthrie'}, {'character': 'Gunned Head', 'name': 'Robert Miranda'}, {'character': 'Union Station Woman', 'name': 'Melody Rae'}, {'character': 'Bodyguard', 'name': 'George S. Spataro'}, {'character': 'Bodyguard', 'name': 'Joseph Scianablo'}, {'character': 'Bodyguard', 'name': 'Bob Martana'}, {'character': 'Bodyguard', 'name': 'Clem Caserta'}, {'character': 'Bodyguard', 'name': 'Joe Greco'}, {'character': 'Bodyguard', 'name': 'Valentino Cimo'}, {'character': 'Defense Attorney', 'name': 'Will Zahrn'}, {'character': 'Barber', 'name': 'Louie Lanciloti'}, {'character': 'Judge', 'name': 'Anthony Mockus Sr.'}, {'character': 'Butler', 'name': 'Eddie Minasian'}, {'character': 'Woman in Elevator', 'name': 'Jennifer Anglin'}, {'character': 'Fat Man', 'name': 'John Bracci'}, {'character': 'Bailiff', 'name': 'Sam Smiley'}, {'character': 'Bailif', 'name': 'Pat Billingsley'}, {'character': 'Reporter', 'name': 'Tim Gamble'}, {'character': 'Reporter', 'name': 'Chelcie Ross'}, {'character': 'Reporter', 'name': 'Larry Brandenburg'}, {'character': 'Reporter', 'name': 'Charles Keller Watson'}, {'character': 'Blackmer Girl', 'name': 'Aditra Kohl'}, {'character': 'Ness' Daughter', 'name': 'Kaitlin Montgomery'}, {'character': 'Ness' Clerk', 'name': 'Michael P. Byrne'}, {'character': 'Overcoat Hood', 'name': 'Mike Bacarella'}, {'character': 'Williamson', 'name': 'Kevin Michael Doyle'}, {'character': 'Italian Waiter', 'name': 'Larry Viverito Sr.'}, {'character': 'Cop Cousin', 'name': 'Sean Grennan'}, {'character': 'Shooting Range Master', 'name': 'Greg Noonan'}, {'character': 'Mrs. Blackmer', 'name': 'Colleen Bade'}, {'character': 'Alderman', 'name': 'Del Close'}, {'character': 'Bartender', 'name': 'John J. Walsh'}, {'character': 'Mountie Captain', 'name': 'Robert Swan'}, {'character': 'Officer Preseuski', 'name': 'Don Harvey'}, {'character': 'Lt. Anderson', 'name': 'Peter Aylward'}, {'character': 'Scoop', 'name': 'Steven Goldstein'}, {'character': 'Bowtie Driver', 'name': 'Vito D'Ambrosio'}, {'character': 'Catherine Ness', 'name': 'Patricia Clarkson'}, {'character': 'Frank Nitti', 'name': 'Billy Drago'}, {'character': 'George', 'name': 'Brad Sullivan'}, {'character': 'Walter Payne', 'name': 'Jack Kehoe'}, {'character': 'Police Chief Mike Dorsett', 'name': 'Richard Bradford'}, {'character': 'Al Capone', 'name': 'Robert De Niro'}, {'character': 'Agent George Stone/Giuseppe Petri', 'name': 'Andy García'}, {'character': 'Agent Oscar Wallace', 'name': 'Charles Martin Smith'}, {'character': 'Jim Malone', 'name': 'Sean Connery'}, {'character': 'Eliot Ness', 'name': 'Kevin Costner'}]</td>\n",
              "      <td>[{'department': 'Art', 'job': 'Set Decoration', 'name': 'Hal Gausman'}, {'department': 'Production', 'job': 'Casting', 'name': 'Mali Finn'}, {'department': 'Crew', 'job': 'Transportation Captain', 'name': 'George DiLeonardi'}, {'department': 'Art', 'job': 'Art Direction', 'name': 'William A. Elliott'}, {'department': 'Sound', 'job': 'Original Music Composer', 'name': 'Ennio Morricone'}, {'department': 'Camera', 'job': 'Director of Photography', 'name': 'Stephen H. Burum'}, {'department': 'Writing', 'job': 'Novel', 'name': 'Eliot Ness'}, {'department': 'Writing', 'job': 'Novel', 'name': 'Oscar Fraley'}, {'department': 'Writing', 'job': 'Writer', 'name': 'David Mamet'}, {'department': 'Production', 'job': 'Producer', 'name': 'Art Linson'}, {'department': 'Directing', 'job': 'Director', 'name': 'Brian De Palma'}, {'department': 'Editing', 'job': 'Editor', 'name': 'Gerald B. Greenberg'}, {'department': 'Production', 'job': 'Associate Producer', 'name': 'Raymond Hartwick'}, {'department': 'Production', 'job': 'Unit Production Manager', 'name': 'Raymond Hartwick'}, {'department': 'Directing', 'job': 'Assistant Director', 'name': 'Joe Napolitano'}, {'department': 'Editing', 'job': 'Editorial Services', 'name': 'Ray Hubley'}, {'department': 'Production', 'job': 'Location Manager', 'name': 'Eric Schwab'}, {'department': 'Directing', 'job': 'Script Supervisor', 'name': 'Sioux Richards'}, {'department': 'Directing', 'job': 'Assistant Director', 'name': 'Glen Trotiner'}, {'department': 'Crew', 'job': 'Stunt Coordinator', 'name': 'Gary Hymes'}, {'department': 'Sound', 'job': 'Sound Re-Recording Mixer', 'name': 'Dick Vorisek'}, {'department': 'Sound', 'job': 'Music Supervisor', 'name': 'Emile Charlap'}, {'department': 'Crew', 'job': 'Stunts', 'name': 'Matt Johnston'}, {'department': 'Directing', 'job': 'Assistant Director', 'name': 'Richard Patrick'}, {'department': 'Camera', 'job': 'Grip', 'name': 'Kelly R. Borisy'}, {'department': 'Costume &amp; Make-Up', 'job': 'Makeup Artist', 'name': 'Michael Hancock'}, {'department': 'Costume &amp; Make-Up', 'job': 'Hairstylist', 'name': 'Bette Iverson'}, {'department': 'Crew', 'job': 'Special Effects Coordinator', 'name': 'Allen Hall'}, {'department': 'Costume &amp; Make-Up', 'job': 'Costume Design', 'name': 'Marilyn Vance'}, {'department': 'Directing', 'job': 'Assistant Director', 'name': 'James W. Skotchdopole'}, {'department': 'Editing', 'job': 'Editor', 'name': 'Bill Pankow'}]</td>\n",
              "    </tr>\n",
              "    <tr>\n",
              "      <th>91</th>\n",
              "      <td>118</td>\n",
              "      <td>[{'character': 'Mrs. Beauregard', 'name': 'Missi Pyle'}, {'character': 'Willy Wonka', 'name': 'Johnny Depp'}, {'character': 'Charlie Bucket', 'name': 'Freddie Highmore'}, {'character': 'Grandpa Joe', 'name': 'David Kelly'}, {'character': 'Violet Beauregarde', 'name': 'AnnaSophia Robb'}, {'character': 'Veruca Salt', 'name': 'Julia Winter'}, {'character': 'Mike Teavee', 'name': 'Jordan Fry'}, {'character': 'Augustus Glupsch', 'name': 'Philip Wiegratz'}, {'character': 'Mrs. Bucket', 'name': 'Helena Bonham Carter'}, {'character': 'Mr. Bucket', 'name': 'Noah Taylor'}, {'character': 'Mr. Salt', 'name': 'James Fox'}, {'character': 'Dr. Wonka', 'name': 'Christopher Lee'}, {'character': 'Mr. Teavee', 'name': 'Adam Godley'}, {'character': 'Mrs. Gloop', 'name': 'Franziska Troegner'}, {'character': 'Oompa Loompa', 'name': 'Deep Roy'}, {'character': 'Grandma Georgina', 'name': 'Liz Smith'}, {'character': 'Grandma Josephine', 'name': 'Eileen Essell'}, {'character': 'Grandpa George', 'name': 'David Morris'}, {'character': 'Prince Pondicherry', 'name': 'Nitin Ganatra'}, {'character': 'Princess Pondicherry', 'name': 'Shelley Conn'}, {'character': 'Prodnose', 'name': 'Chris Cresswell'}, {'character': 'Slugworth', 'name': 'Philip Philmar'}, {'character': 'Finckelgruber', 'name': 'Tony Kirwood'}, {'character': 'Mr. Gloop', 'name': 'Harry Taylor'}, {'character': 'Mrs. Salt', 'name': 'Francesca Hunt'}, {'character': 'Narrator (voice)', 'name': 'Geoffrey Holder'}, {'character': 'TV Reporter', 'name': 'Todd Boyce'}, {'character': 'Man with Dog', 'name': 'Kevin Eldon'}, {'character': 'Man with Dog', 'name': 'Mark Heap'}, {'character': 'Shopkeeper', 'name': 'Oscar James'}, {'character': 'Jolly Woman', 'name': 'Annette Badland'}, {'character': None, 'name': 'Débora Monteiro'}]</td>\n",
              "      <td>[{'department': 'Sound', 'job': 'Sound Editor', 'name': 'Richard Fettes'}, {'department': 'Art', 'job': 'Property Master', 'name': 'Terry Wells'}, {'department': 'Costume &amp; Make-Up', 'job': 'Key Hair Stylist', 'name': 'Ivana Primorac'}, {'department': 'Crew', 'job': 'CG Supervisor', 'name': 'Nicolas Aithadi'}, {'department': 'Crew', 'job': 'Post Production Assistant', 'name': 'Catrin Cooper'}, {'department': 'Art', 'job': 'Set Decoration', 'name': 'Peter Young'}, {'department': 'Sound', 'job': 'Boom Operator', 'name': 'Christian Bourne'}, {'department': 'Crew', 'job': 'Post Production Supervisor', 'name': 'Jessie Thiele'}, {'department': 'Art', 'job': 'Art Direction', 'name': 'James Lewis'}, {'department': 'Crew', 'job': 'Loader', 'name': 'Susan Luciani'}, {'department': 'Art', 'job': 'Art Department Manager', 'name': 'Priscilla Elliott'}, {'department': 'Production', 'job': 'Associate Producer', 'name': 'Derek Frey'}, {'department': 'Visual Effects', 'job': 'Visual Effects Supervisor', 'name': 'Nick Davis'}, {'department': 'Costume &amp; Make-Up', 'job': 'Assistant Costume Designer', 'name': 'Massimo Cantini Parrini'}, {'department': 'Art', 'job': 'Art Direction', 'name': 'David Allday'}, {'department': 'Art', 'job': 'Art Direction', 'name': 'Matthew Gray'}, {'department': 'Production', 'job': 'Executive Producer', 'name': 'Liccy Dahl'}, {'department': 'Crew', 'job': 'Additional Music', 'name': 'Deborah Lurie'}, {'department': 'Production', 'job': 'Executive Producer', 'name': 'Graham Burke'}, {'department': 'Costume &amp; Make-Up', 'job': 'Costume Supervisor', 'name': 'Lindsay Pugh'}, {'department': 'Production', 'job': 'Executive Producer', 'name': 'Patrick McCormick'}, {'department': 'Visual Effects', 'job': 'Digital Compositors', 'name': 'Richard Baker'}, {'department': 'Camera', 'job': 'Still Photographer', 'name': 'Mary Ellen Mark'}, {'department': 'Production', 'job': 'Executive Producer', 'name': 'Michael Siegel'}, {'department': 'Art', 'job': 'Art Direction', 'name': 'François Audouy'}, {'department': 'Art', 'job': 'Art Direction', 'name': 'Stuart Rose'}, {'department': 'Sound', 'job': 'Supervising Sound Editor', 'name': 'Eddy Joseph'}, {'department': 'Sound', 'job': 'Foley', 'name': 'Peter Burgis'}, {'department': 'Crew', 'job': 'Digital Effects Supervisor', 'name': 'Dottie Starling'}, {'department': 'Sound', 'job': 'First Assistant Sound Editor', 'name': 'Alistair Hawkins'}, {'department': 'Sound', 'job': 'Dolby Consultant', 'name': 'James Seddon'}, {'department': 'Art', 'job': 'Conceptual Illustrator', 'name': 'Ravi Bansal'}, {'department': 'Art', 'job': 'Assistant Art Director', 'name': 'Anthony Caron-Delion'}, {'department': 'Camera', 'job': 'First Assistant Camera', 'name': 'John Gamble'}, {'department': 'Sound', 'job': 'Production Sound Mixer', 'name': 'Tony Dawe'}, {'department': 'Art', 'job': 'Greensman', 'name': 'Ian Whiteford'}, {'department': 'Sound', 'job': 'Sound Effects Editor', 'name': 'Martin Cantwell'}, {'department': 'Art', 'job': 'Art Direction', 'name': 'Andy Nicholson'}, {'department': 'Art', 'job': 'Art Direction', 'name': 'Sean Haworth'}, {'department': 'Production', 'job': 'Co-Producer', 'name': 'Katterli Frauenfelder'}, {'department': 'Directing', 'job': 'Assistant Director', 'name': 'Katterli Frauenfelder'}, {'department': 'Production', 'job': 'Producer', 'name': 'Lorne Orleans'}, {'department': 'Art', 'job': 'Supervising Art Director', 'name': 'Leslie Tomkins'}, {'department': 'Sound', 'job': 'Music Editor', 'name': 'Bill Abbott'}, {'department': 'Sound', 'job': 'Sound Designer', 'name': 'Bill Abbott'}, {'department': 'Costume &amp; Make-Up', 'job': 'Costume Design', 'name': 'Gabriella Pescucci'}, {'department': 'Art', 'job': 'Production Design', 'name': 'Alex McDowell'}, {'department': 'Production', 'job': 'Casting', 'name': 'Susie Figgis'}, {'department': 'Camera', 'job': 'Director of Photography', 'name': 'Philippe Rousselot'}, {'department': 'Visual Effects', 'job': 'VFX Editor', 'name': 'Simon Allmark'}, {'department': 'Crew', 'job': 'Choreographer', 'name': 'Francesca Jaynes'}, {'department': 'Camera', 'job': 'Steadicam Operator', 'name': 'Vince McGahon'}, {'department': 'Crew', 'job': 'Scenic Artist', 'name': 'James Gemmill'}, {'department': 'Production', 'job': 'Unit Manager', 'name': 'Steve Harvey'}, {'department': 'Costume &amp; Make-Up', 'job': 'Hair Designer', 'name': 'Peter Owen'}, {'department': 'Costume &amp; Make-Up', 'job': 'Makeup Designer', 'name': 'Peter Owen'}, {'department': 'Sound', 'job': 'Scoring Mixer', 'name': 'Dennis S. Sands'}, {'department': 'Crew', 'job': 'Stunt Coordinator', 'name': 'Jim Dowdall'}, {'department': 'Sound', 'job': 'Sound Re-Recording Mixer', 'name': 'Carlos Solis'}, {'department': 'Production', 'job': 'Production Coordinator', 'name': 'Hermione Ninnim'}, {'department': 'Writing', 'job': 'Screenplay', 'name': 'John August'}, {'department': 'Crew', 'job': 'Video Assist Operator', 'name': 'Lizzie Kelly'}, {'department': 'Crew', 'job': 'Visual Effects Editor', 'name': 'Christopher Learmonth'}, {'department': 'Production', 'job': 'Location Manager', 'name': 'Nick Daubeny'}, {'department': 'Editing', 'job': 'First Assistant Editor', 'name': 'JC Bond'}, {'department': 'Production', 'job': 'Publicist', 'name': 'Sarah Clark'}, {'department': 'Visual Effects', 'job': 'Special Effects Supervisor', 'name': 'Joss Williams'}, {'department': 'Visual Effects', 'job': 'Visual Development', 'name': 'Luc Desmarchelier'}, {'department': 'Visual Effects', 'job': 'Animation Supervisor', 'name': 'Marco Carpagnano'}, {'department': 'Lighting', 'job': 'Rigging Gaffer', 'name': 'Wick Finch'}, {'department': 'Directing', 'job': 'Script Supervisor', 'name': 'Nikki Clapp'}, {'department': 'Writing', 'job': 'Author', 'name': 'Roald Dahl'}, {'department': 'Writing', 'job': 'Screenplay', 'name': 'Roald Dahl'}, {'department': 'Production', 'job': 'Producer', 'name': 'Brad Grey'}, {'department': 'Production', 'job': 'Producer', 'name': 'Richard D. Zanuck'}, {'department': 'Production', 'job': 'Executive Producer', 'name': 'Bruce Berman'}, {'department': 'Editing', 'job': 'Editor', 'name': 'Chris Lebenzon'}, {'department': 'Sound', 'job': 'Original Music Composer', 'name': 'Danny Elfman'}, {'department': 'Directing', 'job': 'Director', 'name': 'Tim Burton'}, {'department': 'Camera', 'job': 'Key Grip', 'name': 'John Flemming'}, {'department': 'Visual Effects', 'job': 'Visual Effects Coordinator', 'name': 'Laya Armian'}, {'department': 'Lighting', 'job': 'Gaffer', 'name': 'Steve Costello'}, {'department': 'Sound', 'job': 'Orchestrator', 'name': 'Bruce Fowler'}, {'department': 'Crew', 'job': 'Motion Capture Artist', 'name': 'Gary Roberts'}, {'department': 'Art', 'job': 'Art Department Coordinator', 'name': 'Lavinia Waters'}, {'department': 'Art', 'job': 'Painter', 'name': 'Keith Connolly'}, {'department': 'Crew', 'job': 'Carpenter', 'name': 'James Buxton'}, {'department': 'Production', 'job': 'Unit Production Manager', 'name': 'Nikolas Korda'}, {'department': 'Writing', 'job': 'Storyboard', 'name': 'John Greaves'}, {'department': 'Crew', 'job': 'Digital Producer', 'name': 'Bonnie Lemon'}, {'department': 'Production', 'job': 'Production Accountant', 'name': 'Maggie Phelan'}, {'department': 'Crew', 'job': 'Projection', 'name': 'Jan Meade'}, {'department': 'Costume &amp; Make-Up', 'job': 'Makeup Artist', 'name': 'Michael Krehl'}, {'department': 'Art', 'job': 'Art Department Assistant', 'name': 'Yasmin Al-Naib'}, {'department': 'Art', 'job': 'Sculptor', 'name': 'Lolly Batty'}, {'department': 'Camera', 'job': 'Additional Camera', 'name': 'Luke Cairns'}, {'department': 'Camera', 'job': 'Grip', 'name': 'Keith Manning'}, {'department': 'Costume &amp; Make-Up', 'job': 'Hairstylist', 'name': 'Abi Brotherton'}, {'department': 'Costume &amp; Make-Up', 'job': 'Set Dressing Artist', 'name': 'Christian Kennedy'}, {'department': 'Crew', 'job': 'Dialect Coach', 'name': 'Mel Churcher'}, ...]</td>\n",
              "    </tr>\n",
              "    <tr>\n",
              "      <th>92</th>\n",
              "      <td>120</td>\n",
              "      <td>[{'character': 'Elrond', 'name': 'Hugo Weaving'}, {'character': 'Frodo Baggins', 'name': 'Elijah Wood'}, {'character': 'Aragorn', 'name': 'Viggo Mortensen'}, {'character': 'Witch-king', 'name': 'Brent McIntyre'}, {'character': 'Gil-galad', 'name': 'Mark Ferguson'}, {'character': 'Gondorian Archivist', 'name': 'Michael Elsworth'}, {'character': 'Mrs. Proudfoot', 'name': 'Megan Edwards'}, {'character': 'Everard Proudfoot', 'name': 'Noel Appleby'}, {'character': 'Peregrin 'Pippin' Took', 'name': 'Billy Boyd'}, {'character': 'Meriadoc 'Merry' Brandybuck', 'name': 'Dominic Monaghan'}, {'character': 'Samwise 'Sam' Gamgee', 'name': 'Sean Astin'}, {'character': 'Gollum', 'name': 'Andy Serkis'}, {'character': 'Lurtz', 'name': 'Lawrence Makoare'}, {'character': 'Sauron', 'name': 'Sala Baker'}, {'character': 'Rose 'Rosie' Cotton', 'name': 'Sarah McLeod'}, {'character': 'Celeborn', 'name': 'Marton Csokas'}, {'character': 'Voice of the Ring (voice)', 'name': 'Alan Howard'}, {'character': 'Saruman', 'name': 'Christopher Lee'}, {'character': 'Gimli', 'name': 'John Rhys-Davies'}, {'character': 'Arwen Evenstar', 'name': 'Liv Tyler'}, {'character': 'Gandalf the Grey', 'name': 'Ian McKellen'}, {'character': 'Galadriel', 'name': 'Cate Blanchett'}, {'character': 'Legolas', 'name': 'Orlando Bloom'}, {'character': 'Boromir', 'name': 'Sean Bean'}, {'character': 'Bilbo Baggins', 'name': 'Ian Holm'}, {'character': 'Haldir', 'name': 'Craig Parker'}]</td>\n",
              "      <td>[{'department': 'Art', 'job': 'Production Design', 'name': 'Grant Major'}, {'department': 'Writing', 'job': 'Screenplay', 'name': 'Philippa Boyens'}, {'department': 'Sound', 'job': 'Original Music Composer', 'name': 'Howard Shore'}, {'department': 'Camera', 'job': 'Director of Photography', 'name': 'Andrew Lesnie'}, {'department': 'Editing', 'job': 'Editor', 'name': 'John Gilbert'}, {'department': 'Art', 'job': 'Art Direction', 'name': 'Joe Bleakley'}, {'department': 'Art', 'job': 'Art Direction', 'name': 'Philip Ivey'}, {'department': 'Art', 'job': 'Art Direction', 'name': 'Rob Outterside'}, {'department': 'Costume &amp; Make-Up', 'job': 'Costume Design', 'name': 'Ngila Dickson'}, {'department': 'Art', 'job': 'Set Decoration', 'name': 'John Howe'}, {'department': 'Art', 'job': 'Set Decoration', 'name': 'Alan Lee'}, {'department': 'Art', 'job': 'Art Direction', 'name': 'Mark Robins'}, {'department': 'Writing', 'job': 'Screenplay', 'name': 'Fran Walsh'}, {'department': 'Writing', 'job': 'Screenplay', 'name': 'Peter Jackson'}, {'department': 'Writing', 'job': 'Novel', 'name': 'J.R.R. Tolkien'}, {'department': 'Production', 'job': 'Executive Producer', 'name': 'Michael Lynne'}, {'department': 'Production', 'job': 'Executive Producer', 'name': 'Mark Ordesky'}, {'department': 'Production', 'job': 'Executive Producer', 'name': 'Saul Zaentz'}, {'department': 'Production', 'job': 'Executive Producer', 'name': 'Harvey Weinstein'}, {'department': 'Production', 'job': 'Executive Producer', 'name': 'Bob Weinstein'}, {'department': 'Production', 'job': 'Producer', 'name': 'Barrie M. Osborne'}, {'department': 'Production', 'job': 'Producer', 'name': 'Peter Jackson'}, {'department': 'Directing', 'job': 'Director', 'name': 'Peter Jackson'}, {'department': 'Costume &amp; Make-Up', 'job': 'Costume Design', 'name': 'Richard Taylor'}, {'department': 'Production', 'job': 'Casting', 'name': 'Victoria Burrows'}, {'department': 'Production', 'job': 'Casting', 'name': 'John Hubbard'}, {'department': 'Production', 'job': 'Casting', 'name': 'Liz Mullane'}, {'department': 'Production', 'job': 'Casting', 'name': 'Amy Hubbard'}, {'department': 'Production', 'job': 'Casting', 'name': 'Ann Robinson'}, {'department': 'Visual Effects', 'job': '3D Supervisor', 'name': 'Guy Williams'}]</td>\n",
              "    </tr>\n",
              "    <tr>\n",
              "      <th>93</th>\n",
              "      <td>121</td>\n",
              "      <td>[{'character': 'Freda', 'name': 'Olivia Tennet'}, {'character': 'Háma', 'name': 'John Leigh'}, {'character': 'Gamling', 'name': 'Bruce Hopkins'}, {'character': 'Eothain', 'name': 'Sam Comery'}, {'character': 'Ugluk', 'name': 'Nathaniel Lees'}, {'character': 'Grishnakh', 'name': 'Stephen Ure'}, {'character': 'Bereg', 'name': 'Raymond Trickitt'}, {'character': 'Rohan Soldier', 'name': 'Bruce Phillips'}, {'character': 'Morwen', 'name': 'Robyn Malcolm'}, {'character': 'Denethor', 'name': 'John Noble'}, {'character': 'Mauhur', 'name': 'Robbie Magasiva'}, {'character': 'Madril', 'name': 'John Bach'}, {'character': 'Halteh', 'name': 'Calum Gittins'}, {'character': 'Sharku / Snaga', 'name': 'Jed Brophy'}, {'character': 'Boromir', 'name': 'Sean Bean'}, {'character': 'Galadriel', 'name': 'Cate Blanchett'}, {'character': 'Éomer', 'name': 'Karl Urban'}, {'character': 'Faramir', 'name': 'David Wenham'}, {'character': 'Éowyn', 'name': 'Miranda Otto'}, {'character': 'Gríma Wormtongue', 'name': 'Brad Dourif'}, {'character': 'Théoden', 'name': 'Bernard Hill'}, {'character': 'Haldir', 'name': 'Craig Parker'}, {'character': 'Elrond', 'name': 'Hugo Weaving'}, {'character': 'Gollum', 'name': 'Andy Serkis'}, {'character': 'Meriadoc 'Merry' Brandybuck', 'name': 'Dominic Monaghan'}, {'character': 'Peregrin 'Pippin' Took', 'name': 'Billy Boyd'}, {'character': 'Sam Gamgee', 'name': 'Sean Astin'}, {'character': 'Saruman', 'name': 'Christopher Lee'}, {'character': 'Gimli / Voice of Treebeard', 'name': 'John Rhys-Davies'}, {'character': 'Legolas', 'name': 'Orlando Bloom'}, {'character': 'Arwen Evenstar', 'name': 'Liv Tyler'}, {'character': 'Aragorn', 'name': 'Viggo Mortensen'}, {'character': 'Gandalf the White', 'name': 'Ian McKellen'}, {'character': 'Frodo Baggins', 'name': 'Elijah Wood'}]</td>\n",
              "      <td>[{'department': 'Production', 'job': 'Producer', 'name': 'Peter Jackson'}, {'department': 'Art', 'job': 'Set Decoration', 'name': 'John Howe'}, {'department': 'Art', 'job': 'Set Decoration', 'name': 'Alan Lee'}, {'department': 'Costume &amp; Make-Up', 'job': 'Costume Design', 'name': 'Ngila Dickson'}, {'department': 'Production', 'job': 'Executive Producer', 'name': 'Michael Lynne'}, {'department': 'Costume &amp; Make-Up', 'job': 'Costume Design', 'name': 'Richard Taylor'}, {'department': 'Production', 'job': 'Casting', 'name': 'Victoria Burrows'}, {'department': 'Production', 'job': 'Casting', 'name': 'John Hubbard'}, {'department': 'Production', 'job': 'Casting', 'name': 'Liz Mullane'}, {'department': 'Art', 'job': 'Set Decoration', 'name': 'Dan Hennah'}, {'department': 'Sound', 'job': 'Original Music Composer', 'name': 'Elizabeth Fraser'}, {'department': 'Editing', 'job': 'Editor', 'name': 'Michael Horton'}, {'department': 'Editing', 'job': 'Editor', 'name': 'Jabez Olssen'}, {'department': 'Production', 'job': 'Casting', 'name': 'Ann Robinson'}, {'department': 'Production', 'job': 'Casting', 'name': 'Amy Hubbard'}, {'department': 'Visual Effects', 'job': '3D Supervisor', 'name': 'Guy Williams'}, {'department': 'Crew', 'job': 'Stunts', 'name': 'Sean Button'}, {'department': 'Visual Effects', 'job': 'Animation', 'name': 'Shane Prigmore'}, {'department': 'Art', 'job': 'Art Direction', 'name': 'Joe Bleakley'}, {'department': 'Art', 'job': 'Art Direction', 'name': 'Philip Ivey'}, {'department': 'Art', 'job': 'Art Direction', 'name': 'Rob Outterside'}, {'department': 'Art', 'job': 'Art Direction', 'name': 'Mark Robins'}, {'department': 'Production', 'job': 'Producer', 'name': 'Barrie M. Osborne'}, {'department': 'Sound', 'job': 'Original Music Composer', 'name': 'Howard Shore'}, {'department': 'Writing', 'job': 'Screenplay', 'name': 'Peter Jackson'}, {'department': 'Directing', 'job': 'Director', 'name': 'Peter Jackson'}, {'department': 'Production', 'job': 'Executive Producer', 'name': 'Bob Weinstein'}, {'department': 'Production', 'job': 'Executive Producer', 'name': 'Harvey Weinstein'}, {'department': 'Production', 'job': 'Executive Producer', 'name': 'Saul Zaentz'}, {'department': 'Art', 'job': 'Production Design', 'name': 'Grant Major'}, {'department': 'Writing', 'job': 'Novel', 'name': 'J.R.R. Tolkien'}, {'department': 'Writing', 'job': 'Screenplay', 'name': 'Fran Walsh'}, {'department': 'Writing', 'job': 'Screenplay', 'name': 'Philippa Boyens'}, {'department': 'Camera', 'job': 'Director of Photography', 'name': 'Andrew Lesnie'}, {'department': 'Production', 'job': 'Executive Producer', 'name': 'Mark Ordesky'}, {'department': 'Crew', 'job': 'Compositors', 'name': 'Roger Huynh'}]</td>\n",
              "    </tr>\n",
              "    <tr>\n",
              "      <th>94</th>\n",
              "      <td>122</td>\n",
              "      <td>[{'character': 'Aragorn', 'name': 'Viggo Mortensen'}, {'character': 'Frodo Baggins', 'name': 'Elijah Wood'}, {'character': 'Gandalf the White', 'name': 'Ian McKellen'}, {'character': 'Arwen Evenstar', 'name': 'Liv Tyler'}, {'character': 'Legolas', 'name': 'Orlando Bloom'}, {'character': 'Gimli &amp; Treebeard (Voice)', 'name': 'John Rhys-Davies'}, {'character': 'Sam Gamgee', 'name': 'Sean Astin'}, {'character': 'Peregrin 'Pippin' Took', 'name': 'Billy Boyd'}, {'character': 'Meriadoc 'Merry' Brandybuck', 'name': 'Dominic Monaghan'}, {'character': 'Gollum', 'name': 'Andy Serkis'}, {'character': 'Elrond', 'name': 'Hugo Weaving'}, {'character': 'Bilbo Baggins', 'name': 'Ian Holm'}, {'character': 'Théoden, King of Rohan', 'name': 'Bernard Hill'}, {'character': 'Éowyn', 'name': 'Miranda Otto'}, {'character': 'Faramir', 'name': 'David Wenham'}, {'character': 'Éomer', 'name': 'Karl Urban'}, {'character': 'Denethor', 'name': 'John Noble'}, {'character': 'Galadriel', 'name': 'Cate Blanchett'}, {'character': 'Gothmog &amp; Witchking of Angmar', 'name': 'Lawrence Makoare'}, {'character': 'King of the Dead', 'name': 'Paul Norell'}, {'character': 'Deagol', 'name': 'Thomas Robins'}, {'character': 'Rosie Cotton', 'name': 'Sarah McLeod'}, {'character': 'Boromir', 'name': 'Sean Bean'}, {'character': 'Celeborn', 'name': 'Marton Csokas'}, {'character': 'saruman', 'name': 'Christopher Lee'}, {'character': 'Gondorian Soldier 3', 'name': 'David Aston'}, {'character': 'Damrod', 'name': 'Sadwyn Brophy'}, {'character': 'Damrod', 'name': 'Alistair Browning'}, {'character': 'Irolas', 'name': 'Ian Hughes'}]</td>\n",
              "      <td>[{'department': 'Visual Effects', 'job': '3D Supervisor', 'name': 'Guy Williams'}, {'department': 'Production', 'job': 'Casting', 'name': 'Amy Hubbard'}, {'department': 'Production', 'job': 'Casting', 'name': 'Ann Robinson'}, {'department': 'Editing', 'job': 'Editor', 'name': 'Jamie Selkirk'}, {'department': 'Art', 'job': 'Set Decoration', 'name': 'Dan Hennah'}, {'department': 'Production', 'job': 'Casting', 'name': 'Liz Mullane'}, {'department': 'Production', 'job': 'Casting', 'name': 'John Hubbard'}, {'department': 'Production', 'job': 'Casting', 'name': 'Victoria Burrows'}, {'department': 'Costume &amp; Make-Up', 'job': 'Costume Design', 'name': 'Richard Taylor'}, {'department': 'Costume &amp; Make-Up', 'job': 'Costume Design', 'name': 'Ngila Dickson'}, {'department': 'Art', 'job': 'Conceptual Design', 'name': 'John Howe'}, {'department': 'Art', 'job': 'Art Direction', 'name': 'Mark Robins'}, {'department': 'Art', 'job': 'Art Direction', 'name': 'Rob Outterside'}, {'department': 'Writing', 'job': 'Screenplay', 'name': 'Philippa Boyens'}, {'department': 'Camera', 'job': 'Director of Photography', 'name': 'Andrew Lesnie'}, {'department': 'Production', 'job': 'Executive Producer', 'name': 'Michael Lynne'}, {'department': 'Writing', 'job': 'Novel', 'name': 'J.R.R. Tolkien'}, {'department': 'Production', 'job': 'Producer', 'name': 'Barrie M. Osborne'}, {'department': 'Sound', 'job': 'Original Music Composer', 'name': 'Howard Shore'}, {'department': 'Writing', 'job': 'Screenplay', 'name': 'Fran Walsh'}, {'department': 'Writing', 'job': 'Screenplay', 'name': 'Peter Jackson'}, {'department': 'Crew', 'job': 'Stunts', 'name': 'Sean Button'}, {'department': 'Art', 'job': 'Production Design', 'name': 'Grant Major'}, {'department': 'Art', 'job': 'Art Direction', 'name': 'Joe Bleakley'}, {'department': 'Directing', 'job': 'Director', 'name': 'Peter Jackson'}, {'department': 'Production', 'job': 'Producer', 'name': 'Peter Jackson'}, {'department': 'Production', 'job': 'Executive Producer', 'name': 'Bob Weinstein'}, {'department': 'Production', 'job': 'Executive Producer', 'name': 'Harvey Weinstein'}, {'department': 'Production', 'job': 'Executive Producer', 'name': 'Mark Ordesky'}]</td>\n",
              "    </tr>\n",
              "    <tr>\n",
              "      <th>95</th>\n",
              "      <td>29804</td>\n",
              "      <td>[{'character': 'Dr. McDuffie', 'name': 'James Earl Jones'}, {'character': 'Mr. Rucker', 'name': 'Forest Whitaker'}, {'character': 'Diego', 'name': 'Eriq La Salle'}, {'character': 'himself', 'name': 'Kareem Abdul-Jabbar'}, {'character': 'Earl Manigault', 'name': 'Don Cheadle'}, {'character': 'Dean Memminger', 'name': 'Daryl Mitchell'}]</td>\n",
              "      <td>[{'department': 'Directing', 'job': 'Director', 'name': 'Eriq La Salle'}]</td>\n",
              "    </tr>\n",
              "    <tr>\n",
              "      <th>96</th>\n",
              "      <td>123</td>\n",
              "      <td>[{'character': 'Gollum (voice)', 'name': 'Peter Woodthorpe'}, {'character': 'Boromir (voice)', 'name': 'Michael Graham Cox'}, {'character': 'Gimli (voice)', 'name': 'David Buck'}, {'character': 'Frodo (voice)', 'name': 'Christopher Guard'}, {'character': 'Gandalf (voice)', 'name': 'William Squire'}, {'character': 'Sam (voice)', 'name': 'Michael Scholes'}, {'character': 'Aragorn (voice)', 'name': 'John Hurt'}, {'character': 'Merry (voice)', 'name': 'Simon Chandler'}, {'character': 'Pippin (voice)', 'name': 'Dominic Guard'}, {'character': 'Legolas (voice)', 'name': 'Anthony Daniels'}, {'character': 'Bilbo (voice)', 'name': 'Norman Bird'}, {'character': 'Treebeard (voice)', 'name': 'John Westbrook'}, {'character': 'Wormtongue (voice)', 'name': 'Michael Deacon'}, {'character': 'Galadriel (voice)', 'name': 'Annette Crosbie'}, {'character': 'Innkeeper (voice)', 'name': 'Alan Tilvern'}, {'character': 'Elrond (voice)', 'name': 'André Morell'}, {'character': 'Theoden (voice)', 'name': 'Philip Stone'}, {'character': 'Saruman (voice)', 'name': 'Fraser Kerr'}]</td>\n",
              "      <td>[{'department': 'Visual Effects', 'job': 'Animation Manager', 'name': 'Micki Zurcher'}, {'department': 'Visual Effects', 'job': 'Animation Manager', 'name': 'Barry E. Jackson'}, {'department': 'Editing', 'job': 'Editor', 'name': 'Donald W. Ernst'}, {'department': 'Writing', 'job': 'Novel', 'name': 'J.R.R. Tolkien'}, {'department': 'Production', 'job': 'Producer', 'name': 'Saul Zaentz'}, {'department': 'Writing', 'job': 'Screenplay', 'name': 'Chris Conkling'}, {'department': 'Writing', 'job': 'Screenplay', 'name': 'Peter S. Beagle'}, {'department': 'Production', 'job': 'Producer', 'name': 'Nancy Eichler'}, {'department': 'Camera', 'job': 'Director of Photography', 'name': 'Timothy Galfas'}, {'department': 'Sound', 'job': 'Original Music Composer', 'name': 'Leonard Rosenman'}, {'department': 'Directing', 'job': 'Director', 'name': 'Ralph Bakshi'}]</td>\n",
              "    </tr>\n",
              "    <tr>\n",
              "      <th>97</th>\n",
              "      <td>124</td>\n",
              "      <td>[{'character': 'Dariusz Stach', 'name': 'Artur Barciś'}, {'character': 'Sohn Jacek Zyro', 'name': 'Krzysztof Krzemiński'}, {'character': 'Ursula Zyro', 'name': 'Grażyna Szapołowska'}, {'character': 'Joanna Stach', 'name': 'Maria Pakulnis'}, {'character': 'Rechtsanwalt Mieczyslaw Labrador', 'name': 'Aleksander Bardini'}, {'character': 'Antoni Zyro', 'name': 'Jerzy Radziwiłowicz'}]</td>\n",
              "      <td>[{'department': 'Production', 'job': 'Producer', 'name': 'Jacek Szeligowski'}, {'department': 'Editing', 'job': 'Editor', 'name': 'Krystyna Rutkowska'}, {'department': 'Camera', 'job': 'Director of Photography', 'name': 'Jacek Petrycki'}, {'department': 'Sound', 'job': 'Original Music Composer', 'name': 'Zbigniew Preisner'}, {'department': 'Writing', 'job': 'Author', 'name': 'Krzysztof Piesiewicz'}, {'department': 'Writing', 'job': 'Author', 'name': 'Krzysztof Kieślowski'}, {'department': 'Directing', 'job': 'Director', 'name': 'Krzysztof Kieślowski'}]</td>\n",
              "    </tr>\n",
              "    <tr>\n",
              "      <th>98</th>\n",
              "      <td>127</td>\n",
              "      <td>[{'character': 'Olga', 'name': 'Monika Gozdzik'}, {'character': '3. dean', 'name': 'Zygmunt Hübner'}, {'character': '3. Ciotka', 'name': 'Irena Byrska'}, {'character': '2. Priest', 'name': 'Adam Ferency'}, {'character': 'Jugendaktivist', 'name': 'Jerzy Stuhr'}, {'character': '1. Werner', 'name': 'Tadeusz Łomnicki'}, {'character': 'Werka's Husband (uncredited)', 'name': 'Krzysztof Kalczyński'}, {'character': 'Member of ZMP (uncredited)', 'name': 'Aleksander Mikołajczak'}, {'character': 'Kasia, friend of Witek's father (uncredited)', 'name': 'Kazimiera Nogajówna'}, {'character': '(uncredited)', 'name': 'Jolanta Nowinska'}, {'character': 'Działacz ZSMP (uncredited)', 'name': 'Jerzy Stuhr'}, {'character': 'Buzek Mężczyzna na lotnisku (uncredited)', 'name': 'Krzysztof Zaleski'}, {'character': 'Witek Długosz', 'name': 'Bogusław Linda'}, {'character': '2. Werka', 'name': 'Marzena Trybała'}, {'character': 'Adam', 'name': 'Zbigniew Zapasiewicz'}, {'character': 'Czuszka', 'name': 'Bogusława Pawelec'}, {'character': '2. Marek', 'name': 'Jacek Borkowski'}, {'character': '2. Daniel', 'name': 'Jacek Sas-Uhrynowski'}]</td>\n",
              "      <td>[{'department': 'Production', 'job': 'Producer', 'name': 'Jacek Szeligowski'}, {'department': 'Writing', 'job': 'Author', 'name': 'Krzysztof Kieślowski'}, {'department': 'Directing', 'job': 'Director', 'name': 'Krzysztof Kieślowski'}, {'department': 'Costume &amp; Make-Up', 'job': 'Makeup Artist', 'name': 'Teodor Grymaszewski'}, {'department': 'Costume &amp; Make-Up', 'job': 'Costume Design', 'name': 'Agnieszka Domaniecka'}, {'department': 'Art', 'job': 'Set Decoration', 'name': 'Borzyslawa Chmielewska'}, {'department': 'Sound', 'job': 'Sound', 'name': 'Michal Zarnecki'}, {'department': 'Directing', 'job': 'Assistant Director', 'name': 'Michal Zarnecki'}, {'department': 'Sound', 'job': 'Original Music Composer', 'name': 'Wojciech Kilar'}, {'department': 'Editing', 'job': 'Editor', 'name': 'Elżbieta Kurkowska'}, {'department': 'Directing', 'job': 'Assistant Director', 'name': 'Teresa Violetta Buhl'}, {'department': 'Camera', 'job': 'Director of Photography', 'name': 'Krzysztof Pakulski'}, {'department': 'Art', 'job': 'Art Direction', 'name': 'Andrzej Rafal Waltenberger'}, {'department': 'Directing', 'job': 'Assistant Director', 'name': 'Jerzy Braszka'}, {'department': 'Directing', 'job': 'Assistant Director', 'name': 'Maciej J. Drygas'}, {'department': 'Art', 'job': 'Production Design', 'name': 'Andrzej Rafal Waltenberger'}, {'department': 'Crew', 'job': 'Stunts', 'name': 'Ryszard Janikowski'}]</td>\n",
              "    </tr>\n",
              "    <tr>\n",
              "      <th>99</th>\n",
              "      <td>128</td>\n",
              "      <td>[{'character': 'Moro-no-kimi (voice)', 'name': 'Akihiro Miwa'}, {'character': 'Hii-sama (voice)', 'name': 'Mitsuko Mori'}, {'character': 'Ashitaka (voice)', 'name': 'Yōji Matsuda'}, {'character': 'San (voice)', 'name': 'Yuriko Ishida'}, {'character': 'Woman in Iron Town (voice)', 'name': 'Takako Fuji'}, {'character': 'Okkoto-nusi (voice)', 'name': 'Hisaya Morishige'}, {'character': 'Eboshi-gozen (voice)', 'name': 'Yūko Tanaka'}, {'character': 'Jiko-bô (voice)', 'name': 'Kaoru Kobayashi'}, {'character': 'Kouroku (voice)', 'name': 'Masahiko Nishimura'}, {'character': 'Gonza (voice)', 'name': 'Tsunehiko Kamijô'}, {'character': 'Toki (voice)', 'name': 'Sumi Shimamoto'}, {'character': 'Yama-inu (voice)', 'name': 'Tetsu Watanabe'}, {'character': 'Tatari-gami (voice)', 'name': 'Mitsuru Satô'}, {'character': 'Usi-kai (voice)', 'name': 'Akira Nagoya'}]</td>\n",
              "      <td>[{'department': 'Directing', 'job': 'Director', 'name': 'Hayao Miyazaki'}, {'department': 'Writing', 'job': 'Screenplay', 'name': 'Hayao Miyazaki'}, {'department': 'Editing', 'job': 'Editor', 'name': 'Hayao Miyazaki'}, {'department': 'Sound', 'job': 'Original Music Composer', 'name': 'Joe Hisaishi'}, {'department': 'Production', 'job': 'Producer', 'name': 'Toshio Suzuki'}, {'department': 'Camera', 'job': 'Director of Photography', 'name': 'Atsushi Okui'}, {'department': 'Camera', 'job': 'Camera Supervisor', 'name': 'Atsushi Okui'}, {'department': 'Editing', 'job': 'Editor', 'name': 'Takeshi Seyama'}, {'department': 'Production', 'job': 'Executive Producer', 'name': 'Yasuyoshi Tokuma'}, {'department': 'Art', 'job': 'Art Direction', 'name': 'Youji Takeshige'}, {'department': 'Visual Effects', 'job': 'Animation', 'name': 'Makiko Futaki'}, {'department': 'Visual Effects', 'job': 'Animation', 'name': 'Takeshi Imamura'}, {'department': 'Art', 'job': 'Background Designer', 'name': 'Noboru Yoshida'}, {'department': 'Visual Effects', 'job': 'Animation Supervisor', 'name': 'Masashi Ando'}, {'department': 'Production', 'job': 'Executive Producer', 'name': 'Seiji Okuda'}, {'department': 'Visual Effects', 'job': 'Animation', 'name': 'Katsuya Kondô'}, {'department': 'Production', 'job': 'Executive Producer', 'name': 'Seiichiro Ujiie'}, {'department': 'Art', 'job': 'Art Direction', 'name': 'Naoya Tanaka'}, {'department': 'Visual Effects', 'job': 'Animation', 'name': 'Seiki Tamura'}, {'department': 'Art', 'job': 'Art Direction', 'name': 'Kazuo Oga'}, {'department': 'Visual Effects', 'job': 'Animation Supervisor', 'name': 'Yoshifumi Kondô'}, {'department': 'Visual Effects', 'job': 'Animation', 'name': 'Junichi Taniguchi'}, {'department': 'Art', 'job': 'Background Designer', 'name': 'Sayaka Hirahara'}, {'department': 'Art', 'job': 'Art Direction', 'name': 'Satoshi Kuroda'}, {'department': 'Art', 'job': 'Art Direction', 'name': 'Nizou Yamamoto'}, {'department': 'Visual Effects', 'job': 'Animation', 'name': 'Yoshinori Kanada'}, {'department': 'Production', 'job': 'Executive Producer', 'name': 'Yutaka Narita'}, {'department': 'Crew', 'job': 'Thanks', 'name': 'Todd Olsson'}, {'department': 'Visual Effects', 'job': 'Animation', 'name': 'Ikuo Kuwana'}, {'department': 'Visual Effects', 'job': 'Animation', 'name': 'Masaru Matsuse'}, {'department': 'Sound', 'job': 'Sound Effects Editor', 'name': 'Michihiro Ito'}, {'department': 'Visual Effects', 'job': 'Animation', 'name': 'Masaaki Endo'}, {'department': 'Visual Effects', 'job': 'Animation', 'name': 'Megumi Kagawa'}, {'department': 'Visual Effects', 'job': 'Animation Supervisor', 'name': 'Kitarou Kousaka'}, {'department': 'Visual Effects', 'job': 'Animation', 'name': 'Hiroko Minowa'}, {'department': 'Visual Effects', 'job': 'Animation Manager', 'name': 'Kazuyoshi Onoda'}, {'department': 'Visual Effects', 'job': 'Animation', 'name': 'Shinji Otsuka'}, {'department': 'Visual Effects', 'job': 'Animation', 'name': 'Sachiko Sugino'}, {'department': 'Visual Effects', 'job': 'Animation', 'name': 'Ken'ichi Yamada'}, {'department': 'Visual Effects', 'job': 'Animation', 'name': 'Eiji Yamamori'}, {'department': 'Visual Effects', 'job': 'Animation', 'name': 'Hideaki Yoshio'}, {'department': 'Visual Effects', 'job': 'Animation', 'name': 'Atsuko Tanaka'}, {'department': 'Art', 'job': 'Background Designer', 'name': 'Sadayuki Arai'}, {'department': 'Visual Effects', 'job': 'Animation', 'name': 'Tsutomu Awata'}, {'department': 'Art', 'job': 'Background Designer', 'name': 'Ryôko Ina'}, {'department': 'Art', 'job': 'Background Designer', 'name': 'Naomi Kasugai'}, {'department': 'Visual Effects', 'job': 'Animation', 'name': 'Toshio Kawaguchi'}, {'department': 'Visual Effects', 'job': 'Animation', 'name': 'Ken'ichi Konishi'}, {'department': 'Visual Effects', 'job': 'Animation', 'name': 'Mariko Matsuo'}, {'department': 'Visual Effects', 'job': 'Animation', 'name': 'Michio Mihara'}, {'department': 'Visual Effects', 'job': 'Animation', 'name': 'Noriko Moritomo'}, {'department': 'Art', 'job': 'Background Designer', 'name': 'Kyouko Naganawa'}, {'department': 'Visual Effects', 'job': 'Animation Manager', 'name': 'Rie Nakagome'}, {'department': 'Visual Effects', 'job': 'Animation Manager', 'name': 'Katsutoshi Nakamura'}, {'department': 'Visual Effects', 'job': 'Animation', 'name': 'Takehiro Noda'}, {'department': 'Art', 'job': 'Background Designer', 'name': 'Masako Osada'}, {'department': 'Art', 'job': 'Background Designer', 'name': 'Hisae Saitô'}, {'department': 'Visual Effects', 'job': 'Animation Manager', 'name': 'Masaya Saitô'}, {'department': 'Art', 'job': 'Background Designer', 'name': 'Hiroaki Sasaki'}, {'department': 'Visual Effects', 'job': 'Animation', 'name': 'Shinsaku Sasaki'}, {'department': 'Visual Effects', 'job': 'Animation', 'name': 'Hiroshi Shimizu'}, {'department': 'Visual Effects', 'job': 'Animation', 'name': 'Masako Shinohara'}, {'department': 'Visual Effects', 'job': 'Animation', 'name': 'Hitomi Tateno'}, {'department': 'Visual Effects', 'job': 'Animation', 'name': 'Keiko Tomizawa'}, {'department': 'Visual Effects', 'job': 'Color Designer', 'name': 'Michiyo Yasuda'}, {'department': 'Visual Effects', 'job': 'Animation', 'name': 'Ken'ichi Yoshida'}, {'department': 'Art', 'job': 'Background Designer', 'name': 'Kiyomi Ôta'}, {'department': 'Visual Effects', 'job': 'Animation', 'name': 'Atsuko Ôtani'}]</td>\n",
              "    </tr>\n",
              "  </tbody>\n",
              "</table>"
            ]
          },
          "metadata": {}
        },
        {
          "output_type": "display_data",
          "data": {
            "text/plain": [
              "<IPython.core.display.Javascript object>"
            ],
            "application/javascript": [
              "window[\"4a6ae15c-af89-11f0-88c9-0242ac1c000c\"] = google.colab.output.setActiveOutputArea(window[\"4a68bb8e-af89-11f0-88c9-0242ac1c000c\"]);\n",
              "//# sourceURL=js_76951f72df"
            ]
          },
          "metadata": {}
        },
        {
          "output_type": "display_data",
          "data": {
            "text/plain": [
              "<IPython.core.display.Javascript object>"
            ],
            "application/javascript": [
              "window[\"4a6bdab2-af89-11f0-88c9-0242ac1c000c\"] = google.colab.output.setActiveOutputArea(window[\"4a630dec-af89-11f0-88c9-0242ac1c000c\"]);\n",
              "//# sourceURL=js_28eeb6a302"
            ]
          },
          "metadata": {}
        },
        {
          "output_type": "display_data",
          "data": {
            "text/plain": [
              "<IPython.core.display.Javascript object>"
            ],
            "application/javascript": [
              "window[\"4a6d7eda-af89-11f0-88c9-0242ac1c000c\"] = google.colab.output.getActiveOutputArea();\n",
              "//# sourceURL=js_6a62cb21d9"
            ]
          },
          "metadata": {}
        },
        {
          "output_type": "display_data",
          "data": {
            "text/plain": [
              "<IPython.core.display.Javascript object>"
            ],
            "application/javascript": [
              "window[\"4a6df7ca-af89-11f0-88c9-0242ac1c000c\"] = document.querySelector(\"#id1_content_4\");\n",
              "//# sourceURL=js_18074d2954"
            ]
          },
          "metadata": {}
        },
        {
          "output_type": "display_data",
          "data": {
            "text/plain": [
              "<IPython.core.display.Javascript object>"
            ],
            "application/javascript": [
              "window[\"4a6e407c-af89-11f0-88c9-0242ac1c000c\"] = google.colab.output.setActiveOutputArea(window[\"4a6df7ca-af89-11f0-88c9-0242ac1c000c\"]);\n",
              "//# sourceURL=js_bad217e90a"
            ]
          },
          "metadata": {}
        },
        {
          "output_type": "display_data",
          "data": {
            "text/plain": [
              "<IPython.core.display.Javascript object>"
            ],
            "application/javascript": [
              "window[\"4a6e8974-af89-11f0-88c9-0242ac1c000c\"] = window[\"id1\"].setSelectedTabIndex(4);\n",
              "//# sourceURL=js_251dc52842"
            ]
          },
          "metadata": {}
        },
        {
          "output_type": "display_data",
          "data": {
            "text/plain": [
              "<IPython.core.display.Javascript object>"
            ],
            "application/javascript": [
              "window[\"4a6f87e8-af89-11f0-88c9-0242ac1c000c\"] = google.colab.output.setActiveOutputArea(window[\"4a6d7eda-af89-11f0-88c9-0242ac1c000c\"]);\n",
              "//# sourceURL=js_a0036ae903"
            ]
          },
          "metadata": {}
        },
        {
          "output_type": "display_data",
          "data": {
            "text/plain": [
              "<IPython.core.display.Javascript object>"
            ],
            "application/javascript": [
              "window[\"4a70b96a-af89-11f0-88c9-0242ac1c000c\"] = google.colab.output.getActiveOutputArea();\n",
              "//# sourceURL=js_c280ae3473"
            ]
          },
          "metadata": {}
        },
        {
          "output_type": "display_data",
          "data": {
            "text/plain": [
              "<IPython.core.display.Javascript object>"
            ],
            "application/javascript": [
              "window[\"4a711928-af89-11f0-88c9-0242ac1c000c\"] = document.querySelector(\"#id1_content_3\");\n",
              "//# sourceURL=js_b05ce573c7"
            ]
          },
          "metadata": {}
        },
        {
          "output_type": "display_data",
          "data": {
            "text/plain": [
              "<IPython.core.display.Javascript object>"
            ],
            "application/javascript": [
              "window[\"4a7158f2-af89-11f0-88c9-0242ac1c000c\"] = google.colab.output.setActiveOutputArea(window[\"4a711928-af89-11f0-88c9-0242ac1c000c\"]);\n",
              "//# sourceURL=js_75ac19d344"
            ]
          },
          "metadata": {}
        },
        {
          "output_type": "display_data",
          "data": {
            "text/plain": [
              "<IPython.core.display.Javascript object>"
            ],
            "application/javascript": [
              "window[\"4a718cc8-af89-11f0-88c9-0242ac1c000c\"] = window[\"id1\"].setSelectedTabIndex(3);\n",
              "//# sourceURL=js_22e1a63a1f"
            ]
          },
          "metadata": {}
        },
        {
          "output_type": "display_data",
          "data": {
            "text/plain": [
              "<IPython.core.display.HTML object>"
            ],
            "text/html": [
              "<link rel=stylesheet type=text/css href='/nbextensions/google.colab/tabbar.css'></link>"
            ]
          },
          "metadata": {}
        },
        {
          "output_type": "display_data",
          "data": {
            "text/plain": [
              "<IPython.core.display.HTML object>"
            ],
            "text/html": [
              "<script src='/nbextensions/google.colab/tabbar_main.min.js'></script>"
            ]
          },
          "metadata": {}
        },
        {
          "output_type": "display_data",
          "data": {
            "text/plain": [
              "<IPython.core.display.HTML object>"
            ],
            "text/html": [
              "<div id=\"id5\"></div>"
            ]
          },
          "metadata": {}
        },
        {
          "output_type": "display_data",
          "data": {
            "text/plain": [
              "<IPython.core.display.Javascript object>"
            ],
            "application/javascript": [
              "window[\"4a73404a-af89-11f0-88c9-0242ac1c000c\"] = colab_lib.createTabBar({\"location\": \"top\", \"elementId\": \"id5\", \"tabNames\": [\"SQL\", \"Result\"], \"initialSelection\": 0, \"contentBorder\": [\"0px\"], \"contentHeight\": [\"initial\"], \"borderColor\": [\"#a7a7a7\"]});\n",
              "//# sourceURL=js_75843731a1"
            ]
          },
          "metadata": {}
        },
        {
          "output_type": "display_data",
          "data": {
            "text/plain": [
              "<IPython.core.display.Javascript object>"
            ],
            "application/javascript": [
              "window[\"4a736b88-af89-11f0-88c9-0242ac1c000c\"] = window[\"id5\"].setSelectedTabIndex(0);\n",
              "//# sourceURL=js_1ed91f9a68"
            ]
          },
          "metadata": {}
        },
        {
          "output_type": "display_data",
          "data": {
            "text/plain": [
              "<IPython.core.display.Javascript object>"
            ],
            "application/javascript": [
              "window[\"4a7471ae-af89-11f0-88c9-0242ac1c000c\"] = google.colab.output.getActiveOutputArea();\n",
              "//# sourceURL=js_c5b5140a97"
            ]
          },
          "metadata": {}
        },
        {
          "output_type": "display_data",
          "data": {
            "text/plain": [
              "<IPython.core.display.Javascript object>"
            ],
            "application/javascript": [
              "window[\"4a74acb4-af89-11f0-88c9-0242ac1c000c\"] = document.querySelector(\"#id5_content_0\");\n",
              "//# sourceURL=js_379685f384"
            ]
          },
          "metadata": {}
        },
        {
          "output_type": "display_data",
          "data": {
            "text/plain": [
              "<IPython.core.display.Javascript object>"
            ],
            "application/javascript": [
              "window[\"4a74e22e-af89-11f0-88c9-0242ac1c000c\"] = google.colab.output.setActiveOutputArea(window[\"4a74acb4-af89-11f0-88c9-0242ac1c000c\"]);\n",
              "//# sourceURL=js_dc2376eae0"
            ]
          },
          "metadata": {}
        },
        {
          "output_type": "display_data",
          "data": {
            "text/plain": [
              "<IPython.core.display.Javascript object>"
            ],
            "application/javascript": [
              "window[\"4a7524be-af89-11f0-88c9-0242ac1c000c\"] = window[\"id5\"].setSelectedTabIndex(0);\n",
              "//# sourceURL=js_18b9789f42"
            ]
          },
          "metadata": {}
        },
        {
          "output_type": "stream",
          "name": "stdout",
          "text": [
            "The following query is stored at \u001b[1mSomeMovies_sql\u001b[0m variable.\n",
            "-- Initializing PostgreSQL environment.\n",
            "set client_min_messages to warning;\n",
            "create schema if not exists logica_home;\n",
            "-- Empty logica type: logicarecord893574736;\n",
            "DO $$ BEGIN if not exists (select 'I(am) :- I(think)' from pg_type where typname = 'logicarecord893574736') then create type logicarecord893574736 as (nirvana numeric); end if; END $$;\n",
            "\n",
            "\n",
            "DO $$\n",
            "BEGIN\n",
            "-- Logica type: logicarecord481217614\n",
            "if not exists (select 'I(am) :- I(think)' from pg_type where typname = 'logicarecord481217614') then create type logicarecord481217614 as (r logicarecord893574736); end if;\n",
            "-- Logica type: logicarecord86796764\n",
            "if not exists (select 'I(am) :- I(think)' from pg_type where typname = 'logicarecord86796764') then create type logicarecord86796764 as (s text); end if;\n",
            "-- Logica type: logicarecord275391720\n",
            "if not exists (select 'I(am) :- I(think)' from pg_type where typname = 'logicarecord275391720') then create type logicarecord275391720 as (character text, name text); end if;\n",
            "-- Logica type: logicarecord573040768\n",
            "if not exists (select 'I(am) :- I(think)' from pg_type where typname = 'logicarecord573040768') then create type logicarecord573040768 as (department text, job text, name text); end if;\n",
            "-- Logica type: logicarecord500250946\n",
            "if not exists (select 'I(am) :- I(think)' from pg_type where typname = 'logicarecord500250946') then create type logicarecord500250946 as (\"cast\" logicarecord275391720[], crew logicarecord573040768[], movie_id numeric); end if;\n",
            "END $$;\n",
            "SELECT\n",
            "  (logica_home_metadata).*\n",
            "FROM\n",
            "  logica_home.metadata AS logica_home_metadata LIMIT 100;\n"
          ]
        },
        {
          "output_type": "display_data",
          "data": {
            "text/plain": [
              "<IPython.core.display.Javascript object>"
            ],
            "application/javascript": [
              "window[\"4a75c2f2-af89-11f0-88c9-0242ac1c000c\"] = google.colab.output.setActiveOutputArea(window[\"4a7471ae-af89-11f0-88c9-0242ac1c000c\"]);\n",
              "//# sourceURL=js_10197632fb"
            ]
          },
          "metadata": {}
        },
        {
          "output_type": "display_data",
          "data": {
            "text/plain": [
              "<IPython.core.display.Javascript object>"
            ],
            "application/javascript": [
              "window[\"4a76e7e0-af89-11f0-88c9-0242ac1c000c\"] = google.colab.output.getActiveOutputArea();\n",
              "//# sourceURL=js_e1a7b77b2d"
            ]
          },
          "metadata": {}
        },
        {
          "output_type": "display_data",
          "data": {
            "text/plain": [
              "<IPython.core.display.Javascript object>"
            ],
            "application/javascript": [
              "window[\"4a771ecc-af89-11f0-88c9-0242ac1c000c\"] = document.querySelector(\"#id5_content_1\");\n",
              "//# sourceURL=js_3a900517b3"
            ]
          },
          "metadata": {}
        },
        {
          "output_type": "display_data",
          "data": {
            "text/plain": [
              "<IPython.core.display.Javascript object>"
            ],
            "application/javascript": [
              "window[\"4a777106-af89-11f0-88c9-0242ac1c000c\"] = google.colab.output.setActiveOutputArea(window[\"4a771ecc-af89-11f0-88c9-0242ac1c000c\"]);\n",
              "//# sourceURL=js_a2c7cd0529"
            ]
          },
          "metadata": {}
        },
        {
          "output_type": "display_data",
          "data": {
            "text/plain": [
              "<IPython.core.display.Javascript object>"
            ],
            "application/javascript": [
              "window[\"4a779dc0-af89-11f0-88c9-0242ac1c000c\"] = window[\"id5\"].setSelectedTabIndex(1);\n",
              "//# sourceURL=js_1eff3a9b9a"
            ]
          },
          "metadata": {}
        },
        {
          "output_type": "stream",
          "name": "stdout",
          "text": [
            "The following table is stored at \u001b[1mSomeMovies\u001b[0m variable.\n"
          ]
        },
        {
          "output_type": "display_data",
          "data": {
            "text/plain": [
              "<IPython.core.display.HTML object>"
            ],
            "text/html": [
              "<table border=\"1\" class=\"dataframe\">\n",
              "  <thead>\n",
              "    <tr style=\"text-align: right;\">\n",
              "      <th></th>\n",
              "      <th>movie_id</th>\n",
              "      <th>original_title</th>\n",
              "    </tr>\n",
              "  </thead>\n",
              "  <tbody>\n",
              "    <tr>\n",
              "      <th>0</th>\n",
              "      <td>862</td>\n",
              "      <td>Toy Story</td>\n",
              "    </tr>\n",
              "    <tr>\n",
              "      <th>1</th>\n",
              "      <td>8844</td>\n",
              "      <td>Jumanji</td>\n",
              "    </tr>\n",
              "    <tr>\n",
              "      <th>2</th>\n",
              "      <td>15602</td>\n",
              "      <td>Grumpier Old Men</td>\n",
              "    </tr>\n",
              "    <tr>\n",
              "      <th>3</th>\n",
              "      <td>31357</td>\n",
              "      <td>Waiting to Exhale</td>\n",
              "    </tr>\n",
              "    <tr>\n",
              "      <th>4</th>\n",
              "      <td>11862</td>\n",
              "      <td>Father of the Bride Part II</td>\n",
              "    </tr>\n",
              "    <tr>\n",
              "      <th>5</th>\n",
              "      <td>949</td>\n",
              "      <td>Heat</td>\n",
              "    </tr>\n",
              "    <tr>\n",
              "      <th>6</th>\n",
              "      <td>11860</td>\n",
              "      <td>Sabrina</td>\n",
              "    </tr>\n",
              "    <tr>\n",
              "      <th>7</th>\n",
              "      <td>45325</td>\n",
              "      <td>Tom and Huck</td>\n",
              "    </tr>\n",
              "    <tr>\n",
              "      <th>8</th>\n",
              "      <td>9091</td>\n",
              "      <td>Sudden Death</td>\n",
              "    </tr>\n",
              "    <tr>\n",
              "      <th>9</th>\n",
              "      <td>710</td>\n",
              "      <td>GoldenEye</td>\n",
              "    </tr>\n",
              "    <tr>\n",
              "      <th>10</th>\n",
              "      <td>9087</td>\n",
              "      <td>The American President</td>\n",
              "    </tr>\n",
              "    <tr>\n",
              "      <th>11</th>\n",
              "      <td>12110</td>\n",
              "      <td>Dracula: Dead and Loving It</td>\n",
              "    </tr>\n",
              "    <tr>\n",
              "      <th>12</th>\n",
              "      <td>21032</td>\n",
              "      <td>Balto</td>\n",
              "    </tr>\n",
              "    <tr>\n",
              "      <th>13</th>\n",
              "      <td>10858</td>\n",
              "      <td>Nixon</td>\n",
              "    </tr>\n",
              "    <tr>\n",
              "      <th>14</th>\n",
              "      <td>1408</td>\n",
              "      <td>Cutthroat Island</td>\n",
              "    </tr>\n",
              "    <tr>\n",
              "      <th>15</th>\n",
              "      <td>524</td>\n",
              "      <td>Casino</td>\n",
              "    </tr>\n",
              "    <tr>\n",
              "      <th>16</th>\n",
              "      <td>4584</td>\n",
              "      <td>Sense and Sensibility</td>\n",
              "    </tr>\n",
              "    <tr>\n",
              "      <th>17</th>\n",
              "      <td>5</td>\n",
              "      <td>Four Rooms</td>\n",
              "    </tr>\n",
              "    <tr>\n",
              "      <th>18</th>\n",
              "      <td>9273</td>\n",
              "      <td>Ace Ventura: When Nature Calls</td>\n",
              "    </tr>\n",
              "    <tr>\n",
              "      <th>19</th>\n",
              "      <td>11517</td>\n",
              "      <td>Money Train</td>\n",
              "    </tr>\n",
              "    <tr>\n",
              "      <th>20</th>\n",
              "      <td>8012</td>\n",
              "      <td>Get Shorty</td>\n",
              "    </tr>\n",
              "    <tr>\n",
              "      <th>21</th>\n",
              "      <td>1710</td>\n",
              "      <td>Copycat</td>\n",
              "    </tr>\n",
              "    <tr>\n",
              "      <th>22</th>\n",
              "      <td>9691</td>\n",
              "      <td>Assassins</td>\n",
              "    </tr>\n",
              "    <tr>\n",
              "      <th>23</th>\n",
              "      <td>12665</td>\n",
              "      <td>Powder</td>\n",
              "    </tr>\n",
              "    <tr>\n",
              "      <th>24</th>\n",
              "      <td>451</td>\n",
              "      <td>Leaving Las Vegas</td>\n",
              "    </tr>\n",
              "    <tr>\n",
              "      <th>25</th>\n",
              "      <td>16420</td>\n",
              "      <td>Othello</td>\n",
              "    </tr>\n",
              "    <tr>\n",
              "      <th>26</th>\n",
              "      <td>9263</td>\n",
              "      <td>Now and Then</td>\n",
              "    </tr>\n",
              "    <tr>\n",
              "      <th>27</th>\n",
              "      <td>17015</td>\n",
              "      <td>Persuasion</td>\n",
              "    </tr>\n",
              "    <tr>\n",
              "      <th>28</th>\n",
              "      <td>902</td>\n",
              "      <td>La Cité des Enfants Perdus</td>\n",
              "    </tr>\n",
              "    <tr>\n",
              "      <th>29</th>\n",
              "      <td>37557</td>\n",
              "      <td>摇啊摇，摇到外婆桥</td>\n",
              "    </tr>\n",
              "    <tr>\n",
              "      <th>...</th>\n",
              "      <td>...</td>\n",
              "      <td>...</td>\n",
              "    </tr>\n",
              "    <tr>\n",
              "      <th>70</th>\n",
              "      <td>11859</td>\n",
              "      <td>Fair Game</td>\n",
              "    </tr>\n",
              "    <tr>\n",
              "      <th>71</th>\n",
              "      <td>28387</td>\n",
              "      <td>Kicking and Screaming</td>\n",
              "    </tr>\n",
              "    <tr>\n",
              "      <th>72</th>\n",
              "      <td>48750</td>\n",
              "      <td>Les misérables</td>\n",
              "    </tr>\n",
              "    <tr>\n",
              "      <th>73</th>\n",
              "      <td>20927</td>\n",
              "      <td>Bed of Roses</td>\n",
              "    </tr>\n",
              "    <tr>\n",
              "      <th>74</th>\n",
              "      <td>36929</td>\n",
              "      <td>Big Bully</td>\n",
              "    </tr>\n",
              "    <tr>\n",
              "      <th>75</th>\n",
              "      <td>9102</td>\n",
              "      <td>Screamers</td>\n",
              "    </tr>\n",
              "    <tr>\n",
              "      <th>76</th>\n",
              "      <td>124626</td>\n",
              "      <td>Nico Icon</td>\n",
              "    </tr>\n",
              "    <tr>\n",
              "      <th>77</th>\n",
              "      <td>27526</td>\n",
              "      <td>The Crossing Guard</td>\n",
              "    </tr>\n",
              "    <tr>\n",
              "      <th>78</th>\n",
              "      <td>9623</td>\n",
              "      <td>The Juror</td>\n",
              "    </tr>\n",
              "    <tr>\n",
              "      <th>79</th>\n",
              "      <td>46785</td>\n",
              "      <td>بادکنک سفید</td>\n",
              "    </tr>\n",
              "    <tr>\n",
              "      <th>80</th>\n",
              "      <td>400</td>\n",
              "      <td>Things to Do in Denver When You're Dead</td>\n",
              "    </tr>\n",
              "    <tr>\n",
              "      <th>81</th>\n",
              "      <td>880</td>\n",
              "      <td>Antonia</td>\n",
              "    </tr>\n",
              "    <tr>\n",
              "      <th>82</th>\n",
              "      <td>146599</td>\n",
              "      <td>Once Upon a Time... When We Were Colored</td>\n",
              "    </tr>\n",
              "    <tr>\n",
              "      <th>83</th>\n",
              "      <td>188588</td>\n",
              "      <td>Last Summer in the Hamptons</td>\n",
              "    </tr>\n",
              "    <tr>\n",
              "      <th>84</th>\n",
              "      <td>8447</td>\n",
              "      <td>Angels and Insects</td>\n",
              "    </tr>\n",
              "    <tr>\n",
              "      <th>85</th>\n",
              "      <td>10534</td>\n",
              "      <td>White Squall</td>\n",
              "    </tr>\n",
              "    <tr>\n",
              "      <th>86</th>\n",
              "      <td>17414</td>\n",
              "      <td>Dunston Checks In</td>\n",
              "    </tr>\n",
              "    <tr>\n",
              "      <th>87</th>\n",
              "      <td>13997</td>\n",
              "      <td>Black Sheep</td>\n",
              "    </tr>\n",
              "    <tr>\n",
              "      <th>88</th>\n",
              "      <td>2086</td>\n",
              "      <td>Nick of Time</td>\n",
              "    </tr>\n",
              "    <tr>\n",
              "      <th>89</th>\n",
              "      <td>61548</td>\n",
              "      <td>The Journey of August King</td>\n",
              "    </tr>\n",
              "    <tr>\n",
              "      <th>90</th>\n",
              "      <td>9095</td>\n",
              "      <td>Mary Reilly</td>\n",
              "    </tr>\n",
              "    <tr>\n",
              "      <th>91</th>\n",
              "      <td>12158</td>\n",
              "      <td>Vampire in Brooklyn</td>\n",
              "    </tr>\n",
              "    <tr>\n",
              "      <th>92</th>\n",
              "      <td>9283</td>\n",
              "      <td>Beautiful Girls</td>\n",
              "    </tr>\n",
              "    <tr>\n",
              "      <th>93</th>\n",
              "      <td>9208</td>\n",
              "      <td>Broken Arrow</td>\n",
              "    </tr>\n",
              "    <tr>\n",
              "      <th>94</th>\n",
              "      <td>40154</td>\n",
              "      <td>A Midwinter's Tale</td>\n",
              "    </tr>\n",
              "    <tr>\n",
              "      <th>95</th>\n",
              "      <td>406</td>\n",
              "      <td>La Haine</td>\n",
              "    </tr>\n",
              "    <tr>\n",
              "      <th>96</th>\n",
              "      <td>45549</td>\n",
              "      <td>Shopping</td>\n",
              "    </tr>\n",
              "    <tr>\n",
              "      <th>97</th>\n",
              "      <td>63076</td>\n",
              "      <td>Heidi Fleiss: Hollywood Madam</td>\n",
              "    </tr>\n",
              "    <tr>\n",
              "      <th>98</th>\n",
              "      <td>11062</td>\n",
              "      <td>City Hall</td>\n",
              "    </tr>\n",
              "    <tr>\n",
              "      <th>99</th>\n",
              "      <td>13685</td>\n",
              "      <td>Bottle Rocket</td>\n",
              "    </tr>\n",
              "  </tbody>\n",
              "</table>"
            ]
          },
          "metadata": {}
        },
        {
          "output_type": "display_data",
          "data": {
            "text/plain": [
              "<IPython.core.display.Javascript object>"
            ],
            "application/javascript": [
              "window[\"4a787fc4-af89-11f0-88c9-0242ac1c000c\"] = google.colab.output.setActiveOutputArea(window[\"4a76e7e0-af89-11f0-88c9-0242ac1c000c\"]);\n",
              "//# sourceURL=js_dd08768cef"
            ]
          },
          "metadata": {}
        },
        {
          "output_type": "display_data",
          "data": {
            "text/plain": [
              "<IPython.core.display.Javascript object>"
            ],
            "application/javascript": [
              "window[\"4a797136-af89-11f0-88c9-0242ac1c000c\"] = google.colab.output.setActiveOutputArea(window[\"4a70b96a-af89-11f0-88c9-0242ac1c000c\"]);\n",
              "//# sourceURL=js_2718bc2b23"
            ]
          },
          "metadata": {}
        },
        {
          "output_type": "display_data",
          "data": {
            "text/plain": [
              "<IPython.core.display.Javascript object>"
            ],
            "application/javascript": [
              "window[\"4a7aa1be-af89-11f0-88c9-0242ac1c000c\"] = google.colab.output.getActiveOutputArea();\n",
              "//# sourceURL=js_4590450407"
            ]
          },
          "metadata": {}
        },
        {
          "output_type": "display_data",
          "data": {
            "text/plain": [
              "<IPython.core.display.Javascript object>"
            ],
            "application/javascript": [
              "window[\"4a7aec1e-af89-11f0-88c9-0242ac1c000c\"] = document.querySelector(\"#id1_content_4\");\n",
              "//# sourceURL=js_1f513e9a47"
            ]
          },
          "metadata": {}
        },
        {
          "output_type": "display_data",
          "data": {
            "text/plain": [
              "<IPython.core.display.Javascript object>"
            ],
            "application/javascript": [
              "window[\"4a7b2116-af89-11f0-88c9-0242ac1c000c\"] = google.colab.output.setActiveOutputArea(window[\"4a7aec1e-af89-11f0-88c9-0242ac1c000c\"]);\n",
              "//# sourceURL=js_a2cf7a8828"
            ]
          },
          "metadata": {}
        },
        {
          "output_type": "display_data",
          "data": {
            "text/plain": [
              "<IPython.core.display.Javascript object>"
            ],
            "application/javascript": [
              "window[\"4a7b6dc4-af89-11f0-88c9-0242ac1c000c\"] = window[\"id1\"].setSelectedTabIndex(4);\n",
              "//# sourceURL=js_d03c9c5334"
            ]
          },
          "metadata": {}
        },
        {
          "output_type": "display_data",
          "data": {
            "image/svg+xml": "<?xml version=\"1.0\" encoding=\"UTF-8\" standalone=\"no\"?>\n<!DOCTYPE svg PUBLIC \"-//W3C//DTD SVG 1.1//EN\"\n \"http://www.w3.org/Graphics/SVG/1.1/DTD/svg11.dtd\">\n<!-- Generated by graphviz version 2.43.0 (0)\n -->\n<!-- Title: Concertina Pages: 1 -->\n<svg width=\"628pt\" height=\"116pt\"\n viewBox=\"0.00 0.00 627.77 116.00\" xmlns=\"http://www.w3.org/2000/svg\" xmlns:xlink=\"http://www.w3.org/1999/xlink\">\n<g id=\"graph0\" class=\"graph\" transform=\"scale(1 1) rotate(0) translate(4 112)\">\n<title>Concertina</title>\n<polygon fill=\"white\" stroke=\"transparent\" points=\"-4,4 -4,-112 623.77,-112 623.77,4 -4,4\"/>\n<!-- logica_home.credits -->\n<g id=\"node1\" class=\"node\">\n<title>logica_home.credits</title>\n<path fill=\"#b0e2ff\" stroke=\"#575757\" d=\"M570.3,-104.73C570.3,-106.53 541.84,-108 506.8,-108 471.77,-108 443.3,-106.53 443.3,-104.73 443.3,-104.73 443.3,-75.27 443.3,-75.27 443.3,-73.47 471.77,-72 506.8,-72 541.84,-72 570.3,-73.47 570.3,-75.27 570.3,-75.27 570.3,-104.73 570.3,-104.73\"/>\n<path fill=\"none\" stroke=\"#575757\" d=\"M570.3,-104.73C570.3,-102.92 541.84,-101.45 506.8,-101.45 471.77,-101.45 443.3,-102.92 443.3,-104.73\"/>\n<text text-anchor=\"middle\" x=\"506.8\" y=\"-86.3\" font-family=\"Times,serif\" font-size=\"14.00\">logica_home.credits</text>\n</g>\n<!-- Stats -->\n<g id=\"node3\" class=\"node\">\n<title>Stats</title>\n<path fill=\"#caff70\" stroke=\"#575757\" d=\"M209.88,-31.03C209.88,-31.03 192.18,-22.97 192.18,-22.97 186.72,-20.49 186.72,-15.51 192.18,-13.03 192.18,-13.03 209.88,-4.97 209.88,-4.97 215.34,-2.49 226.27,-2.49 231.73,-4.97 231.73,-4.97 249.43,-13.03 249.43,-13.03 254.89,-15.51 254.89,-20.49 249.43,-22.97 249.43,-22.97 231.73,-31.03 231.73,-31.03 226.27,-33.51 215.34,-33.51 209.88,-31.03\"/>\n<text text-anchor=\"middle\" x=\"220.8\" y=\"-14.3\" font-family=\"Times,serif\" font-size=\"14.00\">Stats</text>\n</g>\n<!-- logica_home.credits&#45;&gt;Stats -->\n<g id=\"edge1\" class=\"edge\">\n<title>logica_home.credits&#45;&gt;Stats</title>\n<path fill=\"none\" stroke=\"black\" d=\"M443.14,-77.01C394.9,-67.39 327.19,-52.77 268.8,-36 262.93,-34.31 256.72,-32.29 250.79,-30.25\"/>\n<polygon fill=\"black\" stroke=\"black\" points=\"251.78,-26.88 241.18,-26.83 249.43,-33.48 251.78,-26.88\"/>\n</g>\n<!-- SomeCredits -->\n<g id=\"node5\" class=\"node\">\n<title>SomeCredits</title>\n<path fill=\"#caff70\" stroke=\"#575757\" d=\"M528.1,-33.36C528.1,-33.36 471.58,-20.64 471.58,-20.64 465.73,-19.32 465.73,-16.68 471.58,-15.36 471.58,-15.36 528.1,-2.64 528.1,-2.64 533.95,-1.32 545.66,-1.32 551.51,-2.64 551.51,-2.64 608.03,-15.36 608.03,-15.36 613.88,-16.68 613.88,-19.32 608.03,-20.64 608.03,-20.64 551.51,-33.36 551.51,-33.36 545.66,-34.68 533.95,-34.68 528.1,-33.36\"/>\n<text text-anchor=\"middle\" x=\"539.8\" y=\"-14.3\" font-family=\"Times,serif\" font-size=\"14.00\">SomeCredits</text>\n</g>\n<!-- logica_home.credits&#45;&gt;SomeCredits -->\n<g id=\"edge4\" class=\"edge\">\n<title>logica_home.credits&#45;&gt;SomeCredits</title>\n<path fill=\"none\" stroke=\"black\" d=\"M514.96,-71.7C518.93,-63.28 523.77,-53.02 528.12,-43.79\"/>\n<polygon fill=\"black\" stroke=\"black\" points=\"531.32,-45.21 532.42,-34.67 524.99,-42.22 531.32,-45.21\"/>\n</g>\n<!-- logica_home.metadata -->\n<g id=\"node2\" class=\"node\">\n<title>logica_home.metadata</title>\n<path fill=\"#b0e2ff\" stroke=\"#575757\" d=\"M214.8,-104.73C214.8,-106.53 183.43,-108 144.8,-108 106.18,-108 74.8,-106.53 74.8,-104.73 74.8,-104.73 74.8,-75.27 74.8,-75.27 74.8,-73.47 106.18,-72 144.8,-72 183.43,-72 214.8,-73.47 214.8,-75.27 214.8,-75.27 214.8,-104.73 214.8,-104.73\"/>\n<path fill=\"none\" stroke=\"#575757\" d=\"M214.8,-104.73C214.8,-102.92 183.43,-101.45 144.8,-101.45 106.18,-101.45 74.8,-102.92 74.8,-104.73\"/>\n<text text-anchor=\"middle\" x=\"144.8\" y=\"-86.3\" font-family=\"Times,serif\" font-size=\"14.00\">logica_home.metadata</text>\n</g>\n<!-- logica_home.metadata&#45;&gt;Stats -->\n<g id=\"edge3\" class=\"edge\">\n<title>logica_home.metadata&#45;&gt;Stats</title>\n<path fill=\"none\" stroke=\"black\" d=\"M163.59,-71.7C174.88,-61.3 189.23,-48.08 200.74,-37.48\"/>\n<polygon fill=\"black\" stroke=\"black\" points=\"203.19,-39.98 208.18,-30.63 198.45,-34.83 203.19,-39.98\"/>\n</g>\n<!-- SomeMovies -->\n<g id=\"node7\" class=\"node\">\n<title>SomeMovies</title>\n<path fill=\"#caff70\" stroke=\"#575757\" d=\"M70.09,-33.42C70.09,-33.42 11.91,-20.58 11.91,-20.58 6.05,-19.29 6.05,-16.71 11.91,-15.42 11.91,-15.42 70.09,-2.58 70.09,-2.58 75.95,-1.29 87.66,-1.29 93.52,-2.58 93.52,-2.58 151.7,-15.42 151.7,-15.42 157.56,-16.71 157.56,-19.29 151.7,-20.58 151.7,-20.58 93.52,-33.42 93.52,-33.42 87.66,-34.71 75.95,-34.71 70.09,-33.42\"/>\n<text text-anchor=\"middle\" x=\"81.8\" y=\"-14.3\" font-family=\"Times,serif\" font-size=\"14.00\">SomeMovies</text>\n</g>\n<!-- logica_home.metadata&#45;&gt;SomeMovies -->\n<g id=\"edge6\" class=\"edge\">\n<title>logica_home.metadata&#45;&gt;SomeMovies</title>\n<path fill=\"none\" stroke=\"black\" d=\"M129.23,-71.7C120.84,-62.37 110.39,-50.76 101.44,-40.82\"/>\n<polygon fill=\"black\" stroke=\"black\" points=\"103.95,-38.37 94.66,-33.28 98.74,-43.05 103.95,-38.37\"/>\n</g>\n<!-- logica_home.ratings -->\n<g id=\"node4\" class=\"node\">\n<title>logica_home.ratings</title>\n<path fill=\"#b0e2ff\" stroke=\"#575757\" d=\"M391.8,-104.73C391.8,-106.53 363.12,-108 327.8,-108 292.49,-108 263.8,-106.53 263.8,-104.73 263.8,-104.73 263.8,-75.27 263.8,-75.27 263.8,-73.47 292.49,-72 327.8,-72 363.12,-72 391.8,-73.47 391.8,-75.27 391.8,-75.27 391.8,-104.73 391.8,-104.73\"/>\n<path fill=\"none\" stroke=\"#575757\" d=\"M391.8,-104.73C391.8,-102.92 363.12,-101.45 327.8,-101.45 292.49,-101.45 263.8,-102.92 263.8,-104.73\"/>\n<text text-anchor=\"middle\" x=\"327.8\" y=\"-86.3\" font-family=\"Times,serif\" font-size=\"14.00\">logica_home.ratings</text>\n</g>\n<!-- logica_home.ratings&#45;&gt;Stats -->\n<g id=\"edge2\" class=\"edge\">\n<title>logica_home.ratings&#45;&gt;Stats</title>\n<path fill=\"none\" stroke=\"black\" d=\"M301.63,-71.88C284.3,-60.54 261.74,-45.78 244.86,-34.74\"/>\n<polygon fill=\"black\" stroke=\"black\" points=\"246.42,-31.57 236.13,-29.03 242.59,-37.43 246.42,-31.57\"/>\n</g>\n<!-- SomeRatings -->\n<g id=\"node6\" class=\"node\">\n<title>SomeRatings</title>\n<path fill=\"#caff70\" stroke=\"#575757\" d=\"M348.09,-33.42C348.09,-33.42 289.91,-20.58 289.91,-20.58 284.05,-19.29 284.05,-16.71 289.91,-15.42 289.91,-15.42 348.09,-2.58 348.09,-2.58 353.95,-1.29 365.66,-1.29 371.52,-2.58 371.52,-2.58 429.7,-15.42 429.7,-15.42 435.56,-16.71 435.56,-19.29 429.7,-20.58 429.7,-20.58 371.52,-33.42 371.52,-33.42 365.66,-34.71 353.95,-34.71 348.09,-33.42\"/>\n<text text-anchor=\"middle\" x=\"359.8\" y=\"-14.3\" font-family=\"Times,serif\" font-size=\"14.00\">SomeRatings</text>\n</g>\n<!-- logica_home.ratings&#45;&gt;SomeRatings -->\n<g id=\"edge5\" class=\"edge\">\n<title>logica_home.ratings&#45;&gt;SomeRatings</title>\n<path fill=\"none\" stroke=\"black\" d=\"M335.72,-71.7C339.56,-63.28 344.25,-53.02 348.47,-43.79\"/>\n<polygon fill=\"black\" stroke=\"black\" points=\"351.67,-45.22 352.64,-34.67 345.3,-42.31 351.67,-45.22\"/>\n</g>\n</g>\n</svg>\n",
            "text/plain": [
              "<graphviz.graphs.Digraph at 0x7e2f72f03ec0>"
            ]
          },
          "metadata": {}
        },
        {
          "output_type": "stream",
          "name": "stdout",
          "text": [
            "Running predicate: SomeCredits (98 ms)\n"
          ]
        },
        {
          "output_type": "stream",
          "name": "stderr",
          "text": [
            "/content/logica/colab_logica.py:189: FutureWarning: DataFrame.applymap has been deprecated. Use DataFrame.map instead.\n",
            "  df = df.applymap(psql_logica.DigestPsqlType)\n"
          ]
        },
        {
          "output_type": "stream",
          "name": "stdout",
          "text": [
            "Running predicate: SomeRatings (4 ms)\n"
          ]
        },
        {
          "output_type": "stream",
          "name": "stderr",
          "text": [
            "/content/logica/colab_logica.py:189: FutureWarning: DataFrame.applymap has been deprecated. Use DataFrame.map instead.\n",
            "  df = df.applymap(psql_logica.DigestPsqlType)\n"
          ]
        },
        {
          "output_type": "stream",
          "name": "stdout",
          "text": [
            "Running predicate: SomeMovies (3 ms)\n"
          ]
        },
        {
          "output_type": "stream",
          "name": "stderr",
          "text": [
            "/content/logica/colab_logica.py:189: FutureWarning: DataFrame.applymap has been deprecated. Use DataFrame.map instead.\n",
            "  df = df.applymap(psql_logica.DigestPsqlType)\n"
          ]
        },
        {
          "output_type": "stream",
          "name": "stdout",
          "text": [
            "Running predicate: Stats (1039 ms)\n"
          ]
        },
        {
          "output_type": "stream",
          "name": "stderr",
          "text": [
            "/content/logica/colab_logica.py:189: FutureWarning: DataFrame.applymap has been deprecated. Use DataFrame.map instead.\n",
            "  df = df.applymap(psql_logica.DigestPsqlType)\n"
          ]
        },
        {
          "output_type": "display_data",
          "data": {
            "text/plain": [
              "<IPython.core.display.Javascript object>"
            ],
            "application/javascript": [
              "window[\"4bad9938-af89-11f0-88c9-0242ac1c000c\"] = google.colab.output.setActiveOutputArea(window[\"4a7aa1be-af89-11f0-88c9-0242ac1c000c\"]);\n",
              "//# sourceURL=js_836535b052"
            ]
          },
          "metadata": {}
        },
        {
          "output_type": "display_data",
          "data": {
            "text/plain": [
              "<IPython.core.display.Javascript object>"
            ],
            "application/javascript": [
              "window[\"4baf2032-af89-11f0-88c9-0242ac1c000c\"] = google.colab.output.getActiveOutputArea();\n",
              "//# sourceURL=js_15ff87d17a"
            ]
          },
          "metadata": {}
        },
        {
          "output_type": "display_data",
          "data": {
            "text/plain": [
              "<IPython.core.display.Javascript object>"
            ],
            "application/javascript": [
              "window[\"4baf68f8-af89-11f0-88c9-0242ac1c000c\"] = document.querySelector(\"#id1_content_0\");\n",
              "//# sourceURL=js_8a2b6ab26d"
            ]
          },
          "metadata": {}
        },
        {
          "output_type": "display_data",
          "data": {
            "text/plain": [
              "<IPython.core.display.Javascript object>"
            ],
            "application/javascript": [
              "window[\"4bafa5f2-af89-11f0-88c9-0242ac1c000c\"] = google.colab.output.setActiveOutputArea(window[\"4baf68f8-af89-11f0-88c9-0242ac1c000c\"]);\n",
              "//# sourceURL=js_9b8f2b179a"
            ]
          },
          "metadata": {}
        },
        {
          "output_type": "display_data",
          "data": {
            "text/plain": [
              "<IPython.core.display.Javascript object>"
            ],
            "application/javascript": [
              "window[\"4bafedf0-af89-11f0-88c9-0242ac1c000c\"] = window[\"id1\"].setSelectedTabIndex(0);\n",
              "//# sourceURL=js_1dc195a297"
            ]
          },
          "metadata": {}
        },
        {
          "output_type": "display_data",
          "data": {
            "text/plain": [
              "<IPython.core.display.Javascript object>"
            ],
            "application/javascript": [
              "window[\"4bb0acb8-af89-11f0-88c9-0242ac1c000c\"] = google.colab.output.getActiveOutputArea();\n",
              "//# sourceURL=js_3a41a25127"
            ]
          },
          "metadata": {}
        },
        {
          "output_type": "display_data",
          "data": {
            "text/plain": [
              "<IPython.core.display.Javascript object>"
            ],
            "application/javascript": [
              "window[\"4bb0e890-af89-11f0-88c9-0242ac1c000c\"] = document.querySelector(\"#id2_content_1\");\n",
              "//# sourceURL=js_6a52cf4d21"
            ]
          },
          "metadata": {}
        },
        {
          "output_type": "display_data",
          "data": {
            "text/plain": [
              "<IPython.core.display.Javascript object>"
            ],
            "application/javascript": [
              "window[\"4bb11356-af89-11f0-88c9-0242ac1c000c\"] = google.colab.output.setActiveOutputArea(window[\"4bb0e890-af89-11f0-88c9-0242ac1c000c\"]);\n",
              "//# sourceURL=js_f6c2088850"
            ]
          },
          "metadata": {}
        },
        {
          "output_type": "display_data",
          "data": {
            "text/plain": [
              "<IPython.core.display.Javascript object>"
            ],
            "application/javascript": [
              "window[\"4bb14d76-af89-11f0-88c9-0242ac1c000c\"] = window[\"id2\"].setSelectedTabIndex(1);\n",
              "//# sourceURL=js_b4b4ab0315"
            ]
          },
          "metadata": {}
        },
        {
          "output_type": "display_data",
          "data": {
            "text/plain": [
              "<IPython.core.display.Javascript object>"
            ],
            "application/javascript": [
              "window[\"4bb2455a-af89-11f0-88c9-0242ac1c000c\"] = google.colab.output.setActiveOutputArea(window[\"4bb0acb8-af89-11f0-88c9-0242ac1c000c\"]);\n",
              "//# sourceURL=js_4ad9ac0b2c"
            ]
          },
          "metadata": {}
        },
        {
          "output_type": "stream",
          "name": "stdout",
          "text": [
            " \n"
          ]
        },
        {
          "output_type": "display_data",
          "data": {
            "text/plain": [
              "<IPython.core.display.Javascript object>"
            ],
            "application/javascript": [
              "window[\"4bb36728-af89-11f0-88c9-0242ac1c000c\"] = google.colab.output.setActiveOutputArea(window[\"4baf2032-af89-11f0-88c9-0242ac1c000c\"]);\n",
              "//# sourceURL=js_771e91f889"
            ]
          },
          "metadata": {}
        },
        {
          "output_type": "display_data",
          "data": {
            "text/plain": [
              "<IPython.core.display.Javascript object>"
            ],
            "application/javascript": [
              "window[\"4bb47af0-af89-11f0-88c9-0242ac1c000c\"] = google.colab.output.getActiveOutputArea();\n",
              "//# sourceURL=js_d2f81b7a26"
            ]
          },
          "metadata": {}
        },
        {
          "output_type": "display_data",
          "data": {
            "text/plain": [
              "<IPython.core.display.Javascript object>"
            ],
            "application/javascript": [
              "window[\"4bb4dafe-af89-11f0-88c9-0242ac1c000c\"] = document.querySelector(\"#id1_content_1\");\n",
              "//# sourceURL=js_567a029d2f"
            ]
          },
          "metadata": {}
        },
        {
          "output_type": "display_data",
          "data": {
            "text/plain": [
              "<IPython.core.display.Javascript object>"
            ],
            "application/javascript": [
              "window[\"4bb51c12-af89-11f0-88c9-0242ac1c000c\"] = google.colab.output.setActiveOutputArea(window[\"4bb4dafe-af89-11f0-88c9-0242ac1c000c\"]);\n",
              "//# sourceURL=js_5a3ceb0051"
            ]
          },
          "metadata": {}
        },
        {
          "output_type": "display_data",
          "data": {
            "text/plain": [
              "<IPython.core.display.Javascript object>"
            ],
            "application/javascript": [
              "window[\"4bb55506-af89-11f0-88c9-0242ac1c000c\"] = window[\"id1\"].setSelectedTabIndex(1);\n",
              "//# sourceURL=js_bb2d3e32c0"
            ]
          },
          "metadata": {}
        },
        {
          "output_type": "display_data",
          "data": {
            "text/plain": [
              "<IPython.core.display.Javascript object>"
            ],
            "application/javascript": [
              "window[\"4bb639c6-af89-11f0-88c9-0242ac1c000c\"] = google.colab.output.getActiveOutputArea();\n",
              "//# sourceURL=js_b068424123"
            ]
          },
          "metadata": {}
        },
        {
          "output_type": "display_data",
          "data": {
            "text/plain": [
              "<IPython.core.display.Javascript object>"
            ],
            "application/javascript": [
              "window[\"4bb67ba2-af89-11f0-88c9-0242ac1c000c\"] = document.querySelector(\"#id3_content_1\");\n",
              "//# sourceURL=js_e40e61742e"
            ]
          },
          "metadata": {}
        },
        {
          "output_type": "display_data",
          "data": {
            "text/plain": [
              "<IPython.core.display.Javascript object>"
            ],
            "application/javascript": [
              "window[\"4bb6bb9e-af89-11f0-88c9-0242ac1c000c\"] = google.colab.output.setActiveOutputArea(window[\"4bb67ba2-af89-11f0-88c9-0242ac1c000c\"]);\n",
              "//# sourceURL=js_0d3ce55437"
            ]
          },
          "metadata": {}
        },
        {
          "output_type": "display_data",
          "data": {
            "text/plain": [
              "<IPython.core.display.Javascript object>"
            ],
            "application/javascript": [
              "window[\"4bb6edc6-af89-11f0-88c9-0242ac1c000c\"] = window[\"id3\"].setSelectedTabIndex(1);\n",
              "//# sourceURL=js_57bd076f64"
            ]
          },
          "metadata": {}
        },
        {
          "output_type": "display_data",
          "data": {
            "text/plain": [
              "<IPython.core.display.Javascript object>"
            ],
            "application/javascript": [
              "window[\"4bb93d4c-af89-11f0-88c9-0242ac1c000c\"] = google.colab.output.setActiveOutputArea(window[\"4bb639c6-af89-11f0-88c9-0242ac1c000c\"]);\n",
              "//# sourceURL=js_7e68721a9f"
            ]
          },
          "metadata": {}
        },
        {
          "output_type": "stream",
          "name": "stdout",
          "text": [
            " \n"
          ]
        },
        {
          "output_type": "display_data",
          "data": {
            "text/plain": [
              "<IPython.core.display.Javascript object>"
            ],
            "application/javascript": [
              "window[\"4bba606e-af89-11f0-88c9-0242ac1c000c\"] = google.colab.output.setActiveOutputArea(window[\"4bb47af0-af89-11f0-88c9-0242ac1c000c\"]);\n",
              "//# sourceURL=js_92e391c768"
            ]
          },
          "metadata": {}
        },
        {
          "output_type": "display_data",
          "data": {
            "text/plain": [
              "<IPython.core.display.Javascript object>"
            ],
            "application/javascript": [
              "window[\"4bbb78dc-af89-11f0-88c9-0242ac1c000c\"] = google.colab.output.getActiveOutputArea();\n",
              "//# sourceURL=js_a29e605a0c"
            ]
          },
          "metadata": {}
        },
        {
          "output_type": "display_data",
          "data": {
            "text/plain": [
              "<IPython.core.display.Javascript object>"
            ],
            "application/javascript": [
              "window[\"4bbbbab8-af89-11f0-88c9-0242ac1c000c\"] = document.querySelector(\"#id1_content_2\");\n",
              "//# sourceURL=js_c604eef7d2"
            ]
          },
          "metadata": {}
        },
        {
          "output_type": "display_data",
          "data": {
            "text/plain": [
              "<IPython.core.display.Javascript object>"
            ],
            "application/javascript": [
              "window[\"4bbbf4ce-af89-11f0-88c9-0242ac1c000c\"] = google.colab.output.setActiveOutputArea(window[\"4bbbbab8-af89-11f0-88c9-0242ac1c000c\"]);\n",
              "//# sourceURL=js_643c3229c6"
            ]
          },
          "metadata": {}
        },
        {
          "output_type": "display_data",
          "data": {
            "text/plain": [
              "<IPython.core.display.Javascript object>"
            ],
            "application/javascript": [
              "window[\"4bbc3506-af89-11f0-88c9-0242ac1c000c\"] = window[\"id1\"].setSelectedTabIndex(2);\n",
              "//# sourceURL=js_bf9b31fc4f"
            ]
          },
          "metadata": {}
        },
        {
          "output_type": "display_data",
          "data": {
            "text/plain": [
              "<IPython.core.display.Javascript object>"
            ],
            "application/javascript": [
              "window[\"4bbd3406-af89-11f0-88c9-0242ac1c000c\"] = google.colab.output.getActiveOutputArea();\n",
              "//# sourceURL=js_78255e7dc5"
            ]
          },
          "metadata": {}
        },
        {
          "output_type": "display_data",
          "data": {
            "text/plain": [
              "<IPython.core.display.Javascript object>"
            ],
            "application/javascript": [
              "window[\"4bbd70b0-af89-11f0-88c9-0242ac1c000c\"] = document.querySelector(\"#id4_content_1\");\n",
              "//# sourceURL=js_fb1482c0d6"
            ]
          },
          "metadata": {}
        },
        {
          "output_type": "display_data",
          "data": {
            "text/plain": [
              "<IPython.core.display.Javascript object>"
            ],
            "application/javascript": [
              "window[\"4bbdb692-af89-11f0-88c9-0242ac1c000c\"] = google.colab.output.setActiveOutputArea(window[\"4bbd70b0-af89-11f0-88c9-0242ac1c000c\"]);\n",
              "//# sourceURL=js_4277bd5ae2"
            ]
          },
          "metadata": {}
        },
        {
          "output_type": "display_data",
          "data": {
            "text/plain": [
              "<IPython.core.display.Javascript object>"
            ],
            "application/javascript": [
              "window[\"4bbdf562-af89-11f0-88c9-0242ac1c000c\"] = window[\"id4\"].setSelectedTabIndex(1);\n",
              "//# sourceURL=js_7bce22a4e2"
            ]
          },
          "metadata": {}
        },
        {
          "output_type": "display_data",
          "data": {
            "text/plain": [
              "<IPython.core.display.Javascript object>"
            ],
            "application/javascript": [
              "window[\"4c1f9862-af89-11f0-88c9-0242ac1c000c\"] = google.colab.output.setActiveOutputArea(window[\"4bbd3406-af89-11f0-88c9-0242ac1c000c\"]);\n",
              "//# sourceURL=js_6edacbded9"
            ]
          },
          "metadata": {}
        },
        {
          "output_type": "stream",
          "name": "stdout",
          "text": [
            " \n"
          ]
        },
        {
          "output_type": "display_data",
          "data": {
            "text/plain": [
              "<IPython.core.display.Javascript object>"
            ],
            "application/javascript": [
              "window[\"4c20a1ee-af89-11f0-88c9-0242ac1c000c\"] = google.colab.output.setActiveOutputArea(window[\"4bbb78dc-af89-11f0-88c9-0242ac1c000c\"]);\n",
              "//# sourceURL=js_cfb8e58e03"
            ]
          },
          "metadata": {}
        },
        {
          "output_type": "display_data",
          "data": {
            "text/plain": [
              "<IPython.core.display.Javascript object>"
            ],
            "application/javascript": [
              "window[\"4c21a576-af89-11f0-88c9-0242ac1c000c\"] = google.colab.output.getActiveOutputArea();\n",
              "//# sourceURL=js_4459395105"
            ]
          },
          "metadata": {}
        },
        {
          "output_type": "display_data",
          "data": {
            "text/plain": [
              "<IPython.core.display.Javascript object>"
            ],
            "application/javascript": [
              "window[\"4c21efb8-af89-11f0-88c9-0242ac1c000c\"] = document.querySelector(\"#id1_content_3\");\n",
              "//# sourceURL=js_4888e87465"
            ]
          },
          "metadata": {}
        },
        {
          "output_type": "display_data",
          "data": {
            "text/plain": [
              "<IPython.core.display.Javascript object>"
            ],
            "application/javascript": [
              "window[\"4c222208-af89-11f0-88c9-0242ac1c000c\"] = google.colab.output.setActiveOutputArea(window[\"4c21efb8-af89-11f0-88c9-0242ac1c000c\"]);\n",
              "//# sourceURL=js_a26632fd3a"
            ]
          },
          "metadata": {}
        },
        {
          "output_type": "display_data",
          "data": {
            "text/plain": [
              "<IPython.core.display.Javascript object>"
            ],
            "application/javascript": [
              "window[\"4c225e6c-af89-11f0-88c9-0242ac1c000c\"] = window[\"id1\"].setSelectedTabIndex(3);\n",
              "//# sourceURL=js_bffec1d670"
            ]
          },
          "metadata": {}
        },
        {
          "output_type": "display_data",
          "data": {
            "text/plain": [
              "<IPython.core.display.Javascript object>"
            ],
            "application/javascript": [
              "window[\"4c234aa2-af89-11f0-88c9-0242ac1c000c\"] = google.colab.output.getActiveOutputArea();\n",
              "//# sourceURL=js_d1e457950c"
            ]
          },
          "metadata": {}
        },
        {
          "output_type": "display_data",
          "data": {
            "text/plain": [
              "<IPython.core.display.Javascript object>"
            ],
            "application/javascript": [
              "window[\"4c238684-af89-11f0-88c9-0242ac1c000c\"] = document.querySelector(\"#id5_content_1\");\n",
              "//# sourceURL=js_204b228aa5"
            ]
          },
          "metadata": {}
        },
        {
          "output_type": "display_data",
          "data": {
            "text/plain": [
              "<IPython.core.display.Javascript object>"
            ],
            "application/javascript": [
              "window[\"4c23c3e2-af89-11f0-88c9-0242ac1c000c\"] = google.colab.output.setActiveOutputArea(window[\"4c238684-af89-11f0-88c9-0242ac1c000c\"]);\n",
              "//# sourceURL=js_bc7b31c37b"
            ]
          },
          "metadata": {}
        },
        {
          "output_type": "display_data",
          "data": {
            "text/plain": [
              "<IPython.core.display.Javascript object>"
            ],
            "application/javascript": [
              "window[\"4c23f146-af89-11f0-88c9-0242ac1c000c\"] = window[\"id5\"].setSelectedTabIndex(1);\n",
              "//# sourceURL=js_3d77ce0e8c"
            ]
          },
          "metadata": {}
        },
        {
          "output_type": "display_data",
          "data": {
            "text/plain": [
              "<IPython.core.display.Javascript object>"
            ],
            "application/javascript": [
              "window[\"4c257390-af89-11f0-88c9-0242ac1c000c\"] = google.colab.output.setActiveOutputArea(window[\"4c234aa2-af89-11f0-88c9-0242ac1c000c\"]);\n",
              "//# sourceURL=js_12a581db0b"
            ]
          },
          "metadata": {}
        },
        {
          "output_type": "stream",
          "name": "stdout",
          "text": [
            " \n"
          ]
        },
        {
          "output_type": "display_data",
          "data": {
            "text/plain": [
              "<IPython.core.display.Javascript object>"
            ],
            "application/javascript": [
              "window[\"4c266296-af89-11f0-88c9-0242ac1c000c\"] = google.colab.output.setActiveOutputArea(window[\"4c21a576-af89-11f0-88c9-0242ac1c000c\"]);\n",
              "//# sourceURL=js_43608a35ac"
            ]
          },
          "metadata": {}
        }
      ]
    },
    {
      "cell_type": "code",
      "source": [
        "%%logica RodPrice\n",
        "\n",
        "# Write predicate `BestCut(slices:, income:)` with the optimal solution of rod cutting problem.\n",
        "# In this problem we are given length of a rod in predicate `RodLength`\n",
        "# and market prices of rod pieces in predicate `RodPrice`. We need to find cut of the rod\n",
        "# that maximizes our revenue, i.e. total price of all slices. List of slices is to be\n",
        "# stored in `slices` argument and total income in the `income` argument.\n",
        "\n",
        "RodPrice(length: 5, price: 20);\n",
        "RodPrice(length: 4, price: 15);\n",
        "RodPrice(length: 8, price: 40);\n",
        "RodPrice(length: 2, price: 7);\n",
        "\n",
        "RodLength(length: 22);"
      ],
      "metadata": {
        "colab": {
          "resources": {
            "http://localhost:8080/nbextensions/google.colab/tabbar.css": {
              "data": "Lmdvb2ctdGFie3Bvc2l0aW9uOnJlbGF0aXZlO3BhZGRpbmc6NHB4IDhweDtjb2xvcjojMDBjO3RleHQtZGVjb3JhdGlvbjp1bmRlcmxpbmU7Y3Vyc29yOmRlZmF1bHR9Lmdvb2ctdGFiLWJhci10b3AgLmdvb2ctdGFie21hcmdpbjoxcHggNHB4IDAgMDtib3JkZXItYm90dG9tOjA7ZmxvYXQ6bGVmdH0uZ29vZy10YWItYmFyLXRvcDphZnRlciwuZ29vZy10YWItYmFyLWJvdHRvbTphZnRlcntjb250ZW50OiIgIjtkaXNwbGF5OmJsb2NrO2hlaWdodDowO2NsZWFyOmJvdGg7dmlzaWJpbGl0eTpoaWRkZW59Lmdvb2ctdGFiLWJhci1ib3R0b20gLmdvb2ctdGFie21hcmdpbjowIDRweCAxcHggMDtib3JkZXItdG9wOjA7ZmxvYXQ6bGVmdH0uZ29vZy10YWItYmFyLXN0YXJ0IC5nb29nLXRhYnttYXJnaW46MCAwIDRweCAxcHg7Ym9yZGVyLXJpZ2h0OjB9Lmdvb2ctdGFiLWJhci1lbmQgLmdvb2ctdGFie21hcmdpbjowIDFweCA0cHggMDtib3JkZXItbGVmdDowfS5nb29nLXRhYi1ob3ZlcntiYWNrZ3JvdW5kOiNlZWV9Lmdvb2ctdGFiLWRpc2FibGVke2NvbG9yOiM2NjZ9Lmdvb2ctdGFiLXNlbGVjdGVke2NvbG9yOiMwMDA7YmFja2dyb3VuZDojZmZmO3RleHQtZGVjb3JhdGlvbjpub25lO2ZvbnQtd2VpZ2h0OmJvbGQ7Ym9yZGVyOjFweCBzb2xpZCAjNmI5MGRhfS5nb29nLXRhYi1iYXItdG9we3BhZGRpbmctdG9wOjVweCFpbXBvcnRhbnQ7cGFkZGluZy1sZWZ0OjVweCFpbXBvcnRhbnQ7Ym9yZGVyLWJvdHRvbToxcHggc29saWQgIzZiOTBkYSFpbXBvcnRhbnR9Lmdvb2ctdGFiLWJhci10b3AgLmdvb2ctdGFiLXNlbGVjdGVke3RvcDoxcHg7bWFyZ2luLXRvcDowO3BhZGRpbmctYm90dG9tOjVweH0uZ29vZy10YWItYmFyLWJvdHRvbSAuZ29vZy10YWItc2VsZWN0ZWR7dG9wOi0xcHg7bWFyZ2luLWJvdHRvbTowO3BhZGRpbmctdG9wOjVweH0uZ29vZy10YWItYmFyLXN0YXJ0IC5nb29nLXRhYi1zZWxlY3RlZHtsZWZ0OjFweDttYXJnaW4tbGVmdDowO3BhZGRpbmctcmlnaHQ6OXB4fS5nb29nLXRhYi1iYXItZW5kIC5nb29nLXRhYi1zZWxlY3RlZHtsZWZ0Oi0xcHg7bWFyZ2luLXJpZ2h0OjA7cGFkZGluZy1sZWZ0OjlweH0uZ29vZy10YWItYmFye21hcmdpbjowO2JvcmRlcjowO3BhZGRpbmc6MDtsaXN0LXN0eWxlOm5vbmU7Y3Vyc29yOmRlZmF1bHQ7b3V0bGluZTpub25lO2JhY2tncm91bmQ6I2ViZWZmOX0uZ29vZy10YWItYmFyLWNsZWFye2NsZWFyOmJvdGg7aGVpZ2h0OjA7b3ZlcmZsb3c6aGlkZGVufS5nb29nLXRhYi1iYXItc3RhcnR7ZmxvYXQ6bGVmdH0uZ29vZy10YWItYmFyLWVuZHtmbG9hdDpyaWdodH0qIGh0bWwgLmdvb2ctdGFiLWJhci1zdGFydHttYXJnaW4tcmlnaHQ6LTNweH0qIGh0bWwgLmdvb2ctdGFiLWJhci1lbmR7bWFyZ2luLWxlZnQ6LTNweH1zZW50aW5lbHt9",
              "ok": true,
              "headers": [
                [
                  "content-length",
                  "1404"
                ],
                [
                  "content-type",
                  "text/css"
                ]
              ],
              "status": 200,
              "status_text": ""
            },
            "http://localhost:8080/nbextensions/google.colab/tabbar_main.min.js": {
              "data": "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",
              "ok": true,
              "headers": [
                [
                  "content-length",
                  "41785"
                ],
                [
                  "content-type",
                  "application/javascript"
                ]
              ],
              "status": 200,
              "status_text": ""
            }
          },
          "base_uri": "https://localhost:8080/",
          "height": 291
        },
        "id": "zxCfaiM4T9dG",
        "outputId": "a5e599b5-1664-4ae8-e9b9-523452380ca8"
      },
      "execution_count": null,
      "outputs": [
        {
          "output_type": "display_data",
          "data": {
            "text/plain": [
              "<IPython.core.display.HTML object>"
            ],
            "text/html": [
              "<link rel=stylesheet type=text/css href='/nbextensions/google.colab/tabbar.css'></link>"
            ]
          },
          "metadata": {}
        },
        {
          "output_type": "display_data",
          "data": {
            "text/plain": [
              "<IPython.core.display.HTML object>"
            ],
            "text/html": [
              "<script src='/nbextensions/google.colab/tabbar_main.min.js'></script>"
            ]
          },
          "metadata": {}
        },
        {
          "output_type": "display_data",
          "data": {
            "text/plain": [
              "<IPython.core.display.HTML object>"
            ],
            "text/html": [
              "<div id=\"id6\"></div>"
            ]
          },
          "metadata": {}
        },
        {
          "output_type": "display_data",
          "data": {
            "text/plain": [
              "<IPython.core.display.Javascript object>"
            ],
            "application/javascript": [
              "window[\"4c5b1518-af89-11f0-88c9-0242ac1c000c\"] = colab_lib.createTabBar({\"location\": \"top\", \"elementId\": \"id6\", \"tabNames\": [\"RodPrice\", \"(Log)\"], \"initialSelection\": 0, \"contentBorder\": [\"0px\"], \"contentHeight\": [\"initial\"], \"borderColor\": [\"#a7a7a7\"]});\n",
              "//# sourceURL=js_5472fb9561"
            ]
          },
          "metadata": {}
        },
        {
          "output_type": "display_data",
          "data": {
            "text/plain": [
              "<IPython.core.display.Javascript object>"
            ],
            "application/javascript": [
              "window[\"4c5b4074-af89-11f0-88c9-0242ac1c000c\"] = window[\"id6\"].setSelectedTabIndex(0);\n",
              "//# sourceURL=js_803c842978"
            ]
          },
          "metadata": {}
        },
        {
          "output_type": "display_data",
          "data": {
            "text/plain": [
              "<IPython.core.display.Javascript object>"
            ],
            "application/javascript": [
              "window[\"4c5c296c-af89-11f0-88c9-0242ac1c000c\"] = google.colab.output.getActiveOutputArea();\n",
              "//# sourceURL=js_2470ec3db5"
            ]
          },
          "metadata": {}
        },
        {
          "output_type": "display_data",
          "data": {
            "text/plain": [
              "<IPython.core.display.Javascript object>"
            ],
            "application/javascript": [
              "window[\"4c5c66fc-af89-11f0-88c9-0242ac1c000c\"] = document.querySelector(\"#id6_content_1\");\n",
              "//# sourceURL=js_edbc60c94c"
            ]
          },
          "metadata": {}
        },
        {
          "output_type": "display_data",
          "data": {
            "text/plain": [
              "<IPython.core.display.Javascript object>"
            ],
            "application/javascript": [
              "window[\"4c5ca838-af89-11f0-88c9-0242ac1c000c\"] = google.colab.output.setActiveOutputArea(window[\"4c5c66fc-af89-11f0-88c9-0242ac1c000c\"]);\n",
              "//# sourceURL=js_72c93b5a17"
            ]
          },
          "metadata": {}
        },
        {
          "output_type": "display_data",
          "data": {
            "text/plain": [
              "<IPython.core.display.Javascript object>"
            ],
            "application/javascript": [
              "window[\"4c5ce41a-af89-11f0-88c9-0242ac1c000c\"] = window[\"id6\"].setSelectedTabIndex(1);\n",
              "//# sourceURL=js_328223e9b0"
            ]
          },
          "metadata": {}
        },
        {
          "output_type": "display_data",
          "data": {
            "text/plain": [
              "<IPython.core.display.Javascript object>"
            ],
            "application/javascript": [
              "window[\"4c5e9eea-af89-11f0-88c9-0242ac1c000c\"] = google.colab.output.setActiveOutputArea(window[\"4c5c296c-af89-11f0-88c9-0242ac1c000c\"]);\n",
              "//# sourceURL=js_41f02f55b9"
            ]
          },
          "metadata": {}
        },
        {
          "output_type": "display_data",
          "data": {
            "text/plain": [
              "<IPython.core.display.Javascript object>"
            ],
            "application/javascript": [
              "window[\"4c5fae66-af89-11f0-88c9-0242ac1c000c\"] = google.colab.output.getActiveOutputArea();\n",
              "//# sourceURL=js_5fabba980f"
            ]
          },
          "metadata": {}
        },
        {
          "output_type": "display_data",
          "data": {
            "text/plain": [
              "<IPython.core.display.Javascript object>"
            ],
            "application/javascript": [
              "window[\"4c5ff74a-af89-11f0-88c9-0242ac1c000c\"] = document.querySelector(\"#id6_content_0\");\n",
              "//# sourceURL=js_12f21ea741"
            ]
          },
          "metadata": {}
        },
        {
          "output_type": "display_data",
          "data": {
            "text/plain": [
              "<IPython.core.display.Javascript object>"
            ],
            "application/javascript": [
              "window[\"4c603188-af89-11f0-88c9-0242ac1c000c\"] = google.colab.output.setActiveOutputArea(window[\"4c5ff74a-af89-11f0-88c9-0242ac1c000c\"]);\n",
              "//# sourceURL=js_b6a9bb052c"
            ]
          },
          "metadata": {}
        },
        {
          "output_type": "display_data",
          "data": {
            "text/plain": [
              "<IPython.core.display.Javascript object>"
            ],
            "application/javascript": [
              "window[\"4c60681a-af89-11f0-88c9-0242ac1c000c\"] = window[\"id6\"].setSelectedTabIndex(0);\n",
              "//# sourceURL=js_bd03d206a9"
            ]
          },
          "metadata": {}
        },
        {
          "output_type": "display_data",
          "data": {
            "text/plain": [
              "<IPython.core.display.HTML object>"
            ],
            "text/html": [
              "<link rel=stylesheet type=text/css href='/nbextensions/google.colab/tabbar.css'></link>"
            ]
          },
          "metadata": {}
        },
        {
          "output_type": "display_data",
          "data": {
            "text/plain": [
              "<IPython.core.display.HTML object>"
            ],
            "text/html": [
              "<script src='/nbextensions/google.colab/tabbar_main.min.js'></script>"
            ]
          },
          "metadata": {}
        },
        {
          "output_type": "display_data",
          "data": {
            "text/plain": [
              "<IPython.core.display.HTML object>"
            ],
            "text/html": [
              "<div id=\"id7\"></div>"
            ]
          },
          "metadata": {}
        },
        {
          "output_type": "display_data",
          "data": {
            "text/plain": [
              "<IPython.core.display.Javascript object>"
            ],
            "application/javascript": [
              "window[\"4c61d5ce-af89-11f0-88c9-0242ac1c000c\"] = colab_lib.createTabBar({\"location\": \"top\", \"elementId\": \"id7\", \"tabNames\": [\"SQL\", \"Result\"], \"initialSelection\": 0, \"contentBorder\": [\"0px\"], \"contentHeight\": [\"initial\"], \"borderColor\": [\"#a7a7a7\"]});\n",
              "//# sourceURL=js_f0f59211a5"
            ]
          },
          "metadata": {}
        },
        {
          "output_type": "display_data",
          "data": {
            "text/plain": [
              "<IPython.core.display.Javascript object>"
            ],
            "application/javascript": [
              "window[\"4c620346-af89-11f0-88c9-0242ac1c000c\"] = window[\"id7\"].setSelectedTabIndex(0);\n",
              "//# sourceURL=js_e05b707904"
            ]
          },
          "metadata": {}
        },
        {
          "output_type": "display_data",
          "data": {
            "text/plain": [
              "<IPython.core.display.Javascript object>"
            ],
            "application/javascript": [
              "window[\"4c6316f0-af89-11f0-88c9-0242ac1c000c\"] = google.colab.output.getActiveOutputArea();\n",
              "//# sourceURL=js_72edba76ef"
            ]
          },
          "metadata": {}
        },
        {
          "output_type": "display_data",
          "data": {
            "text/plain": [
              "<IPython.core.display.Javascript object>"
            ],
            "application/javascript": [
              "window[\"4c6368c6-af89-11f0-88c9-0242ac1c000c\"] = document.querySelector(\"#id7_content_0\");\n",
              "//# sourceURL=js_17b210b28d"
            ]
          },
          "metadata": {}
        },
        {
          "output_type": "display_data",
          "data": {
            "text/plain": [
              "<IPython.core.display.Javascript object>"
            ],
            "application/javascript": [
              "window[\"4c639918-af89-11f0-88c9-0242ac1c000c\"] = google.colab.output.setActiveOutputArea(window[\"4c6368c6-af89-11f0-88c9-0242ac1c000c\"]);\n",
              "//# sourceURL=js_696fa5c804"
            ]
          },
          "metadata": {}
        },
        {
          "output_type": "display_data",
          "data": {
            "text/plain": [
              "<IPython.core.display.Javascript object>"
            ],
            "application/javascript": [
              "window[\"4c63d770-af89-11f0-88c9-0242ac1c000c\"] = window[\"id7\"].setSelectedTabIndex(0);\n",
              "//# sourceURL=js_08bed1901d"
            ]
          },
          "metadata": {}
        },
        {
          "output_type": "stream",
          "name": "stdout",
          "text": [
            "The following query is stored at \u001b[1mRodPrice_sql\u001b[0m variable.\n",
            "-- Initializing PostgreSQL environment.\n",
            "set client_min_messages to warning;\n",
            "create schema if not exists logica_home;\n",
            "-- Empty logica type: logicarecord893574736;\n",
            "DO $$ BEGIN if not exists (select 'I(am) :- I(think)' from pg_type where typname = 'logicarecord893574736') then create type logicarecord893574736 as (nirvana numeric); end if; END $$;\n",
            "\n",
            "\n",
            "DO $$\n",
            "BEGIN\n",
            "-- Logica type: logicarecord481217614\n",
            "if not exists (select 'I(am) :- I(think)' from pg_type where typname = 'logicarecord481217614') then create type logicarecord481217614 as (r logicarecord893574736); end if;\n",
            "-- Logica type: logicarecord86796764\n",
            "if not exists (select 'I(am) :- I(think)' from pg_type where typname = 'logicarecord86796764') then create type logicarecord86796764 as (s text); end if;\n",
            "END $$;\n",
            "SELECT * FROM (\n",
            "  \n",
            "    SELECT\n",
            "      5 AS length,\n",
            "      20 AS price\n",
            "   UNION ALL\n",
            "  \n",
            "    SELECT\n",
            "      4 AS length,\n",
            "      15 AS price\n",
            "   UNION ALL\n",
            "  \n",
            "    SELECT\n",
            "      8 AS length,\n",
            "      40 AS price\n",
            "   UNION ALL\n",
            "  \n",
            "    SELECT\n",
            "      2 AS length,\n",
            "      7 AS price\n",
            "  \n",
            ") AS UNUSED_TABLE_NAME  ;\n"
          ]
        },
        {
          "output_type": "display_data",
          "data": {
            "text/plain": [
              "<IPython.core.display.Javascript object>"
            ],
            "application/javascript": [
              "window[\"4c648968-af89-11f0-88c9-0242ac1c000c\"] = google.colab.output.setActiveOutputArea(window[\"4c6316f0-af89-11f0-88c9-0242ac1c000c\"]);\n",
              "//# sourceURL=js_2209cee35f"
            ]
          },
          "metadata": {}
        },
        {
          "output_type": "display_data",
          "data": {
            "text/plain": [
              "<IPython.core.display.Javascript object>"
            ],
            "application/javascript": [
              "window[\"4c6593e4-af89-11f0-88c9-0242ac1c000c\"] = google.colab.output.getActiveOutputArea();\n",
              "//# sourceURL=js_1970761939"
            ]
          },
          "metadata": {}
        },
        {
          "output_type": "display_data",
          "data": {
            "text/plain": [
              "<IPython.core.display.Javascript object>"
            ],
            "application/javascript": [
              "window[\"4c65e420-af89-11f0-88c9-0242ac1c000c\"] = document.querySelector(\"#id7_content_1\");\n",
              "//# sourceURL=js_d2253983e1"
            ]
          },
          "metadata": {}
        },
        {
          "output_type": "display_data",
          "data": {
            "text/plain": [
              "<IPython.core.display.Javascript object>"
            ],
            "application/javascript": [
              "window[\"4c662b1a-af89-11f0-88c9-0242ac1c000c\"] = google.colab.output.setActiveOutputArea(window[\"4c65e420-af89-11f0-88c9-0242ac1c000c\"]);\n",
              "//# sourceURL=js_5a04974c32"
            ]
          },
          "metadata": {}
        },
        {
          "output_type": "display_data",
          "data": {
            "text/plain": [
              "<IPython.core.display.Javascript object>"
            ],
            "application/javascript": [
              "window[\"4c665e28-af89-11f0-88c9-0242ac1c000c\"] = window[\"id7\"].setSelectedTabIndex(1);\n",
              "//# sourceURL=js_cf5862d158"
            ]
          },
          "metadata": {}
        },
        {
          "output_type": "stream",
          "name": "stdout",
          "text": [
            "The following table is stored at \u001b[1mRodPrice\u001b[0m variable.\n"
          ]
        },
        {
          "output_type": "display_data",
          "data": {
            "text/plain": [
              "<IPython.core.display.HTML object>"
            ],
            "text/html": [
              "<table border=\"1\" class=\"dataframe\">\n",
              "  <thead>\n",
              "    <tr style=\"text-align: right;\">\n",
              "      <th></th>\n",
              "      <th>length</th>\n",
              "      <th>price</th>\n",
              "    </tr>\n",
              "  </thead>\n",
              "  <tbody>\n",
              "    <tr>\n",
              "      <th>0</th>\n",
              "      <td>5</td>\n",
              "      <td>20</td>\n",
              "    </tr>\n",
              "    <tr>\n",
              "      <th>1</th>\n",
              "      <td>4</td>\n",
              "      <td>15</td>\n",
              "    </tr>\n",
              "    <tr>\n",
              "      <th>2</th>\n",
              "      <td>8</td>\n",
              "      <td>40</td>\n",
              "    </tr>\n",
              "    <tr>\n",
              "      <th>3</th>\n",
              "      <td>2</td>\n",
              "      <td>7</td>\n",
              "    </tr>\n",
              "  </tbody>\n",
              "</table>"
            ]
          },
          "metadata": {}
        },
        {
          "output_type": "display_data",
          "data": {
            "text/plain": [
              "<IPython.core.display.Javascript object>"
            ],
            "application/javascript": [
              "window[\"4c675e86-af89-11f0-88c9-0242ac1c000c\"] = google.colab.output.setActiveOutputArea(window[\"4c6593e4-af89-11f0-88c9-0242ac1c000c\"]);\n",
              "//# sourceURL=js_c1178bb6e5"
            ]
          },
          "metadata": {}
        },
        {
          "output_type": "display_data",
          "data": {
            "text/plain": [
              "<IPython.core.display.Javascript object>"
            ],
            "application/javascript": [
              "window[\"4c684b98-af89-11f0-88c9-0242ac1c000c\"] = google.colab.output.setActiveOutputArea(window[\"4c5fae66-af89-11f0-88c9-0242ac1c000c\"]);\n",
              "//# sourceURL=js_0024f3bdc7"
            ]
          },
          "metadata": {}
        },
        {
          "output_type": "display_data",
          "data": {
            "text/plain": [
              "<IPython.core.display.Javascript object>"
            ],
            "application/javascript": [
              "window[\"4c69833c-af89-11f0-88c9-0242ac1c000c\"] = google.colab.output.getActiveOutputArea();\n",
              "//# sourceURL=js_e68172685d"
            ]
          },
          "metadata": {}
        },
        {
          "output_type": "display_data",
          "data": {
            "text/plain": [
              "<IPython.core.display.Javascript object>"
            ],
            "application/javascript": [
              "window[\"4c69c84c-af89-11f0-88c9-0242ac1c000c\"] = document.querySelector(\"#id6_content_1\");\n",
              "//# sourceURL=js_b77a99a42c"
            ]
          },
          "metadata": {}
        },
        {
          "output_type": "display_data",
          "data": {
            "text/plain": [
              "<IPython.core.display.Javascript object>"
            ],
            "application/javascript": [
              "window[\"4c69fd12-af89-11f0-88c9-0242ac1c000c\"] = google.colab.output.setActiveOutputArea(window[\"4c69c84c-af89-11f0-88c9-0242ac1c000c\"]);\n",
              "//# sourceURL=js_6128ce99f5"
            ]
          },
          "metadata": {}
        },
        {
          "output_type": "display_data",
          "data": {
            "text/plain": [
              "<IPython.core.display.Javascript object>"
            ],
            "application/javascript": [
              "window[\"4c6a37e6-af89-11f0-88c9-0242ac1c000c\"] = window[\"id6\"].setSelectedTabIndex(1);\n",
              "//# sourceURL=js_19d87f084f"
            ]
          },
          "metadata": {}
        },
        {
          "output_type": "display_data",
          "data": {
            "image/svg+xml": "<?xml version=\"1.0\" encoding=\"UTF-8\" standalone=\"no\"?>\n<!DOCTYPE svg PUBLIC \"-//W3C//DTD SVG 1.1//EN\"\n \"http://www.w3.org/Graphics/SVG/1.1/DTD/svg11.dtd\">\n<!-- Generated by graphviz version 2.43.0 (0)\n -->\n<!-- Title: Concertina Pages: 1 -->\n<svg width=\"131pt\" height=\"44pt\"\n viewBox=\"0.00 0.00 131.17 44.00\" xmlns=\"http://www.w3.org/2000/svg\" xmlns:xlink=\"http://www.w3.org/1999/xlink\">\n<g id=\"graph0\" class=\"graph\" transform=\"scale(1 1) rotate(0) translate(4 40)\">\n<title>Concertina</title>\n<polygon fill=\"white\" stroke=\"transparent\" points=\"-4,4 -4,-40 127.17,-40 127.17,4 -4,4\"/>\n<!-- RodPrice -->\n<g id=\"node1\" class=\"node\">\n<title>RodPrice</title>\n<path fill=\"#caff70\" stroke=\"#575757\" d=\"M50.06,-32.64C50.06,-32.64 11.44,-21.36 11.44,-21.36 5.68,-19.68 5.68,-16.32 11.44,-14.64 11.44,-14.64 50.06,-3.36 50.06,-3.36 55.82,-1.68 67.34,-1.68 73.1,-3.36 73.1,-3.36 111.73,-14.64 111.73,-14.64 117.49,-16.32 117.49,-19.68 111.73,-21.36 111.73,-21.36 73.1,-32.64 73.1,-32.64 67.34,-34.32 55.82,-34.32 50.06,-32.64\"/>\n<text text-anchor=\"middle\" x=\"61.58\" y=\"-14.3\" font-family=\"Times,serif\" font-size=\"14.00\">RodPrice</text>\n</g>\n</g>\n</svg>\n",
            "text/plain": [
              "<graphviz.graphs.Digraph at 0x7e2f7310dca0>"
            ]
          },
          "metadata": {}
        },
        {
          "output_type": "stream",
          "name": "stdout",
          "text": [
            "Running predicate: RodPrice (2 ms)\n"
          ]
        },
        {
          "output_type": "stream",
          "name": "stderr",
          "text": [
            "/content/logica/colab_logica.py:189: FutureWarning: DataFrame.applymap has been deprecated. Use DataFrame.map instead.\n",
            "  df = df.applymap(psql_logica.DigestPsqlType)\n"
          ]
        },
        {
          "output_type": "display_data",
          "data": {
            "text/plain": [
              "<IPython.core.display.Javascript object>"
            ],
            "application/javascript": [
              "window[\"4c7ce3a0-af89-11f0-88c9-0242ac1c000c\"] = google.colab.output.setActiveOutputArea(window[\"4c69833c-af89-11f0-88c9-0242ac1c000c\"]);\n",
              "//# sourceURL=js_be6bdb6baa"
            ]
          },
          "metadata": {}
        },
        {
          "output_type": "display_data",
          "data": {
            "text/plain": [
              "<IPython.core.display.Javascript object>"
            ],
            "application/javascript": [
              "window[\"4c7e1e78-af89-11f0-88c9-0242ac1c000c\"] = google.colab.output.getActiveOutputArea();\n",
              "//# sourceURL=js_05261bd8e1"
            ]
          },
          "metadata": {}
        },
        {
          "output_type": "display_data",
          "data": {
            "text/plain": [
              "<IPython.core.display.Javascript object>"
            ],
            "application/javascript": [
              "window[\"4c7e9538-af89-11f0-88c9-0242ac1c000c\"] = document.querySelector(\"#id6_content_0\");\n",
              "//# sourceURL=js_5464e3ffe5"
            ]
          },
          "metadata": {}
        },
        {
          "output_type": "display_data",
          "data": {
            "text/plain": [
              "<IPython.core.display.Javascript object>"
            ],
            "application/javascript": [
              "window[\"4c7ecfee-af89-11f0-88c9-0242ac1c000c\"] = google.colab.output.setActiveOutputArea(window[\"4c7e9538-af89-11f0-88c9-0242ac1c000c\"]);\n",
              "//# sourceURL=js_f9a6545213"
            ]
          },
          "metadata": {}
        },
        {
          "output_type": "display_data",
          "data": {
            "text/plain": [
              "<IPython.core.display.Javascript object>"
            ],
            "application/javascript": [
              "window[\"4c7f20b6-af89-11f0-88c9-0242ac1c000c\"] = window[\"id6\"].setSelectedTabIndex(0);\n",
              "//# sourceURL=js_61a9898aaf"
            ]
          },
          "metadata": {}
        },
        {
          "output_type": "display_data",
          "data": {
            "text/plain": [
              "<IPython.core.display.Javascript object>"
            ],
            "application/javascript": [
              "window[\"4c80558a-af89-11f0-88c9-0242ac1c000c\"] = google.colab.output.getActiveOutputArea();\n",
              "//# sourceURL=js_428094d202"
            ]
          },
          "metadata": {}
        },
        {
          "output_type": "display_data",
          "data": {
            "text/plain": [
              "<IPython.core.display.Javascript object>"
            ],
            "application/javascript": [
              "window[\"4c80d622-af89-11f0-88c9-0242ac1c000c\"] = document.querySelector(\"#id7_content_1\");\n",
              "//# sourceURL=js_f8a4ff88a4"
            ]
          },
          "metadata": {}
        },
        {
          "output_type": "display_data",
          "data": {
            "text/plain": [
              "<IPython.core.display.Javascript object>"
            ],
            "application/javascript": [
              "window[\"4c813284-af89-11f0-88c9-0242ac1c000c\"] = google.colab.output.setActiveOutputArea(window[\"4c80d622-af89-11f0-88c9-0242ac1c000c\"]);\n",
              "//# sourceURL=js_c7eb641dc3"
            ]
          },
          "metadata": {}
        },
        {
          "output_type": "display_data",
          "data": {
            "text/plain": [
              "<IPython.core.display.Javascript object>"
            ],
            "application/javascript": [
              "window[\"4c81674a-af89-11f0-88c9-0242ac1c000c\"] = window[\"id7\"].setSelectedTabIndex(1);\n",
              "//# sourceURL=js_29f2238c90"
            ]
          },
          "metadata": {}
        },
        {
          "output_type": "display_data",
          "data": {
            "text/plain": [
              "<IPython.core.display.Javascript object>"
            ],
            "application/javascript": [
              "window[\"4c8287a6-af89-11f0-88c9-0242ac1c000c\"] = google.colab.output.setActiveOutputArea(window[\"4c80558a-af89-11f0-88c9-0242ac1c000c\"]);\n",
              "//# sourceURL=js_9de941dc72"
            ]
          },
          "metadata": {}
        },
        {
          "output_type": "stream",
          "name": "stdout",
          "text": [
            " \n"
          ]
        },
        {
          "output_type": "display_data",
          "data": {
            "text/plain": [
              "<IPython.core.display.Javascript object>"
            ],
            "application/javascript": [
              "window[\"4c8371e8-af89-11f0-88c9-0242ac1c000c\"] = google.colab.output.setActiveOutputArea(window[\"4c7e1e78-af89-11f0-88c9-0242ac1c000c\"]);\n",
              "//# sourceURL=js_f6cac077b6"
            ]
          },
          "metadata": {}
        }
      ]
    },
    {
      "cell_type": "code",
      "source": [
        "%%logica Word, Target\n",
        "\n",
        "# Find how a `Target` can be broken into smallest number of `Word`s.\n",
        "# Write predicate `Slicing() = pieces` where `pieces` would be a list\n",
        "# of words into which target is broken.\n",
        "\n",
        "Word(\"applepie\");\n",
        "Word(\"apple\");\n",
        "Word(\"banana\");\n",
        "Word(\"organge\");\n",
        "Word(\"pineapple\");\n",
        "Word(\"pen\");\n",
        "Word(\"pencil\");\n",
        "Word(\"piecening\");\n",
        "Word(letter) :-\n",
        "  letter in letters,\n",
        "  letters = Set{x :- x in Split(\"applepieceningpenpineappleapplepen\", \"\")};\n",
        "\n",
        "Target(\"applepieceningpenpineappleapplepen\");"
      ],
      "metadata": {
        "colab": {
          "resources": {
            "http://localhost:8080/nbextensions/google.colab/tabbar_main.min.js": {
              "data": "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",
              "ok": true,
              "headers": [
                [
                  "content-length",
                  "41785"
                ],
                [
                  "content-type",
                  "application/javascript"
                ]
              ],
              "status": 200,
              "status_text": ""
            },
            "http://localhost:8080/nbextensions/google.colab/tabbar.css": {
              "data": "Lmdvb2ctdGFie3Bvc2l0aW9uOnJlbGF0aXZlO3BhZGRpbmc6NHB4IDhweDtjb2xvcjojMDBjO3RleHQtZGVjb3JhdGlvbjp1bmRlcmxpbmU7Y3Vyc29yOmRlZmF1bHR9Lmdvb2ctdGFiLWJhci10b3AgLmdvb2ctdGFie21hcmdpbjoxcHggNHB4IDAgMDtib3JkZXItYm90dG9tOjA7ZmxvYXQ6bGVmdH0uZ29vZy10YWItYmFyLXRvcDphZnRlciwuZ29vZy10YWItYmFyLWJvdHRvbTphZnRlcntjb250ZW50OiIgIjtkaXNwbGF5OmJsb2NrO2hlaWdodDowO2NsZWFyOmJvdGg7dmlzaWJpbGl0eTpoaWRkZW59Lmdvb2ctdGFiLWJhci1ib3R0b20gLmdvb2ctdGFie21hcmdpbjowIDRweCAxcHggMDtib3JkZXItdG9wOjA7ZmxvYXQ6bGVmdH0uZ29vZy10YWItYmFyLXN0YXJ0IC5nb29nLXRhYnttYXJnaW46MCAwIDRweCAxcHg7Ym9yZGVyLXJpZ2h0OjB9Lmdvb2ctdGFiLWJhci1lbmQgLmdvb2ctdGFie21hcmdpbjowIDFweCA0cHggMDtib3JkZXItbGVmdDowfS5nb29nLXRhYi1ob3ZlcntiYWNrZ3JvdW5kOiNlZWV9Lmdvb2ctdGFiLWRpc2FibGVke2NvbG9yOiM2NjZ9Lmdvb2ctdGFiLXNlbGVjdGVke2NvbG9yOiMwMDA7YmFja2dyb3VuZDojZmZmO3RleHQtZGVjb3JhdGlvbjpub25lO2ZvbnQtd2VpZ2h0OmJvbGQ7Ym9yZGVyOjFweCBzb2xpZCAjNmI5MGRhfS5nb29nLXRhYi1iYXItdG9we3BhZGRpbmctdG9wOjVweCFpbXBvcnRhbnQ7cGFkZGluZy1sZWZ0OjVweCFpbXBvcnRhbnQ7Ym9yZGVyLWJvdHRvbToxcHggc29saWQgIzZiOTBkYSFpbXBvcnRhbnR9Lmdvb2ctdGFiLWJhci10b3AgLmdvb2ctdGFiLXNlbGVjdGVke3RvcDoxcHg7bWFyZ2luLXRvcDowO3BhZGRpbmctYm90dG9tOjVweH0uZ29vZy10YWItYmFyLWJvdHRvbSAuZ29vZy10YWItc2VsZWN0ZWR7dG9wOi0xcHg7bWFyZ2luLWJvdHRvbTowO3BhZGRpbmctdG9wOjVweH0uZ29vZy10YWItYmFyLXN0YXJ0IC5nb29nLXRhYi1zZWxlY3RlZHtsZWZ0OjFweDttYXJnaW4tbGVmdDowO3BhZGRpbmctcmlnaHQ6OXB4fS5nb29nLXRhYi1iYXItZW5kIC5nb29nLXRhYi1zZWxlY3RlZHtsZWZ0Oi0xcHg7bWFyZ2luLXJpZ2h0OjA7cGFkZGluZy1sZWZ0OjlweH0uZ29vZy10YWItYmFye21hcmdpbjowO2JvcmRlcjowO3BhZGRpbmc6MDtsaXN0LXN0eWxlOm5vbmU7Y3Vyc29yOmRlZmF1bHQ7b3V0bGluZTpub25lO2JhY2tncm91bmQ6I2ViZWZmOX0uZ29vZy10YWItYmFyLWNsZWFye2NsZWFyOmJvdGg7aGVpZ2h0OjA7b3ZlcmZsb3c6aGlkZGVufS5nb29nLXRhYi1iYXItc3RhcnR7ZmxvYXQ6bGVmdH0uZ29vZy10YWItYmFyLWVuZHtmbG9hdDpyaWdodH0qIGh0bWwgLmdvb2ctdGFiLWJhci1zdGFydHttYXJnaW4tcmlnaHQ6LTNweH0qIGh0bWwgLmdvb2ctdGFiLWJhci1lbmR7bWFyZ2luLWxlZnQ6LTNweH1zZW50aW5lbHt9",
              "ok": true,
              "headers": [
                [
                  "content-length",
                  "1404"
                ],
                [
                  "content-type",
                  "text/css"
                ]
              ],
              "status": 200,
              "status_text": ""
            }
          },
          "base_uri": "https://localhost:8080/",
          "height": 197
        },
        "id": "uBPzCQKDst5C",
        "outputId": "33432287-ceab-451f-c0b2-c04d19e1dd3d"
      },
      "execution_count": null,
      "outputs": [
        {
          "output_type": "display_data",
          "data": {
            "text/plain": [
              "<IPython.core.display.HTML object>"
            ],
            "text/html": [
              "<link rel=stylesheet type=text/css href='/nbextensions/google.colab/tabbar.css'></link>"
            ]
          },
          "metadata": {}
        },
        {
          "output_type": "display_data",
          "data": {
            "text/plain": [
              "<IPython.core.display.HTML object>"
            ],
            "text/html": [
              "<script src='/nbextensions/google.colab/tabbar_main.min.js'></script>"
            ]
          },
          "metadata": {}
        },
        {
          "output_type": "display_data",
          "data": {
            "text/plain": [
              "<IPython.core.display.HTML object>"
            ],
            "text/html": [
              "<div id=\"id8\"></div>"
            ]
          },
          "metadata": {}
        },
        {
          "output_type": "display_data",
          "data": {
            "text/plain": [
              "<IPython.core.display.Javascript object>"
            ],
            "application/javascript": [
              "window[\"967fa8d8-af8a-11f0-88c9-0242ac1c000c\"] = colab_lib.createTabBar({\"location\": \"top\", \"elementId\": \"id8\", \"tabNames\": [\"Word\", \"Target\", \"(Log)\"], \"initialSelection\": 0, \"contentBorder\": [\"0px\"], \"contentHeight\": [\"initial\"], \"borderColor\": [\"#a7a7a7\"]});\n",
              "//# sourceURL=js_30073026a6"
            ]
          },
          "metadata": {}
        },
        {
          "output_type": "display_data",
          "data": {
            "text/plain": [
              "<IPython.core.display.Javascript object>"
            ],
            "application/javascript": [
              "window[\"967ffb30-af8a-11f0-88c9-0242ac1c000c\"] = window[\"id8\"].setSelectedTabIndex(0);\n",
              "//# sourceURL=js_f83e3f3fb2"
            ]
          },
          "metadata": {}
        },
        {
          "output_type": "display_data",
          "data": {
            "text/plain": [
              "<IPython.core.display.Javascript object>"
            ],
            "application/javascript": [
              "window[\"96816c22-af8a-11f0-88c9-0242ac1c000c\"] = google.colab.output.getActiveOutputArea();\n",
              "//# sourceURL=js_b21551bb12"
            ]
          },
          "metadata": {}
        },
        {
          "output_type": "display_data",
          "data": {
            "text/plain": [
              "<IPython.core.display.Javascript object>"
            ],
            "application/javascript": [
              "window[\"9681ef08-af8a-11f0-88c9-0242ac1c000c\"] = document.querySelector(\"#id8_content_2\");\n",
              "//# sourceURL=js_7035ae80de"
            ]
          },
          "metadata": {}
        },
        {
          "output_type": "display_data",
          "data": {
            "text/plain": [
              "<IPython.core.display.Javascript object>"
            ],
            "application/javascript": [
              "window[\"96825fe2-af8a-11f0-88c9-0242ac1c000c\"] = google.colab.output.setActiveOutputArea(window[\"9681ef08-af8a-11f0-88c9-0242ac1c000c\"]);\n",
              "//# sourceURL=js_15b1489720"
            ]
          },
          "metadata": {}
        },
        {
          "output_type": "display_data",
          "data": {
            "text/plain": [
              "<IPython.core.display.Javascript object>"
            ],
            "application/javascript": [
              "window[\"9682d76a-af8a-11f0-88c9-0242ac1c000c\"] = window[\"id8\"].setSelectedTabIndex(2);\n",
              "//# sourceURL=js_5ac44d4053"
            ]
          },
          "metadata": {}
        },
        {
          "output_type": "display_data",
          "data": {
            "text/plain": [
              "<IPython.core.display.Javascript object>"
            ],
            "application/javascript": [
              "window[\"9686e6fc-af8a-11f0-88c9-0242ac1c000c\"] = google.colab.output.setActiveOutputArea(window[\"96816c22-af8a-11f0-88c9-0242ac1c000c\"]);\n",
              "//# sourceURL=js_c1e59c4daf"
            ]
          },
          "metadata": {}
        },
        {
          "output_type": "display_data",
          "data": {
            "text/plain": [
              "<IPython.core.display.Javascript object>"
            ],
            "application/javascript": [
              "window[\"9687ec14-af8a-11f0-88c9-0242ac1c000c\"] = google.colab.output.getActiveOutputArea();\n",
              "//# sourceURL=js_d40078563f"
            ]
          },
          "metadata": {}
        },
        {
          "output_type": "display_data",
          "data": {
            "text/plain": [
              "<IPython.core.display.Javascript object>"
            ],
            "application/javascript": [
              "window[\"96882b0c-af8a-11f0-88c9-0242ac1c000c\"] = document.querySelector(\"#id8_content_0\");\n",
              "//# sourceURL=js_297b367a46"
            ]
          },
          "metadata": {}
        },
        {
          "output_type": "display_data",
          "data": {
            "text/plain": [
              "<IPython.core.display.Javascript object>"
            ],
            "application/javascript": [
              "window[\"968870a8-af8a-11f0-88c9-0242ac1c000c\"] = google.colab.output.setActiveOutputArea(window[\"96882b0c-af8a-11f0-88c9-0242ac1c000c\"]);\n",
              "//# sourceURL=js_dbf4766487"
            ]
          },
          "metadata": {}
        },
        {
          "output_type": "display_data",
          "data": {
            "text/plain": [
              "<IPython.core.display.Javascript object>"
            ],
            "application/javascript": [
              "window[\"9688a1d6-af8a-11f0-88c9-0242ac1c000c\"] = window[\"id8\"].setSelectedTabIndex(0);\n",
              "//# sourceURL=js_41b6852d08"
            ]
          },
          "metadata": {}
        },
        {
          "output_type": "display_data",
          "data": {
            "text/plain": [
              "<IPython.core.display.HTML object>"
            ],
            "text/html": [
              "<link rel=stylesheet type=text/css href='/nbextensions/google.colab/tabbar.css'></link>"
            ]
          },
          "metadata": {}
        },
        {
          "output_type": "display_data",
          "data": {
            "text/plain": [
              "<IPython.core.display.HTML object>"
            ],
            "text/html": [
              "<script src='/nbextensions/google.colab/tabbar_main.min.js'></script>"
            ]
          },
          "metadata": {}
        },
        {
          "output_type": "display_data",
          "data": {
            "text/plain": [
              "<IPython.core.display.HTML object>"
            ],
            "text/html": [
              "<div id=\"id9\"></div>"
            ]
          },
          "metadata": {}
        },
        {
          "output_type": "display_data",
          "data": {
            "text/plain": [
              "<IPython.core.display.Javascript object>"
            ],
            "application/javascript": [
              "window[\"968a0c6a-af8a-11f0-88c9-0242ac1c000c\"] = colab_lib.createTabBar({\"location\": \"top\", \"elementId\": \"id9\", \"tabNames\": [\"SQL\", \"Result\"], \"initialSelection\": 0, \"contentBorder\": [\"0px\"], \"contentHeight\": [\"initial\"], \"borderColor\": [\"#a7a7a7\"]});\n",
              "//# sourceURL=js_f814d71a4d"
            ]
          },
          "metadata": {}
        },
        {
          "output_type": "display_data",
          "data": {
            "text/plain": [
              "<IPython.core.display.Javascript object>"
            ],
            "application/javascript": [
              "window[\"968a4f04-af8a-11f0-88c9-0242ac1c000c\"] = window[\"id9\"].setSelectedTabIndex(0);\n",
              "//# sourceURL=js_ee1b33b069"
            ]
          },
          "metadata": {}
        },
        {
          "output_type": "display_data",
          "data": {
            "text/plain": [
              "<IPython.core.display.Javascript object>"
            ],
            "application/javascript": [
              "window[\"968bb3d0-af8a-11f0-88c9-0242ac1c000c\"] = google.colab.output.getActiveOutputArea();\n",
              "//# sourceURL=js_24f2c3224c"
            ]
          },
          "metadata": {}
        },
        {
          "output_type": "display_data",
          "data": {
            "text/plain": [
              "<IPython.core.display.Javascript object>"
            ],
            "application/javascript": [
              "window[\"968c2d74-af8a-11f0-88c9-0242ac1c000c\"] = document.querySelector(\"#id9_content_0\");\n",
              "//# sourceURL=js_03bde801f7"
            ]
          },
          "metadata": {}
        },
        {
          "output_type": "display_data",
          "data": {
            "text/plain": [
              "<IPython.core.display.Javascript object>"
            ],
            "application/javascript": [
              "window[\"968ca7cc-af8a-11f0-88c9-0242ac1c000c\"] = google.colab.output.setActiveOutputArea(window[\"968c2d74-af8a-11f0-88c9-0242ac1c000c\"]);\n",
              "//# sourceURL=js_7254190bf6"
            ]
          },
          "metadata": {}
        },
        {
          "output_type": "display_data",
          "data": {
            "text/plain": [
              "<IPython.core.display.Javascript object>"
            ],
            "application/javascript": [
              "window[\"968cea3e-af8a-11f0-88c9-0242ac1c000c\"] = window[\"id9\"].setSelectedTabIndex(0);\n",
              "//# sourceURL=js_b7289b03bb"
            ]
          },
          "metadata": {}
        },
        {
          "output_type": "stream",
          "name": "stdout",
          "text": [
            "The following query is stored at \u001b[1mWord_sql\u001b[0m variable.\n",
            "-- Initializing PostgreSQL environment.\n",
            "set client_min_messages to warning;\n",
            "create schema if not exists logica_home;\n",
            "-- Empty logica type: logicarecord893574736;\n",
            "DO $$ BEGIN if not exists (select 'I(am) :- I(think)' from pg_type where typname = 'logicarecord893574736') then create type logicarecord893574736 as (nirvana numeric); end if; END $$;\n",
            "\n",
            "\n",
            "DO $$\n",
            "BEGIN\n",
            "-- Logica type: logicarecord481217614\n",
            "if not exists (select 'I(am) :- I(think)' from pg_type where typname = 'logicarecord481217614') then create type logicarecord481217614 as (r logicarecord893574736); end if;\n",
            "-- Logica type: logicarecord86796764\n",
            "if not exists (select 'I(am) :- I(think)' from pg_type where typname = 'logicarecord86796764') then create type logicarecord86796764 as (s text); end if;\n",
            "END $$;\n",
            "SELECT * FROM (\n",
            "  \n",
            "    SELECT\n",
            "      'applepie' AS col0\n",
            "   UNION ALL\n",
            "  \n",
            "    SELECT\n",
            "      'apple' AS col0\n",
            "   UNION ALL\n",
            "  \n",
            "    SELECT\n",
            "      'banana' AS col0\n",
            "   UNION ALL\n",
            "  \n",
            "    SELECT\n",
            "      'organge' AS col0\n",
            "   UNION ALL\n",
            "  \n",
            "    SELECT\n",
            "      'pineapple' AS col0\n",
            "   UNION ALL\n",
            "  \n",
            "    SELECT\n",
            "      'pen' AS col0\n",
            "   UNION ALL\n",
            "  \n",
            "    SELECT\n",
            "      'pencil' AS col0\n",
            "   UNION ALL\n",
            "  \n",
            "    SELECT\n",
            "      'piecening' AS col0\n",
            "   UNION ALL\n",
            "  \n",
            "    SELECT\n",
            "      x_2 AS col0\n",
            "    FROM\n",
            "      UNNEST(CAST((SELECT\n",
            "        ARRAY_AGG(DISTINCT (CASE WHEN x_10 = 0 THEN x_9 ELSE NULL END)) AS logica_value\n",
            "      FROM\n",
            "        UNNEST(ARRAY[0]::numeric[]) as x_10, UNNEST(STRING_TO_ARRAY('applepieceningpenpineappleapplepen', '')) as x_9) AS text[])) as x_2\n",
            "  \n",
            ") AS UNUSED_TABLE_NAME  ;\n"
          ]
        },
        {
          "output_type": "display_data",
          "data": {
            "text/plain": [
              "<IPython.core.display.Javascript object>"
            ],
            "application/javascript": [
              "window[\"968d8c00-af8a-11f0-88c9-0242ac1c000c\"] = google.colab.output.setActiveOutputArea(window[\"968bb3d0-af8a-11f0-88c9-0242ac1c000c\"]);\n",
              "//# sourceURL=js_acaadc0699"
            ]
          },
          "metadata": {}
        },
        {
          "output_type": "display_data",
          "data": {
            "text/plain": [
              "<IPython.core.display.Javascript object>"
            ],
            "application/javascript": [
              "window[\"968ebc88-af8a-11f0-88c9-0242ac1c000c\"] = google.colab.output.getActiveOutputArea();\n",
              "//# sourceURL=js_14e76e09e3"
            ]
          },
          "metadata": {}
        },
        {
          "output_type": "display_data",
          "data": {
            "text/plain": [
              "<IPython.core.display.Javascript object>"
            ],
            "application/javascript": [
              "window[\"968efcb6-af8a-11f0-88c9-0242ac1c000c\"] = document.querySelector(\"#id9_content_1\");\n",
              "//# sourceURL=js_869e3c48f8"
            ]
          },
          "metadata": {}
        },
        {
          "output_type": "display_data",
          "data": {
            "text/plain": [
              "<IPython.core.display.Javascript object>"
            ],
            "application/javascript": [
              "window[\"968f3f50-af8a-11f0-88c9-0242ac1c000c\"] = google.colab.output.setActiveOutputArea(window[\"968efcb6-af8a-11f0-88c9-0242ac1c000c\"]);\n",
              "//# sourceURL=js_698ce5bbf3"
            ]
          },
          "metadata": {}
        },
        {
          "output_type": "display_data",
          "data": {
            "text/plain": [
              "<IPython.core.display.Javascript object>"
            ],
            "application/javascript": [
              "window[\"968f6bb0-af8a-11f0-88c9-0242ac1c000c\"] = window[\"id9\"].setSelectedTabIndex(1);\n",
              "//# sourceURL=js_54696531d4"
            ]
          },
          "metadata": {}
        },
        {
          "output_type": "stream",
          "name": "stdout",
          "text": [
            "The following table is stored at \u001b[1mWord\u001b[0m variable.\n"
          ]
        },
        {
          "output_type": "display_data",
          "data": {
            "text/plain": [
              "<IPython.core.display.HTML object>"
            ],
            "text/html": [
              "<table border=\"1\" class=\"dataframe\">\n",
              "  <thead>\n",
              "    <tr style=\"text-align: right;\">\n",
              "      <th></th>\n",
              "      <th>col0</th>\n",
              "    </tr>\n",
              "  </thead>\n",
              "  <tbody>\n",
              "    <tr>\n",
              "      <th>0</th>\n",
              "      <td>applepie</td>\n",
              "    </tr>\n",
              "    <tr>\n",
              "      <th>1</th>\n",
              "      <td>apple</td>\n",
              "    </tr>\n",
              "    <tr>\n",
              "      <th>2</th>\n",
              "      <td>banana</td>\n",
              "    </tr>\n",
              "    <tr>\n",
              "      <th>3</th>\n",
              "      <td>organge</td>\n",
              "    </tr>\n",
              "    <tr>\n",
              "      <th>4</th>\n",
              "      <td>pineapple</td>\n",
              "    </tr>\n",
              "    <tr>\n",
              "      <th>5</th>\n",
              "      <td>pen</td>\n",
              "    </tr>\n",
              "    <tr>\n",
              "      <th>6</th>\n",
              "      <td>pencil</td>\n",
              "    </tr>\n",
              "    <tr>\n",
              "      <th>7</th>\n",
              "      <td>piecening</td>\n",
              "    </tr>\n",
              "    <tr>\n",
              "      <th>8</th>\n",
              "      <td>applepieceningpenpineappleapplepen</td>\n",
              "    </tr>\n",
              "  </tbody>\n",
              "</table>"
            ]
          },
          "metadata": {}
        },
        {
          "output_type": "display_data",
          "data": {
            "text/plain": [
              "<IPython.core.display.Javascript object>"
            ],
            "application/javascript": [
              "window[\"96906524-af8a-11f0-88c9-0242ac1c000c\"] = google.colab.output.setActiveOutputArea(window[\"968ebc88-af8a-11f0-88c9-0242ac1c000c\"]);\n",
              "//# sourceURL=js_3a274a0c65"
            ]
          },
          "metadata": {}
        },
        {
          "output_type": "display_data",
          "data": {
            "text/plain": [
              "<IPython.core.display.Javascript object>"
            ],
            "application/javascript": [
              "window[\"96919d7c-af8a-11f0-88c9-0242ac1c000c\"] = google.colab.output.setActiveOutputArea(window[\"9687ec14-af8a-11f0-88c9-0242ac1c000c\"]);\n",
              "//# sourceURL=js_8ee0143173"
            ]
          },
          "metadata": {}
        },
        {
          "output_type": "display_data",
          "data": {
            "text/plain": [
              "<IPython.core.display.Javascript object>"
            ],
            "application/javascript": [
              "window[\"9692c724-af8a-11f0-88c9-0242ac1c000c\"] = google.colab.output.getActiveOutputArea();\n",
              "//# sourceURL=js_f7598e3e0e"
            ]
          },
          "metadata": {}
        },
        {
          "output_type": "display_data",
          "data": {
            "text/plain": [
              "<IPython.core.display.Javascript object>"
            ],
            "application/javascript": [
              "window[\"9693158a-af8a-11f0-88c9-0242ac1c000c\"] = document.querySelector(\"#id8_content_2\");\n",
              "//# sourceURL=js_ea8b164aeb"
            ]
          },
          "metadata": {}
        },
        {
          "output_type": "display_data",
          "data": {
            "text/plain": [
              "<IPython.core.display.Javascript object>"
            ],
            "application/javascript": [
              "window[\"96934cb2-af8a-11f0-88c9-0242ac1c000c\"] = google.colab.output.setActiveOutputArea(window[\"9693158a-af8a-11f0-88c9-0242ac1c000c\"]);\n",
              "//# sourceURL=js_6995e7c3b2"
            ]
          },
          "metadata": {}
        },
        {
          "output_type": "display_data",
          "data": {
            "text/plain": [
              "<IPython.core.display.Javascript object>"
            ],
            "application/javascript": [
              "window[\"96938ec0-af8a-11f0-88c9-0242ac1c000c\"] = window[\"id8\"].setSelectedTabIndex(2);\n",
              "//# sourceURL=js_d9d9f18d29"
            ]
          },
          "metadata": {}
        },
        {
          "output_type": "display_data",
          "data": {
            "text/plain": [
              "<IPython.core.display.Javascript object>"
            ],
            "application/javascript": [
              "window[\"96947812-af8a-11f0-88c9-0242ac1c000c\"] = google.colab.output.setActiveOutputArea(window[\"9692c724-af8a-11f0-88c9-0242ac1c000c\"]);\n",
              "//# sourceURL=js_429c440faa"
            ]
          },
          "metadata": {}
        },
        {
          "output_type": "display_data",
          "data": {
            "text/plain": [
              "<IPython.core.display.Javascript object>"
            ],
            "application/javascript": [
              "window[\"96958996-af8a-11f0-88c9-0242ac1c000c\"] = google.colab.output.getActiveOutputArea();\n",
              "//# sourceURL=js_1feac501c4"
            ]
          },
          "metadata": {}
        },
        {
          "output_type": "display_data",
          "data": {
            "text/plain": [
              "<IPython.core.display.Javascript object>"
            ],
            "application/javascript": [
              "window[\"9695cc62-af8a-11f0-88c9-0242ac1c000c\"] = document.querySelector(\"#id8_content_1\");\n",
              "//# sourceURL=js_56f0e2a3c3"
            ]
          },
          "metadata": {}
        },
        {
          "output_type": "display_data",
          "data": {
            "text/plain": [
              "<IPython.core.display.Javascript object>"
            ],
            "application/javascript": [
              "window[\"96960b96-af8a-11f0-88c9-0242ac1c000c\"] = google.colab.output.setActiveOutputArea(window[\"9695cc62-af8a-11f0-88c9-0242ac1c000c\"]);\n",
              "//# sourceURL=js_fdd33616ed"
            ]
          },
          "metadata": {}
        },
        {
          "output_type": "display_data",
          "data": {
            "text/plain": [
              "<IPython.core.display.Javascript object>"
            ],
            "application/javascript": [
              "window[\"96964872-af8a-11f0-88c9-0242ac1c000c\"] = window[\"id8\"].setSelectedTabIndex(1);\n",
              "//# sourceURL=js_6b6042c835"
            ]
          },
          "metadata": {}
        },
        {
          "output_type": "display_data",
          "data": {
            "text/plain": [
              "<IPython.core.display.HTML object>"
            ],
            "text/html": [
              "<link rel=stylesheet type=text/css href='/nbextensions/google.colab/tabbar.css'></link>"
            ]
          },
          "metadata": {}
        },
        {
          "output_type": "display_data",
          "data": {
            "text/plain": [
              "<IPython.core.display.HTML object>"
            ],
            "text/html": [
              "<script src='/nbextensions/google.colab/tabbar_main.min.js'></script>"
            ]
          },
          "metadata": {}
        },
        {
          "output_type": "display_data",
          "data": {
            "text/plain": [
              "<IPython.core.display.HTML object>"
            ],
            "text/html": [
              "<div id=\"id10\"></div>"
            ]
          },
          "metadata": {}
        },
        {
          "output_type": "display_data",
          "data": {
            "text/plain": [
              "<IPython.core.display.Javascript object>"
            ],
            "application/javascript": [
              "window[\"969766d0-af8a-11f0-88c9-0242ac1c000c\"] = colab_lib.createTabBar({\"location\": \"top\", \"elementId\": \"id10\", \"tabNames\": [\"SQL\", \"Result\"], \"initialSelection\": 0, \"contentBorder\": [\"0px\"], \"contentHeight\": [\"initial\"], \"borderColor\": [\"#a7a7a7\"]});\n",
              "//# sourceURL=js_eb881879f4"
            ]
          },
          "metadata": {}
        },
        {
          "output_type": "display_data",
          "data": {
            "text/plain": [
              "<IPython.core.display.Javascript object>"
            ],
            "application/javascript": [
              "window[\"9697931c-af8a-11f0-88c9-0242ac1c000c\"] = window[\"id10\"].setSelectedTabIndex(0);\n",
              "//# sourceURL=js_56edd1bdd0"
            ]
          },
          "metadata": {}
        },
        {
          "output_type": "display_data",
          "data": {
            "text/plain": [
              "<IPython.core.display.Javascript object>"
            ],
            "application/javascript": [
              "window[\"96986a08-af8a-11f0-88c9-0242ac1c000c\"] = google.colab.output.getActiveOutputArea();\n",
              "//# sourceURL=js_16fa688750"
            ]
          },
          "metadata": {}
        },
        {
          "output_type": "display_data",
          "data": {
            "text/plain": [
              "<IPython.core.display.Javascript object>"
            ],
            "application/javascript": [
              "window[\"9698a504-af8a-11f0-88c9-0242ac1c000c\"] = document.querySelector(\"#id10_content_0\");\n",
              "//# sourceURL=js_731e250fdf"
            ]
          },
          "metadata": {}
        },
        {
          "output_type": "display_data",
          "data": {
            "text/plain": [
              "<IPython.core.display.Javascript object>"
            ],
            "application/javascript": [
              "window[\"9698d0d8-af8a-11f0-88c9-0242ac1c000c\"] = google.colab.output.setActiveOutputArea(window[\"9698a504-af8a-11f0-88c9-0242ac1c000c\"]);\n",
              "//# sourceURL=js_98faf36143"
            ]
          },
          "metadata": {}
        },
        {
          "output_type": "display_data",
          "data": {
            "text/plain": [
              "<IPython.core.display.Javascript object>"
            ],
            "application/javascript": [
              "window[\"96990e86-af8a-11f0-88c9-0242ac1c000c\"] = window[\"id10\"].setSelectedTabIndex(0);\n",
              "//# sourceURL=js_6b2b43d39b"
            ]
          },
          "metadata": {}
        },
        {
          "output_type": "stream",
          "name": "stdout",
          "text": [
            "The following query is stored at \u001b[1mTarget_sql\u001b[0m variable.\n",
            "-- Initializing PostgreSQL environment.\n",
            "set client_min_messages to warning;\n",
            "create schema if not exists logica_home;\n",
            "-- Empty logica type: logicarecord893574736;\n",
            "DO $$ BEGIN if not exists (select 'I(am) :- I(think)' from pg_type where typname = 'logicarecord893574736') then create type logicarecord893574736 as (nirvana numeric); end if; END $$;\n",
            "\n",
            "\n",
            "DO $$\n",
            "BEGIN\n",
            "-- Logica type: logicarecord481217614\n",
            "if not exists (select 'I(am) :- I(think)' from pg_type where typname = 'logicarecord481217614') then create type logicarecord481217614 as (r logicarecord893574736); end if;\n",
            "-- Logica type: logicarecord86796764\n",
            "if not exists (select 'I(am) :- I(think)' from pg_type where typname = 'logicarecord86796764') then create type logicarecord86796764 as (s text); end if;\n",
            "END $$;\n",
            "SELECT\n",
            "  'applepieceningpenpineappleapplepen' AS col0;\n"
          ]
        },
        {
          "output_type": "display_data",
          "data": {
            "text/plain": [
              "<IPython.core.display.Javascript object>"
            ],
            "application/javascript": [
              "window[\"9699a6fc-af8a-11f0-88c9-0242ac1c000c\"] = google.colab.output.setActiveOutputArea(window[\"96986a08-af8a-11f0-88c9-0242ac1c000c\"]);\n",
              "//# sourceURL=js_18d2be8166"
            ]
          },
          "metadata": {}
        },
        {
          "output_type": "display_data",
          "data": {
            "text/plain": [
              "<IPython.core.display.Javascript object>"
            ],
            "application/javascript": [
              "window[\"969aa1ce-af8a-11f0-88c9-0242ac1c000c\"] = google.colab.output.getActiveOutputArea();\n",
              "//# sourceURL=js_268c9e7564"
            ]
          },
          "metadata": {}
        },
        {
          "output_type": "display_data",
          "data": {
            "text/plain": [
              "<IPython.core.display.Javascript object>"
            ],
            "application/javascript": [
              "window[\"969ae18e-af8a-11f0-88c9-0242ac1c000c\"] = document.querySelector(\"#id10_content_1\");\n",
              "//# sourceURL=js_1db2467a0c"
            ]
          },
          "metadata": {}
        },
        {
          "output_type": "display_data",
          "data": {
            "text/plain": [
              "<IPython.core.display.Javascript object>"
            ],
            "application/javascript": [
              "window[\"969b1686-af8a-11f0-88c9-0242ac1c000c\"] = google.colab.output.setActiveOutputArea(window[\"969ae18e-af8a-11f0-88c9-0242ac1c000c\"]);\n",
              "//# sourceURL=js_8f9be98d7e"
            ]
          },
          "metadata": {}
        },
        {
          "output_type": "display_data",
          "data": {
            "text/plain": [
              "<IPython.core.display.Javascript object>"
            ],
            "application/javascript": [
              "window[\"969b3d32-af8a-11f0-88c9-0242ac1c000c\"] = window[\"id10\"].setSelectedTabIndex(1);\n",
              "//# sourceURL=js_831fedbc2a"
            ]
          },
          "metadata": {}
        },
        {
          "output_type": "stream",
          "name": "stdout",
          "text": [
            "The following table is stored at \u001b[1mTarget\u001b[0m variable.\n"
          ]
        },
        {
          "output_type": "display_data",
          "data": {
            "text/plain": [
              "<IPython.core.display.HTML object>"
            ],
            "text/html": [
              "<table border=\"1\" class=\"dataframe\">\n",
              "  <thead>\n",
              "    <tr style=\"text-align: right;\">\n",
              "      <th></th>\n",
              "      <th>col0</th>\n",
              "    </tr>\n",
              "  </thead>\n",
              "  <tbody>\n",
              "    <tr>\n",
              "      <th>0</th>\n",
              "      <td>applepieceningpenpineappleapplepen</td>\n",
              "    </tr>\n",
              "  </tbody>\n",
              "</table>"
            ]
          },
          "metadata": {}
        },
        {
          "output_type": "display_data",
          "data": {
            "text/plain": [
              "<IPython.core.display.Javascript object>"
            ],
            "application/javascript": [
              "window[\"969c08a2-af8a-11f0-88c9-0242ac1c000c\"] = google.colab.output.setActiveOutputArea(window[\"969aa1ce-af8a-11f0-88c9-0242ac1c000c\"]);\n",
              "//# sourceURL=js_68bd9268a2"
            ]
          },
          "metadata": {}
        },
        {
          "output_type": "display_data",
          "data": {
            "text/plain": [
              "<IPython.core.display.Javascript object>"
            ],
            "application/javascript": [
              "window[\"969cd188-af8a-11f0-88c9-0242ac1c000c\"] = google.colab.output.setActiveOutputArea(window[\"96958996-af8a-11f0-88c9-0242ac1c000c\"]);\n",
              "//# sourceURL=js_9fa1074d4e"
            ]
          },
          "metadata": {}
        },
        {
          "output_type": "display_data",
          "data": {
            "text/plain": [
              "<IPython.core.display.Javascript object>"
            ],
            "application/javascript": [
              "window[\"969dc0de-af8a-11f0-88c9-0242ac1c000c\"] = google.colab.output.getActiveOutputArea();\n",
              "//# sourceURL=js_c9d0702eeb"
            ]
          },
          "metadata": {}
        },
        {
          "output_type": "display_data",
          "data": {
            "text/plain": [
              "<IPython.core.display.Javascript object>"
            ],
            "application/javascript": [
              "window[\"969dfe82-af8a-11f0-88c9-0242ac1c000c\"] = document.querySelector(\"#id8_content_2\");\n",
              "//# sourceURL=js_c9f7676130"
            ]
          },
          "metadata": {}
        },
        {
          "output_type": "display_data",
          "data": {
            "text/plain": [
              "<IPython.core.display.Javascript object>"
            ],
            "application/javascript": [
              "window[\"969e295c-af8a-11f0-88c9-0242ac1c000c\"] = google.colab.output.setActiveOutputArea(window[\"969dfe82-af8a-11f0-88c9-0242ac1c000c\"]);\n",
              "//# sourceURL=js_14c62da9f7"
            ]
          },
          "metadata": {}
        },
        {
          "output_type": "display_data",
          "data": {
            "text/plain": [
              "<IPython.core.display.Javascript object>"
            ],
            "application/javascript": [
              "window[\"969e62aa-af8a-11f0-88c9-0242ac1c000c\"] = window[\"id8\"].setSelectedTabIndex(2);\n",
              "//# sourceURL=js_87b53137a6"
            ]
          },
          "metadata": {}
        },
        {
          "output_type": "display_data",
          "data": {
            "image/svg+xml": "<?xml version=\"1.0\" encoding=\"UTF-8\" standalone=\"no\"?>\n<!DOCTYPE svg PUBLIC \"-//W3C//DTD SVG 1.1//EN\"\n \"http://www.w3.org/Graphics/SVG/1.1/DTD/svg11.dtd\">\n<!-- Generated by graphviz version 2.43.0 (0)\n -->\n<!-- Title: Concertina Pages: 1 -->\n<svg width=\"206pt\" height=\"44pt\"\n viewBox=\"0.00 0.00 206.08 44.00\" xmlns=\"http://www.w3.org/2000/svg\" xmlns:xlink=\"http://www.w3.org/1999/xlink\">\n<g id=\"graph0\" class=\"graph\" transform=\"scale(1 1) rotate(0) translate(4 40)\">\n<title>Concertina</title>\n<polygon fill=\"white\" stroke=\"transparent\" points=\"-4,4 -4,-40 202.08,-40 202.08,4 -4,4\"/>\n<!-- Word -->\n<g id=\"node1\" class=\"node\">\n<title>Word</title>\n<path fill=\"#caff70\" stroke=\"#575757\" d=\"M32.12,-31.4C32.12,-31.4 10.88,-22.6 10.88,-22.6 5.34,-20.3 5.34,-15.7 10.88,-13.4 10.88,-13.4 32.12,-4.6 32.12,-4.6 37.66,-2.3 48.74,-2.3 54.28,-4.6 54.28,-4.6 75.52,-13.4 75.52,-13.4 81.06,-15.7 81.06,-20.3 75.52,-22.6 75.52,-22.6 54.28,-31.4 54.28,-31.4 48.74,-33.7 37.66,-33.7 32.12,-31.4\"/>\n<text text-anchor=\"middle\" x=\"43.2\" y=\"-14.3\" font-family=\"Times,serif\" font-size=\"14.00\">Word</text>\n</g>\n<!-- Target -->\n<g id=\"node2\" class=\"node\">\n<title>Target</title>\n<path fill=\"#caff70\" stroke=\"#575757\" d=\"M140,-31.69C140,-31.69 115.64,-22.31 115.64,-22.31 110.05,-20.16 110.05,-15.84 115.64,-13.69 115.64,-13.69 140,-4.31 140,-4.31 145.6,-2.16 156.8,-2.16 162.4,-4.31 162.4,-4.31 186.76,-13.69 186.76,-13.69 192.36,-15.84 192.36,-20.16 186.76,-22.31 186.76,-22.31 162.4,-31.69 162.4,-31.69 156.8,-33.84 145.6,-33.84 140,-31.69\"/>\n<text text-anchor=\"middle\" x=\"151.2\" y=\"-14.3\" font-family=\"Times,serif\" font-size=\"14.00\">Target</text>\n</g>\n</g>\n</svg>\n",
            "text/plain": [
              "<graphviz.graphs.Digraph at 0x7e2f6c956300>"
            ]
          },
          "metadata": {}
        },
        {
          "output_type": "stream",
          "name": "stdout",
          "text": [
            "Running predicate: Word (3 ms)\n"
          ]
        },
        {
          "output_type": "stream",
          "name": "stderr",
          "text": [
            "/content/logica/colab_logica.py:189: FutureWarning: DataFrame.applymap has been deprecated. Use DataFrame.map instead.\n",
            "  df = df.applymap(psql_logica.DigestPsqlType)\n"
          ]
        },
        {
          "output_type": "stream",
          "name": "stdout",
          "text": [
            "Running predicate: Target (2 ms)\n"
          ]
        },
        {
          "output_type": "stream",
          "name": "stderr",
          "text": [
            "/content/logica/colab_logica.py:189: FutureWarning: DataFrame.applymap has been deprecated. Use DataFrame.map instead.\n",
            "  df = df.applymap(psql_logica.DigestPsqlType)\n"
          ]
        },
        {
          "output_type": "display_data",
          "data": {
            "text/plain": [
              "<IPython.core.display.Javascript object>"
            ],
            "application/javascript": [
              "window[\"96af211c-af8a-11f0-88c9-0242ac1c000c\"] = google.colab.output.setActiveOutputArea(window[\"969dc0de-af8a-11f0-88c9-0242ac1c000c\"]);\n",
              "//# sourceURL=js_51f5215832"
            ]
          },
          "metadata": {}
        },
        {
          "output_type": "display_data",
          "data": {
            "text/plain": [
              "<IPython.core.display.Javascript object>"
            ],
            "application/javascript": [
              "window[\"96b0508c-af8a-11f0-88c9-0242ac1c000c\"] = google.colab.output.getActiveOutputArea();\n",
              "//# sourceURL=js_38a063a600"
            ]
          },
          "metadata": {}
        },
        {
          "output_type": "display_data",
          "data": {
            "text/plain": [
              "<IPython.core.display.Javascript object>"
            ],
            "application/javascript": [
              "window[\"96b08610-af8a-11f0-88c9-0242ac1c000c\"] = document.querySelector(\"#id8_content_0\");\n",
              "//# sourceURL=js_6407e4ea6c"
            ]
          },
          "metadata": {}
        },
        {
          "output_type": "display_data",
          "data": {
            "text/plain": [
              "<IPython.core.display.Javascript object>"
            ],
            "application/javascript": [
              "window[\"96b0b180-af8a-11f0-88c9-0242ac1c000c\"] = google.colab.output.setActiveOutputArea(window[\"96b08610-af8a-11f0-88c9-0242ac1c000c\"]);\n",
              "//# sourceURL=js_6610da0d04"
            ]
          },
          "metadata": {}
        },
        {
          "output_type": "display_data",
          "data": {
            "text/plain": [
              "<IPython.core.display.Javascript object>"
            ],
            "application/javascript": [
              "window[\"96b0edf8-af8a-11f0-88c9-0242ac1c000c\"] = window[\"id8\"].setSelectedTabIndex(0);\n",
              "//# sourceURL=js_244a404948"
            ]
          },
          "metadata": {}
        },
        {
          "output_type": "display_data",
          "data": {
            "text/plain": [
              "<IPython.core.display.Javascript object>"
            ],
            "application/javascript": [
              "window[\"96b19fb4-af8a-11f0-88c9-0242ac1c000c\"] = google.colab.output.getActiveOutputArea();\n",
              "//# sourceURL=js_738b10efb7"
            ]
          },
          "metadata": {}
        },
        {
          "output_type": "display_data",
          "data": {
            "text/plain": [
              "<IPython.core.display.Javascript object>"
            ],
            "application/javascript": [
              "window[\"96b1e406-af8a-11f0-88c9-0242ac1c000c\"] = document.querySelector(\"#id9_content_1\");\n",
              "//# sourceURL=js_4bd269acf5"
            ]
          },
          "metadata": {}
        },
        {
          "output_type": "display_data",
          "data": {
            "text/plain": [
              "<IPython.core.display.Javascript object>"
            ],
            "application/javascript": [
              "window[\"96b214a8-af8a-11f0-88c9-0242ac1c000c\"] = google.colab.output.setActiveOutputArea(window[\"96b1e406-af8a-11f0-88c9-0242ac1c000c\"]);\n",
              "//# sourceURL=js_c4c126cf84"
            ]
          },
          "metadata": {}
        },
        {
          "output_type": "display_data",
          "data": {
            "text/plain": [
              "<IPython.core.display.Javascript object>"
            ],
            "application/javascript": [
              "window[\"96b24e6e-af8a-11f0-88c9-0242ac1c000c\"] = window[\"id9\"].setSelectedTabIndex(1);\n",
              "//# sourceURL=js_82dc585aec"
            ]
          },
          "metadata": {}
        },
        {
          "output_type": "display_data",
          "data": {
            "text/plain": [
              "<IPython.core.display.Javascript object>"
            ],
            "application/javascript": [
              "window[\"96b34292-af8a-11f0-88c9-0242ac1c000c\"] = google.colab.output.setActiveOutputArea(window[\"96b19fb4-af8a-11f0-88c9-0242ac1c000c\"]);\n",
              "//# sourceURL=js_25644a5d2c"
            ]
          },
          "metadata": {}
        },
        {
          "output_type": "stream",
          "name": "stdout",
          "text": [
            " \n"
          ]
        },
        {
          "output_type": "display_data",
          "data": {
            "text/plain": [
              "<IPython.core.display.Javascript object>"
            ],
            "application/javascript": [
              "window[\"96b41d16-af8a-11f0-88c9-0242ac1c000c\"] = google.colab.output.setActiveOutputArea(window[\"96b0508c-af8a-11f0-88c9-0242ac1c000c\"]);\n",
              "//# sourceURL=js_1b6410a2f7"
            ]
          },
          "metadata": {}
        },
        {
          "output_type": "display_data",
          "data": {
            "text/plain": [
              "<IPython.core.display.Javascript object>"
            ],
            "application/javascript": [
              "window[\"96b519a0-af8a-11f0-88c9-0242ac1c000c\"] = google.colab.output.getActiveOutputArea();\n",
              "//# sourceURL=js_53a36e72ad"
            ]
          },
          "metadata": {}
        },
        {
          "output_type": "display_data",
          "data": {
            "text/plain": [
              "<IPython.core.display.Javascript object>"
            ],
            "application/javascript": [
              "window[\"96b54e16-af8a-11f0-88c9-0242ac1c000c\"] = document.querySelector(\"#id8_content_1\");\n",
              "//# sourceURL=js_b959f172eb"
            ]
          },
          "metadata": {}
        },
        {
          "output_type": "display_data",
          "data": {
            "text/plain": [
              "<IPython.core.display.Javascript object>"
            ],
            "application/javascript": [
              "window[\"96b5880e-af8a-11f0-88c9-0242ac1c000c\"] = google.colab.output.setActiveOutputArea(window[\"96b54e16-af8a-11f0-88c9-0242ac1c000c\"]);\n",
              "//# sourceURL=js_1282dc2ce3"
            ]
          },
          "metadata": {}
        },
        {
          "output_type": "display_data",
          "data": {
            "text/plain": [
              "<IPython.core.display.Javascript object>"
            ],
            "application/javascript": [
              "window[\"96b5b356-af8a-11f0-88c9-0242ac1c000c\"] = window[\"id8\"].setSelectedTabIndex(1);\n",
              "//# sourceURL=js_687935d0fe"
            ]
          },
          "metadata": {}
        },
        {
          "output_type": "display_data",
          "data": {
            "text/plain": [
              "<IPython.core.display.Javascript object>"
            ],
            "application/javascript": [
              "window[\"96b67142-af8a-11f0-88c9-0242ac1c000c\"] = google.colab.output.getActiveOutputArea();\n",
              "//# sourceURL=js_de7b7bfe02"
            ]
          },
          "metadata": {}
        },
        {
          "output_type": "display_data",
          "data": {
            "text/plain": [
              "<IPython.core.display.Javascript object>"
            ],
            "application/javascript": [
              "window[\"96b6a89c-af8a-11f0-88c9-0242ac1c000c\"] = document.querySelector(\"#id10_content_1\");\n",
              "//# sourceURL=js_e5c20c06fb"
            ]
          },
          "metadata": {}
        },
        {
          "output_type": "display_data",
          "data": {
            "text/plain": [
              "<IPython.core.display.Javascript object>"
            ],
            "application/javascript": [
              "window[\"96b6e05a-af8a-11f0-88c9-0242ac1c000c\"] = google.colab.output.setActiveOutputArea(window[\"96b6a89c-af8a-11f0-88c9-0242ac1c000c\"]);\n",
              "//# sourceURL=js_bcdd7335d8"
            ]
          },
          "metadata": {}
        },
        {
          "output_type": "display_data",
          "data": {
            "text/plain": [
              "<IPython.core.display.Javascript object>"
            ],
            "application/javascript": [
              "window[\"96b70d6e-af8a-11f0-88c9-0242ac1c000c\"] = window[\"id10\"].setSelectedTabIndex(1);\n",
              "//# sourceURL=js_e5d1d13349"
            ]
          },
          "metadata": {}
        },
        {
          "output_type": "display_data",
          "data": {
            "text/plain": [
              "<IPython.core.display.Javascript object>"
            ],
            "application/javascript": [
              "window[\"96b7f3fa-af8a-11f0-88c9-0242ac1c000c\"] = google.colab.output.setActiveOutputArea(window[\"96b67142-af8a-11f0-88c9-0242ac1c000c\"]);\n",
              "//# sourceURL=js_99da16c381"
            ]
          },
          "metadata": {}
        },
        {
          "output_type": "stream",
          "name": "stdout",
          "text": [
            " \n"
          ]
        },
        {
          "output_type": "display_data",
          "data": {
            "text/plain": [
              "<IPython.core.display.Javascript object>"
            ],
            "application/javascript": [
              "window[\"96b8d34c-af8a-11f0-88c9-0242ac1c000c\"] = google.colab.output.setActiveOutputArea(window[\"96b519a0-af8a-11f0-88c9-0242ac1c000c\"]);\n",
              "//# sourceURL=js_cd79e2c00f"
            ]
          },
          "metadata": {}
        }
      ]
    }
  ]
}